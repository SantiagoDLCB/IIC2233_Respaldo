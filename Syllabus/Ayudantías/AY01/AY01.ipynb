{
  "cells": [
    {
      "cell_type": "markdown",
      "metadata": {},
      "source": [
        "# **Ayudantía 1: OOP-1** 🤓"
      ]
    },
    {
      "attachments": {},
      "cell_type": "markdown",
      "metadata": {},
      "source": [
        "## Objetos\n",
        "\n",
        "En OOP los objetos son descritos de manera general mediante clases. Una clase describe los datos que caracterizan a un objeto; a estos datos los llamamos **atributos**. Además también describe los comportamientos de los objetos, y a estos los llamamos **métodos**.\n",
        "\n",
        "Cada vez que creamos un objeto a partir de una clase, decimos que estamos instanciando esa clase, por lo tanto un objeto es una instancia de una clase."
      ]
    },
    {
      "cell_type": "code",
      "execution_count": 1,
      "metadata": {},
      "outputs": [],
      "source": [
        "class CuentaBase():\n",
        "\n",
        "    def __init__(self, monto, usuario, clave):\n",
        "        self.monto = monto\n",
        "        self.usuario = usuario\n",
        "        self.clave = clave\n",
        "        self.sesion_iniciada = False\n",
        "\n",
        "    def iniciar_sesion(self):\n",
        "        if not self.sesion_iniciada:\n",
        "            clave_ingresada = input('Ingrese su clave: ')\n",
        "            while clave_ingresada != self.clave:\n",
        "                print('Clave incorrecta')\n",
        "                clave_ingresada = input('Ingrese su clave: ')\n",
        "            print(f'Bienvenido {self.usuario}')"
      ]
    },
    {
      "cell_type": "code",
      "execution_count": 2,
      "metadata": {},
      "outputs": [
        {
          "name": "stdout",
          "output_type": "stream",
          "text": [
            "Bienvenido lucasvsj\n"
          ]
        }
      ],
      "source": [
        "cuenta = CuentaBase(100000, 'lucasvsj', 'qwerty')\n",
        "cuenta.iniciar_sesion()"
      ]
    },
    {
      "attachments": {},
      "cell_type": "markdown",
      "metadata": {},
      "source": [
        "### Encapsulamiento\n",
        "\n",
        "Una característica muy favorecida en OOP es el **encapsulamiento**. El encapsulamiento se refiere al ocultamiento de los atributos de un objeto de manera que éstos sólo puedan ser modificados mediante los métodos que el programador defina.\n",
        "\n",
        "En Python todos los atributos y métodos de un objeto son públicos (a diferencia de otros lenguajes como Java). Esto complicaría la implementación del encapsulamiento en Python; sin embargo existe, una convención que permite sugerir que un método o atributo es de uso únicamente interno (y por lo tanto oculto al exterior).\n",
        "\n",
        "Existen 2 formas de lograr esto, la primera consiste se logra agregando un carácter underscore (_) al inicio del atributo o método y la segunda agregando agregando 2 carácter underscore (__)\n"
      ]
    },
    {
      "cell_type": "code",
      "execution_count": 3,
      "metadata": {},
      "outputs": [],
      "source": [
        "class CuentaBase():\n",
        "\n",
        "    def __init__(self, monto, usuario, clave, ptge_ahorro=.5):\n",
        "        self._ptge_ahorro = ptge_ahorro\n",
        "        self._monto = monto\n",
        "        self._fondo_ahorro = self._monto*self._ptge_ahorro\n",
        "        self.usuario = usuario\n",
        "        self.__clave = clave\n",
        "        self.sesion_iniciada = False\n",
        "\n",
        "    def iniciar_sesion(self):\n",
        "        if not self.sesion_iniciada:\n",
        "            clave_ingresada = input('Ingrese su clave: ')\n",
        "            while clave_ingresada != self.__clave:\n",
        "                print('Clave incorrecta')\n",
        "                clave_ingresada = input('Ingrese su clave: ')\n",
        "            print(f'Bienvenido {self.usuario}')"
      ]
    },
    {
      "cell_type": "code",
      "execution_count": 4,
      "metadata": {},
      "outputs": [
        {
          "name": "stdout",
          "output_type": "stream",
          "text": [
            "Bienvenido lucasvsj\n"
          ]
        }
      ],
      "source": [
        "cuenta = CuentaBase(100000, 'lucasvsj', 'qwerty', .2)\n",
        "cuenta.iniciar_sesion()"
      ]
    },
    {
      "attachments": {},
      "cell_type": "markdown",
      "metadata": {},
      "source": [
        "Verificamos el encapsulamiento y sus caracteristicas:"
      ]
    },
    {
      "cell_type": "code",
      "execution_count": 5,
      "metadata": {},
      "outputs": [
        {
          "name": "stdout",
          "output_type": "stream",
          "text": [
            "20000.0\n"
          ]
        }
      ],
      "source": [
        "print(cuenta._fondo_ahorro)"
      ]
    },
    {
      "cell_type": "code",
      "execution_count": 6,
      "metadata": {},
      "outputs": [
        {
          "ename": "AttributeError",
          "evalue": "'CuentaBase' object has no attribute '__clave'",
          "output_type": "error",
          "traceback": [
            "\u001b[0;31m---------------------------------------------------------------------------\u001b[0m",
            "\u001b[0;31mAttributeError\u001b[0m                            Traceback (most recent call last)",
            "Cell \u001b[0;32mIn[6], line 1\u001b[0m\n\u001b[0;32m----> 1\u001b[0m \u001b[39mprint\u001b[39m(cuenta\u001b[39m.\u001b[39;49m__clave)\n",
            "\u001b[0;31mAttributeError\u001b[0m: 'CuentaBase' object has no attribute '__clave'"
          ]
        }
      ],
      "source": [
        "print(cuenta.__clave)"
      ]
    },
    {
      "attachments": {},
      "cell_type": "markdown",
      "metadata": {},
      "source": [
        "\n",
        "Podemos ver que Python oculta los atributos y metodos sugeridos y lanza excepciones de tipo `AttributeError`, indicando que estos \"no existen\".\n",
        "\n",
        "En realidad cuando un atributo o método empieza con doble underscore, Python reemplaza internamente sus nombres por `_NombreDeLaClase__atributo_o_metodo_secreto`\n",
        "\n",
        "Por lo tanto podemos ser más astutos y escribir:\n"
      ]
    },
    {
      "cell_type": "code",
      "execution_count": 7,
      "metadata": {},
      "outputs": [
        {
          "name": "stdout",
          "output_type": "stream",
          "text": [
            "qwerty\n"
          ]
        }
      ],
      "source": [
        "print(cuenta._CuentaBase__clave)"
      ]
    },
    {
      "attachments": {},
      "cell_type": "markdown",
      "metadata": {},
      "source": [
        "### Properties\n",
        "\n",
        "En Python, una property funciona como un atributo, pero sobre el cual podemos modificar su comportamiento cada vez que es leído (**get**), escrito (**set**), o eliminado (**del**).\n",
        "\n",
        "Continuando con el ejemplo anterior, apliquemos properties para simular un correcto flujo de dinero en la `CuentaBase`\n"
      ]
    },
    {
      "cell_type": "code",
      "execution_count": 8,
      "metadata": {
        "id": "_XHV5BxXfq0j"
      },
      "outputs": [],
      "source": [
        "class CuentaBase():\n",
        "\n",
        "    def __init__(self, monto, usuario, clave, ptge_ahorro=.5):\n",
        "        self._ptge_ahorro = ptge_ahorro\n",
        "        self._monto = monto\n",
        "        self._fondo_ahorro = self._monto*self._ptge_ahorro\n",
        "        self.usuario = usuario\n",
        "        self.__clave = clave\n",
        "        self.sesion_iniciada = False\n",
        "        \n",
        "    @property\n",
        "    def clave(self):\n",
        "        return self.__clave\n",
        "\n",
        "    @property\n",
        "    def monto(self):\n",
        "        return self._monto\n",
        "  \n",
        "    @monto.setter\n",
        "    def monto(self, nuevo_monto):\n",
        "        if nuevo_monto < 0:\n",
        "            print('Su saldo es insuficiente')\n",
        "            print(f'Saldo actual: ${self.monto}')\n",
        "        else:\n",
        "            self._monto -= nuevo_monto\n",
        "\n",
        "    @property\n",
        "    def fondo_ahorro(self):\n",
        "        return int(self._fondo_ahorro)\n",
        "\n",
        "    @property\n",
        "    def ptge_ahorro(self):\n",
        "        return self._ptge_ahorro\n",
        "\n",
        "    @ptge_ahorro.setter\n",
        "    def ptge_ahorro(self, nuevo_ptge):\n",
        "        if nuevo_ptge < 0:\n",
        "            print('No existen porcentajes negativos')\n",
        "            self._ptge_ahorro = 0\n",
        "        elif nuevo_ptge > 1:\n",
        "            print('El cielo es 1') #Cambiar por algo clever\n",
        "            self._ptge_ahorro = 1\n",
        "        else:\n",
        "            self._ptge_ahorro = nuevo_ptge\n",
        "        self._fondo_ahorro = self._monto*self._ptge_ahorro\n",
        "        \n",
        "    @ptge_ahorro.deleter\n",
        "    def ptge_ahorro(self):\n",
        "        respuesta_usuario = input('Esta seguro?: ')\n",
        "        if respuesta_usuario in ['si', 'Si', 'S', 'yes', 'Yes', 'Y']:\n",
        "            del self._ptge_ahorro\n",
        "            del self._fondo_ahorro\n",
        "        else:\n",
        "            print('Okey!')\n",
        "\n",
        "    def iniciar_sesion(self):\n",
        "        if not self.sesion_iniciada:\n",
        "            clave_ingresada = input('Ingrese su clave: ')\n",
        "            while clave_ingresada != self.clave:\n",
        "                print('Clave incorrecta')\n",
        "                clave_ingresada = input('Ingrese su clave: ')\n",
        "            print(f'Bienvenido {self.usuario}')\n",
        "\n",
        "\n",
        "    def pagar(self, precio):\n",
        "        self.monto -= precio\n",
        "\n",
        "    def __str__(self):\n",
        "        return f'Tu saldo actual es: {self.monto}'\n"
      ]
    },
    {
      "attachments": {},
      "cell_type": "markdown",
      "metadata": {},
      "source": [
        "Probemos el comportamiento de las properties que creamos:"
      ]
    },
    {
      "cell_type": "code",
      "execution_count": 9,
      "metadata": {},
      "outputs": [
        {
          "name": "stdout",
          "output_type": "stream",
          "text": [
            "Bienvenido lucasvsj\n"
          ]
        }
      ],
      "source": [
        "cuenta = CuentaBase(100000, 'lucasvsj', 'qwerty', .2)\n",
        "cuenta.iniciar_sesion()"
      ]
    },
    {
      "cell_type": "code",
      "execution_count": 10,
      "metadata": {},
      "outputs": [
        {
          "name": "stdout",
          "output_type": "stream",
          "text": [
            "Su saldo es insuficiente\n",
            "Saldo actual: $100000\n"
          ]
        }
      ],
      "source": [
        "cuenta.pagar(110000)"
      ]
    },
    {
      "cell_type": "code",
      "execution_count": 11,
      "metadata": {},
      "outputs": [
        {
          "name": "stdout",
          "output_type": "stream",
          "text": [
            "Con una tasa de ahorro del 0.2, tu fondo de ahorra posee un total de $20000\n"
          ]
        }
      ],
      "source": [
        "print(f'Con una tasa de ahorro del {cuenta.ptge_ahorro}, tu fondo de ahorra posee un total de ${cuenta.fondo_ahorro}')"
      ]
    },
    {
      "cell_type": "code",
      "execution_count": 12,
      "metadata": {},
      "outputs": [
        {
          "name": "stdout",
          "output_type": "stream",
          "text": [
            "Con una tasa de ahorro del 0.6, tu fondo de ahorra posee un total de $60000\n"
          ]
        }
      ],
      "source": [
        "cuenta.ptge_ahorro = .6\n",
        "print(f'Con una tasa de ahorro del {cuenta.ptge_ahorro}, tu fondo de ahorra posee un total de ${cuenta.fondo_ahorro}')"
      ]
    },
    {
      "cell_type": "code",
      "execution_count": 13,
      "metadata": {},
      "outputs": [
        {
          "name": "stdout",
          "output_type": "stream",
          "text": [
            "El cielo es 1\n",
            "Con una tasa de ahorro del 1, tu fondo de ahorra posee un total de $100000\n",
            "No existen porcentajes negativos\n",
            "Con una tasa de ahorro del 0, tu fondo de ahorra posee un total de $0\n"
          ]
        }
      ],
      "source": [
        "cuenta.ptge_ahorro = 1.1\n",
        "print(f'Con una tasa de ahorro del {cuenta.ptge_ahorro}, tu fondo de ahorra posee un total de ${cuenta.fondo_ahorro}')\n",
        "cuenta.ptge_ahorro = -.5\n",
        "print(f'Con una tasa de ahorro del {cuenta.ptge_ahorro}, tu fondo de ahorra posee un total de ${cuenta.fondo_ahorro}')"
      ]
    },
    {
      "cell_type": "code",
      "execution_count": 14,
      "metadata": {},
      "outputs": [
        {
          "ename": "AttributeError",
          "evalue": "'CuentaBase' object has no attribute '_ptge_ahorro'",
          "output_type": "error",
          "traceback": [
            "\u001b[0;31m---------------------------------------------------------------------------\u001b[0m",
            "\u001b[0;31mAttributeError\u001b[0m                            Traceback (most recent call last)",
            "Cell \u001b[0;32mIn[14], line 2\u001b[0m\n\u001b[1;32m      1\u001b[0m \u001b[39mdel\u001b[39;00m cuenta\u001b[39m.\u001b[39mptge_ahorro\n\u001b[0;32m----> 2\u001b[0m \u001b[39mprint\u001b[39m(\u001b[39mf\u001b[39m\u001b[39m'\u001b[39m\u001b[39mCon una tasa de ahorro del \u001b[39m\u001b[39m{\u001b[39;00mcuenta\u001b[39m.\u001b[39;49mptge_ahorro\u001b[39m}\u001b[39;00m\u001b[39m, tu fondo de ahorra posee un total de $\u001b[39m\u001b[39m{\u001b[39;00mcuenta\u001b[39m.\u001b[39mfondo_ahorro\u001b[39m}\u001b[39;00m\u001b[39m'\u001b[39m)\n",
            "Cell \u001b[0;32mIn[8], line 33\u001b[0m, in \u001b[0;36mCuentaBase.ptge_ahorro\u001b[0;34m(self)\u001b[0m\n\u001b[1;32m     31\u001b[0m \u001b[39m@property\u001b[39m\n\u001b[1;32m     32\u001b[0m \u001b[39mdef\u001b[39;00m \u001b[39mptge_ahorro\u001b[39m(\u001b[39mself\u001b[39m):\n\u001b[0;32m---> 33\u001b[0m     \u001b[39mreturn\u001b[39;00m \u001b[39mself\u001b[39;49m\u001b[39m.\u001b[39;49m_ptge_ahorro\n",
            "\u001b[0;31mAttributeError\u001b[0m: 'CuentaBase' object has no attribute '_ptge_ahorro'"
          ]
        }
      ],
      "source": [
        "del cuenta.ptge_ahorro\n",
        "print(f'Con una tasa de ahorro del {cuenta.ptge_ahorro}, tu fondo de ahorra posee un total de ${cuenta.fondo_ahorro}')"
      ]
    },
    {
      "attachments": {},
      "cell_type": "markdown",
      "metadata": {},
      "source": [
        "### Herencia"
      ]
    },
    {
      "attachments": {},
      "cell_type": "markdown",
      "metadata": {},
      "source": [
        "Como se vió en los contenidos de la semana, la herencia es una propiedad que nos ayuda a construir clases **especializadas** a partir de otras ya existentes. Estas subclases heredan todos los métodos y atributos de su superclase, y podemos **sobreescribirlos** para moldear estas clases más específicas a nuestro gusto.\n",
        "\n",
        "Una aplicación útil de la herencia es cuando tenemos objetos que tienen funciones parecidas, pero no iguales. Siguiendo con el ejemplo de la cuenta bancaria, imagina que ahora queremos hacer distintos tipos de cuentas: queremos tener cuentas Vista y cuentas con crédito, ambas clases se parecen muchísimo en que guardan un monto, necesitas un usuario y una clave para usarla, etc. Sin embargo, queremos que la cuenta Vista cobre una comisión cuando saquemos dinero del cajero (y no irse a quiebra como el Silicon Valley Bank 🤑), y que la cuenta con crédito también cobre una comisión, pero que además se pueda pagar en cuotas y tener una línea de crédito.\n",
        "\n",
        "Como podemos ver, tienen suficiente diferencia para que valga la pena construir 2 clases distintas, pero al mismo tiempo es muy **ineficiente** y propenso a errores programar ambas clases desde cero teniendo tanto código en común. Agradecemos a los genios detrás de Python en crear la herencia en estos casos"
      ]
    },
    {
      "attachments": {},
      "cell_type": "markdown",
      "metadata": {},
      "source": [
        "#### La Sintaxis\n",
        "\n",
        "En un caso general, si queremos hacer que una Clase2 herede toda la estructura de una Clase1, se escribe con el siguente formato\n",
        "\n",
        "```\n",
        "class Clase2(Clase1):\n",
        "    def __init__(self, *args, **kwargs):\n",
        "        super().__init__(*args, **kwargs)\n",
        "``` "
      ]
    },
    {
      "attachments": {},
      "cell_type": "markdown",
      "metadata": {},
      "source": [
        "A diferencia de una clase sin heredar como CuentaBase, cuando definimos el `__init__` de la función escribimos esa línea que parte con `super()`, con esto logramos que la clase CuentaVista **herede** los atributos de inicialización de la clase CuentaBase"
      ]
    },
    {
      "cell_type": "code",
      "execution_count": 15,
      "metadata": {
        "id": "0fYqmqNDt8nD"
      },
      "outputs": [],
      "source": [
        "class CuentaVista(CuentaBase):\n",
        "\n",
        "    def __init__(self, interes_comision, limite_saldo, *args):\n",
        "        super().__init__(*args)\n",
        "        self.interes_comision = interes_comision\n",
        "        self.limite_saldo = limite_saldo\n",
        "\n",
        "    @property\n",
        "    def tiene_saldo(self):\n",
        "        if self.monto > 0:\n",
        "            return True\n",
        "        else:\n",
        "            return False\n",
        "\n",
        "    def comprar(self, precio):\n",
        "        # menu opciones\n",
        "        print(\"selecciona tipo de operacion:\")\n",
        "        print(\"[1] Girar cajero\")\n",
        "        print(\"[2] Transbank\")\n",
        "        print(\"[3] cancelar operacion\")\n",
        "        print(\"-----------------------------\")\n",
        "        comision = precio * self.interes_comision\n",
        "        monto_total = comision + precio\n",
        "        opcion = input(\"Opcion: \")\n",
        "        if opcion == \"1\":\n",
        "            print(f\"giro en cajero de: {precio} y comision: {comision}\")\n",
        "            self.monto -= monto_total\n",
        "        elif opcion == \"2\":\n",
        "            print(f\"realizando pago en transbank de: {precio}\")\n",
        "            self.monto -= precio\n",
        "        else:\n",
        "            print(\"Operacion cancelada\")\n",
        "\n",
        "    def recargar(self, monto):\n",
        "        if self.monto + monto < self.limite_saldo:\n",
        "            self.monto += monto\n",
        "        else:\n",
        "            print(\"limite de saldo excedido\")\n",
        "\n",
        "    def __str__(self):\n",
        "        msg_padre = super().__str__()\n",
        "        return f'Cuenta Vista: {msg_padre}'\n"
      ]
    },
    {
      "attachments": {},
      "cell_type": "markdown",
      "metadata": {},
      "source": [
        "Ahora que vimos la clase CuentaVista, vamos a implementar CuentaConCredito, la cual además de la estructura que hereda de CuentaBase, tendrá un atributo oculto de `__credito_disponible`, una de `interes_comision` al igual que CuentaVista y `cuotas_por_pagar` que nos ayudará a implementar un pago en cuotas que es especial de esta subclase."
      ]
    },
    {
      "cell_type": "code",
      "execution_count": 16,
      "metadata": {
        "id": "J5nJw2Opl_ah"
      },
      "outputs": [],
      "source": [
        "from collections import deque\n",
        "\n",
        "\n",
        "class CuentaConCredito(CuentaBase):\n",
        "\n",
        "    def __init__(self, credito_disponible, interes_comision, monto, usuario, clave, ptge_ahorro=.5):  # enlistamos todos los atributos que queremos\n",
        "        # agregamos el super() para heredar los atributos inicializados por la super clase, en este caso, CuentaBase\n",
        "        super().__init__(monto, usuario, clave, ptge_ahorro=.5)\n",
        "        self.__credito_disponible = credito_disponible\n",
        "        self.interes_comision = interes_comision\n",
        "        self.monto = 0\n",
        "        self.cuotas_por_pagar = deque()\n",
        "\n",
        "    # agregamos una property para nuestro nuevo atributo de crédito disponible, así no toma números negativos\n",
        "    @property\n",
        "    def credito_disponible(self):\n",
        "        return self.__credito_disponible\n",
        "\n",
        "    @credito_disponible.setter\n",
        "    def credito_disponible(self, credito_nuevo):\n",
        "        if credito_nuevo < 0:\n",
        "            self.__credito_disponible = 0\n",
        "        else:\n",
        "            print(f\"Nueva linea de credito de: {credito_nuevo}\")\n",
        "            self.__credito_disponible = credito_nuevo\n",
        "\n",
        "    # Para esta clase, si el precio excede lo que tenemos en la cuenta, pagará con crédito de ser posible\n",
        "    def comprar(self, precio):\n",
        "        if precio + self.monto < self.credito_disponible:\n",
        "            print(\"comprando con credito\")\n",
        "            self.monto += precio\n",
        "            self.simular_cuotas(precio, 3)\n",
        "        else:\n",
        "            print(\"credito insuficiente\")\n",
        "\n",
        "\n",
        "    # además de obtener los métodos de la superclase de la que hereda, se pueden crear todos los métodos nuevos que quieras\n",
        "    # por ejemplo, ahora definimos métodos que simulan y pagan las cuotas que creamos especiales para este tipo de cuenta.\n",
        "    def adelantar_cuota(self):\n",
        "        if len(self.cuotas_por_pagar) > 0:\n",
        "            pago, comision = self.cuotas_por_pagar.popleft()\n",
        "            print(f\"realizando pago de: {pago} y comsion: {comision}\")\n",
        "            self.monto -= pago\n",
        "        else:\n",
        "            print(\"No hay cuotas por pagar\")\n",
        "\n",
        "    def simular_cuotas(self, precio, cuotas=3):\n",
        "        for cuota in range(cuotas):\n",
        "            pago = precio // cuotas\n",
        "            if cuota == cuotas - 1:\n",
        "                diferencial = precio % cuotas\n",
        "                pago += diferencial\n",
        "            comision = pago * self.interes_comision\n",
        "            self.cuotas_por_pagar.append((pago, comision))\n"
      ]
    },
    {
      "attachments": {},
      "cell_type": "markdown",
      "metadata": {},
      "source": [
        "En las dos subclases anteriores, tanto CuentaVista como CuentaConCredito ambos heredan de CuentaBase por lo que van a contar con los atributos, properties y métodos de la superclase."
      ]
    },
    {
      "attachments": {},
      "cell_type": "markdown",
      "metadata": {},
      "source": [
        "Probemos el siguiente ejemplo:"
      ]
    },
    {
      "cell_type": "code",
      "execution_count": 17,
      "metadata": {},
      "outputs": [],
      "source": [
        "cuenta_vista = CuentaVista(0.03, 5000000, 100000, 'francis_jpeg', 'qwerty', .2)\n",
        "cuenta_credito = CuentaConCredito(1000, 0.03,100000, 'jj.uaaan', 'qwerty', .2)"
      ]
    },
    {
      "cell_type": "code",
      "execution_count": 18,
      "metadata": {},
      "outputs": [
        {
          "name": "stdout",
          "output_type": "stream",
          "text": [
            "Bienvenido francis_jpeg\n",
            "Bienvenido jj.uaaan\n"
          ]
        }
      ],
      "source": [
        "cuenta_vista.iniciar_sesion()\n",
        "cuenta_credito.iniciar_sesion()"
      ]
    },
    {
      "cell_type": "code",
      "execution_count": 19,
      "metadata": {},
      "outputs": [
        {
          "name": "stdout",
          "output_type": "stream",
          "text": [
            "selecciona tipo de operacion:\n",
            "[1] Girar cajero\n",
            "[2] Transbank\n",
            "[3] cancelar operacion\n",
            "-----------------------------\n",
            "realizando pago en transbank de: 12000\n",
            "credito insuficiente\n"
          ]
        }
      ],
      "source": [
        "cuenta_vista.comprar(12000)\n",
        "cuenta_credito.comprar(12000)"
      ]
    },
    {
      "cell_type": "code",
      "execution_count": 20,
      "metadata": {},
      "outputs": [
        {
          "name": "stdout",
          "output_type": "stream",
          "text": [
            "francis_jpeg tiene porcentaje un de ahorro: 0.2 y ahorros de: 20000\n",
            "jj.uaaan tiene porcentaje un de ahorro: 0.5 y ahorros de: 50000\n"
          ]
        }
      ],
      "source": [
        "print(f\"{cuenta_vista.usuario} tiene porcentaje un de ahorro: {cuenta_vista.ptge_ahorro} y ahorros de: {cuenta_vista.fondo_ahorro}\")\n",
        "print(f\"{cuenta_credito.usuario} tiene porcentaje un de ahorro: {cuenta_credito.ptge_ahorro} y ahorros de: {cuenta_credito.fondo_ahorro}\")"
      ]
    },
    {
      "attachments": {},
      "cell_type": "markdown",
      "metadata": {},
      "source": [
        "Pero también ambas subclases tienen atributos y métodos que son exclusivos de cada uno. Por ejemplo, CuentaConCredito posee los atributos `credito_disponible` y `cuotas_por_pagar` que representan la línea de crédito disponible y el registro de cuotas que se deben pagar respectivamente."
      ]
    },
    {
      "cell_type": "code",
      "execution_count": 21,
      "metadata": {},
      "outputs": [
        {
          "name": "stdout",
          "output_type": "stream",
          "text": [
            "Limite de deuda :1000\n",
            "cuotas por pagar: sin deuda :)\n"
          ]
        }
      ],
      "source": [
        "print(f\"Limite de deuda :{cuenta_credito.credito_disponible}\")\n",
        "print(f\"cuotas por pagar: {cuenta_credito.cuotas_por_pagar if len(cuenta_credito.cuotas_por_pagar) > 0 else 'sin deuda :)'}\")"
      ]
    },
    {
      "attachments": {},
      "cell_type": "markdown",
      "metadata": {},
      "source": [
        "También existe `adelantar_cuota` que es un método exclusivo de la subclase que permite ir pagando paulatinamente las cuotas."
      ]
    },
    {
      "cell_type": "code",
      "execution_count": 22,
      "metadata": {},
      "outputs": [
        {
          "name": "stdout",
          "output_type": "stream",
          "text": [
            "No hay cuotas por pagar\n"
          ]
        }
      ],
      "source": [
        "cuenta_credito.adelantar_cuota()"
      ]
    },
    {
      "attachments": {},
      "cell_type": "markdown",
      "metadata": {},
      "source": [
        "CuentaVista también tiene sus propios atributos y métodos, tiene el atributo `limite_saldo` que representa el saldo máximo que se puede tener en la cuenta, una property `tiene_saldo` que retorna True si el cliente tiene saldo en su cuenta bancaria y False en caso contrario, también posee un método propio `pagar` que permite pagar con el saldo de la cuenta dependiendo del tipo de operación que se va a realizar."
      ]
    },
    {
      "cell_type": "code",
      "execution_count": 23,
      "metadata": {},
      "outputs": [
        {
          "name": "stdout",
          "output_type": "stream",
          "text": [
            "saldo maximo que se puede tener en la tarjeta: 5000000\n",
            "el cliente tiene saldo en su cuenta: True\n"
          ]
        }
      ],
      "source": [
        "print(f\"saldo maximo que se puede tener en la tarjeta: {cuenta_vista.limite_saldo}\")\n",
        "print(f\"el cliente tiene saldo en su cuenta: {cuenta_vista.tiene_saldo}\")\n",
        "cuenta_vista.pagar(100)"
      ]
    },
    {
      "attachments": {},
      "cell_type": "markdown",
      "metadata": {},
      "source": [
        "## Diagrama de clases\n",
        "* Es una herramienta muy útil que permite visualizar fácilmente las **clases** que componen un sistema, sus **atributos**, **métodos** y las **interacciones** que existen entre ellas.\n",
        "* Realizar un diagrama de clases antes de codificar los programas permite planificarlos de mejor manera, lo que se traduce en escribir código de forma más eficiente. "
      ]
    },
    {
      "cell_type": "markdown",
      "metadata": {},
      "source": [
        "### Clases\n",
        "* Estructuras básicas que encapsulan la información.\n",
        "* Se representan gráficamente con un rectángulo dividido en tres niveles:\n",
        "\n",
        "<img src=\"./img/estructura_diagrama_de_clases.png\" width=400></img>"
      ]
    },
    {
      "cell_type": "markdown",
      "metadata": {},
      "source": [
        "### Relaciones\n",
        "* Representa la interacción entre las clases dentro del sistema que se está modelando. \n",
        "* Las más comunes son: **composición**, **agregación** y **herencia**."
      ]
    },
    {
      "cell_type": "markdown",
      "metadata": {},
      "source": [
        "#### Composición\n",
        "* Los objetos de la clase que creamos se contruyen a partir de la inclusión de otros elementos.\n",
        "* La existencia de los objetos incluidos depende de la existencia del objeto que los incluye.\n",
        "\n",
        "Por ejemplo: Podemos crear una clase Banco que tenga un atributo que guarde las diversas cuentas que están en este. Esto representa una composición dado que las cuentas de nuestro banco no existirían si es que el banco no existiera."
      ]
    },
    {
      "cell_type": "markdown",
      "metadata": {},
      "source": [
        "#### Agregación\n",
        "* También se construye la clase base usando otros objetos, pero en este caso, el tiempo de vida del objeto que agregamos es independiente del tiempo de vida del objeto que lo incluye.\n",
        "\n",
        "Por ejemplo: Un usuario de un banco tiene una lista de contactos agregados a los cuales les puede hacer transferencias rápidamente sin tener que volver a anotar sus datos. La relación que existe entre ambos usuarios representa una agregación, dado que, si es que el primero elimina de sus contactos al otro, la cuenta del segundo seguirá existiendo, es decir, sus tiempos de \"vida\" son independientes."
      ]
    },
    {
      "cell_type": "markdown",
      "metadata": {},
      "source": [
        "#### Herencia\n",
        "* Es una relación en que una **subclase** hereda atributos y métodos desde una **superclase**. \n",
        "* La **subclase** posee todos los atributos y métodos de la **superclase**, pero además puede tener sus propios métodos y atributos específicos."
      ]
    },
    {
      "cell_type": "markdown",
      "metadata": {},
      "source": [
        "### Símbolos de las relaciones\n",
        "\n",
        "<img src=\"./img/relaciones.png\" width=800></img>"
      ]
    },
    {
      "cell_type": "markdown",
      "metadata": {},
      "source": [
        "### Cardinalidad de las relaciones\n",
        "* Tanto para la composición como la agregación, la **cardinalidad** indica el grado y nivel de dependencia entre las relaciones.\n",
        "* La cardinalidad se indica en cada extremo de la relación, y se pueden presentar 3 casos:\n",
        "    - 1 o muchos: 1..*\n",
        "    - 0 o muchos: 0..*\n",
        "    - Número fijo: n"
      ]
    },
    {
      "cell_type": "markdown",
      "metadata": {
        "slideshow": {
          "slide_type": "slide"
        }
      },
      "source": [
        "Volviendo al ejemplo de las cuentas de banco que teníamos anteriormente, podemos trazar el diagrama de la siguiente manera:"
      ]
    },
    {
      "cell_type": "markdown",
      "metadata": {
        "slideshow": {
          "slide_type": "slide"
        }
      },
      "source": [
        "<img src=\"./img/diagrama_ejemplo.png\" width=350></img>"
      ]
    },
    {
      "attachments": {},
      "cell_type": "markdown",
      "metadata": {},
      "source": [
        "Ya tenemos todo listo para nuestra modelación de Cuentas, pero....\n",
        "🤔 ¿Y si usuario no fuera un String, sino otra clase? 🤔\n",
        "```python\n",
        "class Usuario():\n",
        "    def __init__(self, nombre):\n",
        "        self.nombre = nombre\n",
        "\n",
        "   def __str__(self):\n",
        "        return str(self.nombre)\n",
        "```"
      ]
    },
    {
      "attachments": {},
      "cell_type": "markdown",
      "metadata": {},
      "source": [
        "\n",
        "La cuenta ya no recibirá un string como argumento, recibirá una **instancia de usuario**\n",
        "```python\n",
        "lucas = Usuario(\"Lucas\")\n",
        "CuentaConCredito = CuentaConCredito(1000, 0.03,100000, lucas, 'qwerty', .2)\n",
        "```\n"
      ]
    },
    {
      "attachments": {},
      "cell_type": "markdown",
      "metadata": {},
      "source": [
        "🤔¿Cómo cambia nuestra modelación? 🤔\n",
        "\n",
        "Desafio: Actualice el diagrama de clases y refleje la composicion mencionada anteriormente."
      ]
    }
  ],
  "metadata": {
    "celltoolbar": "Slideshow",
    "colab": {
      "provenance": []
    },
    "kernelspec": {
      "display_name": "Python 3 (ipykernel)",
      "language": "python",
      "name": "python3"
    },
    "language_info": {
      "codemirror_mode": {
        "name": "ipython",
        "version": 3
      },
      "file_extension": ".py",
      "mimetype": "text/x-python",
      "name": "python",
      "nbconvert_exporter": "python",
      "pygments_lexer": "ipython3",
      "version": "3.10.10"
    },
    "vscode": {
      "interpreter": {
        "hash": "b0fa6594d8f4cbf19f97940f81e996739fb7646882a419484c72d19e05852a7e"
      }
    }
  },
  "nbformat": 4,
  "nbformat_minor": 1
}
