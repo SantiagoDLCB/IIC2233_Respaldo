{
 "cells": [
  {
   "cell_type": "markdown",
   "metadata": {},
   "source": [
    "<p>\n",
    "<font size='5' face='Georgia, Arial'>IIC2233 Apunte Programación Avanzada</font><br>\n",
    "<font size='1'>Basado en: &copy; 2015 Karim Pichara - Christian Pieringer. Todos los derechos reservados. Modificado el 2018-1, 2018-2, 2019-2, 2020-1, 2020-2 y 2021-2 por Equipo IIC2233</font>\n",
    "</p>"
   ]
  },
  {
   "cell_type": "markdown",
   "metadata": {},
   "source": [
    "# Tabla de contenidos\n",
    "1. [Clases Abstractas](#Clases-Abstractas)\n",
    "2. [*Abstract Base Class*](#Abstract-Base-Class)\n",
    "3. [Ejemplo](#Ejemplo)"
   ]
  },
  {
   "cell_type": "markdown",
   "metadata": {},
   "source": [
    "## Clases Abstractas"
   ]
  },
  {
   "cell_type": "markdown",
   "metadata": {},
   "source": [
    "Las clases abstractas en un lenguaje de programación nos permiten representar mejor lo que son las clases realmente abstractas desde el punto de vista del modelamiento. Por abstracta, nos referimos a que son clases cuya intención no es ser instanciada (o crear un objeto de esa clase directamente), si no que solo usarse como parte de modelamiento de otras clases.\n",
    "\n",
    "Por ejemplo, la clase `Mamifero` representa algo abstracto, no tiene forma específica, pero sí describe otras clases concretas, como `Perro`, `Humano` y `Ballena`. En términos de clases, se podría suponer que los ejemplos anteriores heredan de `Mamifero`. Luego `Mamifero` no puede tomar vida por sí sola a menos de que sea *subclaseada*, es decir, una instancia de la clase `Mamifero` no tendría mucho sentido por si sola, necesitamos saber a qué (subclase) mamífero corresponde (`Perro`, `Humano`, `Ballena`, etc.) para que sepamos cómo se comporta, su tamaño, etc. Son las subclases de la clase abstracta las que deben ser instanciadas.\n",
    "\n",
    "Por otro lado, un **método abstracto** en una clase abstracta representa comportamiento que deben tener todas las clases que hereden de ella, y generalmente difieren en implementación entre subclases. Luego, los métodos abstractos **deben** ser implementados por las subclases. Esto también permite crear una especie de *contrato* con las subclases de una clase abstracta, al establecer el comportamiento mínimo que debe implementar.\n",
    "\n",
    "Las clases abstractas también pueden tener métodos *normales*, que están implementados ya y que no es necesario re-implementar en las subclases. Luego también son capaces de permitir herencia de comportamiento a sus subclases, y provee la gran ventaja de ahorro de repetir atributos y métodos que compartirían todas sus subclases.\n",
    "\n",
    "Entonces, una clase es **abstracta** si:\n",
    "- Es una clase que no se instancia directamente\n",
    "- Contiene uno o más métodos abstractos\n",
    "- Sus subclases implementan todos sus métodos abstractos"
   ]
  },
  {
   "cell_type": "markdown",
   "metadata": {},
   "source": [
    "## *Abstract Base Class*"
   ]
  },
  {
   "cell_type": "markdown",
   "metadata": {},
   "source": [
    "La sintaxis base de Python no tiene una forma de definir clases abstractas, pero sí existe el módulo `abc` (\"Abstract Base Classes\") que nos provee herramientas para hacerlo. Mediante la clase `ABC` y el decorador `abstractmethod` es posible definir una clase abstracta:"
   ]
  },
  {
   "cell_type": "code",
   "execution_count": 1,
   "metadata": {},
   "outputs": [],
   "source": [
    "from abc import ABC, abstractmethod\n",
    "\n",
    "\n",
    "class Base(ABC):\n",
    "\n",
    "    @abstractmethod\n",
    "    def metodo_1(self):\n",
    "        pass\n",
    "\n",
    "    @abstractmethod\n",
    "    def metodo_2(self):\n",
    "        pass"
   ]
  },
  {
   "cell_type": "markdown",
   "metadata": {},
   "source": [
    "Se definió la clase `Base` y se marca como abstracta al hacerle heredar de `ABC` en su definición. Además, los métodos `metodo_1` y `metodo_2` se marcan como abstractos con el decorador `abstractmethod`. Si intentamos instanciar la clase recién definida, obtenemos un error:"
   ]
  },
  {
   "cell_type": "code",
   "execution_count": 2,
   "metadata": {},
   "outputs": [
    {
     "ename": "TypeError",
     "evalue": "Can't instantiate abstract class Base with abstract methods metodo_1, metodo_2",
     "output_type": "error",
     "traceback": [
      "\u001b[0;31m---------------------------------------------------------------------------\u001b[0m",
      "\u001b[0;31mTypeError\u001b[0m                                 Traceback (most recent call last)",
      "Input \u001b[0;32mIn [2]\u001b[0m, in \u001b[0;36m<cell line: 1>\u001b[0;34m()\u001b[0m\n\u001b[0;32m----> 1\u001b[0m instancia \u001b[38;5;241m=\u001b[39m \u001b[43mBase\u001b[49m\u001b[43m(\u001b[49m\u001b[43m)\u001b[49m\n",
      "\u001b[0;31mTypeError\u001b[0m: Can't instantiate abstract class Base with abstract methods metodo_1, metodo_2"
     ]
    }
   ],
   "source": [
    "instancia = Base()"
   ]
  },
  {
   "cell_type": "markdown",
   "metadata": {},
   "source": [
    "¡Porque es abstracta **y** contiene métodos abstractos! Pero si creamos una clase que herede de `Base` e implemente sus métodos no hay problemas:"
   ]
  },
  {
   "cell_type": "code",
   "execution_count": 3,
   "metadata": {},
   "outputs": [],
   "source": [
    "class SubClase1(Base):\n",
    "\n",
    "    def metodo_1(self):\n",
    "        pass\n",
    "\n",
    "    def metodo_2(self):\n",
    "        pass"
   ]
  },
  {
   "cell_type": "code",
   "execution_count": 4,
   "metadata": {},
   "outputs": [
    {
     "name": "stdout",
     "output_type": "stream",
     "text": [
      "<__main__.SubClase1 object at 0x10adf3e50>\n",
      "Es subclase: True\n",
      "Es instancia: True\n"
     ]
    }
   ],
   "source": [
    "instancia = SubClase1()\n",
    "print(instancia)\n",
    "print(f'Es subclase: {issubclass(SubClase1, Base)}')\n",
    "print(f'Es instancia: {isinstance(instancia, Base)}')"
   ]
  },
  {
   "cell_type": "markdown",
   "metadata": {},
   "source": [
    "Así, obtenemos una instancia de `SubClase1`. Esta clase hereda de `Base`, y sus instancias también son instancias de `Base`. En cambio, si se define una clase `SubClase2` que no implementa algún método abstracto, lanza un error al intentar instanciarse:"
   ]
  },
  {
   "cell_type": "code",
   "execution_count": 5,
   "metadata": {},
   "outputs": [],
   "source": [
    "class SubClase2(Base):\n",
    "    \n",
    "    def metodo_1(self):\n",
    "        pass"
   ]
  },
  {
   "cell_type": "code",
   "execution_count": 6,
   "metadata": {},
   "outputs": [
    {
     "ename": "TypeError",
     "evalue": "Can't instantiate abstract class SubClase2 with abstract method metodo_2",
     "output_type": "error",
     "traceback": [
      "\u001b[0;31m---------------------------------------------------------------------------\u001b[0m",
      "\u001b[0;31mTypeError\u001b[0m                                 Traceback (most recent call last)",
      "Input \u001b[0;32mIn [6]\u001b[0m, in \u001b[0;36m<cell line: 1>\u001b[0;34m()\u001b[0m\n\u001b[0;32m----> 1\u001b[0m instancia \u001b[38;5;241m=\u001b[39m \u001b[43mSubClase2\u001b[49m\u001b[43m(\u001b[49m\u001b[43m)\u001b[49m\n",
      "\u001b[0;31mTypeError\u001b[0m: Can't instantiate abstract class SubClase2 with abstract method metodo_2"
     ]
    }
   ],
   "source": [
    "instancia = SubClase2()"
   ]
  },
  {
   "cell_type": "markdown",
   "metadata": {},
   "source": [
    "También podemos definir ***abstract properties*** utilizando ambos decoradores. Existe el decorador `@abstractproperty`, pero este es equivalente a lo siguiente y fue descontinuado por la misma razón:"
   ]
  },
  {
   "cell_type": "code",
   "execution_count": 7,
   "metadata": {},
   "outputs": [],
   "source": [
    "class Base(ABC):\n",
    "\n",
    "    @property\n",
    "    @abstractmethod\n",
    "    def valor(self):\n",
    "        return '¿Llegaremos aquí?'\n",
    "\n",
    "\n",
    "class Implementacion(Base):\n",
    "\n",
    "    @property\n",
    "    def valor(self):\n",
    "        return 'Propiedad concreta'"
   ]
  },
  {
   "cell_type": "code",
   "execution_count": 8,
   "metadata": {},
   "outputs": [
    {
     "ename": "TypeError",
     "evalue": "Can't instantiate abstract class Base with abstract method valor",
     "output_type": "error",
     "traceback": [
      "\u001b[0;31m---------------------------------------------------------------------------\u001b[0m",
      "\u001b[0;31mTypeError\u001b[0m                                 Traceback (most recent call last)",
      "Input \u001b[0;32mIn [8]\u001b[0m, in \u001b[0;36m<cell line: 1>\u001b[0;34m()\u001b[0m\n\u001b[0;32m----> 1\u001b[0m b \u001b[38;5;241m=\u001b[39m \u001b[43mBase\u001b[49m\u001b[43m(\u001b[49m\u001b[43m)\u001b[49m\n\u001b[1;32m      2\u001b[0m \u001b[38;5;28mprint\u001b[39m(\u001b[38;5;124mf\u001b[39m\u001b[38;5;124m'\u001b[39m\u001b[38;5;124mBase.value: \u001b[39m\u001b[38;5;132;01m{\u001b[39;00mb\u001b[38;5;241m.\u001b[39mvalor\u001b[38;5;132;01m}\u001b[39;00m\u001b[38;5;124m'\u001b[39m)\n",
      "\u001b[0;31mTypeError\u001b[0m: Can't instantiate abstract class Base with abstract method valor"
     ]
    }
   ],
   "source": [
    "b = Base()\n",
    "print(f'Base.value: {b.valor}')"
   ]
  },
  {
   "cell_type": "code",
   "execution_count": 9,
   "metadata": {},
   "outputs": [
    {
     "name": "stdout",
     "output_type": "stream",
     "text": [
      "implementacion.valor: Propiedad concreta\n"
     ]
    }
   ],
   "source": [
    "i = Implementacion()\n",
    "print(f'implementacion.valor: {i.valor}')"
   ]
  },
  {
   "cell_type": "markdown",
   "metadata": {},
   "source": [
    "Ahora, las clases abstractas **no deben solo contener métodos abstractos**. También se pueden aprovechar las ventajas de herencia con métodos no abstractos, ¡e incluso con los abstractos! El siguiente ejemplo es una clase abstracta con métodos no abstractos y abstractos:"
   ]
  },
  {
   "cell_type": "code",
   "execution_count": 10,
   "metadata": {},
   "outputs": [],
   "source": [
    "from abc import ABC, abstractmethod\n",
    "\n",
    "\n",
    "class Base(ABC):\n",
    "\n",
    "    def __init__(self, nombre):\n",
    "        self.nombre = nombre\n",
    "        self.contador = 0\n",
    "\n",
    "    def metodo_1(self):\n",
    "        self.contador += 1\n",
    "\n",
    "    @abstractmethod\n",
    "    def metodo_2(self):\n",
    "        self.contador += 2"
   ]
  },
  {
   "cell_type": "markdown",
   "metadata": {},
   "source": [
    "La subclase `SubClase1` re-implementa el método abstracto `metodo_2`, y es capaz de usar los métodos no abstractos de `Base`:"
   ]
  },
  {
   "cell_type": "code",
   "execution_count": 11,
   "metadata": {},
   "outputs": [],
   "source": [
    "class SubClase1(Base):\n",
    "\n",
    "    def metodo_2(self):\n",
    "        self.contador += 3"
   ]
  },
  {
   "cell_type": "code",
   "execution_count": 12,
   "metadata": {},
   "outputs": [
    {
     "name": "stdout",
     "output_type": "stream",
     "text": [
      "0\n",
      "1\n",
      "4\n"
     ]
    }
   ],
   "source": [
    "instancia_1 = SubClase1(\"1\")\n",
    "print(instancia_1.contador)\n",
    "instancia_1.metodo_1()\n",
    "print(instancia_1.contador)\n",
    "instancia_1.metodo_2()\n",
    "print(instancia_1.contador)"
   ]
  },
  {
   "cell_type": "markdown",
   "metadata": {},
   "source": [
    "La subclase `SubClase2` también es capaz de usar los métodos no abstractos de `Base`, pero re-implementa el método abstracto `metodo_2` accediendo a la definición original de `Base` mediante `super`:"
   ]
  },
  {
   "cell_type": "code",
   "execution_count": 13,
   "metadata": {},
   "outputs": [],
   "source": [
    "class SubClase2(Base):\n",
    "\n",
    "    def metodo_2(self):\n",
    "        super().metodo_2()"
   ]
  },
  {
   "cell_type": "code",
   "execution_count": 14,
   "metadata": {},
   "outputs": [
    {
     "name": "stdout",
     "output_type": "stream",
     "text": [
      "0\n",
      "1\n",
      "3\n"
     ]
    }
   ],
   "source": [
    "instancia_2 = SubClase2(\"2\")\n",
    "print(instancia_2.contador)\n",
    "instancia_2.metodo_1()\n",
    "print(instancia_2.contador)\n",
    "instancia_2.metodo_2()\n",
    "print(instancia_2.contador)"
   ]
  },
  {
   "cell_type": "markdown",
   "metadata": {},
   "source": [
    "Es decir, las clases abstractas no son moldes de clases vacías necesariamente, sino que pueden contener mucha lógica que heredar a sus subclases.\n",
    "\n",
    "**Pon en práctica definir y completar una clase abstractas y sus subclases realizando el ejercicio propuesto 3.1.**"
   ]
  },
  {
   "cell_type": "markdown",
   "metadata": {},
   "source": [
    "## Ejemplo"
   ]
  },
  {
   "cell_type": "markdown",
   "metadata": {},
   "source": [
    "En el siguiente ejemplo se usa una clase abstracta para modelar comportamiento común, pero delegando implementaciones específicas a subclases. \n",
    "\n",
    "Se desea modelar entidades de personajes de un juego, donde existe el personaje del jugador y el personaje del enemigo. Ambas entidades son similares, ya que poseen atributos y comportamiento similar, pero tienen sutiles diferencias. Por ejemplo, estos personajes al moverse pierden energía. Pero los enemigos pierden energía a una tasa constante, mientras que el jugador pierde una cantidad aleatoria e incluso tiene probabilidad de ganar un poco de energía. El uso de clases abstractas es perfecto en este escenario, ya que ambas entidades en lo general se comportan igual, pero tienen sutiles diferencias que pueden delegarse a implementación."
   ]
  },
  {
   "cell_type": "markdown",
   "metadata": {},
   "source": [
    "La clase abstracta `Personaje` modela el comportamiento de un personaje de un juego, que posee `nombre`, ubicación en un mapa (`x` e `y`), y `energia` numérica. Esta última se trata como una *property* ya que nunca alcanza valores negativos. Posee un método `simular` que realiza las acciones de cualquier personaje, que son `saludar`, `moverse` y gastar energía cada un segundo, mientras aún posea energía. Como los detalles de cómo saludar, cómo moverse y cómo se gasta energía dependen de cada implementación, se marcan como *abstract methods*. Incluso para el caso de saludar se provee una implementación base, pero al marcarse como *abstract method* se obliga a que la subclase haga explicito el comportamiento."
   ]
  },
  {
   "cell_type": "code",
   "execution_count": 15,
   "metadata": {},
   "outputs": [],
   "source": [
    "from random import randint\n",
    "from time import sleep\n",
    "\n",
    "\n",
    "class Personaje(ABC):\n",
    "\n",
    "    def __init__(self, nombre, x, y, energia):\n",
    "        self.nombre = nombre\n",
    "        self.x = x\n",
    "        self.y = y\n",
    "        self.energia = energia\n",
    "\n",
    "    @property\n",
    "    def energia(self):\n",
    "        return self.__energia\n",
    "\n",
    "    @energia.setter\n",
    "    def energia(self, valor):\n",
    "        self.__energia = max(valor, 0)\n",
    "\n",
    "    def simular(self):\n",
    "        while self.energia > 0:\n",
    "            sleep(1)\n",
    "            self.saludar()\n",
    "            self.moverse()\n",
    "            self.gastar_energia()\n",
    "        print(\"Perdí toda mi energía :(\")\n",
    "\n",
    "    @abstractmethod\n",
    "    def moverse(self):\n",
    "        pass\n",
    "\n",
    "    @abstractmethod\n",
    "    def gastar_energia(self):\n",
    "        pass\n",
    "\n",
    "    @abstractmethod\n",
    "    def saludar(self):\n",
    "        print(f\"Soy {self.nombre}. Estoy en {(self.x, self.y)}.\")"
   ]
  },
  {
   "cell_type": "markdown",
   "metadata": {},
   "source": [
    "Con la base creada, podemos definir un caso más específico. Primero definimos el personaje de jugador con la clase `Jugador`. Mediante herencia se comparten todas las definiciones de métodos regulares, como el constructor y *properties*. Solo queda implementar los métodos abstractos:"
   ]
  },
  {
   "cell_type": "code",
   "execution_count": 16,
   "metadata": {},
   "outputs": [],
   "source": [
    "class Jugador(Personaje):\n",
    "\n",
    "    def moverse(self):\n",
    "        # El jugador se mueve en la misma dirección de forma constante\n",
    "        self.x += 1\n",
    "        self.y += 1\n",
    "\n",
    "    def gastar_energia(self):\n",
    "        # Pierde una cantidad aleatoria de energía\n",
    "        cambio = randint(-1, 3)\n",
    "        self.energia -= cambio\n",
    "        if cambio < 0: # Puede que gane energía de vez en cuando\n",
    "            print(\"¡Gané energía!\")\n",
    "\n",
    "    def saludar(self):\n",
    "        # Utiliza la definición de Personaje para saludar\n",
    "        super().saludar()"
   ]
  },
  {
   "cell_type": "markdown",
   "metadata": {},
   "source": [
    "Luego, al instanciarse, podemos ver que funciona y utiliza el molde definido en `Personaje`, pero aterrizado a las implementaciones de `Jugador`."
   ]
  },
  {
   "cell_type": "code",
   "execution_count": 17,
   "metadata": {},
   "outputs": [
    {
     "name": "stdout",
     "output_type": "stream",
     "text": [
      "Soy Javiera. Estoy en (0, 0).\n",
      "Soy Javiera. Estoy en (1, 1).\n",
      "Soy Javiera. Estoy en (2, 2).\n",
      "Soy Javiera. Estoy en (3, 3).\n",
      "Soy Javiera. Estoy en (4, 4).\n",
      "Soy Javiera. Estoy en (5, 5).\n",
      "Soy Javiera. Estoy en (6, 6).\n",
      "Perdí toda mi energía :(\n"
     ]
    }
   ],
   "source": [
    "jugador = Jugador(\"Javiera\", 0, 0, 10)\n",
    "jugador.simular()"
   ]
  },
  {
   "cell_type": "markdown",
   "metadata": {},
   "source": [
    "Ahora definimos otra subclase, que tiene otros casos específicos de implementación, para los enemigos del juego."
   ]
  },
  {
   "cell_type": "code",
   "execution_count": 18,
   "metadata": {},
   "outputs": [],
   "source": [
    "class Enemigo(Personaje):\n",
    "\n",
    "    def moverse(self):\n",
    "        # Se mueven aleatoriamente por el mapa\n",
    "        self.x += randint(-1, 1)\n",
    "        self.y += randint(-1, 1)\n",
    "\n",
    "    def gastar_energia(self):\n",
    "        # Gastan energía a tasa constante\n",
    "        self.energia -= 1\n",
    "\n",
    "    def saludar(self):\n",
    "        # Agrega un grito por sobre la implementación original\n",
    "        print(\"¡Te atraparé!\")\n",
    "        super().saludar()"
   ]
  },
  {
   "cell_type": "code",
   "execution_count": 19,
   "metadata": {},
   "outputs": [
    {
     "name": "stdout",
     "output_type": "stream",
     "text": [
      "¡Te atraparé!\n",
      "Soy Nicolás. Estoy en (0, 0).\n",
      "¡Te atraparé!\n",
      "Soy Nicolás. Estoy en (1, 0).\n",
      "¡Te atraparé!\n",
      "Soy Nicolás. Estoy en (1, 1).\n",
      "¡Te atraparé!\n",
      "Soy Nicolás. Estoy en (0, 2).\n",
      "¡Te atraparé!\n",
      "Soy Nicolás. Estoy en (0, 2).\n",
      "¡Te atraparé!\n",
      "Soy Nicolás. Estoy en (-1, 3).\n",
      "¡Te atraparé!\n",
      "Soy Nicolás. Estoy en (-2, 3).\n",
      "¡Te atraparé!\n",
      "Soy Nicolás. Estoy en (-3, 2).\n",
      "¡Te atraparé!\n",
      "Soy Nicolás. Estoy en (-4, 1).\n",
      "¡Te atraparé!\n",
      "Soy Nicolás. Estoy en (-4, 1).\n",
      "¡Te atraparé!\n",
      "Soy Nicolás. Estoy en (-4, 0).\n",
      "¡Te atraparé!\n",
      "Soy Nicolás. Estoy en (-5, 1).\n",
      "¡Te atraparé!\n",
      "Soy Nicolás. Estoy en (-6, 1).\n",
      "¡Te atraparé!\n",
      "Soy Nicolás. Estoy en (-5, 1).\n",
      "¡Te atraparé!\n",
      "Soy Nicolás. Estoy en (-5, 2).\n",
      "Perdí toda mi energía :(\n"
     ]
    }
   ],
   "source": [
    "enemigo = Enemigo(\"Nicolás\", 0, 0, 15)\n",
    "enemigo.simular()"
   ]
  },
  {
   "cell_type": "markdown",
   "metadata": {},
   "source": [
    "Con esto se aprecia el uso de clases abstractas para compartir comportamiento pero delegando detalles a subclases. Este código es incluso extendible y se pueden crear más casos de personajes con comportamiento específico.\n",
    "\n",
    "**Para continuar con este ejemplo, puedes realizar el ejercicio propuesto 3.2.**"
   ]
  }
 ],
 "metadata": {
  "kernelspec": {
   "display_name": "Python 3 (ipykernel)",
   "language": "python",
   "name": "python3"
  },
  "language_info": {
   "codemirror_mode": {
    "name": "ipython",
    "version": 3
   },
   "file_extension": ".py",
   "mimetype": "text/x-python",
   "name": "python",
   "nbconvert_exporter": "python",
   "pygments_lexer": "ipython3",
   "version": "3.10.10"
  }
 },
 "nbformat": 4,
 "nbformat_minor": 4
}
