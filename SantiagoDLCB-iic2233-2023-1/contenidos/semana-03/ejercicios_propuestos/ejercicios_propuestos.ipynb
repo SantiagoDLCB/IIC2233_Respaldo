{
 "cells": [
  {
   "cell_type": "markdown",
   "metadata": {},
   "source": [
    "<p>\n",
    "<font size='5' face='Georgia, Arial'>IIC-2233 Apunte Programación Avanzada</font><br>\n",
    "<font size='1'> Ejercicios creados a partir de 2019-2 por Equipo Docente IIC2233. </font>\n",
    "<font size='1'> Actualizados en 2020-1 y 2020-2.</font>\n",
    "</p>\n",
    "\n",
    "\n",
    "# Ejercicios propuestos: Programación Orientada a Objetos II"
   ]
  },
  {
   "cell_type": "markdown",
   "metadata": {},
   "source": [
    "Los siguientes problemas se proveen como oportunidad de ejercitar los conceptos revisados en el material de **Programación Orientada a Objetos II**. Si tienes dudas sobre algún problema o alguna solución, no dudes en dejar una *issue* en el [foro del curso](https://github.com/IIC2233/syllabus/issues).\n",
    "\n",
    "Los ejercicios se subdividen según la numeración de los cuadernos de la semana. Algunos de ellos se referencian desde los cuadernos de material mismo, mientras que pueden haber otros adicionales para mayor ejercitación."
   ]
  },
  {
   "cell_type": "markdown",
   "metadata": {},
   "source": [
    "## 1. Polimorfismo"
   ]
  },
  {
   "cell_type": "markdown",
   "metadata": {},
   "source": [
    "### Ejercicio 1.1: _prints_ extraños"
   ]
  },
  {
   "cell_type": "markdown",
   "metadata": {},
   "source": [
    "A continuación se te entrega código que crea una clase genérica `Vehiculo`. Esta tiene re-escrita las firmas de los métodos `__str__` y `__repr__`, pero que realmente solo llama a la implementación predeterminada. Luego, se crean dos objetos y se imprimen. Verás que algo extraño aparece en pantalla al ejecutar esta forma.\n",
    "\n",
    "Dado lo anterior, se te solicita que modifiques la clase ```Vehiculo``` para que sea capaz de mostrar toda la información relacionada a ella, es decir, su ```modelo```, ```marca```y ```patente```al momento de imprimir una instancia de esta clase."
   ]
  },
  {
   "cell_type": "code",
   "execution_count": 1,
   "metadata": {},
   "outputs": [],
   "source": [
    "class Vehiculo:\n",
    "    def __init__(self, modelo, marca, patente):\n",
    "        self.modelo = modelo\n",
    "        self.marca = marca\n",
    "        self.patente = patente\n",
    "    \n",
    "    def __str__(self):\n",
    "        return super().__str__()\n",
    "    \n",
    "    def __repr__(self):\n",
    "        return super().__repr__()\n",
    "\n",
    "    \n",
    "if __name__ == \"__main__\":\n",
    "    auto = Vehiculo('SuperCaro', 'DCC', 'IIC2233-1')\n",
    "    camion =  Vehiculo('camion', 'DCC', 'IIC2233-1')\n",
    "    # Con estos prints se nota la diferencia entre repr y str\n",
    "    print(auto)\n",
    "    print(camion)\n",
    "    print([auto, camion])"
   ]
  },
  {
   "cell_type": "markdown",
   "metadata": {},
   "source": [
    "### Ejercicio 1.2: Progragotchis"
   ]
  },
  {
   "cell_type": "markdown",
   "metadata": {},
   "source": [
    "Buscando entre los diversos objetos que tenías guardados en una caja antigua, encontraste varios _progragotchis_ de distintas generaciones. Sientes mucha emoción por volver a verlos, decidiste volver a intentar criarlos. Luego de un rato, notaste que sus vidas duraron tiempos distintos, aún cuando les diste el mismo trato a todos. Como no podías quedarte de brazos cruzados con tu nuevo descubrimiento, decidiste ordenar a tus _progragotchis_ según su esperanza de vida.\n",
    "\n",
    "Deberás completar los métodos ```obtener_vida``` de cada generación distinta de *progragotchi*, y luego sobreescribir el método ```__gt__``` de cada clase, de modo que al usar ```sort``` la lista de *progragotchis* quede ordenada de mayor a menor vida."
   ]
  },
  {
   "cell_type": "markdown",
   "metadata": {},
   "source": [
    "### (Abre paréntesis...\n",
    "\n",
    "El método ```__gt__``` es el que se llama sobre un método cuando se compara con otro mediante `>`. Por ejemplo, se obtienen los mismos resultados comparando *strings*:"
   ]
  },
  {
   "cell_type": "code",
   "execution_count": null,
   "metadata": {},
   "outputs": [],
   "source": [
    "print(\"a\" > \"b\")\n",
    "print(\"a\".__gt__(\"b\"))\n",
    "print(\"b\" > \"a\")\n",
    "print(\"b\".__gt__(\"a\"))\n",
    "print(\"a\" > \"a\")\n",
    "print(\"a\".__gt__(\"a\"))"
   ]
  },
  {
   "cell_type": "markdown",
   "metadata": {},
   "source": [
    "### ...cierra paréntesis)"
   ]
  },
  {
   "cell_type": "markdown",
   "metadata": {},
   "source": [
    "Todos los _progragotchis_ poseen ```nombre```, ```edad```,```peso``` y ```hambre```. Entre cada _progragotchi_ los atributos varían y existen tres generaciones de _progragotchis_ distintas:\n",
    "- ```Puroguragotchi``` : Su vida se obtiene con la fórmula: ```100 - peso * hambre```.  \n",
    "- ```Tamaprogra```: Si su edad es menos de 50, se obtiene con ```100 - edad * hambre```. Si es mayor o igual a 50, se obtiene con ```100 - 2 * edad / peso```.\n",
    "- ```DCGotchi```: Su vida se obtiene con la fórmula ```10 * peso - 4 * edad * hambre```.\n",
    "\n",
    "Debes cuidar que la vida de los _progragotchis_ no sea menor a 0.\n",
    "\n",
    "Puedes usar la siguiente base para modelar la situación:"
   ]
  },
  {
   "cell_type": "code",
   "execution_count": 2,
   "metadata": {},
   "outputs": [],
   "source": [
    "class Progragotchi:\n",
    "    def __init__(self, nombre, edad, peso):\n",
    "        self.nombre = nombre\n",
    "        self.edad = edad\n",
    "        self.peso = peso\n",
    "        self.hambre = hambre\n",
    "    \n",
    "class Puroguragotchi(Progragotchi):\n",
    "    def __init__(self, nombre, edad, peso, hambre):\n",
    "        super().__init__(nombre, edad, peso, hambre)\n",
    "    \n",
    "    def obtener_vida(self):\n",
    "        # Completar\n",
    "        pass\n",
    "    \n",
    "    def __gt__(self, otro):\n",
    "        # Completar\n",
    "        pass\n",
    "\n",
    "class Tamaprogra(Progragotchi):\n",
    "    def __init__(self, nombre, edad, peso):\n",
    "        super().__init__(nombre, edad, peso, hambre)\n",
    "    \n",
    "    def obtener_vida(self):\n",
    "        # Completar\n",
    "        pass\n",
    "    \n",
    "    def __gt__(self, otro):\n",
    "        # Completar\n",
    "        pass\n",
    "    \n",
    "class DCGotchi(Progragotchi):\n",
    "    def __init__(self, nombre, edad, peso):\n",
    "        super().__init__(nombre, edad, peso, hambre)\n",
    "    \n",
    "    def obtener_vida(self):\n",
    "        # Completar\n",
    "        pass\n",
    "    \n",
    "    def __gt__(self, otro):\n",
    "        # Completar\n",
    "        pass"
   ]
  },
  {
   "cell_type": "markdown",
   "metadata": {},
   "source": [
    "Con el siguiente código puedes poblar y poner a prueba tu modelación:"
   ]
  },
  {
   "cell_type": "code",
   "execution_count": null,
   "metadata": {},
   "outputs": [],
   "source": [
    "from os import path\n",
    "\n",
    "progragotchis = []\n",
    "with open(path.join(\"data\", \"progragotchis.csv\")) as archivo:\n",
    "    archivo.readline()\n",
    "    for linea in archivo:\n",
    "        nombre, edad, peso, hambre, gen = linea.strip().split(\",\")\n",
    "        if gen == \"1\":\n",
    "            progragotchis.append(Puroguragotchi(nombre, int(edad), int(peso), int(hambre)))\n",
    "        elif gen == \"2\":\n",
    "            progragotchis.append(Tamaprogra(nombre, int(edad), int(peso), int(hambre)))\n",
    "        else:\n",
    "            progragotchis.append(DCGotchi(nombre, int(edad), int(peso), int(hambre)))\n",
    "progragotchis.sort()\n",
    "print(\"Los 10 progragotchis con más vida son:\")\n",
    "for i in range(10):\n",
    "    print(f\"{progragotchis[i].nombre}, con {int(progragotchis[i].obtener_vida())} de vida \")"
   ]
  },
  {
   "cell_type": "markdown",
   "metadata": {},
   "source": [
    "### Ejercicio 4.3: Clases de cultivos"
   ]
  },
  {
   "cell_type": "markdown",
   "metadata": {},
   "source": [
    "Para este problema tu misión es ayudar a Jorge. Él es un joven agricultor interesado en la computación, que ha decidido aplicar sus renovados estudios en saber cuanto gana de utilidad con sus cultivos. Jorge arrienda 2 campos que desea utilizar  para diferentes cultivos. El primero es de papas y el segundo de arándanos. La utilidad depende de cada tipo de cultivo y según características propias del campo. Para ayudar a Jorge, completarás el código a continuación, en donde se busca calcular la utilidad de cada campo, según las especificaciones que se te darán a continuación.\n",
    "  \n",
    "\n",
    "En primer lugar, en el caso del campo donde se cultivan papas, su beneficio está dado por la fórmula: \n",
    "- ``10 * hectareas`` . Sólo debes modificar el método ``calcular_beneficio`` de la clase ``CampoPapas``.\n",
    "\n",
    "y su costo es de: \n",
    "- ``5 * hectareas + costos_variables ** 2 + maquinaria * 10 + arriendo`` , por lo que sólo debes modificar el método ``calcular_costo`` de la clase ``CampoPapas``\n",
    "\n",
    "\n",
    "En segundo lugar, en el caso del campo donde se cultivan arándanos, su beneficio está dado por la fórmula: \n",
    "- ``8 * hectareas + 2000`` . Sólo debes modificar el método ``calcular_beneficio`` de la clase ``CampoArandanos``.\n",
    "\n",
    "y su costo es de: \n",
    "- ``2 * hectareas + 7 * costos_variables + sueldos_temporeros + arriendo``, por lo que sólo debes modificar el método ``calcular_beneficio`` de la clase ``CampoArandanos``\n",
    "\n",
    "\n",
    "En tercer lugar, modifica el método ``calcular_utilidad`` de la clase ``Campo`` para que retorne las utilidades. Las utilidades en ambos tipos de cultivo están dadas por la simple formula: \n",
    "- ``utilidades = beneficios - costos.``\n",
    "\n",
    "\n",
    "Por último, debemos ayudar a Jorge a calcular el total de las utilidades que entrega todo su negocio de agricultura.  Para esto modificaremos el método ``__add__`` en la clase ``Campo``, con el objetivo que al sumar ambos campos, se nos entregue la suma de las utilidades."
   ]
  },
  {
   "cell_type": "code",
   "execution_count": 3,
   "metadata": {},
   "outputs": [
    {
     "name": "stdout",
     "output_type": "stream",
     "text": [
      "la utilidad del campo de papas es 0 \n",
      "la utilidad del campo de arandanos es 0\n",
      "la utilidad total es de None\n"
     ]
    }
   ],
   "source": [
    "class Campo:\n",
    "    def __init__(self, arriendo, costos_variables, hectarias):\n",
    "        self.arriendo = arriendo\n",
    "        self.costos_variables = costos_variables\n",
    "        self.hectarias = hectarias\n",
    "        self.utilidad = 0\n",
    "        self.costo = 0\n",
    "        self.beneficio = 0\n",
    "\n",
    "    def calcular_beneficio(self):\n",
    "        pass\n",
    "\n",
    "    def calcular_costo(self):\n",
    "        pass\n",
    "\n",
    "    def calcular_utilidad(self):\n",
    "        # Completar\n",
    "        return self.utilidad\n",
    "\n",
    "    def __add__(self, campo):\n",
    "        # Completar\n",
    "        pass\n",
    "\n",
    "\n",
    "class CampoPapas(Campo):\n",
    "    def __init__(self, maquinaria,  arriendo, costos_variables, hectarias):\n",
    "        super().__init__(arriendo, costos_variables, hectarias)\n",
    "        self.maquinaria = maquinaria\n",
    "\n",
    "    def calcular_beneficio(self):\n",
    "        # Completar\n",
    "        return self.beneficio\n",
    "\n",
    "    def calcular_costo(self):\n",
    "        # Completar\n",
    "        return self.costo\n",
    "\n",
    "\n",
    "class CampoArandanos(Campo):\n",
    "    def __init__(self, sueldos_temporeros,  arriendo, costos_variables, hectarias):\n",
    "        super().__init__(arriendo, costos_variables, hectarias)\n",
    "        self.sueldos_temporeros = sueldos_temporeros\n",
    "\n",
    "    def calcular_beneficio(self):\n",
    "        # Completar\n",
    "        return self.beneficio\n",
    "\n",
    "    def calcular_costo(self):\n",
    "        # Completar\n",
    "        return self.costo\n",
    "\n",
    "\n",
    "if __name__ == \"__main__\":\n",
    "    campo_papas = CampoPapas(1220, 600, 15, 5500)\n",
    "    campo_arandanos = CampoArandanos(1200, 600, 200, 4000)\n",
    "    utilidad_campo1 = campo_papas.calcular_utilidad()\n",
    "    utilidad_campo2 = campo_arandanos.calcular_utilidad()\n",
    "    print(f'la utilidad del campo de papas es {utilidad_campo1} ')\n",
    "    print(f'la utilidad del campo de arandanos es {utilidad_campo2}')\n",
    "    utilidad_total = campo_papas + campo_arandanos\n",
    "    print(f'la utilidad total es de {utilidad_total}')"
   ]
  },
  {
   "cell_type": "markdown",
   "metadata": {},
   "source": [
    "## 2. Multiherencia"
   ]
  },
  {
   "cell_type": "markdown",
   "metadata": {},
   "source": [
    "### Ejercicio 2.1: `Hijos de Burro`"
   ]
  },
  {
   "cell_type": "markdown",
   "metadata": {},
   "source": [
    "\n",
    "![](img/burritos.jpg)\n"
   ]
  },
  {
   "cell_type": "markdown",
   "metadata": {},
   "source": [
    "Al igual que todo el mundo, eres un fanático de **Shrek**, y siempre te ha llamado la atención los hijos de Burro y la Dragona. Estás muy contento porque en **Programación Avanzada** te enseñaron multiherencia y al fin podrás modelar estas particulares criaturas.\n",
    "\n",
    "Tienes la clase `Burro` y la clase `Dragona`, solo debes completar el código de la clase `HijoBurro`, ¡y habrás cumplido tu misión!\n"
   ]
  },
  {
   "cell_type": "code",
   "execution_count": null,
   "metadata": {},
   "outputs": [],
   "source": [
    "class Burro:\n",
    "    \"\"\"Clase de Burro\"\"\"\n",
    "\n",
    "    def __init__(self, **kwargs):\n",
    "        super().__init__(**kwargs)\n",
    "        self.cancion = \"Estoy solito, no hay nadie aqui a mi lado (8)\"\n",
    "\n",
    "    def cantar(self):\n",
    "        print(self.cancion)\n",
    "\n",
    "\n",
    "class  Dragona:\n",
    "    \"\"\"Clase de Dragona\"\"\"\n",
    "\n",
    "    def __init__(self, **kwargs):\n",
    "        super().__init__(**kwargs)\n",
    "        self.fuego = \"Estoy escupiendo fuego\"\n",
    "\n",
    "    def escupir_fuego(self):\n",
    "        print(self.fuego)\n",
    "\n",
    "\n",
    "class HijoBurro:\n",
    "    pass"
   ]
  },
  {
   "cell_type": "markdown",
   "metadata": {},
   "source": [
    "Si lo hiciste correctamente el siguiente código no debería tirar error."
   ]
  },
  {
   "cell_type": "code",
   "execution_count": null,
   "metadata": {},
   "outputs": [],
   "source": [
    "hijo_burro = HijoBurro()\n",
    "print(\"Hola, soy hijo de Burro y la dragona y puedo cantar como mi padre...)\n",
    "hijo_burro.cantar()\n",
    "print(\"Y escupir fuego como mi madre...\")\n",
    "hijo_burro.escupir_fuego()"
   ]
  },
  {
   "cell_type": "markdown",
   "metadata": {},
   "source": [
    "### Ejercicio 2.2: Bonito Diamante"
   ]
  },
  {
   "cell_type": "markdown",
   "metadata": {},
   "source": [
    "El DCC estuvo tratando de modelar el funcionamiento del cuerpo de ayudantes, sin embargo tuvieron complicaciones con la creación de clases y nadie ha podido resolver el modelo. Debes usar el siguiente método y el siguiente atributo. Ten en cuenta que si ejecutas el código en la celda arrojará un error, pues estos métodos están pensados para que los **copies y pegues** dentro de una clase:"
   ]
  },
  {
   "cell_type": "code",
   "execution_count": null,
   "metadata": {},
   "outputs": [],
   "source": [
    "# Método a copiar\n",
    "def asistir_a_catedra(self):  \n",
    "    print('¡¡Voy a la cátedra!!')\n",
    "\n",
    "# Atributo a copiar\n",
    "self.mensaje_de_apoyo = mensaje"
   ]
  },
  {
   "cell_type": "markdown",
   "metadata": {},
   "source": [
    "**Atención**: Tienes ciertas restricciones.\n",
    "- Solo puedes copiar y pegar el atributo y el método, **no puedes agregar nada más**\n",
    "- Solo puedes copiar **una vez** el atributo y el método, por lo que debes escoger bien en qué clase quedará.\n",
    "\n",
    "\n",
    "Es por esto que debes escoger bien en qué clases implementarás el método y el atributo. Si tu elección es la correcta, el código del final debe ejecutarse sin problemas."
   ]
  },
  {
   "cell_type": "code",
   "execution_count": null,
   "metadata": {},
   "outputs": [],
   "source": [
    "class FullDocencia:\n",
    "\n",
    "    def __init__(self, nombre, mensaje):\n",
    "        self.nombre = nombre\n",
    "\n",
    "    def mostrar_apoyo(self):\n",
    "        print(f'Vamos, tú puedes, {self.mensaje_de_apoyo}')\n",
    "\n",
    "\n",
    "class FullTarea:  # La condicion es que FullTarea nunca ejecutará su método\n",
    "\n",
    "    def __init__(self, nombre, mensaje):\n",
    "        self.nombre = nombre\n",
    "\n",
    "    def ayudar_en_catedra(self):\n",
    "        # ¿Y de donde sacará este atributo?\n",
    "        print(f'{self.mensaje_de_apoyo}!!')\n",
    "\n",
    "\n",
    "class HibridoTarea(FullTarea, FullDocencia):\n",
    "\n",
    "    def __init__(self, nombre, mensaje):\n",
    "        FullTarea.__init__(self, nombre, mensaje)\n",
    "        FullDocencia.__init__(self,nombre, mensaje)\n",
    "\n",
    "\n",
    "class HibridoDocencia(FullDocencia, FullTarea):\n",
    "\n",
    "    def __init__(self, nombre, mensaje):\n",
    "        FullDocencia.__init__(self,nombre, mensaje)\n",
    "        FullTarea.__init__(self, nombre, mensaje)\n",
    "\n",
    "\n",
    "# ¿Puedes identificar a estos ayudantes?\n",
    "ay_1 = HibridoTarea('Antonio Aguilar', 'Ánimo que se puede')\n",
    "ay_2 = HibridoDocencia('Jorge Negrete', 'Da lo mejor de ti') \n",
    "ay_3 = FullTarea('Miguel Aceves Mejía', '¡¡Siempre hay una segunda oportunidad!!')  \n",
    "ay_4 = FullDocencia('Pedro Infante', 'Un tropezon no es caida') # Parcial\n",
    "\n",
    "ay_2.asistir_a_catedra()\n",
    "ay_1.asistir_a_catedra()\n",
    "\n",
    "ay_2.mostrar_apoyo()\n",
    "ay_1.mostrar_apoyo()\n",
    "ay_4.mostrar_apoyo()"
   ]
  },
  {
   "cell_type": "markdown",
   "metadata": {},
   "source": [
    "Si lograste hacer funcionar el código, podrás haber notado que éste presenta una restricción en particular para que funcione. \n",
    "\n",
    "¿Es correcta esta forma de modelar? ¿Es válida esa restricción al modelo? ¿Se puede hacer de manera distinta?"
   ]
  },
  {
   "cell_type": "markdown",
   "metadata": {},
   "source": [
    "## 3. Clases Abstractas"
   ]
  },
  {
   "cell_type": "markdown",
   "metadata": {},
   "source": [
    "### Ejercicio 3.1: `Concurso de Hamburguesas`"
   ]
  },
  {
   "cell_type": "markdown",
   "metadata": {},
   "source": [
    "Quedan pocos días para que comience el mejor concurso de hamburguesas del país, y para eso sus organizadores te han pedido a ti que registres los datos de cada hamburguesería en el concurso y hagas de este *Top Burger* su mejor versión. Para esto debes crear una clase `Hamburgueseria`, de la que hereden los dos tipos de `Hamburgueseria` que se pueden inscribir, que son `HamburgueseriaVegana` y `HamburgueseriaCarnivora`, con los siguientes métodos:\n",
    "\n",
    "1. **`promedio_evaluaciones`**: calcula el promedio de las evaluaciones hechas a las hamburguesas del local. Una `HamburgueseriaVegana` solo ofrece versión *veggie*, mientras que la `HamburgueseriaCarnivora` solo tiene opción carnívora, así que debes retornar un `float` con el promedio de las evaluaciones. Asume que los atributos `evaluaciones_veggie` y `evaluaciones_carnivora` son listas con enteros que corresponden a las evaluaciones.\n",
    "2. **`restar_stock`**: descuenta en uno la cantidad de *stock* de un tipo de hamburguesas, es decir, altera el valor del atributo  `stock`. En el caso de ambos tipos de hamburguesería no se entregará un parámetro a esta función y solo debes restarle uno al *stock* (`stock` es un `int`).\n",
    "3. **`numero_clientes`** para ambas hamburgeserías corresponde al largo de la lista de clientes y retornarlo.\n",
    "\n",
    "Cabe recordar que en este concurso no puede existir una `Hamburgueseria` por si misma, sino que solo puede ser una `HamburgueseriaVegana` o una `HamburgueseriaCarnivora`.\n",
    "\n",
    "Puedes usar el siguiente código de base para la creación de las clases. Recuerda utilizar las declaraciones del módulo `abc` marcar la clase abstracta y métodos abstractos."
   ]
  },
  {
   "cell_type": "code",
   "execution_count": null,
   "metadata": {},
   "outputs": [],
   "source": [
    "from abc import ABC, abstractmethod\n",
    "\n",
    "\n",
    "class Hamburgueseria:\n",
    "\n",
    "    def __init__ (self, clientes, stock):\n",
    "        self.stock = stock\n",
    "        self.clientes = clientes\n",
    "\n",
    "    def promedio_evaluaciones(self):\n",
    "        pass\n",
    "\n",
    "    def restar_stock(self):\n",
    "        pass\n",
    "\n",
    "    def numero_clientes(self):\n",
    "        pass\n",
    "\n",
    "\n",
    "class HamburgueseriaVegana:\n",
    "    # recuerda que deben heredar\n",
    "\n",
    "    def __init__(self, clientes, stock, evaluaciones_veggie):\n",
    "        super().__init__(clientes, stock)\n",
    "        self.evaluaciones_veggie = evaluaciones_veggie\n",
    "\n",
    "\n",
    "class HamburgueseriaCarnivora:\n",
    "    #recuerda que deben heredar\n",
    "\n",
    "    def __init__(self, clientes, stock, evaluaciones_carnivora):\n",
    "        super().__init__(clientes, stock)\n",
    "        self.evaluaciones_carnivora = evaluaciones_carnivora"
   ]
  },
  {
   "cell_type": "markdown",
   "metadata": {},
   "source": [
    "### Ejercicio 3.2: Más personajes."
   ]
  },
  {
   "cell_type": "markdown",
   "metadata": {},
   "source": [
    "Para continuar con el ejemplo del [cuaderno sobre clases abstractas](https://github.com/IIC2233/contenidos/blob/master/semana-03/3-clases-abstractas.ipynb), extiende y crea más subclases para la clase `Personaje` definida. Recuerda que para cada una solo es necesario implementar los métodos abstractos. Crea al menos dos subclases nuevas que se comporten distinto a los ejemplos de `Jugador` y `Enemigo`. Se te adjunta el código original de `Personaje` como referencia:"
   ]
  },
  {
   "cell_type": "code",
   "execution_count": null,
   "metadata": {},
   "outputs": [],
   "source": [
    "from abc import ABC, abstractmethod\n",
    "from random import randint\n",
    "from time import sleep\n",
    "\n",
    "\n",
    "class Personaje(ABC):\n",
    "\n",
    "    def __init__(self, nombre, x, y, energia):\n",
    "        self.nombre = nombre\n",
    "        self.x = x\n",
    "        self.y = y\n",
    "        self.energia = energia\n",
    "\n",
    "    @property\n",
    "    def energia(self):\n",
    "        return self.__energia\n",
    "\n",
    "    @energia.setter\n",
    "    def energia(self, valor):\n",
    "        self.__energia = max(valor, 0)\n",
    "\n",
    "    def simular(self):\n",
    "        while self.energia > 0:\n",
    "            sleep(1)\n",
    "            self.saludar()\n",
    "            self.moverse()\n",
    "            self.gastar_energia()\n",
    "        print(\"Perdí toda mi energía :(\")\n",
    "\n",
    "    @abstractmethod\n",
    "    def moverse(self):\n",
    "        pass\n",
    "\n",
    "    @abstractmethod\n",
    "    def gastar_energia(self):\n",
    "        pass\n",
    "\n",
    "    @abstractmethod\n",
    "    def saludar(self):\n",
    "        print(f\"Soy {self.nombre}. Estoy en {(self.x, self.y)}.\")"
   ]
  },
  {
   "cell_type": "markdown",
   "metadata": {},
   "source": [
    "## E. Diagrama de clases con multiherencia"
   ]
  },
  {
   "cell_type": "markdown",
   "metadata": {},
   "source": [
    "### Ejercicio E.1: De código a diagrama: GoT"
   ]
  },
  {
   "cell_type": "markdown",
   "metadata": {},
   "source": [
    "Lamentablemente existen ayudantes que aún no pueden superar el hecho que Game of Thrones se haya terminado (sobre todo con ese final). Pero de todas maneras quieren recomendarles la serie y van a hacer todo lo posible para que durante este semestre te tientes a verla. Es por esto que han creado un ejercicio en el que **debes crear un diagrama de clases a partir del siguiente código** (sin *spoilers*) para que vayas familiarizándote con la serie y te prepares para el enredo familiar que cada personaje tiene.\n",
    "\n",
    "Para las distintas clases, dentro de sus constructores se colocan atributos que poseen, la mayoría inicializados como `None` por simplicidad, pero se dejan comentados sus tipos reales para mayor claridad de modelación. También, se dejan las firmas de los distintos métodos a considerar, pero vacías las implementaciones por simplicidad."
   ]
  },
  {
   "cell_type": "code",
   "execution_count": null,
   "metadata": {},
   "outputs": [],
   "source": [
    "class Humano:\n",
    "    def __init__(self):\n",
    "        self.nombre = None # str\n",
    "        self.edad = None # int\n",
    "\n",
    "    def comer(self):\n",
    "        pass\n",
    "\n",
    "    def pelear(self):\n",
    "        pass\n",
    "\n",
    "\n",
    "class LoboGuargo:\n",
    "    def __init__(self):\n",
    "        self.nombre = None # str\n",
    "        self.ataque = None # int\n",
    "        self.color = None # str\n",
    "\n",
    "    def cazar(self):\n",
    "        pass\n",
    "\n",
    "    def atacar(self):\n",
    "        pass\n",
    "\n",
    "\n",
    "class Stark:\n",
    "    def __init__(self):\n",
    "        self.resistencia_al_frio = None # int\n",
    "        self.lobo_de_mascota = LoboGuargo() # LoboGuargo\n",
    "\n",
    "    def rezar_a_los_antiguos(self):\n",
    "        pass\n",
    "\n",
    "\n",
    "class GuardiaDeLaNoche:\n",
    "    def __init__(self):\n",
    "        self.rango = None # str\n",
    "\n",
    "    def cuidar_el_muro(self):\n",
    "        pass\n",
    "\n",
    "    \n",
    "class ReyDelNorte(Humano, Stark):\n",
    "    def __init__(self):\n",
    "        self.poder = None # int\n",
    "        self.espada_ice = None # bool\n",
    "\n",
    "    def ejecutar_culpables(self):\n",
    "        pass\n",
    "\n",
    "\n",
    "class NedStark(ReyDelNorte):\n",
    "    def __init__(self):\n",
    "        self.familia = None # list[Humanos]\n",
    "        self.honor = None # int\n",
    "\n",
    "    def tomar_decision_importante(self):\n",
    "        pass\n",
    "\n",
    "\n",
    "class JonSnow(Humano, Stark, GuardiaDeLaNoche):\n",
    "    def __init__(self):\n",
    "        self.padre = NedStark() # NedStark\n",
    "        self.bastardo = None # bool\n",
    "\n",
    "\n",
    "class GoT:\n",
    "    def __init__(self):\n",
    "        self.rating = None # int\n",
    "        self.personaje_principal = JonSnow() # JonSnow\n",
    "        self.personaje_mas_bacan = NedStark() # NedStark\n",
    "\n",
    "    def empezar_a_ver_la_serie(self):\n",
    "        print('Excelente decision, disfrute')"
   ]
  },
  {
   "cell_type": "markdown",
   "metadata": {},
   "source": [
    "Puedes partir dibujando a mano el diagrama, pero también existen aplicaciones para realizarlas digitalmente, como [draw.io](https://www.draw.io), [lucidchart](https://www.lucidchart.com) o aplicaciones similares."
   ]
  },
  {
   "cell_type": "markdown",
   "metadata": {},
   "source": [
    "### Ejercicio E.2: De diagrama a código: `GrandPrix`"
   ]
  },
  {
   "cell_type": "markdown",
   "metadata": {},
   "source": [
    "Ahora deberás hacer el proceso inverso de lo que se hizo en el ejercicio anterior. A continuación se te presentará un diagrama de clases basado en la nueva serie favorita de este ayudante (*F1: Drive to Survive*, disponible en *Netflix*) el que deberás pasar a código (puedes usar como referencia el código entregado en el ejercicio anterior).\n",
    "\n",
    "![](img/DiagramaGrandPrix.png)\n"
   ]
  },
  {
   "cell_type": "code",
   "execution_count": null,
   "metadata": {},
   "outputs": [],
   "source": [
    "# Escribe aquí tu código"
   ]
  }
 ],
 "metadata": {
  "kernelspec": {
   "display_name": "Python 3 (ipykernel)",
   "language": "python",
   "name": "python3"
  },
  "language_info": {
   "codemirror_mode": {
    "name": "ipython",
    "version": 3
   },
   "file_extension": ".py",
   "mimetype": "text/x-python",
   "name": "python",
   "nbconvert_exporter": "python",
   "pygments_lexer": "ipython3",
   "version": "3.10.6"
  }
 },
 "nbformat": 4,
 "nbformat_minor": 4
}
