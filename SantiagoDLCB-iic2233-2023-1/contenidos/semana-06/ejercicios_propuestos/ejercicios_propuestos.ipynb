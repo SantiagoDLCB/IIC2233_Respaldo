{
 "cells": [
  {
   "cell_type": "markdown",
   "metadata": {},
   "source": [
    "<p>\n",
    "<font size='5' face='Georgia, Arial'>IIC-2233 Apunte Programación Avanzada</font><br>\n",
    "<font size='1'> Ejercicios creados a partir de 2019-2 por Equipo Docente IIC2233. </font>\n",
    "<font size='1'> Actualizados en 2020-1 y 2021-1.</font>\n",
    "</p>"
   ]
  },
  {
   "cell_type": "markdown",
   "metadata": {},
   "source": [
    "# Ejercicios propuestos: *Threading*"
   ]
  },
  {
   "cell_type": "markdown",
   "metadata": {},
   "source": [
    "Los siguientes problemas se proveen como oportunidad de ejercitar los conceptos revisados en el material de ***Threading***. Si tienes dudas sobre algún problema o alguna solución, no dudes en dejar una *issue* en el [foro del curso](https://github.com/IIC2233/syllabus/issues).\n",
    "\n",
    "Los ejercicios se subdividen según la numeración de los cuadernos de la semana. Algunos de ellos se referencian desde los cuadernos de material mismo, mientras que pueden haber otros adicionales para mayor ejercitación."
   ]
  },
  {
   "cell_type": "markdown",
   "metadata": {},
   "source": [
    "## `Threading`"
   ]
  },
  {
   "cell_type": "markdown",
   "metadata": {},
   "source": [
    "**ADVERTENCIA:** No corras los comandos en el notebook actual ya que no funcionarán de manera correcta. Debes copiar y pegar el código en tu IDE, y ejecutarlos desde ahí."
   ]
  },
  {
   "cell_type": "markdown",
   "metadata": {},
   "source": [
    "### Ejercicio 1.1: Crear *threads* con nombres"
   ]
  },
  {
   "cell_type": "markdown",
   "metadata": {},
   "source": [
    "A continuación, se te presenta la función `cuenta_hasta_diez`. Esta, como sugiere el nombre, cuenta hasta a diez desde el número uno, pero el tiempo (en segundos) que demora entre cada número es aleatorio entre uno y cinco segundos. Usando esta función, instancia 5 *threads* distintos, con nombres distintivos, y ejecútalos para que ejecuten la función simultáneamente. Una vez que escribas el código necesario, ejecútalo varias veces y ve el resultado que se produce."
   ]
  },
  {
   "cell_type": "code",
   "execution_count": null,
   "metadata": {},
   "outputs": [],
   "source": [
    "import threading\n",
    "import time\n",
    "from random import randint\n",
    "\n",
    "\n",
    "def cuenta_hasta_diez():\n",
    "    nombre_thread = threading.current_thread().name\n",
    "    for numero in range(1, 11):\n",
    "        time.sleep(randint(1, 5))\n",
    "        print(f\"{nombre_thread}: {numero}...\")\n",
    "\n",
    "# Instancia 5 threads distintos y ejecútalos.\n"
   ]
  },
  {
   "cell_type": "markdown",
   "metadata": {},
   "source": [
    "### Ejercicio 1.2: Crear *threads* con argumentos"
   ]
  },
  {
   "cell_type": "markdown",
   "metadata": {},
   "source": [
    "Ahora, de forma similar al problema anterior, se te presenta la función `deletrea_palabra`. Esta recibe como argumentos un *string* en `palabra` y un `int` en `periodo`. Esta imprime en orden las letras del *string* entregado (`palabra`) cada cierta cantidad de segundos, definido por `periodo`. \n",
    "\n",
    "Debes instanciar tres *threads* distintos que ejecuten esta función y ejecutalos simultaneamente, con los siguientes parámetros:\n",
    "\n",
    "- `\"be í\"` y `3`\n",
    "- `\"ud cIUes\"` y `5`\n",
    "- `\"naHq\"` y `7`"
   ]
  },
  {
   "cell_type": "code",
   "execution_count": null,
   "metadata": {},
   "outputs": [],
   "source": [
    "import threading\n",
    "import time\n",
    "\n",
    "\n",
    "def deletrea_palabra(palabra, periodo):\n",
    "    for caracter in palabra:\n",
    "        time.sleep(periodo)\n",
    "        print(caracter.upper())\n",
    "\n",
    "\n",
    "# Instancia 3 threads distintos y ejecútalos con los parametros dados.\n"
   ]
  },
  {
   "cell_type": "markdown",
   "metadata": {},
   "source": [
    "### Ejercicio 1.3: Cuenta en orden"
   ]
  },
  {
   "cell_type": "markdown",
   "metadata": {},
   "source": [
    "Tienes tres funciones de cuenta, las cuales funcionan a diferentes ritmos, o sea, cuentan en diferentes cantidades.\n",
    "\n",
    "- `cuenta_1` cuenta de a 1 número cada 3 seg.\n",
    "- `cuenta_2` cuenta de a 2 números cada 2 seg.\n",
    "- `cuenta_3` cuenta de a 3 números cada 1 seg.\n",
    " \n",
    "Además, `cuenta_1` inicia un *thread* que ejecuta a `cuenta_2`, que a su vez inicia a `cuenta_3`. Esto produce que los tres conteos se inicien (casi) simultaneamente.\n",
    " \n",
    "Tú misión es editar el código de forma que `cuenta_2` solo comienza a contar una vez que `cuenta_3` terminó de hacerlo; de la misma forma, que `cuenta_1` solo comience a contar una vez que `cuenta_2` terminó de contar; Y finalmente que el mensaje `\"¡Todos terminaron en orden!\"` que se imprime en el programa principal solo lo haga una vez que todos los contadores terminaron de contar. Es decir, deberías esperar que primero el contador de a 3 cuente, luego el contador de 2, luego el contador de 1 y finalmente se imprimea el mensaje `\"¡Todos terminaron en orden!\"`.\n",
    "\n",
    "Usa el método `join` de `Thread` para lograr el objetivo, y **solo debes agregar líneas al código presentado, no eliminar ni modificar líneas existentes**."
   ]
  },
  {
   "cell_type": "code",
   "execution_count": null,
   "metadata": {},
   "outputs": [],
   "source": [
    "import threading\n",
    "import time\n",
    "\n",
    "\n",
    "def cuenta_3():\n",
    "    for i in range(1, 40, 3):\n",
    "        print(f\"Contando de a 3: {i}\")\n",
    "        time.sleep(1)\n",
    "    print(\"-- ¡Terminó cuenta 3! --\")\n",
    "\n",
    "def cuenta_2():\n",
    "    thread = threading.Thread(target=cuenta_3)\n",
    "    thread.start()\n",
    "    for i in range(1, 9, 2):\n",
    "        print(f\"Contando de a 2: {i}\")\n",
    "        time.sleep(2) \n",
    "    print(\"-- ¡Terminó cuenta 2! --\")\n",
    "\n",
    "def cuenta_1():\n",
    "    thread = threading.Thread(target=cuenta_2)\n",
    "    thread.start()\n",
    "    for i in range(1, 9):\n",
    "        print(f\"Contando de a 1: {i}\")\n",
    "        time.sleep(3)\n",
    "    print(\"-- ¡Terminó cuenta 1! --\")\n",
    "\n",
    "\n",
    "thread = threading.Thread(target=cuenta_1)\n",
    "thread.start()\n",
    "print(\"¡Todos terminaron en orden!\")\n"
   ]
  },
  {
   "cell_type": "markdown",
   "metadata": {},
   "source": [
    "### Ejercicio 1.4: Minando en la DCCueva"
   ]
  },
  {
   "cell_type": "markdown",
   "metadata": {},
   "source": [
    "Leyendo por internet, has encontrado el trabajo perfecto para ti. Te han contratado para simular la recolección de materiales de la DCCueva. Aquí trabajan mineros pero de manera poco óptima, perdiendo DCCriptoMonedas y provocando grandes pérdidas para el DCC.\n",
    "\n",
    "En tu primer día, se te entrega el código base que han estado utilizando para simular la recolección dentro de la DCCueva:"
   ]
  },
  {
   "cell_type": "code",
   "execution_count": null,
   "metadata": {},
   "outputs": [],
   "source": [
    "import time\n",
    "import random\n",
    "\n",
    "\n",
    "class Minero:\n",
    "\n",
    "    def __init__(self, nombre):\n",
    "        self.nombre = nombre\n",
    "        self.velocidad = random.randint(2, 4)\n",
    "        self.cantidad = 0\n",
    "        self.adentro = False\n",
    "\n",
    "    def recolectar_recursos(self):\n",
    "        cantidad = random.randint(5, 15)\n",
    "        tiempo = cantidad/self.velocidad\n",
    "        self.adentro = True\n",
    "        time.sleep(tiempo)\n",
    "        print(f'Trabajador {self.nombre} ha recolectado {cantidad} DCCriptoMonedas')\n",
    "        self.cantidad += cantidad\n",
    "        self.adentro = False\n",
    "\n",
    "    def trabajar(self):\n",
    "        for i in range(3):\n",
    "            print(f'Trabajador {self.nombre} ha entrado a la DCCueva')\n",
    "            self.recolectar_recursos()\n",
    "\n",
    "\n",
    "t1 = Minero('John')\n",
    "t2 = Minero('Alex')\n",
    "t3 = Minero('Peter')\n",
    "\n",
    "t1.trabajar()\n",
    "t2.trabajar()\n",
    "t3.trabajar()\n",
    "\n",
    "total = t1.cantidad + t2.cantidad + t3.cantidad\n",
    "print('------------------------------------------')\n",
    "print(f'Se han recolectado {total} DCCriptoMonedas')\n"
   ]
  },
  {
   "cell_type": "markdown",
   "metadata": {},
   "source": [
    "Salida del código:"
   ]
  },
  {
   "cell_type": "raw",
   "metadata": {},
   "source": [
    "Trabajador John ha entrado a la mina\n",
    "Trabajador John ha recolectado 9 piezas de oro\n",
    "Trabajador John ha entrado a la mina\n",
    "Trabajador John ha recolectado 13 piezas de oro\n",
    "Trabajador John ha entrado a la mina\n",
    "Trabajador John ha recolectado 15 piezas de oro\n",
    "Trabajador Alex ha entrado a la mina\n",
    "Trabajador Alex ha recolectado 11 piezas de oro\n",
    "Trabajador Alex ha entrado a la mina\n",
    "Trabajador Alex ha recolectado 12 piezas de oro\n",
    "Trabajador Alex ha entrado a la mina\n",
    "Trabajador Alex ha recolectado 10 piezas de oro\n",
    "Trabajador Peter ha entrado a la mina\n",
    "Trabajador Peter ha recolectado 15 piezas de oro\n",
    "Trabajador Peter ha entrado a la mina\n",
    "Trabajador Peter ha recolectado 9 piezas de oro\n",
    "Trabajador Peter ha entrado a la mina\n",
    "Trabajador Peter ha recolectado 15 piezas de oro\n",
    "------------------------------------------\n",
    "Se han recolectado 109 piezas de oro"
   ]
  },
  {
   "cell_type": "markdown",
   "metadata": {},
   "source": [
    "##### Parte A\n",
    "\n",
    "Como puedes ver, el programa es lento y cada minero debe esperar a que salga el anterior para poder acceder a la DCCueva. Sería ideal que cada minero pudiese trabajar de manera independiente, ¿no? Pues gracias a la librería **threading** de Python, esto deja de ser ficción y se vuelve una realidad.\n",
    "\n",
    "Modela el ejercicio anterior de modo que ahora el programa se ejecute de manera concurrente (*threads*)."
   ]
  },
  {
   "cell_type": "code",
   "execution_count": null,
   "metadata": {},
   "outputs": [],
   "source": [
    "import time\n",
    "import random\n",
    "from threading import Thread\n",
    "\n",
    "\n",
    "# Implementar modelacion con Thread...\n",
    "# ... puedes usar herencia si quieres ;)\n",
    "class Minero():\n",
    "\n",
    "    def __init__(self, nombre):\n",
    "        #Completar clase\n",
    "        pass\n",
    "\n",
    "    def recolectar_recursos(self):\n",
    "        cantidad = random.randint(5, 15)\n",
    "        tiempo = cantidad/self.velocidad\n",
    "        self.adentro = True\n",
    "        time.sleep(tiempo)\n",
    "        print(f'Trabajador {self.nombre} ha recolectado {cantidad} DCCriptoMonedas')\n",
    "        self.cantidad += cantidad\n",
    "        self.adentro = False\n",
    "\n",
    "    def trabajar(self): #Puedes modificarlo si quieres trabajar con herencia ;)\n",
    "        #Completar metodo\n",
    "        pass\n",
    "\n",
    "\n",
    "t1 = Minero('John') #Eres libre de modificar los nombres\n",
    "t2 = Minero('Alex') #Eres libre de modificar los nombres\n",
    "t3 = Minero('Peter') #Eres libre de modificar los nombres :)\n",
    "\n",
    "#Acá debes iniciar los threads\n",
    "\n",
    "#No modificar\n",
    "total = t1.cantidad + t2.cantidad + t3.cantidad\n",
    "print('------------------------------------------')\n",
    "print(f'Se han recolectado {total} DCCriptoMonedas')\n"
   ]
  },
  {
   "cell_type": "markdown",
   "metadata": {},
   "source": [
    "##### Parte B\n",
    "\n",
    "Ahora podemos ver que cada minero trabaja de manera **independiente**, haciendo el proceso mucho más eficiente, pero aún hay un problema existente; el contador de la cantidad total de DCCriptoMonedas no está sincronizado con los mineros, por lo que **tu primer trabajo** es arreglarlo para que se encuentre sincronizado. Esto significa que deberás utilizar un contador común, teniendo cuidado con los problemas de sincronización que puedan ocurrir.\n",
    "\n",
    "**Problema:** deberás sincronizar el contador de DCCriptoMonedas con los mineros."
   ]
  },
  {
   "cell_type": "markdown",
   "metadata": {},
   "source": [
    "##### Parte C\n",
    "\n",
    "Como el problema anterior sigue siendo algo catastrófico, tu supervisor te ha dado la tarea de contabilizar solo a los mineros que alcancen a minar las DCCriptoMonedas **los primeros 5 segundos**, y todo lo que sea minado después no será considerado, provocando que no se le pague a los mineros por el trabajo extra.\n",
    "\n",
    "**Problema:** Deberás encontrar la manera de que los mineros solo trabajen el tiempo necesario."
   ]
  },
  {
   "cell_type": "code",
   "execution_count": null,
   "metadata": {},
   "outputs": [],
   "source": [
    "import time\n",
    "import random\n",
    "from threading import Thread\n",
    "\n",
    "\n",
    "# Implementar modelacion con Thread...\n",
    "# ... puedes usar herencia si quieres ;)\n",
    "class Minero():\n",
    "\n",
    "    def __init__(self, nombre):\n",
    "        #Completar clase\n",
    "        pass\n",
    "\n",
    "    def recolectar_recursos(self):\n",
    "        cantidad = random.randint(5, 15)\n",
    "        tiempo = cantidad/self.velocidad\n",
    "        self.adentro = True\n",
    "        time.sleep(tiempo)\n",
    "        print(f'Trabajador {self.nombre} ha recolectado {cantidad} DCCriptoMonedas')\n",
    "        self.cantidad += cantidad\n",
    "        self.adentro = False\n",
    "\n",
    "    def trabajar(self): #Puedes modificarlo si quieres trabajar con herencia ;)\n",
    "        #Completar metodo\n",
    "        pass\n",
    "\n",
    "\n",
    "t1 = Minero('John') #Eres libre de modificar los nombres :)\n",
    "t2 = Minero('Alex') #Eres libre de modificar los nombres :)\n",
    "t3 = Minero('Peter') #Eres libre de modificar los nombres :)\n",
    "\n",
    "#Acá debes inciiar los threads\n",
    "\n",
    "#No modificar\n",
    "time.sleep(5)\n",
    "total = t1.cantidad + t2.cantidad + t3.cantidad\n",
    "print('------------------------------------------')\n",
    "print(f'Se han recolectado {total} DCCriptoMonedas')\n"
   ]
  },
  {
   "cell_type": "markdown",
   "metadata": {},
   "source": [
    "##### Parte D\n",
    "\n",
    "Debido a decisiones del gobierno, la DCCueva debe ser destruida por una ingeniera en demolición, la cual se encuentra en la central de demolición (fuera del lugar donde está la DCCueva). Ella, como quiere terminar luego su pega, demolerá la DCCueva lo más luego posible. Tú, estando a cargo de la seguridad, debes encargarte de que la ingeniera **espere** a que todos los mineros se encuentren fuera de la DCCueva para que prosiga a demolerla. ¡De ti dependen las vidas de estos trabajadores! (Sin presiones)"
   ]
  },
  {
   "cell_type": "code",
   "execution_count": null,
   "metadata": {},
   "outputs": [],
   "source": [
    "import time\n",
    "import random\n",
    "from threading import Thread\n",
    "\n",
    "\n",
    "class Demoledor:\n",
    "\n",
    "    def __init__(self, trabajadores):\n",
    "        self.trabajadores = trabajadores\n",
    "\n",
    "    def demoler(self):\n",
    "        print('La DCCueva ha sido derrumbada')\n",
    "        chequeador = [trabajador.adentro for trabajador in self.trabajadores]\n",
    "        if True in chequeador:\n",
    "            cantidad = chequeador.count(True)\n",
    "            if cantidad != 1:\n",
    "                print(f'Que desastre, han muerto {cantidad} trabajadores')\n",
    "            else:\n",
    "                print(f'Que desastre, ha muerto {cantidad} trabajador')\n",
    "        else:\n",
    "            print('Buen trabajo, ningun trabajador salio herido')\n",
    "\n",
    "\n",
    "class Minero(Thread):\n",
    "\n",
    "    def __init__(self, nombre):\n",
    "        super().__init__()\n",
    "        self.daemon = True\n",
    "        self.nombre = nombre\n",
    "        self.velocidad = random.randint(2, 4)\n",
    "        self.cantidad = 0\n",
    "        self.adentro = False\n",
    "\n",
    "    def recolectar_recursos(self):\n",
    "        cantidad = random.randint(5, 15)\n",
    "        tiempo = cantidad / self.velocidad\n",
    "        self.adentro = True\n",
    "        time.sleep(tiempo)\n",
    "        print(f'Trabajador {self.nombre} ha recolectado {cantidad} DCCriptoMonedas')\n",
    "        self.adentro = False\n",
    "\n",
    "    def run(self):\n",
    "        for i in range(3):\n",
    "            print(f'Trabajador {self.nombre} ha entrado a la DCCueva')\n",
    "            self.recolectar_recursos()\n",
    "\n",
    "\n",
    "t1 = Minero('John')  # Eres libre de modificar los nombres :)\n",
    "t2 = Minero('Alex')  # Eres libre de modificar los nombres :)\n",
    "t3 = Minero('Peter')  # Eres libre de modificar los nombres :)\n",
    "demoledor = Demoledor([t1, t2, t3])\n",
    "\n",
    "# Acá debes iniciar los threads y asegurarte de que el Demoledor los espere\n",
    "\n",
    "# No modificar\n",
    "demoledor.demoler()\n"
   ]
  },
  {
   "cell_type": "markdown",
   "metadata": {},
   "source": [
    "Salida del código deseada:"
   ]
  },
  {
   "cell_type": "raw",
   "metadata": {},
   "source": [
    "La mina ha sido derrumbada\n",
    "Buen trabajo, ningun trabajador salio herido"
   ]
  },
  {
   "cell_type": "markdown",
   "metadata": {},
   "source": [
    "## `Concurrencia`"
   ]
  },
  {
   "cell_type": "markdown",
   "metadata": {},
   "source": [
    "**ADVERTENCIA:** No corras los comandos en el notebook actual ya que si no funcionarán de manera incorrecta. Debes copiar y pegar el código en tu IDE y ahí correrlo."
   ]
  },
  {
   "cell_type": "markdown",
   "metadata": {},
   "source": [
    "### Ejercicio 2.1: Ayudantes en restorán"
   ]
  },
  {
   "cell_type": "markdown",
   "metadata": {},
   "source": [
    "A continuación se te presenta la simulación de un restorán. Clientes pueden hacer pedidos de productos alimenticios y estos están almacenados en una cola. Para atender a los clientes, se ponen a trabajar a tres *threads* que ejecutan la misma misma función `atender_pedidos`. Pero estos trabajadores son medios torpes, cuando intentan generar un pedido, tiene una probabilidad de 50% de que se les caiga y no se complete el pedido. Además, los tres no se coordinan y suelen trabajar en el mismo pedido al mismo tiempo.\n",
    "\n",
    "Tu objetivo es arreglar esta situación para que logren coordinarse en la elaboración de pedidos. Utiliza un `Lock` para arreglarlo, y **solo debes agregar líneas al código presentado, no eliminar ni modificar líneas existentes**."
   ]
  },
  {
   "cell_type": "code",
   "execution_count": null,
   "metadata": {},
   "outputs": [],
   "source": [
    "import threading\n",
    "import time\n",
    "from collections import deque\n",
    "from random import randint\n",
    "\n",
    "\n",
    "clientes = {\n",
    "    \"Enzo\": [],\n",
    "    \"Dani\": [],\n",
    "    \"Dante\": [],\n",
    "    \"Josefina\": [],\n",
    "    \"Ian\": []\n",
    "}\n",
    "cola_de_pedidos = deque([(\"Enzo\", \"🍕\"), (\"Josefina\", \"🍣\"), (\"Dante\", \"🌭\"), (\"Dani\", \"🍟\"), (\"Ian\", \"🍔\"),\n",
    "                         (\"Ian\", \"🍰\"), (\"Enzo\", \"🌮\"), (\"Dani\", \"🍩\"), (\"Enzo\", \"🍫\")])\n",
    "\n",
    "\n",
    "def atender_pedidos(cola, clientes):\n",
    "    while len(cola) > 0:\n",
    "        print(\"¡Haré un pedido!\")\n",
    "        cliente, comida = cola[0]\n",
    "        print(f\"Preparando {comida} para {cliente}\")\n",
    "        time.sleep(1)\n",
    "        if randint(0, 1) == 1:\n",
    "            bandeja = clientes[cliente]\n",
    "            bandeja.append(comida)\n",
    "            print(f\"Pedido de {comida} entregado a {cliente}\")\n",
    "            cola.popleft()\n",
    "        else:\n",
    "            print(\"¡Se me cayó!\")\n",
    "        \n",
    "\n",
    "trabajador_1 = threading.Thread(target=atender_pedidos, args=(cola_de_pedidos, clientes))\n",
    "trabajador_2 = threading.Thread(target=atender_pedidos, args=(cola_de_pedidos, clientes))\n",
    "trabajador_3 = threading.Thread(target=atender_pedidos, args=(cola_de_pedidos, clientes))\n",
    "\n",
    "\n",
    "trabajador_1.start()\n",
    "trabajador_2.start()\n",
    "trabajador_3.start()\n",
    "\n",
    "\n",
    "trabajador_1.join()\n",
    "trabajador_2.join()\n",
    "trabajador_3.join()\n",
    "\n",
    "for cliente in clientes:\n",
    "    print(f\"La bandeja de {cliente} tiene: {clientes[cliente]}\")\n"
   ]
  },
  {
   "cell_type": "markdown",
   "metadata": {},
   "source": [
    "### Ejercicio 2.2: Niveles de videojuego"
   ]
  },
  {
   "cell_type": "markdown",
   "metadata": {},
   "source": [
    "Ahora se te presenta un videojuego que consiste de cuatro niveles distintos. Pero como en todo buen videojuego, solo puedes acceder a un nivel si completaste el anterior. Es por esto, que los antiguos desarrolladores dejaron el objeto `Event`: `evento_nivel_terminado`. Todos los niveles reciben este objeto como argumento.\n",
    "\n",
    "Completa el código utilizando el objeto `Event` mencionado, pero **solo puedes agregar código dentro de la función `jugar_nivel` y bajo la sección comentada**."
   ]
  },
  {
   "cell_type": "code",
   "execution_count": null,
   "metadata": {},
   "outputs": [],
   "source": [
    "def jugar_nivel(nivel, evento_nivel):\n",
    "    ##### SOLO AGREGAR CÓDIGO EN ESTA FUNCIÓN\n",
    "    print(f\"¡Jugando nivel {nivel}!\")\n",
    "    time.sleep(1)\n",
    "    print(f\"Batallando en el nivel {nivel}\")\n",
    "    time.sleep(3)\n",
    "    print(f\"Terminando el nivel {nivel}\")\n",
    "    \n",
    "    \n",
    "evento_nivel_terminado = threading.Event()\n",
    "\n",
    "n1 = threading.Thread(target=jugar_nivel, args=[1, evento_nivel_terminado])\n",
    "n2 = threading.Thread(target=jugar_nivel, args=[2, evento_nivel_terminado])\n",
    "n3 = threading.Thread(target=jugar_nivel, args=[3, evento_nivel_terminado])\n",
    "n4 = threading.Thread(target=jugar_nivel, args=[4, evento_nivel_terminado])\n",
    "\n",
    "# =========== SOLO AGREGAR CÓDIGO DESDE AQUÍ HACIA ABAJO =============\n",
    "\n",
    "n1.start()\n",
    "\n",
    "n2.start()\n",
    "\n",
    "n3.start()\n",
    "\n",
    "n4.start()"
   ]
  },
  {
   "cell_type": "markdown",
   "metadata": {},
   "source": [
    "### Ejercicio 2.3: Eventos en la DCCueva"
   ]
  },
  {
   "cell_type": "markdown",
   "metadata": {},
   "source": [
    "Para poder funcionar correctamente, la DCCueva necesita recibir suministros todos los meses. Esta DCCueva esta utilizando un nuevo sistema futurístico, en el cual los suministros necesarios que se piden cada mes son entregados por un drone. Este se encarga de estar alerta para recibir pedidos y luego de recibirlos, entregarlos oportunamente a la DCCueva. Tu trabajo en esta sección es implementar correctamente un sistema de señales para que estas dos entidades puedan comunicarse correctamente y que así la DCCueva pueda funcionar todos los meses previstos.\n",
    "\n",
    "En específico, debes sincronizar la comunicación entre la DCCueva y el SuperDrone de manera que la DCCueva pueda enviar solicitudes de suministros al dron que este debe procesar (puedes simular esto mediante el uso de `sleep`, por ejemplo `sleep(2)`), las que una vez resueltas le permitirán a la DCCueva trabajar durante el mes (lo que también puedes simular con `sleep`, por ejemplo con `sleep(5)`).\n"
   ]
  },
  {
   "cell_type": "code",
   "execution_count": null,
   "metadata": {},
   "outputs": [],
   "source": [
    "from threading import Thread, Event\n",
    "from time import sleep\n",
    "\n",
    "class DCCueva(Thread):\n",
    "\n",
    "    def __init__(self, peticion_suministros, peticion_resuelta):\n",
    "        super().__init__()\n",
    "        self.meses_trabajo = 5  # Puedes usar el valor que prefieras\n",
    "        # Completar con sistema de señales\n",
    "\n",
    "    def run(self):\n",
    "        print(f\"(DCCueva) ¡Comienzan operaciones en la DCCueva!\")\n",
    "        meses = 0\n",
    "        while meses < self.meses_trabajo:\n",
    "            # Completar con sistema de señales\n",
    "            pass\n",
    "\n",
    "class SuperDrone(Thread):\n",
    "\n",
    "    def __init__(self, peticion_suministros, peticion_resuelta):\n",
    "        super().__init__()\n",
    "        self.daemon = True\n",
    "        # Completar con sistema de señales\n",
    "\n",
    "    def run(self):\n",
    "        while True:\n",
    "            # Completar son sistema de señales\n",
    "            # Nota: no importa que sea un loop infinito, es daemon thread.\n",
    "            pass\n",
    "            \n",
    "\n",
    "#Completar con sistema de señales e instanciacion de threads\n",
    "\n",
    "dccueva.start()\n",
    "drone.start()\n"
   ]
  },
  {
   "cell_type": "markdown",
   "metadata": {},
   "source": [
    "Ejemplo de salida de código (puede variar mucho ya que depende de cómo lo implementes):"
   ]
  },
  {
   "cell_type": "raw",
   "metadata": {},
   "source": [
    "(SuperDrone) Esperando una petición de suministros\n",
    "(DCCueva) ¡Comienzan operaciones en la DCCueva!\n",
    "(DCCueva) Empezaré un nuevo mes, a pedir recursos (mes 1)\n",
    "(SuperDrone) Llegó una petición de suministros, a trabajar\n",
    "Resolviendo petición... 1/2\n",
    "Resolviendo petición... 2/2\n",
    "(SuperDrone) Esperando una petición de suministros\n",
    "Utilizando recursos... 1/5\n",
    "Utilizando recursos... 2/5\n",
    "Utilizando recursos... 3/5\n",
    "Utilizando recursos... 4/5\n",
    "Utilizando recursos... 5/5\n",
    "(DCCueva) Empezaré un nuevo mes, a pedir recursos (mes 2)\n",
    "(SuperDrone) Llegó una petición de suministros, a trabajar\n",
    "Resolviendo petición... 1/2\n",
    "Resolviendo petición... 2/2\n",
    "(SuperDrone) Esperando una petición de suministros\n",
    "Utilizando recursos... 1/5\n",
    "Utilizando recursos... 2/5\n",
    "Utilizando recursos... 3/5\n",
    "Utilizando recursos... 4/5\n",
    "Utilizando recursos... 5/5\n",
    "(DCCueva) Empezaré un nuevo mes, a pedir recursos (mes 3)\n",
    "(SuperDrone) Llegó una petición de suministros, a trabajar\n",
    "Resolviendo petición... 1/2\n",
    "Resolviendo petición... 2/2\n",
    "(SuperDrone) Esperando una petición de suministros\n",
    "Utilizando recursos... 1/5\n",
    "Utilizando recursos... 2/5\n",
    "Utilizando recursos... 3/5\n",
    "Utilizando recursos... 4/5\n",
    "Utilizando recursos... 5/5"
   ]
  },
  {
   "cell_type": "markdown",
   "metadata": {},
   "source": [
    "### Ejercicio 2.4: ¡Juan despierta!"
   ]
  },
  {
   "cell_type": "markdown",
   "metadata": {},
   "source": [
    "Juan ha decidio mostrar sus nuevas habilidades como programador creando un sistema que simula como dormiría una siesta un día cualquiera. Para ello implemento todo un sistema con *threads* y eventos para no pasarse de la hora.\n",
    "\n",
    "Lamentablemente a Juan se le olvidó programar que el sistema activara la `alarma` luego de 5 horas de siesta *(A Juan le gusta dormir mucho 😅)*.\n",
    "\n",
    "Es por esto que tú debes completar su programa y lograr que active la alarma **luego de 5 horas**, pero únicamente utilizando `Timer` de la librería `threading` y solo agregando código desde la sección comentada hacia abajo.\n",
    "\n",
    "**Aclaración:** Interpreta una hora como un segundo en el programa, no te quedes esperando cinco horas a ver si funciona, por favor."
   ]
  },
  {
   "cell_type": "code",
   "execution_count": null,
   "metadata": {},
   "outputs": [],
   "source": [
    "def dormir(hora_actual, alarma):\n",
    "    print(f\"Tomaré una siesta, son las {hora_actual}\")\n",
    "    for i in range(15):\n",
    "        if alarma.is_set():\n",
    "            print(\"¡Gracias despertador, desperté a la hora!\")\n",
    "            return\n",
    "        hora_actual += 1\n",
    "        print(f\"Estoy durmiendo a las {hora_actual}\")\n",
    "        time.sleep(1)\n",
    "    print(f\"¡Oh no!\\nMe quedé dormido, son las {hora_actual}!!\\n¡¡¡MALDITO DESPERTADOR!!!\")\n",
    "    \n",
    "hora = 9\n",
    "alarma = threading.Event()\n",
    "\n",
    "thread = threading.Thread(target=dormir, args=[hora, alarma])\n",
    "thread.start()\n",
    "\n",
    "# ================ AGREGAR CÓDIGO DESDE AQUÍ ===================\n"
   ]
  },
  {
   "cell_type": "markdown",
   "metadata": {},
   "source": [
    "### Ejercicio 2.5: ¿Qué ocurre?"
   ]
  },
  {
   "cell_type": "markdown",
   "metadata": {},
   "source": [
    "En base al siguiente código, escribe el `output` que esperas se imprima al ejecutarlo. Luego responde las preguntas de al final."
   ]
  },
  {
   "cell_type": "code",
   "execution_count": null,
   "metadata": {},
   "outputs": [],
   "source": [
    "from random import shuffle\n",
    "\n",
    "\n",
    "bebestibles = [\"Vino\"] * 15 + [\"Pipeño\"]\n",
    "helados = [\"Vainilla\"] * 20 + [\"Piña\"]\n",
    "shuffle(bebestibles)\n",
    "shuffle(helados)\n",
    "\n",
    "pipeño_encontrado = threading.Event()\n",
    "helado_encontrado = threading.Event()\n",
    "\n",
    "def busca_pipeño():\n",
    "    print(\"¡Voy por el pipeño!\")\n",
    "    for bebestible in bebestibles:\n",
    "        time.sleep(1)\n",
    "        if bebestible == \"Pipeño\":\n",
    "            print(\"¡Encontré el pipeño!\")\n",
    "            helado_encontrado.wait()\n",
    "            pipeño_encontrado.set()\n",
    "            print(\"¡Salud!\")\n",
    "            return\n",
    "    \n",
    "def busca_helado_de_piña():\n",
    "    print(\"¡Voy por el helado de piña!\")\n",
    "    for helado in helados:\n",
    "        time.sleep(1)\n",
    "        if helado == \"Piña\":\n",
    "            print(\"¡Encontré el helado!\")\n",
    "            pipeño_encontrado.wait()\n",
    "            helado_encontrado.set()\n",
    "            print(\"¡Salud!\")\n",
    "            return\n",
    "\n",
    "\n",
    "\n",
    "thread_1 = threading.Thread(target=busca_pipeño)\n",
    "thread_2 = threading.Thread(target=busca_helado_de_piña)\n",
    "\n",
    "thread_1.start()\n",
    "thread_2.start()\n",
    "thread_1.join()\n",
    "thread_2.join()\n",
    "print(\"¡Ti-ki-ti-ki-ti!\")"
   ]
  },
  {
   "cell_type": "markdown",
   "metadata": {},
   "source": [
    "**¿Qué pasa que el código no termina de correr? ¿Puedes arreglarlo?**"
   ]
  },
  {
   "cell_type": "markdown",
   "metadata": {},
   "source": [
    "## `Ejemplos y aplicaciones`"
   ]
  },
  {
   "cell_type": "markdown",
   "metadata": {},
   "source": [
    "**ADVERTENCIA:** No corras los comandos en el notebook actual ya que si no funcionarán de manera incorrecta. Debes copiar y pegar el código en tu IDE y ahí correrlo."
   ]
  },
  {
   "cell_type": "markdown",
   "metadata": {},
   "source": [
    "### Ejercicio 3.1: Bienvenidos y bienvenidas al circo"
   ]
  },
  {
   "cell_type": "markdown",
   "metadata": {},
   "source": [
    "Ha llegado el circo y tienen a sus tres mejores vendedores vendiendo entradas para la siguiente función. Para esto el jefe ha diseñado un código que simula el sistema de ventas, donde: \n",
    "\n",
    "- `asientos_vendidos` es una lista que contiene a los asientos, donde cada uno es un `bool` para indicar si está ocupado (`True`) o no (`False`).\n",
    "\n",
    "- `entradas_vendidas` es el total de entradas vendidas por los vendedores.\n",
    "\n",
    "Luego de un tiempo el jefe se da cuenta que hay un error en su simulación, pues nunca se logran vender correctamente el total de tickets. Debes analizar el siguiente código y utilizando `Lock` arregla el comportamiento del programa dónde se logran vender todos los tickets del circo. Intenta lograrlo utilizando un atributo de la clase `Circo`."
   ]
  },
  {
   "cell_type": "code",
   "execution_count": null,
   "metadata": {},
   "outputs": [],
   "source": [
    "from threading import Thread, Lock\n",
    "\n",
    "\n",
    "class Circo:\n",
    "    \n",
    "    def __init__(self):\n",
    "        self.entradas_vendidas = 0\n",
    "        self.asientos_vendidos = [False for _ in range(1000000)]\n",
    "        self.v1 = Thread(target=self.vendedor_1)\n",
    "        self.v2 = Thread(target=self.vendedor_2)\n",
    "        self.v3 = Thread(target=self.vendedor_3)\n",
    "        \n",
    "    def vender(self):\n",
    "        self.v1.start()\n",
    "        self.v2.start()\n",
    "        self.v3.start()\n",
    "        self.v1.join()\n",
    "        self.v2.join()\n",
    "        self.v3.join()\n",
    "\n",
    "    def vendedor_1(self):\n",
    "        for posicion in range(len(self.asientos_vendidos)):\n",
    "            if not self.asientos_vendidos[posicion]:\n",
    "                self.asientos_vendidos[posicion] = True\n",
    "                self.entradas_vendidas += 1\n",
    "\n",
    "    def vendedor_2(self):\n",
    "        for posicion in range(len(self.asientos_vendidos)):\n",
    "            if not self.asientos_vendidos[posicion]:\n",
    "                self.asientos_vendidos[posicion] = True\n",
    "                self.entradas_vendidas += 1\n",
    "\n",
    "    def vendedor_3(self):\n",
    "        for posicion in range(len(self.asientos_vendidos)):\n",
    "            if not self.asientos_vendidos[posicion]:\n",
    "                self.asientos_vendidos[posicion] = True\n",
    "                self.entradas_vendidas += 1\n",
    "\n",
    "                \n",
    "cirque_du_soleil = Circo()\n",
    "cirque_du_soleil.vender()\n",
    "\n",
    "print(cirque_du_soleil.entradas_vendidas)\n"
   ]
  }
 ],
 "metadata": {
  "kernelspec": {
   "display_name": "Python 3",
   "language": "python",
   "name": "python3"
  },
  "language_info": {
   "codemirror_mode": {
    "name": "ipython",
    "version": 3
   },
   "file_extension": ".py",
   "mimetype": "text/x-python",
   "name": "python",
   "nbconvert_exporter": "python",
   "pygments_lexer": "ipython3",
   "version": "3.7.10"
  }
 },
 "nbformat": 4,
 "nbformat_minor": 4
}
