{
 "cells": [
  {
   "cell_type": "markdown",
   "metadata": {},
   "source": [
    "<p>\n",
    "<font size='5' face='Georgia, Arial'>IIC-2233 Apunte Programación Avanzada</font><br>\n",
    "<font size='1'> Ejercicios creados a partir de 2019-2 por Equipo Docente IIC2233. </font>\n",
    "<font size='1'> Actualizados en 2020-1, 2020-2 y 2021-1.</font>\n",
    "</p>"
   ]
  },
  {
   "cell_type": "markdown",
   "metadata": {},
   "source": [
    "# Ejercicios propuestos: Interfaces gráficas II\n",
    "\n",
    "Los siguientes problemas se proveen como oportunidad de ejercitar los conceptos revisados en el material de interfaces gráficas II. Si tienes dudas sobre algún problema o alguna solución, no dudes en dejar una *issue* en el [foro del curso](https://github.com/IIC2233/syllabus/issues).\n",
    "\n",
    "Los ejercicios se subdividen según la numeración de los cuadernos de la semana. Algunos de ellos se referencian desde los cuadernos de material mismo, mientras que pueden haber otros adicionales para mayor ejercitación."
   ]
  },
  {
   "cell_type": "markdown",
   "metadata": {},
   "source": [
    "## 1. PyQt QThreads"
   ]
  },
  {
   "cell_type": "markdown",
   "metadata": {},
   "source": [
    "### Ejercicio 1.1: Sigue el cuadrado 2"
   ]
  },
  {
   "cell_type": "markdown",
   "metadata": {},
   "source": [
    "Crea una ventana de tamaño 500 por 500, que contenga un rectangulo de color verde dentro. Su posición inicial debe ser aleatoria y deberá tener las dimensiones: 50 por 50. Para crear el rectángulo, utiliza `QPixmap` y un `QLabel` dentro de la ventana.\n",
    "\n",
    "Agrega el siguiente comportamiento: si el usuario hace *click* dentro de la región que abarca el rectangulo verde, entonces su posición se mueve a una nueva posición aleatoria de forma gradual, como una animación. Si hace *click* fuera de la región abarcada por el rectangulo, no hay efecto. Utiliza `QThread` y **señales** para lograrlo."
   ]
  },
  {
   "cell_type": "markdown",
   "metadata": {},
   "source": [
    "Se muestra un ejemplo a continuación:\n",
    "    \n",
    "![](img/prob-3-2.png)"
   ]
  },
  {
   "cell_type": "markdown",
   "metadata": {},
   "source": [
    "### Ejercicio 1.2: Cuadrados cambiantes"
   ]
  },
  {
   "cell_type": "markdown",
   "metadata": {},
   "source": [
    "Crea una ventana de 250 por 250 que contenga:\n",
    "- Dos cuadrados: de tamaño 50 por 50, en posiciones iniciales a tu elección.\n",
    "- Dos botones: uno con el texto \"Iniciar\", y el otro con el texto \"Detener\".\n",
    "\n",
    "Agrega el siguiente comportamiento: \n",
    "\n",
    "- Al hacer *click* sobre el botón \"Iniciar\", los cuadrados comienzan a cambiar gradualmente de tamaño. Uno comienza disminuyendo, mientras que el otro aumentando de tamaño. Si alguno alcanza el mínimo tamaño de 25 por 25, entonces comienza a aumentar, mientras que si alcanza el máximo tamaño de 75 por 75, comienza a disminuir de tamaño. \n",
    "- Al hacer *click* sobre el botón \"Detener\", se detiene el crecimiento/decrecimiento gradual de los cuadrados, pero al hacer clic sobre \"Iniciar\" nuevamente, debe resumir el movimiento como habian quedado al presionar \"Detener\".\n",
    "\n",
    "Utiliza `QTimer` y **señales** para lograrlo. Un ejemplo visual queda a continuación, donde la ventana comienza como la primera imagen, y luego evoluciona a mostrarse como en la segunda y tercera imagen:\n",
    "\n",
    "![](img/prob9-1.png)\n",
    "![](img/prob9-2.png)\n",
    "![](img/prob9-3.png)"
   ]
  },
  {
   "cell_type": "markdown",
   "metadata": {},
   "source": [
    "## 2. PyQt Main Window"
   ]
  },
  {
   "cell_type": "markdown",
   "metadata": {},
   "source": [
    "### Ejercicio 2.1: Mi abuela Luz"
   ]
  },
  {
   "cell_type": "markdown",
   "metadata": {},
   "source": [
    "Mi abuela Luz, con esto de la cuarentena, ha tenido mucho tiempo libre y como se aburre le ha surgido un particular interés por la tecnología. Específicamente, le llama la atención la aplicación \"Galería\" en su celular, donde puede ver todas sus fotos favoritas. Sin embargo, como ya esta viejita sus manos tiemblan y le cuesta cambiar y encontrar las fotos deslizando el dedo, según ella, se le pierden. Por esto, para mantenerla entretenida, ¡te pido ayuda para desarrollar una nueva galería a prueba de abuelos!\n",
    "\n",
    "Esta debe contar de un menú principal llamado **\"CARPETAS\"** el cual tenga como opciones las carpetas que hay en su galería, estas son: **\"Nietos\"**, **\"Amigas\"** y **\"Flores\"**. Cada vez que se hace *click* a una de estas opciones, se debe mostrar una foto de dicha carpeta, en la pantalla principal. Te proveemos fotos de prueba, en la carpeta `FotosGaleria`, dentro de `img`.\n",
    "\n",
    "Ademas de la pantalla principal, debe tener un boton, **\"Cambiar foto\"**, que al ser apretado cambia la foto que se muestra de esa carpeta. Por otro lado, debe tener un menú de herramientas en donde esté la opción **\"Salir\"**.\n",
    "\n",
    "Finalmente, debe contar con una barra de estado que mostrará el porcentaje de batería (inicialmente *100%*), esta debe ir cambiando cada 2 segundos, si llega a cero el programa debe terminar."
   ]
  },
  {
   "cell_type": "markdown",
   "metadata": {},
   "source": [
    "![](img/GALERIA.png)"
   ]
  },
  {
   "cell_type": "markdown",
   "metadata": {},
   "source": [
    "### Ejercicio 2.2: Como manejar el tiempo a tu antojo"
   ]
  },
  {
   "cell_type": "markdown",
   "metadata": {},
   "source": [
    "Inspirado en las largas horas de estudio y en el grandísimo meme de Google \"Cómo dormir 8 horas en 15 minutos\" es que se te propone crear tu propio reloj usando *Main Window* de PyQt. En él podrás hacer que el tiempo pase literalmente volando y que efectivamente se pueda hacer realidad el meme.\n",
    "\n",
    "Para este ejercicio deberás implementar las distintas funciones que se piden a continuación:"
   ]
  },
  {
   "cell_type": "markdown",
   "metadata": {},
   "source": [
    "1. Primero, deberás mostrar la hora y cómo esta va cambiando a medida que pasa el tiempo, para lo cual deberás utilizar tus conocimientos de *Main Window*. El reloj ya viene implementado en el módulo `reloj.py` (en un archivo separado a este cuaderno) y las conexiones entre *front-end* y *back-end* también lo están, por lo que deberás crear la ventana donde se mostrará la hora y deberás crear una barra de menú que contenga las opciones: \"Ajustes\", \"Hora\" y \"Cronómetro\". Estás corresponderán a funciones que se piden más adelante. Cabe mencionar que la hora empezará a correr automáticamente cuando se inicie el programa y partirá desde cero. También, queda a decisión tuya crear una barra de estados o un *toolbar*. A continuación te mostraremos un ejemplo:\n",
    "\n",
    "![](img/hora.png)\n",
    "\n",
    "Puedes cambiar el formato de la hora como gustes. También puedes cambiar la tipografía y tamaño usando `QFont` de la librería `PyQt5.QtGui`."
   ]
  },
  {
   "cell_type": "markdown",
   "metadata": {},
   "source": [
    "2. Ahora deberás implementar el menú \"Cronómetro\" y su respectiva acción \"Acceder al cronómetro\" que, al seleccionarla, deberá mostrar un crónometro en pantalla. Este sería capaz de partir desde cero y al accionar un botón de inicio, este comenzaría a correr. Además, una vez que se inicia el cronómetro se deberán mostrar los botones de pausar y reiniciar, los que, al seleccionarlos, deberán pausar el tiempo y reiniciar el tiempo del cronómetro respectivamente. Ojo, la hora implementada en el paso 1 no se debe pausar ni reiniciar en ningún momento, es decir, a pesar de que se selecciones otras opciones de menús, como pasar al cronómetro, el tiempo debe seguir corriendo en la hora principal, aún cuando esta se deje de visualizar. A continuación te mostraremos un ejemplo de como debe quedar el cronómetro:\n",
    "\n",
    "![](img/tiempo_inicial.png)\n",
    "![](img/tiempo_iniciado.png)\n",
    "\n",
    "Al igual que en el ejercicio anterior, queda a tu disposición el formato en que se muestra la hora."
   ]
  },
  {
   "cell_type": "markdown",
   "metadata": {},
   "source": [
    "3. Una vez implementado el crónometro, queremos que sea posible poder volver a ver la hora luego de haber accedido al cronómetro. Para esto, deberás implementar la acción `Acceder a la hora` del menú `Hora`, la cual deberá mostrar nuevamente la hora que se logró visualizar en el paso 1. Es decir, se debe volver a mostrar algo como en la primera imagen. "
   ]
  },
  {
   "cell_type": "markdown",
   "metadata": {},
   "source": [
    "4. Finalmente, deberás implementar la acción `Cambiar hora` del menú `Ajustes`, la cual deberá dar la opción de cambiar la hora del reloj. Importante: mantener el formato pedido de la hora insertada al ejecutar esta acción. \n",
    "\n",
    "![](img/cambio_hora.jpg)"
   ]
  },
  {
   "cell_type": "markdown",
   "metadata": {},
   "source": [
    "A continuación se muestra el código que puedes usar para implementar las funciones pedidas:"
   ]
  },
  {
   "cell_type": "code",
   "execution_count": null,
   "metadata": {},
   "outputs": [],
   "source": [
    "import sys\n",
    "\n",
    "from PyQt5.QtCore import pyqtSignal\n",
    "from PyQt5.QtGui import QIcon, QFont\n",
    "from PyQt5.QtWidgets import (QApplication, QMainWindow, QWidget)\n",
    "from PyQt5.QtWidgets import (QHBoxLayout, QVBoxLayout)\n",
    "from PyQt5.QtWidgets import (QPushButton, QLabel, QLineEdit, QAction)\n",
    "\n",
    "import reloj\n",
    "# Puedes importar otras librerías si gustas\n",
    "\n",
    "\n",
    "class VentanaReloj(QWidget):\n",
    "\n",
    "    pausar_signal = pyqtSignal()\n",
    "    reiniciar_signal = pyqtSignal()\n",
    "    cambiar_hora_signal = pyqtSignal(str)\n",
    "\n",
    "    def __init__(self):\n",
    "        super().__init__()\n",
    "        self.init_GUI()\n",
    "        self.reloj = None\n",
    "\n",
    "    def init_GUI(self):\n",
    "        self.hora = QLabel('00:00:00', self)  # corresponde a la hora del reloj\n",
    "        self.tiempo = QLabel('00:00:00:00', self)  # corresponde al tiempo del cronómetro\n",
    "        \n",
    "        self.linea_hora = QLineEdit('Ej: 00:00:00', self)\n",
    "        self.linea_hora.setGeometry(45, 15, 100, 20)\n",
    "        # Completar y modificar\n",
    "        self.hora.hide()\n",
    "        self.tiempo.hide()\n",
    "        self.linea_hora.hide()\n",
    "\n",
    "    def avance_del_tiempo(self, hora, minutos, segundos):\n",
    "        self.hora.setText(f'{hora:02}:{minutos:02}:{segundos:02}')\n",
    "        \n",
    "    def cronometro_corriendo(self, hora, minutos, segundos, milesimas):\n",
    "        self.tiempo.setText(f'{hora:02}:{minutos:02}:{segundos:02}:{milesimas:02}')\n",
    "\n",
    "    def iniciar_cronometro(self):\n",
    "        self.reloj.comenzar_cronometro()\n",
    "        # Completar\n",
    "        pass\n",
    "\n",
    "    def reiniciar_cronometro(self):\n",
    "        self.pausar_signal.emit()\n",
    "        self.reiniciar_signal.emit()\n",
    "        # Completar\n",
    "        pass\n",
    "\n",
    "    def pausar_cronometro(self):\n",
    "        self.pausar_signal.emit()\n",
    "        # Completar\n",
    "        pass\n",
    "        \n",
    "    def cambiar_hora(self):\n",
    "        self.cambiar_hora_signal.emit(self.linea_hora.text())\n",
    "\n",
    "\n",
    "class MainWindow(QMainWindow):\n",
    "\n",
    "    def __init__(self):\n",
    "        super().__init__()\n",
    "        # Completar\n",
    "        \n",
    "        \n",
    "        # A continuación viene la instanciación de la ventana y del reloj y las conexiones de las señales.\n",
    "        self.front_end_reloj = VentanaReloj()\n",
    "        self.front_end_reloj.reloj = reloj.Reloj()\n",
    "        \n",
    "        self.front_end_reloj.reiniciar_signal.connect(self.front_end_reloj.reloj.reiniciar_cronometro)\n",
    "        self.front_end_reloj.pausar_signal.connect(self.front_end_reloj.reloj.pausar_cronometro)\n",
    "        self.front_end_reloj.cambiar_hora_signal.connect(self.front_end_reloj.reloj.cambiar_hora)\n",
    "        \n",
    "        self.front_end_reloj.reloj.actualizar_hora_signal.connect(self.front_end_reloj.avance_del_tiempo)\n",
    "        self.front_end_reloj.reloj.actualizar_cronometro_signal.connect(self.front_end_reloj.cronometro_corriendo)\n",
    "        \n",
    "        self.front_end_reloj.reloj.comenzar_reloj()\n",
    "        self.setCentralWidget(self.front_end_reloj)\n",
    "    \n",
    "    def pagina_cronometro(self):\n",
    "        # Completar\n",
    "        pass\n",
    "\n",
    "    def pagina_hora(self):\n",
    "        # Completar\n",
    "        pass\n",
    "    \n",
    "    def cambiar_hora(self):\n",
    "        # Completar\n",
    "        pass\n",
    "\n",
    "\n",
    "if __name__ == '__main__':\n",
    "    app = QApplication([])\n",
    "    form = MainWindow()\n",
    "    form.show()\n",
    "    sys.exit(app.exec())"
   ]
  },
  {
   "cell_type": "markdown",
   "metadata": {},
   "source": [
    "## 3. Qt Designer"
   ]
  },
  {
   "cell_type": "markdown",
   "metadata": {},
   "source": [
    "### Ejercicio 3.1: Competencia por el mejor puntaje"
   ]
  },
  {
   "cell_type": "markdown",
   "metadata": {},
   "source": [
    "Durante la Semana de Receso no hubo ayudantía, por lo que a los y las ayudantes del curso se les ocurrió jugar un juego *online* entre todos. Para recordar los mejores puntajes, los guardan en una tabla súper segura, que no puede ser editada, y que almacena los dies mejores jugadores con sus respectivos puntajes.\n",
    "\n",
    "A los jugadores fdoflorenzano y aaossa les gustó tanto el juego, que decidieron apostar sus responsabilidades. Aquel que quede en segundo lugar, tendrá que hacer el trabajo del otro por una semana. Luego de unos días jugando, aaossa no podía superar el puntaje de fdoflorenzano, por lo decide hacer trampa y crear una tabla de puntajes igual con Qt Designer. Esta tabla tiene un botón \"Clear\", que al ser presionado le permitirá borrar todos los nombres y puntajes; y un botón \"Edit\" que, al ser presionado una vez, permite editar los nombres y puntajes de la tabla, y al apretarlo nuevamente ya no permite editar la tabla. "
   ]
  },
  {
   "cell_type": "markdown",
   "metadata": {},
   "source": [
    "Ayuda a aaossa a crear esta ventana utilizando Qt Designer. A continuación se muestra la tabla que quiere crear:\n",
    "\n",
    "![](img/puntajes.png)"
   ]
  },
  {
   "cell_type": "markdown",
   "metadata": {},
   "source": [
    "***Hints***:\n",
    "- La tabla se puede realizar con un *widget* llamado Table Widget.\n",
    "- Para hacer que la tabla no sea editable existe el método `tableWidget.setEditTriggers(QtWidgets.QTableWidget.NoEditTriggers)`, donde `tableWidget` es un *widget* de tabla.\n",
    "- Para borrar el contenido existe el método `tableWidget.clear()`, donde `tableWidget` es un *widget* de tabla.\n",
    "- En el caso de que quieras utilizar la tipografía del ejemplo se llama `D3 Coolbitmapism`."
   ]
  }
 ],
 "metadata": {
  "kernelspec": {
   "display_name": "Python 3 (ipykernel)",
   "language": "python",
   "name": "python3"
  },
  "language_info": {
   "codemirror_mode": {
    "name": "ipython",
    "version": 3
   },
   "file_extension": ".py",
   "mimetype": "text/x-python",
   "name": "python",
   "nbconvert_exporter": "python",
   "pygments_lexer": "ipython3",
   "version": "3.10.6"
  }
 },
 "nbformat": 4,
 "nbformat_minor": 4
}
