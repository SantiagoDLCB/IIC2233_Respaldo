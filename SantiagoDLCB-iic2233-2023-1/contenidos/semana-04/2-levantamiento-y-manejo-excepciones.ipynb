{
 "cells": [
  {
   "cell_type": "markdown",
   "metadata": {},
   "source": [
    "<p>\n",
    "<font size='5' face='Georgia, Arial'>IIC-2233 Apunte Programación Avanzada</font><br>\n",
    "<font size='1'>&copy; 2015 Karim Pichara - Christian Pieringer. Todos los derechos reservados.</font>\n",
    "<br>\n",
    "<font size='1'> Modificado en 2017-2, 2018-1, 2018-2, 2019-1, 2019-2, 2020-1, 2020-2 y 2022-2 por Equipo Docente IIC2233</font>\n",
    "</p>"
   ]
  },
  {
   "cell_type": "markdown",
   "metadata": {},
   "source": [
    "# Tabla de contenidos\n",
    "\n",
    "1. [Levantando excepciones: `raise`](#Levantando-excepciones:-raise)\n",
    "2. [Manejo de Excepciones: `try` y `except`](#Manejo-de-Excepciones:-try-y-except)"
   ]
  },
  {
   "cell_type": "markdown",
   "metadata": {},
   "source": [
    "# Levantando excepciones: `raise`\n",
    "\n",
    "Hemos visto algunos tipos de excepciones existentes y las condiciones bajo las cuales se gatillan.\n",
    "\n",
    "Sin embargo, también podemos generar una excepción en el momento que queramos creando una nueva instancia de la excepción, y utilizando la sentencia **`raise`**. Cada excepción tiene un tipo definido, y es posible definir un mensaje explicativo para el usuario.\n",
    "\n",
    "Por ejemplo, la siguiente función `convertir_coordenada` recibe un *string* que sigue el formato `\"coordenada_x, coordenada_y\"` y tiene por objetivo retornar una tupla con los valores enteros de la coordenada. Se podría lanzar excepciones de esta manera:"
   ]
  },
  {
   "cell_type": "code",
   "execution_count": 1,
   "metadata": {},
   "outputs": [],
   "source": [
    "def convertir_coordenada(coordenada_en_string):\n",
    "    # Si el input no es del tipo esperado\n",
    "    if not isinstance(coordenada_en_string, str):\n",
    "        # aquí se genera una excepción y se incluye información para el usuario.\n",
    "        raise TypeError(\"Coordenada debe ser un string\")\n",
    "\n",
    "    # Si el input no sigue el formato esperado\n",
    "    if \",\" not in coordenada_en_string:\n",
    "        # aquí se genera otra excepción y se incluye información para el usuario.\n",
    "        raise ValueError(\"Coordenada debe estar separada por una coma\")\n",
    "\n",
    "    coord_x, coord_y = coordenada_en_string.split(\",\")\n",
    "    return (int(coord_x), int(coord_y))"
   ]
  },
  {
   "cell_type": "code",
   "execution_count": 2,
   "metadata": {},
   "outputs": [
    {
     "name": "stdout",
     "output_type": "stream",
     "text": [
      "56 1123\n"
     ]
    }
   ],
   "source": [
    "texto_1 = \"56, 1123\"\n",
    "x, y = convertir_coordenada(texto_1)\n",
    "print(x, y)"
   ]
  },
  {
   "cell_type": "code",
   "execution_count": 3,
   "metadata": {},
   "outputs": [
    {
     "ename": "TypeError",
     "evalue": "Coordenada debe ser un string",
     "output_type": "error",
     "traceback": [
      "\u001b[0;31m---------------------------------------------------------------------------\u001b[0m",
      "\u001b[0;31mTypeError\u001b[0m                                 Traceback (most recent call last)",
      "Cell \u001b[0;32mIn[3], line 2\u001b[0m\n\u001b[1;32m      1\u001b[0m no_texto \u001b[39m=\u001b[39m [\u001b[39m43\u001b[39m, \u001b[39m3\u001b[39m]\n\u001b[0;32m----> 2\u001b[0m x, y \u001b[39m=\u001b[39m convertir_coordenada(no_texto)\n\u001b[1;32m      3\u001b[0m \u001b[39mprint\u001b[39m(x, y)\n",
      "Cell \u001b[0;32mIn[1], line 5\u001b[0m, in \u001b[0;36mconvertir_coordenada\u001b[0;34m(coordenada_en_string)\u001b[0m\n\u001b[1;32m      1\u001b[0m \u001b[39mdef\u001b[39;00m \u001b[39mconvertir_coordenada\u001b[39m(coordenada_en_string):\n\u001b[1;32m      2\u001b[0m     \u001b[39m# Si el input no es del tipo esperado\u001b[39;00m\n\u001b[1;32m      3\u001b[0m     \u001b[39mif\u001b[39;00m \u001b[39mnot\u001b[39;00m \u001b[39misinstance\u001b[39m(coordenada_en_string, \u001b[39mstr\u001b[39m):\n\u001b[1;32m      4\u001b[0m         \u001b[39m# aquí se genera una excepción y se incluye información para el usuario.\u001b[39;00m\n\u001b[0;32m----> 5\u001b[0m         \u001b[39mraise\u001b[39;00m \u001b[39mTypeError\u001b[39;00m(\u001b[39m\"\u001b[39m\u001b[39mCoordenada debe ser un string\u001b[39m\u001b[39m\"\u001b[39m)\n\u001b[1;32m      7\u001b[0m     \u001b[39m# Si el input no sigue el formato esperado\u001b[39;00m\n\u001b[1;32m      8\u001b[0m     \u001b[39mif\u001b[39;00m \u001b[39m\"\u001b[39m\u001b[39m,\u001b[39m\u001b[39m\"\u001b[39m \u001b[39mnot\u001b[39;00m \u001b[39min\u001b[39;00m coordenada_en_string:\n\u001b[1;32m      9\u001b[0m         \u001b[39m# aquí se genera otra excepción y se incluye información para el usuario.\u001b[39;00m\n",
      "\u001b[0;31mTypeError\u001b[0m: Coordenada debe ser un string"
     ]
    }
   ],
   "source": [
    "no_texto = [43, 3]\n",
    "x, y = convertir_coordenada(no_texto)\n",
    "print(x, y)"
   ]
  },
  {
   "cell_type": "code",
   "execution_count": 4,
   "metadata": {},
   "outputs": [
    {
     "ename": "ValueError",
     "evalue": "Coordenada debe estar separada por una coma",
     "output_type": "error",
     "traceback": [
      "\u001b[0;31m---------------------------------------------------------------------------\u001b[0m",
      "\u001b[0;31mValueError\u001b[0m                                Traceback (most recent call last)",
      "Cell \u001b[0;32mIn[4], line 2\u001b[0m\n\u001b[1;32m      1\u001b[0m texto_incorrecto \u001b[39m=\u001b[39m \u001b[39m\"\u001b[39m\u001b[39m23 - 54\u001b[39m\u001b[39m\"\u001b[39m\n\u001b[0;32m----> 2\u001b[0m x, y \u001b[39m=\u001b[39m convertir_coordenada(texto_incorrecto)\n\u001b[1;32m      3\u001b[0m \u001b[39mprint\u001b[39m(x, y)\n",
      "Cell \u001b[0;32mIn[1], line 10\u001b[0m, in \u001b[0;36mconvertir_coordenada\u001b[0;34m(coordenada_en_string)\u001b[0m\n\u001b[1;32m      7\u001b[0m \u001b[39m# Si el input no sigue el formato esperado\u001b[39;00m\n\u001b[1;32m      8\u001b[0m \u001b[39mif\u001b[39;00m \u001b[39m\"\u001b[39m\u001b[39m,\u001b[39m\u001b[39m\"\u001b[39m \u001b[39mnot\u001b[39;00m \u001b[39min\u001b[39;00m coordenada_en_string:\n\u001b[1;32m      9\u001b[0m     \u001b[39m# aquí se genera otra excepción y se incluye información para el usuario.\u001b[39;00m\n\u001b[0;32m---> 10\u001b[0m     \u001b[39mraise\u001b[39;00m \u001b[39mValueError\u001b[39;00m(\u001b[39m\"\u001b[39m\u001b[39mCoordenada debe estar separada por una coma\u001b[39m\u001b[39m\"\u001b[39m)\n\u001b[1;32m     12\u001b[0m coord_x, coord_y \u001b[39m=\u001b[39m coordenada_en_string\u001b[39m.\u001b[39msplit(\u001b[39m\"\u001b[39m\u001b[39m,\u001b[39m\u001b[39m\"\u001b[39m)\n\u001b[1;32m     13\u001b[0m \u001b[39mreturn\u001b[39;00m (\u001b[39mint\u001b[39m(coord_x), \u001b[39mint\u001b[39m(coord_y))\n",
      "\u001b[0;31mValueError\u001b[0m: Coordenada debe estar separada por una coma"
     ]
    }
   ],
   "source": [
    "texto_incorrecto = \"23 - 54\"\n",
    "x, y = convertir_coordenada(texto_incorrecto)\n",
    "print(x, y)"
   ]
  },
  {
   "cell_type": "markdown",
   "metadata": {},
   "source": [
    "Las excepciones interrumpen todo el flujo del programa. Aún si la excepción ocurre dentro de una llamada a una función que ha sido llamada dentro de otras llamadas a función, todas las llamadas a funciones previas son interrumpidas y la excepción llega hasta el sistema operativo (a menos que sea capturada previamente como veremos más adelante). Notar que en los últimos dos ejemplos no se ejecutó el `print`, debido a que se interrumpió el programa antes.\n",
    "\n",
    "A continuación, puedes ver otro ejemplo, donde al instanciar un objeto podemos exigir que el inicializador tenga que recibir una tupla de dos elementos como parámetro de entrada, lanzando una excepción cuando recibimos un argumento de otro tipo."
   ]
  },
  {
   "cell_type": "code",
   "execution_count": 5,
   "metadata": {},
   "outputs": [],
   "source": [
    "class Circulo:\n",
    "\n",
    "    def __init__(self, centro):\n",
    "        if not isinstance(centro, tuple):\n",
    "            raise TypeError(\"El parámetro 'centro' debe ser de tipo 'tuple'\")\n",
    "            # Recordar que cuando ocurre el raise, la ejecución se interrumpe.\n",
    "            print(\"Esta línea nunca se imprime\")\n",
    "        self.centro = centro\n",
    "\n",
    "    def __repr__(self):\n",
    "        return f\"El centro es {self.centro}\""
   ]
  },
  {
   "cell_type": "code",
   "execution_count": 6,
   "metadata": {},
   "outputs": [
    {
     "data": {
      "text/plain": [
       "El centro es (2, 3)"
      ]
     },
     "execution_count": 6,
     "metadata": {},
     "output_type": "execute_result"
    }
   ],
   "source": [
    "# Caso correcto donde se crea un objeto usando una tupla.\n",
    "c1 = Circulo((2,3))\n",
    "c1"
   ]
  },
  {
   "cell_type": "code",
   "execution_count": 7,
   "metadata": {},
   "outputs": [
    {
     "ename": "TypeError",
     "evalue": "El parámetro 'centro' debe ser de tipo 'tuple'",
     "output_type": "error",
     "traceback": [
      "\u001b[0;31m---------------------------------------------------------------------------\u001b[0m",
      "\u001b[0;31mTypeError\u001b[0m                                 Traceback (most recent call last)",
      "Cell \u001b[0;32mIn[7], line 2\u001b[0m\n\u001b[1;32m      1\u001b[0m \u001b[39m# Caso que genera la excepción al usar una lista como entrada.\u001b[39;00m\n\u001b[0;32m----> 2\u001b[0m c2 \u001b[39m=\u001b[39m Circulo([\u001b[39m2\u001b[39;49m,\u001b[39m3\u001b[39;49m])\n\u001b[1;32m      3\u001b[0m c2\n",
      "Cell \u001b[0;32mIn[5], line 5\u001b[0m, in \u001b[0;36mCirculo.__init__\u001b[0;34m(self, centro)\u001b[0m\n\u001b[1;32m      3\u001b[0m \u001b[39mdef\u001b[39;00m \u001b[39m__init__\u001b[39m(\u001b[39mself\u001b[39m, centro):\n\u001b[1;32m      4\u001b[0m     \u001b[39mif\u001b[39;00m \u001b[39mnot\u001b[39;00m \u001b[39misinstance\u001b[39m(centro, \u001b[39mtuple\u001b[39m):\n\u001b[0;32m----> 5\u001b[0m         \u001b[39mraise\u001b[39;00m \u001b[39mTypeError\u001b[39;00m(\u001b[39m\"\u001b[39m\u001b[39mEl parámetro \u001b[39m\u001b[39m'\u001b[39m\u001b[39mcentro\u001b[39m\u001b[39m'\u001b[39m\u001b[39m debe ser de tipo \u001b[39m\u001b[39m'\u001b[39m\u001b[39mtuple\u001b[39m\u001b[39m'\u001b[39m\u001b[39m\"\u001b[39m)\n\u001b[1;32m      6\u001b[0m         \u001b[39m# Recordar que cuando ocurre el raise, la ejecución se interrumpe.\u001b[39;00m\n\u001b[1;32m      7\u001b[0m         \u001b[39mprint\u001b[39m(\u001b[39m\"\u001b[39m\u001b[39mEsta línea nunca se imprime\u001b[39m\u001b[39m\"\u001b[39m)\n",
      "\u001b[0;31mTypeError\u001b[0m: El parámetro 'centro' debe ser de tipo 'tuple'"
     ]
    }
   ],
   "source": [
    "# Caso que genera la excepción al usar una lista como entrada.\n",
    "c2 = Circulo([2,3])\n",
    "c2"
   ]
  },
  {
   "cell_type": "markdown",
   "metadata": {},
   "source": [
    "# Manejo de Excepciones: `try` y `except`\n",
    "\n",
    "Cada vez que se **levanta** una excepción durante la ejecución del código, es posible **atraparla** mediante el uso de las sentencias `try` y `except`.\n",
    "\n",
    "La sentencia `try` permite definir un *scope* (bloque de código). Si se levanta una excepción dentro del *scope* de `try`, entonces la excepción es **capturada**. A continuación del bloque de `try` debe haber una o más instrucciones `except`. Las instrucciones `except` permiten implementar el manejo de la excepción capturada.\n",
    "\n",
    "En el momento que se captura una excepción dentro de `try` el flujo del programa salta inmediatamente al bloque de una de las sentencias `except`. Una vez que el bloque `except` ha terminado, el programa continúa en la instrucción **posterior** al bloque `try`/`except`. El programa **NO regresa** a la sentencia que gatilló la excepción.\n",
    "\n",
    "Cómo se mencionó al inicio de esta sección, solo se atrapan excepciones que surgen durante la ejecución del código. Esto implica que excepciones del tipo `SyntaxError` o `IndentationError` no son posible de **atrapar** porque estas surgen durante la lectura del programa, no su ejecución.\n",
    "\n",
    "Volvamos al caso de la función `dividir`:"
   ]
  },
  {
   "cell_type": "code",
   "execution_count": 8,
   "metadata": {},
   "outputs": [],
   "source": [
    "# No se atrapa ninguna excepción, por lo tanto no se previene un posible error.\n",
    "def dividir(num, den):\n",
    "    # Esta función terminará el programa cuando el\n",
    "    # denominador den sea 0.\n",
    "    return float(num) / float(den)"
   ]
  },
  {
   "cell_type": "code",
   "execution_count": 9,
   "metadata": {},
   "outputs": [
    {
     "name": "stdout",
     "output_type": "stream",
     "text": [
      "1.25\n"
     ]
    },
    {
     "ename": "ZeroDivisionError",
     "evalue": "float division by zero",
     "output_type": "error",
     "traceback": [
      "\u001b[0;31m---------------------------------------------------------------------------\u001b[0m",
      "\u001b[0;31mZeroDivisionError\u001b[0m                         Traceback (most recent call last)",
      "Cell \u001b[0;32mIn[9], line 4\u001b[0m\n\u001b[1;32m      2\u001b[0m w \u001b[39m=\u001b[39m dividir(\u001b[39m5\u001b[39m, r)\n\u001b[1;32m      3\u001b[0m \u001b[39mprint\u001b[39m(w)\n\u001b[0;32m----> 4\u001b[0m z \u001b[39m=\u001b[39m dividir(\u001b[39m5\u001b[39;49m, r \u001b[39m-\u001b[39;49m \u001b[39m4\u001b[39;49m)\n\u001b[1;32m      5\u001b[0m \u001b[39mprint\u001b[39m(z)\n\u001b[1;32m      6\u001b[0m \u001b[39mprint\u001b[39m(\u001b[39m\"\u001b[39m\u001b[39mYa hice ambas divisiones.\u001b[39m\u001b[39m\"\u001b[39m)\n",
      "Cell \u001b[0;32mIn[8], line 5\u001b[0m, in \u001b[0;36mdividir\u001b[0;34m(num, den)\u001b[0m\n\u001b[1;32m      2\u001b[0m \u001b[39mdef\u001b[39;00m \u001b[39mdividir\u001b[39m(num, den):\n\u001b[1;32m      3\u001b[0m     \u001b[39m# Esta función terminará el programa cuando el\u001b[39;00m\n\u001b[1;32m      4\u001b[0m     \u001b[39m# denominador den sea 0.\u001b[39;00m\n\u001b[0;32m----> 5\u001b[0m     \u001b[39mreturn\u001b[39;00m \u001b[39mfloat\u001b[39;49m(num) \u001b[39m/\u001b[39;49m \u001b[39mfloat\u001b[39;49m(den)\n",
      "\u001b[0;31mZeroDivisionError\u001b[0m: float division by zero"
     ]
    }
   ],
   "source": [
    "r = 4\n",
    "w = dividir(5, r)\n",
    "print(w)\n",
    "z = dividir(5, r - 4)\n",
    "print(z)\n",
    "print(\"Ya hice ambas divisiones.\")"
   ]
  },
  {
   "cell_type": "markdown",
   "metadata": {},
   "source": [
    "Primero probaremos \"protegiendo\" un llamado correcto a `dividir`, usando un bloque `try`/`except`."
   ]
  },
  {
   "cell_type": "code",
   "execution_count": 10,
   "metadata": {},
   "outputs": [
    {
     "name": "stdout",
     "output_type": "stream",
     "text": [
      "1.25\n",
      "Ya hice la división.\n",
      "El programa continúa después del try/except\n"
     ]
    }
   ],
   "source": [
    "r = 4\n",
    "try:\n",
    "    # Dentro de este bloque ejecutamos el código que PODRÍA\n",
    "    # arrojar una excepción.\n",
    "    print(dividir(5, r))\n",
    "    print(\"Ya hice la división.\")\n",
    "\n",
    "except (ZeroDivisionError) as error:\n",
    "    # Aquí manejamos la excepción que pueda ser lanzada en\n",
    "    # el bloque anterior. Si un error del tipo ZeroDivisonError\n",
    "    # ocurre, se ejecuta este bloque y el resto del programa\n",
    "    # continúa su ejecución normal. La excepción, como objeto,\n",
    "    # se puede acceder con la variable error.\n",
    "    print(f\"Error: {error}\")\n",
    "    print(\"¿Cómo se te ocurre dividir por cero? ¿Por qué eres así?\")\n",
    "\n",
    "print(\"El programa continúa después del try/except\")"
   ]
  },
  {
   "cell_type": "markdown",
   "metadata": {},
   "source": [
    "En este caso no se generó la excepción, por lo tanto, no se ejecutó el código dentro de `except` y el programa siguió su flujo normal.\n",
    "\n",
    "Ahora probaremos protegiendo un caso en el que los argumentos de la división genera la excepción, ya que el denominador es 0."
   ]
  },
  {
   "cell_type": "code",
   "execution_count": 11,
   "metadata": {},
   "outputs": [
    {
     "name": "stdout",
     "output_type": "stream",
     "text": [
      "1.25\n",
      "Error: float division by zero\n",
      "¿Cómo se te ocurre dividir por cero? ¿Por qué eres así?\n",
      "El programa continúa después del try/except\n"
     ]
    }
   ],
   "source": [
    "# Manejo de la excepción con argumentos inválidos.\n",
    "# En este caso la función dará un error debido a que el denominador\n",
    "# utilizado es 0.\n",
    "r = 4\n",
    "try:\n",
    "    print(dividir(5, r))\n",
    "    print(dividir(5, r - 4))\n",
    "    print(\"Ya hice ambas divisiones.\")\n",
    "\n",
    "except ZeroDivisionError as error:\n",
    "    print(f\"Error: {error}\")\n",
    "    print(\"¿Cómo se te ocurre dividir por cero? ¿Por qué eres así?\")\n",
    "\n",
    "print(\"El programa continúa después del try/except\")"
   ]
  },
  {
   "cell_type": "markdown",
   "metadata": {},
   "source": [
    "Podemos observar que cuando se produjo la excepción dentro del llamado `dividir(5,r - 4)`, se generó una excepción de tipo `ZeroDivisionError`. Como esta excepción no fue capturada dentro de `dividir`, entonces la excepción se propagó al llamado anterior, pero este llamado sí estaba dentro de un `try`. El flujo del programa salta hacia la sentencia `except` que está asociada al tipo de la excepción (`ZeroDivisionError`) y ejecuta lo que hay dentro de ella. Una vez que se ha ejecutado todo lo que había dentro de `except ZeroDivisionError`, el flujo del programa continúa normalmente.\n",
    "\n",
    "Pongamos atención a dos cosas: (1) la instrucción `print(\"Ya hice ambas divisiones\")` nunca se ejecuta porque al capturar la excepción, el flujo salta inmediatamente al `except`; (2) como la excepción fue exitosamente manejada, una vez que el `except` se completó, el programa siguió su flujo normal y, a diferencia de los ejemplos anteriores, no se \"cayó\"."
   ]
  },
  {
   "cell_type": "markdown",
   "metadata": {},
   "source": [
    "Cómo se mencionó al inicio de esta sección, solo se atrapan excepciones que surgen durante la ejecución del código. Esto implica que excepciones del tipo `SyntaxError` o `IndentationError` no son posible de **atrapar** en el mismo archivo porque estas surgirán durante la lectura del programa, no su ejecución."
   ]
  },
  {
   "cell_type": "code",
   "execution_count": 12,
   "metadata": {},
   "outputs": [
    {
     "ename": "SyntaxError",
     "evalue": "unterminated string literal (detected at line 3) (589727527.py, line 3)",
     "output_type": "error",
     "traceback": [
      "\u001b[0;36m  Cell \u001b[0;32mIn[12], line 3\u001b[0;36m\u001b[0m\n\u001b[0;31m    print(\"Anya\u001b[0m\n\u001b[0m          ^\u001b[0m\n\u001b[0;31mSyntaxError\u001b[0m\u001b[0;31m:\u001b[0m unterminated string literal (detected at line 3)\n"
     ]
    }
   ],
   "source": [
    "# Atrapar SyntaxError en el mismo código --> Fallará.\n",
    "try:\n",
    "    print(\"Anya\n",
    "except SyntaxError:\n",
    "    print(\"SyntaxError detectado\")"
   ]
  },
  {
   "cell_type": "markdown",
   "metadata": {},
   "source": [
    "No obstante, igual existen formas de atrapar estos errores. Una de ellas es utilizar `import` de un posible archivo con errores de sintaxis o indentación, y dejar el `import archivo` dentro de un `try/excepy`. Esta solución logrará atrapar este tipo de error porque durante la ejecución del `import` es que recién se intentará leer el archivo con `SyntaxError`.\n",
    "\n",
    "En el siguiente ejemplo se dejó el mismo código con error `print(\"Anya` en un archivo llamado `archivo_con_syntax_error.py` y ahora se hará `import` de él, pero atrapando la excepción de `SyntaxError`."
   ]
  },
  {
   "cell_type": "code",
   "execution_count": 13,
   "metadata": {},
   "outputs": [
    {
     "name": "stdout",
     "output_type": "stream",
     "text": [
      "SyntaxError detectado\n"
     ]
    }
   ],
   "source": [
    "# Atrapar SyntaxError desde un import --> Funcionará.\n",
    "try:\n",
    "    import archivo_con_syntax_error\n",
    "except SyntaxError:\n",
    "    print(\"SyntaxError detectado\")"
   ]
  },
  {
   "cell_type": "markdown",
   "metadata": {},
   "source": [
    "### Múltiples excepciones con `except`\n",
    "\n",
    "Con la sentencia `except` podemos incluir varios tipos de excepciones para manejar. En el siguiente caso, las causas que generarán las excepciones son distintas, pero el tratamiento para todas ellas será el mismo. Si lo que necesitamos es realizar un tratamiento diferenciado según el tipo de excepción, entonces podemos añadir más bloques de `except`, en donde cada uno tiene definido las excepciones sobre las que debe actuar."
   ]
  },
  {
   "cell_type": "code",
   "execution_count": 14,
   "metadata": {},
   "outputs": [],
   "source": [
    "def convertir_coordenada(coordenada_en_string):\n",
    "    # Verificamos que el input es del tipo esperado.\n",
    "    if not isinstance(coordenada_en_string, str):\n",
    "        # Intencionalmente levantamos la excepción. Recuerda que las excepciones son objetos.\n",
    "        raise TypeError(\"Coordenada debe ser un string\")\n",
    "\n",
    "    # Verificamos que el input sigue el formato esperado.\n",
    "    if \",\" not in coordenada_en_string:\n",
    "        # El mensaje incluido en la excepción es el que se despliega\n",
    "        # cuando la manejamos después.\n",
    "        raise ValueError(\"Coordenada debe estar separada por una coma\")\n",
    "\n",
    "    coord_x, coord_y = coordenada_en_string.split(\",\")\n",
    "    return (int(coord_x), int(coord_y))"
   ]
  },
  {
   "cell_type": "markdown",
   "metadata": {},
   "source": [
    "Ahora manejamos la excepción que pueda ser lanzada durante la ejecución de la función `convertir_coordenada`.\n",
    "\n",
    "El primer caso levantará una excepción debido a que el argumento no es válido al no ser del tipo esperado (no es de tipo `str`)."
   ]
  },
  {
   "cell_type": "code",
   "execution_count": 15,
   "metadata": {},
   "outputs": [
    {
     "name": "stdout",
     "output_type": "stream",
     "text": [
      "Error: Coordenada debe ser un string\n",
      "Revise el tipo del argumento.\n"
     ]
    }
   ],
   "source": [
    "try:\n",
    "    print(convertir_coordenada([42, 3]))\n",
    "\n",
    "# En esta parte manejamos las excepciones una vez que son lanzadas.\n",
    "except TypeError as error:\n",
    "    # Este bloque sólo maneja excepciones del tipo TypeError.\n",
    "    print(f\"Error: {error}\")\n",
    "    print(\"Revise el tipo del argumento.\")\n",
    "\n",
    "except ValueError as error:\n",
    "    # Este bloque sólo maneja excepciones del tipo ValueError.\n",
    "    print(f\"Error: {error}\")\n",
    "    print(\"Se produjo un ValueError. Verifique sus valores.\")"
   ]
  },
  {
   "cell_type": "markdown",
   "metadata": {},
   "source": [
    "En este segundo caso, se levantará una excepción porque el argumento no sigue el formato esperado."
   ]
  },
  {
   "cell_type": "code",
   "execution_count": 16,
   "metadata": {},
   "outputs": [
    {
     "name": "stdout",
     "output_type": "stream",
     "text": [
      "Error: Coordenada debe estar separada por una coma\n",
      "Se produjo un ValueError. Verifique sus valores.\n"
     ]
    }
   ],
   "source": [
    "try:\n",
    "    print(convertir_coordenada(\"32 - 190\"))\n",
    "\n",
    "# En esta parte manejamos las excepciones una vez que son lanzadas.\n",
    "except TypeError as error:\n",
    "    # Este bloque sólo maneja excepciones del tipo TypeError.\n",
    "    print(f\"Error: {error}\")\n",
    "    print(\"Revise el tipo del argumento.\")\n",
    "\n",
    "except ValueError as error:\n",
    "    # Este bloque sólo maneja excepciones del tipo ValueError.\n",
    "    print(f\"Error: {error}\")\n",
    "    print(\"Se produjo un ValueError. Verifique sus valores.\")"
   ]
  },
  {
   "cell_type": "markdown",
   "metadata": {},
   "source": [
    "También, es posible capturar varios tipos de errores con un solo bloque `except`. Se logra entregando una tupla de tipos de excepción en vez de solamente un tipo. Como para el siguiente ejemplo de una función dividir personalizada, que agrupa los errores `ZeroDivisionError` y `TypeError`."
   ]
  },
  {
   "cell_type": "code",
   "execution_count": 17,
   "metadata": {},
   "outputs": [],
   "source": [
    "def dividir(num, den):\n",
    "    if not (isinstance(num, int) and isinstance(den, int)):\n",
    "        raise TypeError(\"Error de tipo en numerador o denominador. :'(\")\n",
    "\n",
    "    if num < 0 or den < 0:\n",
    "        raise ValueError(\"Hay un valor negativo entre numerador y denominador >:(\")\n",
    "\n",
    "    return float(num)/float(den)"
   ]
  },
  {
   "cell_type": "code",
   "execution_count": 18,
   "metadata": {},
   "outputs": [
    {
     "name": "stdout",
     "output_type": "stream",
     "text": [
      "Llamada a dividir(45, '5')\n",
      "Error: Error de tipo en numerador o denominador. :'(\n",
      "Revise los datos de la división. Hay un tipo incorrecto.\n",
      "\n",
      "Llamada a dividir(-23, 5)\n",
      "Error: Hay un valor negativo entre numerador y denominador >:(\n",
      "Se produjo un ValueError. Verifique sus valores.\n",
      "\n",
      "Llamada a dividir(4, 0)\n",
      "Error: float division by zero\n",
      "Revise los datos de la división. Hay un tipo incorrecto.\n",
      "\n",
      "Llamada a dividir(21, 7)\n",
      "3.0\n"
     ]
    }
   ],
   "source": [
    "for argumentos in [(45, \"5\"), (-23, 5), (4, 0), (21, 7)]:\n",
    "    try:\n",
    "        print(f\"Llamada a dividir{argumentos}\")\n",
    "        print(dividir(*argumentos))\n",
    "\n",
    "    # En esta parte manejamos las excepciones una vez que son lanzadas.\n",
    "    except (ZeroDivisionError, TypeError) as error:\n",
    "        # Este bloque maneja excepciones del tipo ZeroDivisionError o TypeError.\n",
    "        print(f\"Error: {error}\")\n",
    "        print(\"Revise los datos de la división. Hay un tipo incorrecto.\\n\")\n",
    "\n",
    "    except ValueError as error:\n",
    "        # Este bloque sólo maneja excepciones del tipo ValueError.\n",
    "        print(f\"Error: {error}\")\n",
    "        print(\"Se produjo un ValueError. Verifique sus valores.\\n\")"
   ]
  },
  {
   "cell_type": "markdown",
   "metadata": {},
   "source": [
    "### Flujos complementarios: `else` y `finally`"
   ]
  },
  {
   "cell_type": "markdown",
   "metadata": {},
   "source": [
    "El bloque de `try` y `except` puede ser complementado opcionalmente con las sentencias **`else`** y **`finally`**:\n",
    "\n",
    "- Las instrucciones dentro del bloque `else` se ejecutarán **siempre y cuando no se haya lanzado ninguna excepción**.\n",
    "- En el bloque de la sentencia `finally` van instrucciones que se realizan **siempre, independientemente de si ocurrió una excepción o no**."
   ]
  },
  {
   "cell_type": "code",
   "execution_count": 19,
   "metadata": {},
   "outputs": [
    {
     "name": "stdout",
     "output_type": "stream",
     "text": [
      "Revise los datos de entrada. ¡No son int o bien el denominador es 0!\n",
      "Recuerde SIEMPRE usar excepciones para manejar los errores de su programa\n"
     ]
    }
   ],
   "source": [
    "# Esta corresponde a la estructura completa de try and except.\n",
    "try:\n",
    "    # Probamos si es posible realizar la operación.\n",
    "    resultado = dividir(10, 0)\n",
    "    print(\"Esta línea no se ejecuta si se produce una excepción en la línea anterior.\")\n",
    "\n",
    "except (ZeroDivisionError, TypeError):\n",
    "    # Este bloque opera para los tipos de excepciones definidos.\n",
    "    print(\"Revise los datos de entrada. ¡No son int o bien el denominador es 0!\")\n",
    "\n",
    "except ValueError:\n",
    "    # Este bloque sólo maneja excepciones del tipo ValueError.\n",
    "    print(\"Los valores ingresados son negativos\")\n",
    "\n",
    "else:\n",
    "    # Como no hubo excepciones puede retornar normalmente el resultado\n",
    "    # En este caso, si se coloca un return después de la operación y\n",
    "    # esta es correcta, entonces nunca llegará a este punto.\n",
    "    print(\"¡Todo OK!, no hay errores con los datos\")\n",
    "\n",
    "finally:\n",
    "    print(\"Recuerde SIEMPRE usar excepciones para manejar los errores de su programa\")"
   ]
  },
  {
   "cell_type": "markdown",
   "metadata": {},
   "source": [
    "En el ejemplo, si no se levanta ninguna excepción, también sería impreso el mensaje en la sección **`else`**. El siguiente ejemplo ilustra eso:"
   ]
  },
  {
   "cell_type": "code",
   "execution_count": 20,
   "metadata": {},
   "outputs": [
    {
     "name": "stdout",
     "output_type": "stream",
     "text": [
      "Esta línea no se ejecuta si se produce una excepción en la línea anterior.\n",
      "¡Todo OK!, no hay errores con los datos\n",
      "Recuerde SIEMPRE usar excepciones para manejar los errores de su programa\n"
     ]
    }
   ],
   "source": [
    "# Esta corresponde a la estructura completa de try and except.\n",
    "try:\n",
    "    # Probamos si es posible realizar la operación.\n",
    "    resultado = dividir(10, 5)\n",
    "    print(\"Esta línea no se ejecuta si se produce una excepción en la línea anterior.\")\n",
    "\n",
    "except (ZeroDivisionError, TypeError):\n",
    "    # Este bloque opera para los tipos de excepciones definidos.\n",
    "    print(\"Revise los datos de entrada. ¡No son int o bien el denominador es 0!\")\n",
    "\n",
    "except ValueError:\n",
    "    # Este bloque sólo maneja excepciones del tipo ValueError.\n",
    "    print(\"Los valores ingresados son negativos\")\n",
    "\n",
    "else:\n",
    "    # Como no hubo excepciones puede retornar normalmente el resultado\n",
    "    # En este caso, si se coloca un return después de la operación y\n",
    "    # esta es correcta, entonces nunca llegará a este punto.\n",
    "    print(\"¡Todo OK!, no hay errores con los datos\")\n",
    "\n",
    "finally:\n",
    "    print(\"Recuerde SIEMPRE usar excepciones para manejar los errores de su programa\")"
   ]
  },
  {
   "cell_type": "markdown",
   "metadata": {},
   "source": [
    "El uso de **`finally`** es común en la ejecución de funciones de limpieza predefinidas, como por ejemplo, el cierre de un archivo después de ser procesado. Si ocurren errores mientras el archivo está abierto, éste quedará abierto. Es importante crear una rutina que asegure que, independientemente de si se lanza o no alguna excepción, el archivo sea cerrado correctamente."
   ]
  },
  {
   "cell_type": "code",
   "execution_count": 21,
   "metadata": {},
   "outputs": [
    {
     "name": "stdout",
     "output_type": "stream",
     "text": [
      "¡Error!: Revise los datos de entrada ¡No son ints o bien el denominador es 0!\n",
      "Recuerde SIEMPRE cerrar sus archivos\n"
     ]
    }
   ],
   "source": [
    "fid = open(\"log.txt\", \"w\")\n",
    "\n",
    "try:\n",
    "    # Probamos si es posible realizar la apertura del archivo.\n",
    "    # En este caso se debe generar un error por que el denominador llega a ser 0.\n",
    "    for i in range(5, -1, -1):\n",
    "        fid.write(f\"{dividir(10, i)}\")\n",
    "\n",
    "except (ZeroDivisionError, TypeError):\n",
    "    # Este bloque opera para los tipos de excepciones definidos.\n",
    "    print(\"¡Error!: Revise los datos de entrada ¡No son ints o bien el denominador es 0!\")\n",
    "\n",
    "else:\n",
    "    print(\"El archivo fue creado correctamente!\")\n",
    "\n",
    "finally:\n",
    "    # Este bloque asegura que el archivo sea cerrado correctamente\n",
    "    # independientemente de si se produjo el error.\n",
    "    print(\"Recuerde SIEMPRE cerrar sus archivos\")\n",
    "    fid.close()"
   ]
  },
  {
   "cell_type": "markdown",
   "metadata": {},
   "source": [
    "Una forma equivalente de hacer esto mismo es usar un *context manager* mediante la sentencia **`with`**. El siguiente ejemplo resume esta manera:"
   ]
  },
  {
   "cell_type": "code",
   "execution_count": 22,
   "metadata": {},
   "outputs": [
    {
     "name": "stdout",
     "output_type": "stream",
     "text": [
      "¡Error!: Revise los datos de entrada ¡No son ints o bien el denominador es 0!\n"
     ]
    }
   ],
   "source": [
    "with open(\"log.txt\", \"w\") as fid:\n",
    "    try:\n",
    "        # Probamos si es posible realizar la apertura del archivo.\n",
    "        # En este caso se debe generar un error por que el denominador llega a ser 0.\n",
    "        for i in range(5, -1, -1):\n",
    "            fid.write(f\"{dividir(10, i)}\")\n",
    "\n",
    "    except (ZeroDivisionError, TypeError):\n",
    "        # Este bloque opera para los tipos de excepciones definidos.\n",
    "        print(\"¡Error!: Revise los datos de entrada ¡No son ints o bien el denominador es 0!\")"
   ]
  },
  {
   "cell_type": "markdown",
   "metadata": {},
   "source": [
    "## Observaciones\n",
    "\n",
    "El manejo de excepciones es otra forma de control del flujo del programa, similar a lo que ocurre con la sentencia `if`. Entonces, ¿qué conviene más usar? ¿`if`/`else` o excepciones?. **Usar excepciones es más recomendable** que usar `if`/`elif`/`else` **para controlar errores**. Siempre es posible crear un sistema de códigos de error manejado por distintas salidas (`return`) de una función o módulo y suficientes combinaciones de `if`/`elif`/`else`. Sin embargo, esto puede generar casos particulares que complejizan, ensucian el diseño, y le quitan flexibilidad a nuestro programa. Además, continuamente hay que estar agregando nuevos códigos de error, lo que dificulta la mantenibilidad de nuestro código. \n",
    "\n",
    "En general, las principales ventajas de usar excepciones por sobre `if`/`else` son:\n",
    "- El programador está obligado a darles algún tratamiento, es decir, manejarlas o levantarlas. Mientras que los códigos de error pueden ser ignorados por el programador.\n",
    "- El código queda más limpio y fácil de leer (recuerden que el código se lee muchas más veces de lo que se escribe).\n",
    "- Todas las situaciones del programa son manejadas genéricamente, mientras que usando códigos de error tenemos la obligación de crear estructuras de control para cada función que implementemos.\n",
    "- El manejo de excepciones permite \"notificar\" a otras aplicaciones sobre este tipo de situaciones, lo que no sería tan simple de lograr usando códigos de error inventados por el programador.\n",
    "- ¿Por qué importa que el programa no falle inesperadamente?: Muchas veces exponer errores que no se han manejado a usuarios finales puede ser peligroso, ya que se podrían visualizar trozos de código en los outputs de estos. "
   ]
  },
  {
   "cell_type": "markdown",
   "metadata": {},
   "source": [
    "**Revisa la sección 2 de los ejercicios propuestos para aplicar el levantamiento y manejo de excepciones en tu código.**"
   ]
  }
 ],
 "metadata": {
  "kernelspec": {
   "display_name": "Python 3 (ipykernel)",
   "language": "python",
   "name": "python3"
  },
  "language_info": {
   "codemirror_mode": {
    "name": "ipython",
    "version": 3
   },
   "file_extension": ".py",
   "mimetype": "text/x-python",
   "name": "python",
   "nbconvert_exporter": "python",
   "pygments_lexer": "ipython3",
   "version": "3.10.10"
  }
 },
 "nbformat": 4,
 "nbformat_minor": 4
}
