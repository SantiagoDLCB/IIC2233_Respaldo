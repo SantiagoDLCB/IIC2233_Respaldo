{
 "cells": [
  {
   "cell_type": "markdown",
   "metadata": {
    "colab_type": "text",
    "id": "eWR9iZ8qQeYM"
   },
   "source": [
    "<p>\n",
    "<font size='5' face='Georgia, Arial'>IIC2233 Apunte Programación Avanzada</font><br>\n",
    "<font size='1'>&copy; 2015 Karim Pichara - Christian Pieringer. Todos los derechos reservados.</font>\n",
    "<br>\n",
    "<font size='1'> Modificado en 2017-2, 2018-1, 2018-2, 2019-1, 2019-2, 2020-1, 2020-2, 2021-1, 2021-2, 2022-2 por Equipo Docente IIC2233</font>\n",
    "</p>"
   ]
  },
  {
   "cell_type": "markdown",
   "metadata": {
    "colab_type": "text",
    "id": "MEbsMjX2QeYN"
   },
   "source": [
    "# Estructuras de datos"
   ]
  },
  {
   "attachments": {},
   "cell_type": "markdown",
   "metadata": {
    "colab_type": "text",
    "id": "JpbSQ296QeYO"
   },
   "source": [
    "En los modelos tradicionales de programación, estamos permanentemente manipulando datos. Es por esto que para facilitar esta manipulación, se han creado construcciones que permiten **agrupar y manipular** eficientemente conjuntos de datos.\n",
    "\n",
    "En Ciencia de la Computación, estas construcciones se conocen como **estructuras de datos** y consisten de una manera de agrupar datos relacionados, junto con un conjunto de **operaciones para accederlos y modificarlos de manera eficiente**. La mayoría de los lenguajes de programación incluyen soporte para algunas estructuras de datos predefinidas (*built-in*) y también permiten definir estructuras nuevas."
   ]
  },
  {
   "cell_type": "markdown",
   "metadata": {
    "colab_type": "text",
    "id": "OLs0v9iqQeYO"
   },
   "source": [
    "A diferencia de las variables simples o \"primitivas\" como los enteros, o los reales, las estructuras de datos involucran un mayor nivel de *abstracción*. En esta semana estudiaremos el modelo conceptual de algunas estructuras de datos típicas utilizadas en ciencia de la computación, así como también su implementación en Python. \n",
    "\n",
    "La decisión de \"qué estructura de datos utilizar\" dependerá tanto del contexto de la aplicación en que se desea usar, como también de su diseño y *eficiencia* esperada. Al final de esta semana, habremos aprendido que la elección adecuada de una estructura de datos para cada situación es crucial para desarrollar un *software* eficiente."
   ]
  },
  {
   "cell_type": "markdown",
   "metadata": {},
   "source": [
    "## Estructuras de datos *built-in* en Python"
   ]
  },
  {
   "cell_type": "markdown",
   "metadata": {
    "colab_type": "text",
    "id": "y1kgyOnxQeYV"
   },
   "source": [
    "Python posee varias estructuras de datos ya implementadas (*built-in*) para el manejo eficiente de datos. A continuación estudiaremos las más básicas de ellas.\n",
    "\n",
    "Veremos estructuras **secuenciales**, que **mantienen un orden entre sus elementos**:\n",
    "* **listas** (*lists*)\n",
    "* **tuplas** (*tuples*)\n",
    "* **pilas** (*stacks*) \n",
    "* **colas** (*queue*)\n",
    "\n",
    "y también veremos estructuras que **no mantienen un orden establecido**, pero que tienen mejores propiedades para otras acciones:\n",
    "\n",
    "* **diccionarios** (*dictionaries*)\n",
    "* **conjuntos** (*sets*)"
   ]
  }
 ],
 "metadata": {
  "colab": {
   "collapsed_sections": [],
   "default_view": {},
   "name": "01-introduccion.ipynb",
   "provenance": [],
   "version": "0.3.2",
   "views": {}
  },
  "kernelspec": {
   "display_name": "Python 3 (ipykernel)",
   "language": "python",
   "name": "python3"
  },
  "language_info": {
   "codemirror_mode": {
    "name": "ipython",
    "version": 3
   },
   "file_extension": ".py",
   "mimetype": "text/x-python",
   "name": "python",
   "nbconvert_exporter": "python",
   "pygments_lexer": "ipython3",
   "version": "3.10.6"
  }
 },
 "nbformat": 4,
 "nbformat_minor": 4
}
