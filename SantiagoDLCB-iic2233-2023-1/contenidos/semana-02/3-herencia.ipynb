{
 "cells": [
  {
   "cell_type": "markdown",
   "metadata": {},
   "source": [
    "<p>\n",
    "<font size='5' face='Georgia, Arial'>IIC2233 Apunte Programación Avanzada</font><br>\n",
    "<font size='1'>Basado en: &copy; 2015 Karim Pichara - Christian Pieringer. Todos los derechos reservados. Modificado el 2018-1, 2019-1, 2019-2, 2020-1 y 2020-2 por Equipo IIC2233</font>\n",
    "</p>"
   ]
  },
  {
   "cell_type": "markdown",
   "metadata": {},
   "source": [
    "# Tabla de contenidos\n",
    "1. [Herencia](#Herencia)\n",
    "    1. [Ejemplo: especializando la clase `Auto`](#Ejemplo:-especializando-la-clase-Auto)\n",
    "    2. [Sobreescritura de métodos: *overriding*](#Sobreescritura-de-m%C3%A9todos:-overriding)\n",
    "    3. [Obtener clase superior: `super()`](#Obtener-clase-superior:-super())\n",
    "    4. [Ejemplo: herencia con built-ins](#Ejemplo:-Herencia-con-built-ins)"
   ]
  },
  {
   "cell_type": "markdown",
   "metadata": {},
   "source": [
    "# Herencia\n",
    "\n",
    "La **herencia** (*inheritance*) es una de las características más importantes de OOP, y corresponde a una relación de **especialización** y **generalización** entre clases. En esta relación, una **clase** _hereda_ atributos y métodos de otra. Decimos que la que hereda es una **subclase**, y la otra es una **superclase**. La subclase posee todos los atributos y métodos de la superclase, pero además tiene sus propios métodos y atributos específicos. El concepto de herencia nos permite aprovechar (reutilizar) código de las clases de las cuales se hereda.\n",
    "\n",
    "## Ejemplo: especializando la clase `Auto`\n",
    "\n",
    "Consideremos una vez más nuestra clase `Auto`. Algunos de sus atributos son `marca`, `modelo`, `color` y algunos de sus métodos `conducir` y `leer_odómetro`. Si se nos pide modelar un furgón escolar, es natural pensar que éste compartirá muchas características de un `Auto`. Es más, podríamos decir que un furgón escolar **es un tipo particular de `Auto`**. El furgón escolar debería tener, al menos, _los mismos atributos y métodos_ que un auto, y seguramente tendrá también algunos atributos adicionales como _lista de las niñas y niños inscritos_ y métodos adicionales como _inscribir niños o niñas_. Como ya hemos escrito el código de la clase `Auto`, nos gustaría poder **reutilizar** este código, pues ahí ya tenemos algunos atributos y métodos implementados.\n",
    "\n",
    "Usaremos, entonces, la **herencia**. La herencia nos permite _heredar_ datos y comportamientos de una clase y utilizarlos en otra. En nuestro ejemplo del furgón escolar, crearemos una clase `FurgónEscolar` que hereda de `Auto` y definiremos ahí la lista de los niños y niñas, y un método de inscripción.\n",
    "\n",
    "Si `FurgónEscolar` **hereda** de `Auto`, también se dice que:\n",
    "- `FurgónEscolar` es una **especialización** de la clase `Auto`\n",
    "- `FurgónEscolar` es una **subclase** (o clase hija) de `Auto`\n",
    "- `FurgónEscolar` **extiende** la clase `Auto`\n",
    "- `Auto` es **superclase** (o clase madre) de `FurgonEscolar`\n",
    "\n",
    "Los diagramas muestran la relación de herencia de esta forma:\n",
    "\n",
    "![](img/OOP_auto_herencia.png)\n",
    "\n",
    "La implementación de herencia en Python se describa especificando, al momento de definir una clase, el nombre de la clase de la cual hereda."
   ]
  },
  {
   "cell_type": "code",
   "execution_count": 1,
   "metadata": {},
   "outputs": [],
   "source": [
    "class Auto:\n",
    "    \n",
    "    def __init__(self, marca, modelo, año, color, km):\n",
    "        self.marca = marca\n",
    "        self.modelo = modelo\n",
    "        self.año = año\n",
    "        self.color = color\n",
    "        self.__kilometraje = km\n",
    "        self.__dueño = None\n",
    "\n",
    "    def conducir(self, kms):\n",
    "        print(f\"Conduciendo {kms} kilómetros\")\n",
    "        self.__kilometraje += kms\n",
    "\n",
    "    def vender(self, nuevo_dueño):\n",
    "        self.__dueño = nuevo_dueño\n",
    "        print(f\"Auto vendido a {nuevo_dueño}\")\n",
    "\n",
    "    def leer_odometro(self):\n",
    "        return self.__kilometraje\n",
    "\n",
    "\n",
    "class FurgónEscolar(Auto): # Aquí se marca de donde hereda\n",
    "    \"\"\"Subclase de Auto\"\"\"\n",
    "    \n",
    "    def __init__(self, marca, modelo, año, color, kms):\n",
    "        # Para inicializar algunos datos en la clase madre, llamamos explícitamente \n",
    "        # al __init__ de esa clase. Por ahora lo llamaremos usando la clase padre,\n",
    "        # pero más adelante veremos una mejor forma de hacerlo, y es entregándole\n",
    "        # a python la responsabilidad de encontrar la clase que debe ser llamada\n",
    "        # a continuación\n",
    "        Auto.__init__(self, marca, modelo, año, color, kms)\n",
    "        # Este atributo existe únicamente para objetos de tipo FurgonEscolar, \n",
    "        # pero no para todos los objetos de clase Auto \n",
    "        self.niños_y_niñas = []\n",
    "    \n",
    "    # inscribir_niño_o_niña es un método específico de esta subclase.\n",
    "    def inscribir_niño_o_niña(self, niño_o_niña):\n",
    "        self.niños_y_niñas.append(niño_o_niña)\n"
   ]
  },
  {
   "cell_type": "markdown",
   "metadata": {},
   "source": [
    "Notemos que el inicializador de `FurgónEscolar` no inicializa los atributos `marca`, `modelo`, `año`, `color` y `__kilometraje`. Podría hacerlo, pero es más conveniente que los atributos que ya son inicializados por la clase superior se le entreguen a su inicializador. Para invocar al inicializador de la clase superior debemos llamar usar explícitamente el nombre de la clase antes de `__init__`; de lo contrario estaríamos llamando recursivamente al mismo `__init__` de la clase actual. Una vez que se ha llamado al `__init__` de la clase superior, podemos continuar inicializando los atributos propios de `FurgónEscolar`.\n",
    "\n",
    "Podemos comprobar que un objeto de la clase `FurgónEscolar` tiene todos los datos y métodos que tenía la clase `Auto`, y también tiene lo que definimos específicamente para `FurgónEscolar`:"
   ]
  },
  {
   "cell_type": "code",
   "execution_count": 2,
   "metadata": {},
   "outputs": [
    {
     "name": "stdout",
     "output_type": "stream",
     "text": [
      "Marca: Kia\n",
      "Modelo: Sportage\n",
      "Color: Blanco\n",
      "Conduciendo 5 kilómetros\n",
      "Kilometraje: 135005\n",
      "Infantes: ['Benjita', 'Enzito', 'Danielita', 'Dantito']\n"
     ]
    }
   ],
   "source": [
    "furgón = FurgónEscolar('Kia', 'Sportage', 2000, \"Blanco\", 135000)\n",
    "print(f\"Marca: {furgón.marca}\")\n",
    "print(f\"Modelo: {furgón.modelo}\")\n",
    "print(f\"Color: {furgón.color}\")\n",
    "furgón.conducir(5)\n",
    "print(f\"Kilometraje: {furgón.leer_odometro()}\")\n",
    "furgón.inscribir_niño_o_niña('Benjita')\n",
    "furgón.inscribir_niño_o_niña('Enzito')\n",
    "furgón.inscribir_niño_o_niña('Danielita')\n",
    "furgón.inscribir_niño_o_niña('Dantito')\n",
    "print(f\"Infantes: {furgón.niños_y_niñas}\")"
   ]
  },
  {
   "cell_type": "markdown",
   "metadata": {},
   "source": [
    "## Sobreescritura de métodos: *overriding*\n",
    "\n",
    "En ocasiones, algunos métodos de la superclase (que son heredados por la subclase) no nos sirven exactamente para la subclase y podríamos querer reemplazar o modificar algunos de ellos. En este ejemplo, no queremos que el conductor de un `FurgonEscolar` conduzca igual que un conductor de `Auto`, si no que queremos que lo haga con más cuidado. Después de todo, lleva niñas y niños.\n",
    "\n",
    "La herencia nos permite **sobrescribir** los métodos que necesitemos modificar. En Python, podemos **volver a definir un método en una subclase**, con el mismo nombre que tenía en la superclase. De esta manera al ejecutar el método desde un objeto perteneciente a la subclase, se ejecuta la versión del método que está en la subclase, y no la versión que está en la súperclase. En OOP, esto se llama _**overriding**_ y permite que una subclase implemente una versión especializada de un método que es heredado desde una superclase.\n",
    "\n",
    "Revisemos de nuevo el ejemplo del `Auto` y `FurgonEscolar`:\n"
   ]
  },
  {
   "cell_type": "code",
   "execution_count": 2,
   "metadata": {},
   "outputs": [],
   "source": [
    "class Auto:\n",
    "    \n",
    "    def __init__(self, ma, mo, a, c, k):\n",
    "        self.marca = ma\n",
    "        self.modelo = mo\n",
    "        self.año = a\n",
    "        self.color = c\n",
    "        self.__kilometraje = k\n",
    "        self.__dueño = None\n",
    "\n",
    "    def conducir(self, kms):\n",
    "        print(f\"Conduciendo {kms} kilómetros\")\n",
    "        self.__kilometraje += kms\n",
    "\n",
    "    def vender(self, nuevo_dueño):\n",
    "        self.__dueño = nuevo_dueño\n",
    "        print(f\"Auto vendido a {nuevo_dueño}\")\n",
    "\n",
    "    def leer_odometro(self):\n",
    "        return self.__kilometraje\n",
    "\n",
    "    \n",
    "class FurgónEscolar(Auto):\n",
    "    \"\"\"Subclase de Auto\"\"\"\n",
    "    \n",
    "    # Estamos haciendo overriding del __init__ original\n",
    "    def __init__(self, marca, modelo, año, color, kms):\n",
    "        # Aún queremos usar el __init__ original para setear los otros datos. Así es como podemos llamarlo.\n",
    "        Auto.__init__(self, marca, modelo, año, color, kms)\n",
    "        self.niños_y_niñas = []\n",
    "    \n",
    "    # inscribir_niño_o_niña es un método específico de esta subclase.\n",
    "    def inscribir_niño_o_niña(self, niño_o_niña):\n",
    "        self.niños_y_niñas.append(niño_o_niña)\n",
    "        \n",
    "    # Estamos haciendo overriding del método conducir original\n",
    "    def conducir(self, distancia):\n",
    "        # Acá no queremos usar la versión original de conducir\n",
    "        print(f\"Conduciendo con cuidado {distancia} kilómetros\")"
   ]
  },
  {
   "cell_type": "markdown",
   "metadata": {},
   "source": [
    "En este caso hemos reescrito el método `conducir`, que ya estaba definido en la clase `Auto`, pero ahora dentro de la clase `FurgónEscolar`. Hemos hecho un _override_ del método `conducir`. De esta manera si llamamos a `conducir` desde una instancia de `FurgónEscolar`, se ejecutará el `conducir` que acabamos de reescribir, pero si llamamos a `conducir` desde una instancia de `Auto`, se ejecutará el `conducir` de `Auto`."
   ]
  },
  {
   "cell_type": "code",
   "execution_count": 4,
   "metadata": {},
   "outputs": [
    {
     "name": "stdout",
     "output_type": "stream",
     "text": [
      "Marca: Kia\n",
      "Modelo: Sportage\n",
      "Color: Blanco\n",
      "Conduciendo con cuidado 5 kilómetros\n",
      "Kilometraje: 135000\n",
      "Infantes: ['Benjita', 'Enzito', 'Danielita', 'Dantito']\n",
      "Conduciendo 12 kilómetros\n",
      "Tipo de auto: <class '__main__.Auto'>\n",
      "Tipo de furgón: <class '__main__.FurgónEscolar'>\n"
     ]
    }
   ],
   "source": [
    "auto = Auto('Suzuki', 'Grand Vitara', 2015, \"Naranjo\", 35000)\n",
    "furgón = FurgónEscolar('Kia', 'Sportage', 2000, \"Blanco\", 135000)\n",
    "print(f\"Marca: {furgón.marca}\")\n",
    "print(f\"Modelo: {furgón.modelo}\")\n",
    "print(f\"Color: {furgón.color}\")\n",
    "furgón.conducir(5)\n",
    "print(f\"Kilometraje: {furgón.leer_odometro()}\")\n",
    "furgón.inscribir_niño_o_niña('Benjita')\n",
    "furgón.inscribir_niño_o_niña('Enzito')\n",
    "furgón.inscribir_niño_o_niña('Danielita')\n",
    "furgón.inscribir_niño_o_niña('Dantito')\n",
    "print(f\"Infantes: {furgón.niños_y_niñas}\")\n",
    "auto.conducir(12)\n",
    "print(f\"Tipo de auto: {type(auto)}\")\n",
    "print(f\"Tipo de furgón: {type(furgón)}\")"
   ]
  },
  {
   "cell_type": "markdown",
   "metadata": {},
   "source": [
    "Podemos ver que, al ejecutar el mismo método sobre `auto` y sobre `furgón`, el resultado es distinto. Al ejecutar `furgón.conducir(5)`, se ejecuta el método _especializado_ que se definió para la clase `FurgónEscolar`, mientras que si ejecutamos `auto.conducir(12)`, se ejecuta el método original de la clase `Auto`."
   ]
  },
  {
   "cell_type": "markdown",
   "metadata": {},
   "source": [
    "## Obtener clase superior: `super()`\n",
    "\n",
    "En el ejemplo del furgón escolar, reimplementamos (hicimos _override_ de) el método inicializar `__init__`. Esto lo hacemos porque también queremos inicializar el nuevo atributo `niños_y_niñas`.  Pero también debemos inicializar los atributos heredados de la clase `Auto`. Si no queremos hacer ninguna modificación a la manera en que éstos se inicializan, podemos llamar explícitamente al método de la superclase. Si escribimos una línea de la forma `SuperClase.metodo(self, argumentos)`, podemos invocar directamente la ejecución del método de la superclase. En nuestro caso, podemos ejecutar `Auto.__init__(self, marca, modelo, motor)` y con esto estamos delegando la inicialización de esos atributos a la superclase.\n",
    "\n",
    "Usando el método `super()` podemos utilizar la implementación de un método de la superclase sin nombrar explícitamente a la clase superior, de la forma `super().metodo(argumentos)`. Esto nos ayuda a escribir un código más mantenible, en caso que decidamos cambiar el nombre de la clase superior. Además, evitará problemas al momento de tener múltiples herencias, donde muchas cosas interesantes pueden pasar. Un buen diseño dicta que este método tenga la misma estructura de llamada en todos los casos."
   ]
  },
  {
   "cell_type": "code",
   "execution_count": 3,
   "metadata": {},
   "outputs": [
    {
     "name": "stdout",
     "output_type": "stream",
     "text": [
      "Marca: Kia\n",
      "Modelo: Sportage\n",
      "Color: Blanco\n",
      "Conduciendo con cuidado 5 kilómetros\n",
      "Kilometraje: 135000\n",
      "Infantes: ['Benjita', 'Enzito', 'Danielita', 'Dantito']\n"
     ]
    }
   ],
   "source": [
    "class FurgónEscolar(Auto):\n",
    "    \"\"\"Subclase de Auto\"\"\"\n",
    "    \n",
    "    # Estamos haciendo overriding del __init__ original\n",
    "    def __init__(self, marca, modelo, año, color, kms):\n",
    "        # Aún queremos usar el __init__ original para setear los otros datos. Así podemos llamarlo con super()\n",
    "        super().__init__(marca, modelo, año, color, kms)\n",
    "        self.niños_y_niñas = []\n",
    "    \n",
    "    # inscribir_niño_o_niña es un método específico de esta subclase.\n",
    "    def inscribir_niño_o_niña(self, niño_o_niña):\n",
    "        self.niños_y_niñas.append(niño_o_niña)\n",
    "        \n",
    "    # Estamos haciendo overriding del método conducir original\n",
    "    def conducir(self, distancia):\n",
    "        # Acá no queremos usar la versión original de conducir\n",
    "        print(f\"Conduciendo con cuidado {distancia} kilómetros\")  \n",
    "\n",
    "\n",
    "furgón = FurgónEscolar('Kia', 'Sportage', 2000, \"Blanco\", 135000)\n",
    "print(f\"Marca: {furgón.marca}\")\n",
    "print(f\"Modelo: {furgón.modelo}\")\n",
    "print(f\"Color: {furgón.color}\")\n",
    "furgón.conducir(5)\n",
    "print(f\"Kilometraje: {furgón.leer_odometro()}\")\n",
    "furgón.inscribir_niño_o_niña('Benjita')\n",
    "furgón.inscribir_niño_o_niña('Enzito')\n",
    "furgón.inscribir_niño_o_niña('Danielita')\n",
    "furgón.inscribir_niño_o_niña('Dantito')\n",
    "print(f\"Infantes: {furgón.niños_y_niñas}\")"
   ]
  },
  {
   "cell_type": "markdown",
   "metadata": {},
   "source": [
    "**Para poner en práctica la escritura básica de clases con herencia, puedes realizar los ejercicios propuestos 3.1, 3.2 y 3.3.**"
   ]
  },
  {
   "cell_type": "markdown",
   "metadata": {},
   "source": [
    "## Ejemplo: Herencia con _built-ins_\n",
    "\n",
    "La herencia nos permite extender, no solamente las clases que hemos definido, sino también algunas que ya existían. En Python le llamamos clases *built-ins* a aquellas que están _construidas dentro_ (\"*built*\"-\"*in*\") del intérprete de Python y no necesitan de ningún módulo adicional para funcionar. \n",
    "\n",
    "Una de las clases *built-in* de Python es la clase `list`. Si queremos extender la clase `list`, podemos definir una subclase que heredará los métodos de la clase `list` y a su vez tendrá datos y métodos propios:"
   ]
  },
  {
   "cell_type": "code",
   "execution_count": 6,
   "metadata": {},
   "outputs": [],
   "source": [
    "class ContactList(list):\n",
    "    \"\"\"\n",
    "    Estamos extendiendo y especializando la clase list estándar. \n",
    "    Tiene todos los métodos de la lista más los definidos por nosotros.\n",
    "    \"\"\"\n",
    "    \n",
    "    # Buscar es un método específico de esta sub-clase\n",
    "    def buscar(self, nombre):\n",
    "        matches = []\n",
    "        for contacto in self:\n",
    "            if nombre in contacto.nombre:\n",
    "                matches.append(contacto)\n",
    "        return matches\n",
    "\n",
    "    \n",
    "class Contacto:\n",
    "    \"\"\"La clase Contacto almacena nombre y correo electrónico.\"\"\"\n",
    "    \n",
    "    def __init__(self, nombre, email):\n",
    "        self.nombre = nombre\n",
    "        self.email = email\n",
    "\n",
    "\n",
    "class Familiar(Contacto):\n",
    "    \"\"\"Familiar es una clase especializada de Contacto que permite incluir el tipo de relación\"\"\"\n",
    "\n",
    "    # Overriding sobre el método __init__()\n",
    "    def __init__(self, nombre, email, relacion):\n",
    "        super().__init__(nombre, email)\n",
    "        self.relacion = relacion"
   ]
  },
  {
   "cell_type": "code",
   "execution_count": 7,
   "metadata": {},
   "outputs": [
    {
     "name": "stdout",
     "output_type": "stream",
     "text": [
      "['Komi Shouko', 'Shouko Nishimiya']\n"
     ]
    }
   ],
   "source": [
    "contactos_list = ContactList()\n",
    "contactos_list.append(Familiar(nombre=\"Juan Gómez\", email=\"juan@gomez.cl\", relacion=\"primo\"))\n",
    "contactos_list.append(Contacto(nombre=\"Komi Shouko\", email=\"komi.san@gmail.com\"))\n",
    "contactos_list.append(Familiar(nombre=\"Shouko Nishimiya\", email=\"nishimiya@shouko.cl\", relacion=\"Hermana\"))\n",
    "contactos_list.append(Contacto(nombre=\"Natalia Lafourcade\", email=\"natalia@lafourcade.com\"))\n",
    "\n",
    "personas_llamadas_shouko = []\n",
    "for contacto in contactos_list.buscar(\"Shouko\"):\n",
    "       personas_llamadas_shouko.append(contacto.nombre)\n",
    "print(personas_llamadas_shouko)"
   ]
  },
  {
   "cell_type": "markdown",
   "metadata": {},
   "source": [
    "En este ejemplo, la clase `ContactList` extiende a `list` para agregar un método que busca sobre sí misma (`self`) todos los elementos que coincidan con cierto _string_. Una vez creado un objeto de tipo `ContactList`, este objeto posee el método `buscar`."
   ]
  }
 ],
 "metadata": {
  "kernelspec": {
   "display_name": "Python 3 (ipykernel)",
   "language": "python",
   "name": "python3"
  },
  "language_info": {
   "codemirror_mode": {
    "name": "ipython",
    "version": 3
   },
   "file_extension": ".py",
   "mimetype": "text/x-python",
   "name": "python",
   "nbconvert_exporter": "python",
   "pygments_lexer": "ipython3",
   "version": "3.10.10"
  }
 },
 "nbformat": 4,
 "nbformat_minor": 4
}
