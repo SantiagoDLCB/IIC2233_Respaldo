{
 "cells": [
  {
   "cell_type": "markdown",
   "metadata": {},
   "source": [
    "<p>\n",
    "<font size='5' face='Georgia, Arial'>IIC2233 Apunte Programación Avanzada</font><br>\n",
    "<font size='1'>Basado en: &copy; 2015 Karim Pichara - Christian Pieringer. Todos los derechos reservados. Modificado en 2018-1, 2018-2, 2019-1, 2019-2, 2020-1, 2021-2 y 2021-2 por Equipo IIC2233</font>\n",
    "</p>"
   ]
  },
  {
   "cell_type": "markdown",
   "metadata": {},
   "source": [
    "# Tabla de contenidos\n",
    "\n",
    "1. [¿Qué son los objetos?](#¿Qué-son-los-objetos?)\n",
    "    1. [Ejemplo: definiendo una clase `Auto`](#Ejemplo:-definiendo-una-clase-Auto)\n",
    "2. [¿Qué es OOP?](#¿Qué-es-OOP?)\n",
    "    1. [Ejemplo: definiendo una clase `Carpeta`](#Ejemplo:-definiendo-una-clase-Carpeta)\n",
    "    2. [OOP en Python](#OOP-en-Python)\n",
    "        1. [Definición de una clase en Python: `class`](#Definici%C3%B3n-de-una-clase-en-Python:-class)\n",
    "        2. [Ejemplo: definición de clase `Departamento`](#Ejemplo:-definici%C3%B3n-de-clase-Departamento)\n",
    "3. [Encapsulamiento](#Encapsulamiento)\n",
    "    1. [Encapsulamiento e interfaces](#Encapsulamiento-e-interfaces)\n",
    "    2. [Encapsulamiento en Python](#Encapsulamiento-en-Python)\n",
    "4. [Variables de clases y de instancia](#Variables-de-clases-y-de-instancia)"
   ]
  },
  {
   "cell_type": "markdown",
   "metadata": {},
   "source": [
    "# ¿Qué son los objetos?\n",
    "\n",
    "En el mundo real los objetos son elementos tangibles que \n",
    "se pueden manipular y sentir; representan\n",
    "algo que tiene significado para nosotros.\n",
    "\n",
    "En el área de desarrollo de software, un **objeto**\n",
    "es una colección de **datos** que además tiene **comportamientos**\n",
    "asociados. Por una parte, los datos **describen** a los objetos, mientras que los comportamientos **representan acciones** que ocurren en ellos."
   ]
  },
  {
   "cell_type": "markdown",
   "metadata": {},
   "source": [
    "## Ejemplo: definiendo una clase `Auto`\n",
    "\n",
    "Pensemos, por ejemplo, en un objeto que represente a un auto. Los **datos** que nos interesan de un auto podrían incluir su marca, su modelo, su año, color, número de motor, kilometraje, cuántas mantenciones ha recibido, en qué ubicación geográfica se encuentra, y el dueño actual. Respecto a las **acciones** que queremos realizar sobre el auto podemos pensar en *conducirlo durante una cierta cantidad de kilómetros*, *calcular su distancia a alguna dirección*, *efectuar una nueva mantención*, *determinar cuánto falta para su próxima mantención*, *pintarlo de otro color*, o *venderlo a otra persona*. Por supuesto, también podemos pensar en más datos y acciones. \n",
    "\n",
    "\n",
    "Datos            | Comportamiento\n",
    "---------------- | ---------------------------\n",
    "Marca            | Conducir durante _X_ kilómetros \n",
    "Modelo           | Calcular distancia a alguna dirección \n",
    "Año              | Realizar una nueva mantención\n",
    "Color            | Calcular fecha de la próxima mantención\n",
    "Motor            | Pintarlo de otro color\n",
    "Kilometraje      | Vender el auto a una persona\n",
    "Mantenciones     |\n",
    "Ubicación actual |\n",
    "Dueño actual     |\n"
   ]
  },
  {
   "cell_type": "markdown",
   "metadata": {},
   "source": [
    "Esto lo representamos con un tipo de diagramas que llamamos UML (*Unified Modelling Language*), según el cual describimos una **clase** mediante un cuadro que indica sus datos o **atributos**, y sus acciones o **métodos**.\n",
    "\n",
    "![](img/OOP_auto_clase.png)\n",
    "\n",
    "También podemos pensar en que existen distintos autos. Todos ellos tendrán datos o **atributos** comunes por el hecho de ser auto: marca, modelo, año, color, etc. Sin embargo, cada auto tendrán un valor probablemente distinto para cada atributo asociado. Por ejemplo, algún auto podría pertenecer al año 2000, tener marca \"Kia\", y color blanco; otro auto podría pertenecer al año 2015, tener marca \"Suzuki\", color naranjo, y acumular 35695 kilómetros. Sin embargo, ambos siguen siendo _autos_. Diremos que cada una de esas agrupaciones de datos son **objetos** que pertenecen a una misma categoría o **clase**, a la que llamaremos `Auto`. Así, podríamos decir que todos los objetos que pertenecen a la clase `Auto`, poseen los mismos comportamiento, y un valor para cada atributo indicado en la **clase**.\n",
    "\n",
    "![](img/OOP_auto.png)"
   ]
  },
  {
   "cell_type": "markdown",
   "metadata": {},
   "source": [
    "# ¿Qué es OOP?\n",
    "\n",
    "La **Programación orientada a objetos** u **OOP** (*Object-oriented Programming*) es un *paradigma de programación* (una manera de programar) en el cual los programas modelan las funcionalidades a través de la interacción entre **objetos** por medio de sus datos y sus comportamientos. \n",
    "\n",
    "En OOP los objetos son descritos de manera general mediante **clases**. Una clase describe los datos que caracterizan a un objeto; a estos datos los llamamos **atributos**. Una clase también describe los comportamientos de los objetos, y a estos comportamientos los llamamos **métodos**. Cada vez que creamos un objeto a partir de una clase, decimos que estamos _instanciando_ esa clase, por lo tanto **un objeto es una instancia de una clase**.\n",
    "\n",
    "![](img/OOP_auto_objetos.png)"
   ]
  },
  {
   "cell_type": "markdown",
   "metadata": {},
   "source": [
    "## Ejemplo: definiendo una clase `Carpeta`\n",
    "\n",
    "Así como nosotros podemos definir clases personalizadas para estructurar nuestro código, los que programaron los computadores lo vienen haciendo desde hace mucho tiempo. Si miras tu *Escritorio/Desktop*, te darás cuenta de que existen muchas carpetas de archivos distintas. Todas esas carpetas **instancias** u **objetos** de la misma **clase**: la clase `Carpeta`. De esta forma no se tiene que repetir el código de una carpeta cada vez que se quiere crear una nueva carpeta, sino solo instanciarla.\n",
    "\n",
    "Atributos        | Métodos\n",
    "---------------- | ---------------------------\n",
    "Nombre            | Borrar\n",
    "Ícono           | Renombrar\n",
    "Tamaño              | Copiar\n",
    "Fecha de creación            | \n",
    "Lista de archivos            | \n",
    "\n",
    "Los siguientes son **objetos** de la **clase** `Carpeta`\n",
    "![](img/OOP_carpetas.png)"
   ]
  },
  {
   "cell_type": "markdown",
   "metadata": {},
   "source": [
    "## OOP en Python\n",
    "\n",
    "Python es un lenguaje *multiparadigma*, lo que significa que permite programar mediante distintos paradigmas de programación. Entre ellos se encuentra la programación imperativa, la programación funcional, y también OOP. A continuación revisaremos algunos ejemplos que ilustran cómo Python permite programar utilizando OOP. Es importante tener en cuenta que algunas de las características que veremos son más bien propias del lenguaje Python que de OOP, y por lo tanto no existen necesariamente en otros lenguajes que siguen OOP. Cuando sea el caso lo indicaremos.\n"
   ]
  },
  {
   "cell_type": "markdown",
   "metadata": {},
   "source": [
    "### Definición de una clase en Python: `class`\n",
    "\n",
    "Para definir una clase en Python, usamos la _keyword_ `class`. El siguiente ejemplo define la clase `Auto`."
   ]
  },
  {
   "cell_type": "code",
   "execution_count": 1,
   "metadata": {},
   "outputs": [],
   "source": [
    "class Auto:\n",
    "    \n",
    "    def __init__(self, marca, modelo, año, color, km):\n",
    "        self.marca = marca\n",
    "        self.modelo = modelo\n",
    "        self.año = año\n",
    "        self.color = color\n",
    "        self.__kilometraje = km\n",
    "        self.__ubicacion = (-33.45, -70.63)\n",
    "        self.dueño = None\n",
    "\n",
    "    def conducir(self, kms):\n",
    "        self.__kilometraje += kms\n",
    "        self.__modificar_ubicacion()\n",
    "\n",
    "    def vender(self, nuevo_dueño):\n",
    "        self.dueño = nuevo_dueño\n",
    "\n",
    "    def leer_odometro(self):\n",
    "        return self.__kilometraje\n",
    "\n",
    "    def __modificar_ubicacion(self):\n",
    "        print(\"Calcula nueva ubicación\")\n",
    "        self.__ubicacion = (self.__ubicacion[0] + 0.01, self.__ubicacion[1] - 0.01)"
   ]
  },
  {
   "cell_type": "markdown",
   "metadata": {},
   "source": [
    "Dentro de la definición de la clase, definimos todos los atributos dentro de un método especial: el método  `__init__()`. Este método se llama durante la **inicialización** de la clase, cada vez que ejecutamos:\n",
    "\n",
    "```\n",
    "auto_1 = Auto(\"Kia\", \"Sportage\", 2000, \"Blanco\", 134000)\n",
    "```\n",
    "de esta manera todos los objetos que vayamos crear de la clase `Auto` poseerán estos atributos inicializados.\n",
    "\n",
    "A continuación se definen, en este ejemplo, cuatro **métodos de la instancia**: `conducir`, `vender` `leer_odometro`, y `__modificar_ubicacion`. Cada uno de ellos recibe como primer argumento el nombre **`self`**, el cual es una referencia a la instanca de la clase sobre la que están actuando. De esta manera cuando ejecutamos:\n",
    "\n",
    "```\n",
    "auto_1.conducir(1400)\n",
    "```\n",
    "estamos invocando al método `conducir`, donde `self` es una referencia al instancia `a` sobre la cual se accede a su atributo `__kilometraje` y a su método `__modificar_ubicacion`. El nombre `self` no es un *keyword*, por lo que puede ser cualquier nombre. Sin embargo, en la práctica usar `self` se ha convertido en una convención.\n",
    "\n",
    "Con esta definición, ahora podemos trabajar con objetos de la clase `Auto` de la siguiente manera:\n"
   ]
  },
  {
   "cell_type": "code",
   "execution_count": 2,
   "metadata": {},
   "outputs": [
    {
     "name": "stdout",
     "output_type": "stream",
     "text": [
      "Calcula nueva ubicación\n",
      "37145\n"
     ]
    }
   ],
   "source": [
    "auto_1 = Auto(\"kia\", \"sportage\", 2000, \"blanco\", 145230)\n",
    "auto_2 = Auto(\"suzuki\", \"grand nomade\", 2015, \"naranjo\", 35695)\n",
    "auto_2.conducir(1450)\n",
    "auto_1.vender(\"Enrique\")\n",
    "print(auto_2.leer_odometro())"
   ]
  },
  {
   "cell_type": "markdown",
   "metadata": {},
   "source": [
    "### Ejemplo: definición de clase `Departamento`\n",
    "\n",
    "En este ejemplo, definimos una clase de nombre `Departamento`, la cual representa un departamento en venta con atributos como *superficie* (en m2), *valor* (en UF), *cantidad de dormitorios*, *cantidad de baños*, y un valor *booleano* que nos indica si el departamento ha sido vendido o no. También definimos un método *vender* que podría ser de interés para un vendedor."
   ]
  },
  {
   "cell_type": "code",
   "execution_count": 3,
   "metadata": {},
   "outputs": [],
   "source": [
    "class Departamento:  # CamelCase notation (PEP8)\n",
    "    '''Clase que representa un departamento en venta\n",
    "       valor esta en UF.\n",
    "    '''\n",
    "    def __init__(self, _id, mts2, valor, num_dorms, num_banos):\n",
    "        self._id = _id  # usamos \"_id\" porque \"id\" es una keyword de python\n",
    "        self.mts2 = mts2\n",
    "        self.valor = valor\n",
    "        self.num_dorms = num_dorms\n",
    "        self.num_banos = num_banos\n",
    "        self.vendido = False\n",
    "\n",
    "    def vender(self):\n",
    "        if not self.vendido:\n",
    "            self.vendido = True\n",
    "        else:\n",
    "            print(f\"Departamento {self._id} ya se vendió\")"
   ]
  },
  {
   "cell_type": "markdown",
   "metadata": {},
   "source": [
    "El siguiente código utiliza la clase que acabamos de definir. Primero creamos un nuevo objeto `depto` de la clase `Departamento` y asignamos valores a algunos de sus atributos, de acuerdo al inicializador (`__init__`) de la clase. Sobre este objeto, accedemos a su atributo `vendido`, y utilizamos su método `vender`."
   ]
  },
  {
   "cell_type": "code",
   "execution_count": 4,
   "metadata": {},
   "outputs": [
    {
     "name": "stdout",
     "output_type": "stream",
     "text": [
      "¿El departamento está vendido? False\n",
      "¿El departamento está vendido? True\n",
      "Departamento 1 ya se vendió\n"
     ]
    }
   ],
   "source": [
    "# La notación argumento=valor en el llamado a un método (en este caso, a __init__),\n",
    "# permite indicar explícitamente el argumento al que nos referimos.\n",
    "# Incluso podríamos cambiar el orden en que los entregamos.\n",
    "\n",
    "depto = Departamento(_id=1, mts2=100, valor=5000, num_dorms=3, num_banos=2)\n",
    "print(f\"¿El departamento está vendido? {depto.vendido}\")\n",
    "depto.vender()\n",
    "print(f\"¿El departamento está vendido? {depto.vendido}\")\n",
    "depto.vender()"
   ]
  },
  {
   "cell_type": "markdown",
   "metadata": {},
   "source": [
    "**Puedes practicar la definición de clases en Python con el ejercicio propuesto 1.1**"
   ]
  },
  {
   "cell_type": "markdown",
   "metadata": {},
   "source": [
    "# Encapsulamiento\n",
    "\n",
    "Una característica muy favorecida en OOP es el **encapsulamiento**. El encapsulamiento se refiere al ocultamiento de los atributos de un objeto de manera que éstos sólo puedan ser modificados mediante los métodos que el programador defina. Esto evita que un objeto que interactúa con otro pueda observar o modificar elementos que sean internos al funcionamiento del objeto, y obliga a que toda la interacción sea de la manera que el programador la definió, contribuyendo a reducir la ocurrencia de errores.\n",
    "\n",
    "Veámoslo en el ejemplo de la clase `Auto`. Un `Auto` tiene atributos `color` y `modelo` que son interesantes para un objeto de la clase `Persona` que quiera interactuar con él. Sin embargo, también puede haber atributos como `disco_de_embrague`, o `palanca_de_cambios`, que también son atributos de `Auto`, pero son internos a la construcción y al funcionamiento de un objeto de clase `Auto`. Otros objetos de clase `Auto`, o de otras clases como `Persona` no necesitan interactuar con ellos, o al menos no directamente. Los atributos `disco_de_embrague` y `palanca_de_cambios` están **encapsulados** dentro de la clase `Auto`.\n",
    "\n",
    "En el caso de la clase `Carpeta`, éstas pueden tener un atributo llamado `bloque_de_disco` que indica específicamente en qué parte del disco está almacenada la información de esa carpeta. Sin embargo, ése dato es de poco o nulo interés para nosotros cuando interactuamos con la carpeta. Es útil de manera indirecta, ya que cuando queremos agregar un archivo a la carpeta o cambiar la ubicación de una carpeta, los métodos `mover` o `agregar_archivo` pueden necesitar conocer el valor de `bloque_de_disco` para poder realizar su acción, sin embargo nunca es necesario que el atributo `bloque_de_disco` sea leído por otra entidad que no sea la misma instancia de `Carpeta`. Decimos que el atributo `bloque_de_disco` queda **encapsulado** dentro de la clase `Carpeta`.\n",
    "\n",
    "El encapsulamiento nos ayudará a alcanzar un mejor nivel de abstracción en el modelamiento de nuestros programas al definir qué atributos de un objeto son de interés para otros objetos y cuáles atributos son de interés únicamente para el comportamiento interno del objeto y, por lo tanto, deberían permanecer ocultos o _encapsulados_ dentro del objeto. Veremos que un correcto uso del encapsulamiento de atributos lleva a un código más limpio.\n",
    "\n",
    "\n"
   ]
  },
  {
   "cell_type": "markdown",
   "metadata": {},
   "source": [
    "## Encapsulamiento e interfaces\n",
    "\n",
    "En programación, una interfaz es una _fachada_ para proteger la implementación de una clase e interactuar con otros objetos. La interfaz define el **conjunto de atributos y métodos** de un objeto que son _expuestos_ u ofrecidos por la clase para poder interactuar con otros objetos.\n",
    "\n",
    "En nuestro ejemplo de la clase `Auto`, una interfaz que puede ser ofrecida a un objeto de clase `Conductor` puede incluir atributos como `kilometraje` y `velocidad`, y métodos como `conducir`, `acelerar`, ó `encender el motor`. No queremos que un objeto de clase `Conductor` pueda modificar directamente el atributo `velocidad`, sino que sólo lo puede hacer utilizando el método `acelerar`. Por otro lado, si consideramos la interacción con un objeto de clase `Mecánico`, podríamos pensar en una interfaz con atributos como `nivel_de_aceite`, y métodos como `abrir_capot`, `cambiar_neumático` o `reemplazar_discos`. \n",
    "\n",
    "![](img/OOP_interfaz.png)\n",
    "\n",
    "El nivel de detalle de la interfaz se denomina **abstracción**. En nuestro ejemplo, todos los atributos `kilometraje`, `velocidad`, `nivel_de_aceite` y los métodos `acelerar`, `encender_el_motor`, `abrir_capot` siguen siendo parte de la clase `Auto`. Sin embargo, hemos definido una interfaz con cierto nivel de abstracción para interactuar con la clase `Conductor`, ocultando o abstrayendo al `Conductor` de detalles internos del `Auto`. Por otro lado, para interactuar con la clase `Mecánico` ofrecemos, además de lo que es accesible al `Conductor`, una interfaz más concreta que expone un mayor conjunto de atributos y métodos de la clase `Auto`."
   ]
  },
  {
   "cell_type": "markdown",
   "metadata": {},
   "source": [
    "## Encapsulamiento en Python\n",
    "\n",
    "En lenguajes tradicionales que usan OOP, como por ejemplo Java y C#, es posible definir atributos o métodos que pueden ser accedidos desde fuera del objeto (*públicos*), y otros que sólo pueden ser utilizados internamente (*privados*). Esta característica es usada para implementar **encapsulamiento**. Al declarar algunos atributos o métodos como *privados*, estos prohibiendo que puedan ser invocados desde código externo a la clase, y el lenguaje evita que el programador viole estas reglas.\n",
    "\n",
    "En Python esta diferencia no existe, y **todos los atributos y métodos de un objeto son públicos**. Esto complicaría la implementación del encapsulamiento en Python. Sin embargo, existe una convención que permite _sugerir_ que un método o atributo es de uso únicamente interno. Esto se hace agregando un caracter _underscore_ (`_`) al inicio del atributo o método, como en el siguiente ejemplo:"
   ]
  },
  {
   "cell_type": "code",
   "execution_count": 5,
   "metadata": {},
   "outputs": [],
   "source": [
    "class Televisor:\n",
    "    ''' Clase que modela un televisor.\n",
    "    '''\n",
    "    \n",
    "    def __init__(self, pulgadas, marca):\n",
    "        self.pulgadas = pulgadas\n",
    "        self.marca = marca\n",
    "        self.encendido = False\n",
    "        self.canal_actual = 0\n",
    "        self._clave = \"tv123\"\n",
    "        \n",
    "    def encender(self):\n",
    "        self.encendido = True\n",
    "        \n",
    "    def apagar(self):\n",
    "        self.encendido = False\n",
    "        \n",
    "    def cambiar_canal(self, nuevo_canal):\n",
    "        self._decodificar_imagen()\n",
    "        self.canal_actual = nuevo_canal\n",
    "        \n",
    "    def _decodificar_imagen(self):\n",
    "        print(\"Estoy convirtiendo una señal eléctrica en la imagen que estás viendo.\")"
   ]
  },
  {
   "cell_type": "markdown",
   "metadata": {},
   "source": [
    "En este ejemplo, podemos notar que la clase `Televisor` tiene los métodos `encender`, `apagar`, `cambiar_canal` y `_decodificar_imagen`. Digamos que queremos crear objetos de la clase `Televisor`. "
   ]
  },
  {
   "cell_type": "code",
   "execution_count": 6,
   "metadata": {},
   "outputs": [],
   "source": [
    "televisor1 = Televisor(17, 'zony')\n",
    "televisor2 = Televisor(21, 'zamsung')"
   ]
  },
  {
   "cell_type": "markdown",
   "metadata": {},
   "source": [
    "Estos televisores que hemos creado deberían poder ser encendidos y apagados. También deberíamos poder cambiar el canal.\n",
    "Pero no necesitamos decirle al televisor que decodifique la imagen. Ésta es una operación que se realiza automáticamente, cada vez que se cambia el canal. Como el método `_decodificar_imagen` empieza con *underscore*, **por convención** éste no debe ser llamado fuera de la clase. Lo mismo ocurre con el atributo `_clave`, que es un parámetro interno del televisor. Sin embargo, como todo esto sólo una convención, **aún podemos acceder a ellos directamente**."
   ]
  },
  {
   "cell_type": "code",
   "execution_count": 7,
   "metadata": {},
   "outputs": [
    {
     "name": "stdout",
     "output_type": "stream",
     "text": [
      "Estoy convirtiendo una señal eléctrica en la imagen que estás viendo.\n",
      "No debería poder leer que la clave es tv123\n"
     ]
    }
   ],
   "source": [
    "televisor1._decodificar_imagen()      ## Esto no debería hacerlo, pero lo estoy haciendo igual :(\n",
    "print(f\"No debería poder leer que la clave es {televisor1._clave}\")"
   ]
  },
  {
   "cell_type": "markdown",
   "metadata": {},
   "source": [
    "Hasta aquí pareciera que esta convención de empezar algunos nombres de atributos y métodos con _underscore_ no hace realmente ninguna diferencia para el intérprete de Python (aun que sí para nuestra propia comprensión del código). Si queremos (casi) realmente tener atributos y métodos que no puedan ser llamados directamente, podemos iniciar con _doble underscore_ como en el siguiente ejemplo."
   ]
  },
  {
   "cell_type": "code",
   "execution_count": 8,
   "metadata": {},
   "outputs": [],
   "source": [
    "class Televisor:\n",
    "    ''' Clase que modela un televisor.\n",
    "    '''\n",
    "    \n",
    "    def __init__(self, pulgadas, marca):\n",
    "        self.pulgadas = pulgadas\n",
    "        self.marca = marca\n",
    "        self.encendido = False\n",
    "        self.canal_actual = 0\n",
    "        self._clave = \"tv123\"\n",
    "        self.__clavesecreta = \"tv456\"\n",
    "        \n",
    "    def encender(self):\n",
    "        self.encendido = True\n",
    "        \n",
    "    def apagar(self):\n",
    "        self.encendido = False\n",
    "        \n",
    "    def cambiar_canal(self, nuevo_canal):\n",
    "        self._decodificar_imagen()\n",
    "        self.canal_actual = nuevo_canal\n",
    "        \n",
    "    def _decodificar_imagen(self):\n",
    "        print(\"Estoy convirtiendo una señal eléctrica en la imagen que estás viendo.\")\n",
    "        \n",
    "    def __mostrar_canal_prohibido(self):\n",
    "        print(\"Esto permite ver el canal del curling, pero usted no debe saberlo.\")\n",
    "\n",
    "televisor1 = Televisor(17, 'zony')\n",
    "televisor2 = Televisor(21, 'zamsung')"
   ]
  },
  {
   "cell_type": "markdown",
   "metadata": {},
   "source": [
    "Y entonces si queremos acceder a estos elementos:"
   ]
  },
  {
   "cell_type": "code",
   "execution_count": 9,
   "metadata": {},
   "outputs": [
    {
     "ename": "AttributeError",
     "evalue": "'Televisor' object has no attribute '__clavesecreta'",
     "output_type": "error",
     "traceback": [
      "\u001b[0;31m---------------------------------------------------------------------------\u001b[0m",
      "\u001b[0;31mAttributeError\u001b[0m                            Traceback (most recent call last)",
      "Input \u001b[0;32mIn [9]\u001b[0m, in \u001b[0;36m<cell line: 1>\u001b[0;34m()\u001b[0m\n\u001b[0;32m----> 1\u001b[0m \u001b[38;5;28mprint\u001b[39m(\u001b[43mtelevisor1\u001b[49m\u001b[38;5;241;43m.\u001b[39;49m\u001b[43m__clavesecreta\u001b[49m)\n",
      "\u001b[0;31mAttributeError\u001b[0m: 'Televisor' object has no attribute '__clavesecreta'"
     ]
    }
   ],
   "source": [
    "print(televisor1.__clavesecreta)"
   ]
  },
  {
   "cell_type": "code",
   "execution_count": 10,
   "metadata": {},
   "outputs": [
    {
     "ename": "AttributeError",
     "evalue": "'Televisor' object has no attribute '__mostrar_canal_prohibido'",
     "output_type": "error",
     "traceback": [
      "\u001b[0;31m---------------------------------------------------------------------------\u001b[0m",
      "\u001b[0;31mAttributeError\u001b[0m                            Traceback (most recent call last)",
      "Input \u001b[0;32mIn [10]\u001b[0m, in \u001b[0;36m<cell line: 1>\u001b[0;34m()\u001b[0m\n\u001b[0;32m----> 1\u001b[0m \u001b[43mtelevisor1\u001b[49m\u001b[38;5;241;43m.\u001b[39;49m\u001b[43m__mostrar_canal_prohibido\u001b[49m()\n",
      "\u001b[0;31mAttributeError\u001b[0m: 'Televisor' object has no attribute '__mostrar_canal_prohibido'"
     ]
    }
   ],
   "source": [
    "televisor1.__mostrar_canal_prohibido()"
   ]
  },
  {
   "cell_type": "markdown",
   "metadata": {},
   "source": [
    "Podemos ver que, a pesar que los atributos existen, Python pareciera ser incapaz de encontrarlos y nos arroja un error. La verdad es que todo esto es un **truco** de la implementación de Python (y Python tiene muchos) para proveer algo similar a los atributos y métodos privados. Cuando un atributo o método empieza con *doble underscore*, Python reemplaza internamente sus nombres por `_NombreDeLaClase__atributo_o_metodo_secreto`, y por lo tanto podemos ser más astutos y escribir:"
   ]
  },
  {
   "cell_type": "code",
   "execution_count": 11,
   "metadata": {},
   "outputs": [
    {
     "name": "stdout",
     "output_type": "stream",
     "text": [
      "Esto permite ver el canal del curling, pero usted no debe saberlo.\n",
      "Ahora sí puedo ver que la clave secreta es tv456\n"
     ]
    }
   ],
   "source": [
    "televisor1._Televisor__mostrar_canal_prohibido()\n",
    "print(f\"Ahora sí puedo ver que la clave secreta es {televisor1._Televisor__clavesecreta}\")"
   ]
  },
  {
   "cell_type": "markdown",
   "metadata": {},
   "source": [
    "Este truco se conoce como _name mangling_. No ocurre, sin embargo, cuando el nombre del método termina también con *doble underscore*, por lo cual sí podemos llamar directamente métodos como `televisor1.__str__()`. Estas características son, en cualquier caso, exclusivas de Python y su objetivo es disminuir la posibilidad de errores por parte del programador al proveer algo que simula la existencia de atributos y métodos privados en un lenguaje que por diseño no los tiene."
   ]
  },
  {
   "cell_type": "markdown",
   "metadata": {},
   "source": [
    "**Revisa el ejemplo de implementación de la clase `Auto`. ¿Qué atributos y métodos simulan ser privados?**"
   ]
  },
  {
   "cell_type": "markdown",
   "metadata": {},
   "source": [
    "## Variables de clases y de instancia\n",
    "\n",
    "Muchas veces, necesitamos tener un valor que sea compartido por todas las instancias de una clase, pero que esta a su vez sea una variable propia de la clase. Para esto, podemos definir una variable de clase, simplemente declarándola dentro de su definición. Luego, para utilizarla basta llamarla como si fuera un atributo de la clase. Supongamos que nos piden implementar el sistema registro de personas en el registro civil. Sabemos que todas las personas tienen un RUN (o RUT), y que este es único (dos personas no pueden tener un mismo RUN). Es claro que podríamos implementar una clase `Persona` que tenga un atributo `run`, pero ¿cómo nos aseguramos que todas las personas tengan un `run` único? En términos de programación,  ¿cómo podemos hacer que cada instancia de `Persona` tenga un `run` único? Para esto podemos utilizar una variable de clase. A continuación, se muestra un ejemplo de cómo podríamos implementar esto en Python, utilizando variables de clase."
   ]
  },
  {
   "cell_type": "code",
   "execution_count": 12,
   "metadata": {},
   "outputs": [
    {
     "name": "stdout",
     "output_type": "stream",
     "text": [
      "Hola, soy Hernán y mi run es 1\n",
      "Hola, soy Nico y mi run es 2\n",
      "Hola, soy Lesly y mi run es 3\n",
      "Hola, soy Joaquín y mi run es 4\n"
     ]
    }
   ],
   "source": [
    "class Persona:\n",
    "    run = 1\n",
    "    \n",
    "    def __init__(self, nombre):\n",
    "        self.nombre = nombre\n",
    "        self.run = Persona.run\n",
    "        Persona.run += 1\n",
    "    \n",
    "    def presentarse(self):\n",
    "        print(f'Hola, soy {self.nombre} y mi run es {self.run}')\n",
    "\n",
    "p1 = Persona('Hernán')\n",
    "p2 = Persona('Nico')\n",
    "p3 = Persona('Lesly')\n",
    "p4 = Persona('Joaquín')\n",
    "p1.presentarse()\n",
    "p2.presentarse()\n",
    "p3.presentarse()\n",
    "p4.presentarse()\n"
   ]
  },
  {
   "cell_type": "markdown",
   "metadata": {},
   "source": [
    "Ahora, cada persona que se registre tendrá un run único. El run de cada instancia pasa a ser propio de la instancia, y el valor del siguiente run quedará guardado en la variable de clase."
   ]
  }
 ],
 "metadata": {
  "kernelspec": {
   "display_name": "Python 3 (ipykernel)",
   "language": "python",
   "name": "python3"
  },
  "language_info": {
   "codemirror_mode": {
    "name": "ipython",
    "version": 3
   },
   "file_extension": ".py",
   "mimetype": "text/x-python",
   "name": "python",
   "nbconvert_exporter": "python",
   "pygments_lexer": "ipython3",
   "version": "3.10.10"
  }
 },
 "nbformat": 4,
 "nbformat_minor": 4
}
