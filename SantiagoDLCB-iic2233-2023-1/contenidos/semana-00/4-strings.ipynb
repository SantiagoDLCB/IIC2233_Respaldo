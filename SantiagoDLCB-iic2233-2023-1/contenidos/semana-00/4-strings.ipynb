{
 "cells": [
  {
   "attachments": {},
   "cell_type": "markdown",
   "metadata": {},
   "source": [
    "<p>\n",
    "<font size='5' face='Georgia, Arial'>IIC-2233 Apunte Programación Avanzada</font><br>\n",
    "<font size='1'> Modificado en 2019-1, 2019-2, 2020-1, 2020-2, 2021-1, 2021-2 y 2023-1 por Equipo Docente IIC2233. </font>\n",
    "</p>"
   ]
  },
  {
   "cell_type": "markdown",
   "metadata": {},
   "source": [
    "# Tabla de contenidos\n",
    "\n",
    "1. [*Strings*](#Strings)\n",
    "2. [Métodos disponibles](#Métodos-disponibles)\n",
    "3. [Uso de variables dentro de un *string*](#Uso-de-variables-dentro-de-un-string)\n",
    "4. [Mejorando la impresión de los *strings*](#Mejorando-la-impresión-de-los-strings)\n"
   ]
  },
  {
   "attachments": {},
   "cell_type": "markdown",
   "metadata": {},
   "source": [
    "## *Strings*\n",
    "\n",
    "Hasta ahora, puede que hayas trabajado muchas veces con *strings*. Son objetos que representan cadenas de caracteres y nos permiten trabajar con texto. Como tal vez sabrás, los *strings* corresponden a una secuencia inmutable de caracteres. En Python 3, todos los *strings* se representan en [Unicode](https://es.wikipedia.org/wiki/Unicode), codificación que permite representar virtualmente cualquier carácter en cualquier lenguaje que veremos posteriormente con más detalle. Entonces, pensemos que en Python un *string* es una secuencia inmutable de caracteres Unicode."
   ]
  },
  {
   "cell_type": "code",
   "execution_count": 1,
   "metadata": {},
   "outputs": [
    {
     "name": "stdout",
     "output_type": "stream",
     "text": [
      "m o\n"
     ]
    }
   ],
   "source": [
    "# Ejemplo de string\n",
    "cadena = \"mi cadena de texto\"\n",
    "print(cadena[0], cadena[-1])"
   ]
  },
  {
   "attachments": {},
   "cell_type": "markdown",
   "metadata": {},
   "source": [
    "Como se ve en el ejemplo anterior, podemos acceder a un elemento del _string_, pero no podemos modificarlo. Recordemos que un _string_ es una ***secuencia inmutable***, por lo tanto, no es posible modificar su valor una vez creado."
   ]
  },
  {
   "cell_type": "code",
   "execution_count": 2,
   "metadata": {},
   "outputs": [
    {
     "ename": "TypeError",
     "evalue": "'str' object does not support item assignment",
     "output_type": "error",
     "traceback": [
      "\u001b[0;31m---------------------------------------------------------------------------\u001b[0m",
      "\u001b[0;31mTypeError\u001b[0m                                 Traceback (most recent call last)",
      "Cell \u001b[0;32mIn[2], line 2\u001b[0m\n\u001b[1;32m      1\u001b[0m \u001b[39m# Intentaremos cambiar la primera letra por una mayúscula\u001b[39;00m\n\u001b[0;32m----> 2\u001b[0m cadena[\u001b[39m0\u001b[39;49m] \u001b[39m=\u001b[39m \u001b[39m\"\u001b[39m\u001b[39mM\u001b[39m\u001b[39m\"\u001b[39m\n",
      "\u001b[0;31mTypeError\u001b[0m: 'str' object does not support item assignment"
     ]
    }
   ],
   "source": [
    "# Intentaremos cambiar la primera letra por una mayúscula\n",
    "cadena[0] = \"M\""
   ]
  },
  {
   "cell_type": "markdown",
   "metadata": {},
   "source": [
    "Para \"modificar\" un *string* hay que crear uno nuevo:"
   ]
  },
  {
   "cell_type": "code",
   "execution_count": 3,
   "metadata": {},
   "outputs": [
    {
     "name": "stdout",
     "output_type": "stream",
     "text": [
      "Mi cadena de texto\n"
     ]
    }
   ],
   "source": [
    "cadena = \"Mi cadena de texto\"\n",
    "print(cadena)"
   ]
  },
  {
   "cell_type": "markdown",
   "metadata": {},
   "source": [
    "También se pueden concatenar *strings* para formar uno nuevo."
   ]
  },
  {
   "cell_type": "code",
   "execution_count": 4,
   "metadata": {},
   "outputs": [
    {
     "name": "stdout",
     "output_type": "stream",
     "text": [
      "Mi cadena de texto\n"
     ]
    }
   ],
   "source": [
    "otra_cadena = \"\"\n",
    "for caracter in cadena:\n",
    "    otra_cadena += caracter\n",
    "print(otra_cadena)"
   ]
  },
  {
   "cell_type": "markdown",
   "metadata": {},
   "source": [
    "A continuación, algunas formas distintas de crear un *string* en Python:"
   ]
  },
  {
   "cell_type": "code",
   "execution_count": 5,
   "metadata": {},
   "outputs": [
    {
     "name": "stdout",
     "output_type": "stream",
     "text": [
      "programando\n",
      "mucho\n",
      "un string\n",
      "con múltiples\n",
      "lineas\n",
      "Multiples con\n",
      "     comillas dobles\n",
      "Tres strings juntos\n",
      "un string concatenado\n",
      "Otra forma de string que nos permite utilizar más de una línea pero en verdad solo es una, lo que es muy útil para cumplir PEP-8 :)\n"
     ]
    }
   ],
   "source": [
    "a = \"programando\"\n",
    "b = 'mucho'\n",
    "c = '''un string\n",
    "con múltiples\n",
    "lineas'''\n",
    "\n",
    "d = \"\"\"Multiples con\n",
    "     comillas dobles\"\"\"\n",
    "e = (\"Tres\" \" strings\" \" juntos\")\n",
    "f = \"un string \" + \"concatenado\"\n",
    "g = (\"Otra forma de string que nos permite \"\n",
    "     \"utilizar más de una línea pero en verdad solo es una,\"\n",
    "     \" lo que es muy útil para cumplir PEP-8 :)\")\n",
    "\n",
    "print(a)\n",
    "print(b)\n",
    "print(c)\n",
    "print(d)\n",
    "print(e)\n",
    "print(f)\n",
    "print(g)"
   ]
  },
  {
   "cell_type": "markdown",
   "metadata": {},
   "source": [
    "#### Secuencia de escape\n",
    "El `\\` se denomina carácter de escape y se combina con otros caracteres para darles un nuevo significado.\n",
    "\n",
    "Secuencia | Significado \n",
    "--- | --- \n",
    "\\\\\" | Comilla doble\n",
    "\\\\' | Comilla simple\n",
    "\\n | Salto de línea\n",
    "\\t | Tabulador\n",
    "\\\\\\ | Backslash"
   ]
  },
  {
   "cell_type": "code",
   "execution_count": 6,
   "metadata": {},
   "outputs": [
    {
     "name": "stdout",
     "output_type": "stream",
     "text": [
      "hola quiero escribir comillas dobles \" y seguir escribiendo\n"
     ]
    }
   ],
   "source": [
    "a = \"hola quiero escribir comillas dobles \\\" y seguir escribiendo\"\n",
    "print(a)"
   ]
  },
  {
   "cell_type": "markdown",
   "metadata": {},
   "source": [
    "## Métodos disponibles\n",
    "\n",
    "La clase `str` tiene muchos métodos para manipular *strings*. La función [`dir`](https://docs.python.org/3/library/functions.html#dir) nos permite obtener la lista:"
   ]
  },
  {
   "cell_type": "code",
   "execution_count": 7,
   "metadata": {},
   "outputs": [
    {
     "name": "stdout",
     "output_type": "stream",
     "text": [
      "['__add__', '__class__', '__contains__', '__delattr__', '__dir__', '__doc__', '__eq__', '__format__', '__ge__', '__getattribute__', '__getitem__', '__getnewargs__', '__gt__', '__hash__', '__init__', '__init_subclass__', '__iter__', '__le__', '__len__', '__lt__', '__mod__', '__mul__', '__ne__', '__new__', '__reduce__', '__reduce_ex__', '__repr__', '__rmod__', '__rmul__', '__setattr__', '__sizeof__', '__str__', '__subclasshook__', 'capitalize', 'casefold', 'center', 'count', 'encode', 'endswith', 'expandtabs', 'find', 'format', 'format_map', 'index', 'isalnum', 'isalpha', 'isascii', 'isdecimal', 'isdigit', 'isidentifier', 'islower', 'isnumeric', 'isprintable', 'isspace', 'istitle', 'isupper', 'join', 'ljust', 'lower', 'lstrip', 'maketrans', 'partition', 'removeprefix', 'removesuffix', 'replace', 'rfind', 'rindex', 'rjust', 'rpartition', 'rsplit', 'rstrip', 'split', 'splitlines', 'startswith', 'strip', 'swapcase', 'title', 'translate', 'upper', 'zfill']\n"
     ]
    }
   ],
   "source": [
    "print(dir(str))"
   ]
  },
  {
   "cell_type": "markdown",
   "metadata": {},
   "source": [
    "Los siguientes métodos nos permiten responder preguntas sobre un _string_ (una instancia) en particular. \"¿Está compuesto solo por dígitos?\" (`str.isdigit()`). \"¿Termina con este otro _string_?\" (`str.endswith(s)`). \"¿En qué posición empieza este otro _string_?\" (`str.index(s)`). Veamos algunos ejemplos:"
   ]
  },
  {
   "cell_type": "code",
   "execution_count": 8,
   "metadata": {},
   "outputs": [
    {
     "name": "stdout",
     "output_type": "stream",
     "text": [
      "True\n",
      "False\n",
      "True\n",
      "True\n",
      "True\n",
      "4\n",
      "4\n",
      "6\n"
     ]
    }
   ],
   "source": [
    "# El método isalpha retorna True si todos los caracteres del string\n",
    "# están en el alfabeto de algún lenguaje.\n",
    "print(\"abñ\".isalpha()) \n",
    "\n",
    "# Si hay algún número, espacio o puntuación dentro del string, retornará False.\n",
    "print(\"t/\".isalpha())\n",
    "\n",
    "# El método isdigit retorna True si todos los caracteres en el string\n",
    "# son dígitos numéricos.\n",
    "print(\"34\".isdigit())\n",
    "\n",
    "s = \"estoy programando\"\n",
    "print(s.startswith(\"est\"))\n",
    "print(s.endswith(\"do\"))\n",
    "\n",
    "# Devuelve el índice donde comienza en s la secuencia que se pasa como argumento.\n",
    "print(s.find(\"y p\"))\n",
    "\n",
    "# El método index retorna el índice donde comienza la secuencia.\n",
    "# Acepta dos argumentos opcionales:\n",
    "# - la posición inicial donde comenzar la búsqueda y\n",
    "# - la posición final (hasta dónde llega buscando)\n",
    "print(s.index(\"y\", 4, 10))\n",
    "print(s.index(\"p\", 5, 10))"
   ]
  },
  {
   "cell_type": "markdown",
   "metadata": {},
   "source": [
    "A diferencia de los anteriores, existen otros métodos que actúan directamente sobre el *string* y retornan un *string* nuevo, sin modificar el original, ya que **los *strings* son objetos inmutables**. Algunos ejemplos útiles:"
   ]
  },
  {
   "cell_type": "code",
   "execution_count": 9,
   "metadata": {},
   "outputs": [
    {
     "name": "stdout",
     "output_type": "stream",
     "text": [
      "['hola', 'a', 'todos,', 'cómo', 'están']\n",
      "hola#a#todos,#cómo#están\n",
      "hola**a**todos,**cómo**están\n",
      "hola a todos, cómo están\n"
     ]
    }
   ],
   "source": [
    "s = \"hola a todos, cómo están\"\n",
    "\n",
    "# Retorna una lista de strings a partir de separar el original en base a \" \".\n",
    "s2 = s.split(\" \")\n",
    "print(s2)\n",
    "\n",
    "# Concatena todos los elementos de la secuencia dada por medio del string \"#\".\n",
    "s3 = \"#\".join(s2)\n",
    "print(s3)\n",
    "\n",
    "# Entrega un nuevo string en que se reemplazó cada \" \" por \"**\".\n",
    "print(s.replace(\" \", \"**\"))\n",
    "\n",
    "# Notar que el string inicial sigue intacto, solo obtuvimos nuevas versiones.\n",
    "print(s)"
   ]
  },
  {
   "attachments": {},
   "cell_type": "markdown",
   "metadata": {},
   "source": [
    "## Uso de variables dentro de un *string*\n",
    "\n",
    "A lo largo del curso, seguramente has visto este uso de *strings*. Los *f-strings* son una forma de formatear *strings* que permite añadir expresiones de Python directamente en un *string*. Para indicarle a Python que utilizaremos esta funcionalidad, debemos anteponer el *string* con la letra `f` (de ahí el nombre *f-string*). \n",
    "\n",
    "Este método es muy útil para completar un *string* que estemos usando como \"plantilla\", para insertar valores de variables dentro de un *string*. Las ventajas de esta sintaxis son que el código queda más legible, conciso y es menos susceptible a errores, además de ser más rápida que otras formas de concatenación."
   ]
  },
  {
   "cell_type": "code",
   "execution_count": 10,
   "metadata": {},
   "outputs": [
    {
     "name": "stdout",
     "output_type": "stream",
     "text": [
      "Hola Juan Pérez, estás aprobado. Tu nota fue un 4.5.\n"
     ]
    }
   ],
   "source": [
    "nombre = \"Juan Pérez\"\n",
    "nota = 4.5\n",
    "\n",
    "if nota >= 4.0:\n",
    "    resultado = \"aprobado\"\n",
    "else:\n",
    "    resultado = \"reprobado\"\n",
    "\n",
    "print(f\"Hola {nombre}, estás {resultado}. Tu nota fue un {nota}.\")"
   ]
  },
  {
   "attachments": {},
   "cell_type": "markdown",
   "metadata": {},
   "source": [
    "Si queremos incluir las *llaves* (`{`, `}`) dentro del *string*, podemos agregar un *escape character*, que permite invocar una interpretación alternativa de los caracteres siguientes. Más concretamente, las llaves en este caso, se utilizan para encapsular la variable que queremos imprimir. Sin embargo, la representación alternativa, sería la representación literal de la llave. Luego, para este caso, si queremos imprimir una llave, esto se logrará con una doble llave.\n",
    "\n",
    "Veamos un ejemplo. Digamos que buscamos imprimir una simple definición de una clase en Java."
   ]
  },
  {
   "cell_type": "code",
   "execution_count": 11,
   "metadata": {},
   "outputs": [
    {
     "name": "stdout",
     "output_type": "stream",
     "text": [
      "\n",
      "public class MiClase \n",
      "{\n",
      "       public static void main(String[] args) \n",
      "       {\n",
      "           System.out.println('hola mundo');\n",
      "       } \n",
      "}\n"
     ]
    }
   ],
   "source": [
    "# Con estas variables generaremos el string\n",
    "clase = \"MiClase\"\n",
    "salida = \"'hola mundo'\"\n",
    "\n",
    "# En nuestra plantilla utilizamos llaves dobles cuando queremos mantenerlas...\n",
    "codigo = f\"\"\"\n",
    "public class {clase} \n",
    "{{\n",
    "       public static void main(String[] args) \n",
    "       {{\n",
    "           System.out.println({salida});\n",
    "       }} \n",
    "}}\"\"\"\n",
    "\n",
    "# ... pero en el resultado a imprimir solo se verá una llave simple\n",
    "print(codigo)"
   ]
  },
  {
   "cell_type": "markdown",
   "metadata": {},
   "source": [
    "A veces queremos incluir muchas variables dentro de un *string*, pero como vimos, eso no es un problema. Sin embargo, a veces queremos asociar estas variables dentro de objetos más complejos, que hagan sentido en nuestra modelación. Pensemos en el siguiente ejemplo, dándole forma a un correo:"
   ]
  },
  {
   "cell_type": "code",
   "execution_count": 12,
   "metadata": {},
   "outputs": [
    {
     "name": "stdout",
     "output_type": "stream",
     "text": [
      "\n",
      "From: <cruz@ing.puc.cl>\n",
      "To: <alumnos@iic2233.com>\n",
      "Subject: IIC2233 - Este correo es urgente\n",
      "\n",
      "Este es un mail de prueba.\n",
      "\n",
      "Espero que el mensaje te sea de mucha utilidad!\n",
      "\n"
     ]
    }
   ],
   "source": [
    "# Las variables necesarias para crear nuestro string\n",
    "from_email = \"cruz@ing.puc.cl\"\n",
    "to_email = \"alumnos@iic2233.com\"\n",
    "message = (\"\\nEste es un mail de prueba.\\n\"\n",
    "           \"\\nEspero que el mensaje te sea de mucha utilidad!\")\n",
    "subject = \"IIC2233 - Este correo es urgente\"\n",
    "\n",
    "# Nuestro f-string\n",
    "print(f\"\"\"\n",
    "From: <{from_email}>\n",
    "To: <{to_email}>\n",
    "Subject: {subject}\n",
    "{message}\n",
    "\"\"\")"
   ]
  },
  {
   "cell_type": "code",
   "execution_count": 13,
   "metadata": {},
   "outputs": [
    {
     "name": "stdout",
     "output_type": "stream",
     "text": [
      "\n",
      "From: <a@ejemplo.com>\n",
      "To: <b@ejemplo.com>\n",
      "Subject: Tienes un correo\n",
      "\n",
      "Este es un correo para ti\n",
      "\n"
     ]
    }
   ],
   "source": [
    "# Las variables necesarias para crear nuestro string\n",
    "emails = (\"a@ejemplo.com\", \"b@ejemplo.com\")\n",
    "message = {\n",
    "    'subject': \"Tienes un correo\",\n",
    "    'message': \"\\nEste es un correo para ti\",\n",
    "}\n",
    "\n",
    "# Nuestro f-string\n",
    "print(f\"\"\"\n",
    "From: <{emails[0]}>\n",
    "To: <{emails[1]}>\n",
    "Subject: {message['subject']}\n",
    "{message['message']}\n",
    "\"\"\")"
   ]
  },
  {
   "cell_type": "markdown",
   "metadata": {},
   "source": [
    "También podemos usar un diccionario que contenga listas e indexar la lista dentro del *string*."
   ]
  },
  {
   "cell_type": "code",
   "execution_count": 14,
   "metadata": {},
   "outputs": [
    {
     "name": "stdout",
     "output_type": "stream",
     "text": [
      "\n",
      "From: <yo@ejemplo.com>\n",
      "To: <tu@ejemplo.com>\n",
      "Subject: mira este correo\n",
      "Sorry, no era tan importante\n",
      "\n"
     ]
    }
   ],
   "source": [
    "# Las variables necesarias para crear nuestro string\n",
    "message = {\n",
    "    \"emails\": [\"yo@ejemplo.com\", \"tu@ejemplo.com\"],\n",
    "    \"subject\": \"mira este correo\",\n",
    "    \"message\": \"Sorry, no era tan importante\"\n",
    "}\n",
    "\n",
    "# Nuestro f-string\n",
    "print(f\"\"\"\n",
    "From: <{message['emails'][0]}>\n",
    "To: <{message['emails'][1]}>\n",
    "Subject: {message['subject']}\n",
    "{message['message']}\n",
    "\"\"\")"
   ]
  },
  {
   "cell_type": "markdown",
   "metadata": {},
   "source": [
    "Esto puede ser aún mejor: podemos pasar cualquier objeto como argumento, por ejemplo, una instancia de una clase. Luego, dentro del *string* podemos acceder a cualquiera de los atributos del objeto."
   ]
  },
  {
   "cell_type": "code",
   "execution_count": 15,
   "metadata": {},
   "outputs": [
    {
     "name": "stdout",
     "output_type": "stream",
     "text": [
      "\n",
      "From: <a@ejemplo.com>\n",
      "To: <b@ejemplo.com>\n",
      "Subject: Tienes un correo\n",
      "\n",
      "Que tengas un lindo día\n",
      "\n",
      "Saludos :)\n"
     ]
    }
   ],
   "source": [
    "# Esta clase representa a un e-mail\n",
    "class EMail:\n",
    "    def __init__(self, from_addr, to_addr, subject, message):\n",
    "        self.from_addr = from_addr\n",
    "        self.to_addr = to_addr\n",
    "        self.subject = subject\n",
    "        self.message = message\n",
    "\n",
    "\n",
    "# Creamos nuestra instancia de la clase\n",
    "email = EMail(\"a@ejemplo.com\", \"b@ejemplo.com\",\"Tienes un correo\",\"\\nQue tengas un lindo día\\n\\nSaludos :)\")\n",
    "\n",
    "print(f\"\"\"\n",
    "From: <{email.from_addr}>\n",
    "To: <{email.to_addr}>\n",
    "Subject: {email.subject}\n",
    "{email.message}\"\"\")"
   ]
  },
  {
   "cell_type": "markdown",
   "metadata": {},
   "source": [
    "Otro elemento muy útil de Python es el uso de `str.format()`. Si queremos usar una plantilla, es decir, un _string_ que queremos usar muchas veces reemplazando elementos con distintas variables, podemos crear un _string_ con una notación similar a la de *f-strings* y usar `str.format()` para hacer el reemplazo de los valores."
   ]
  },
  {
   "cell_type": "code",
   "execution_count": 16,
   "metadata": {},
   "outputs": [
    {
     "name": "stdout",
     "output_type": "stream",
     "text": [
      "Hola a@ejemplo.com, te damos la bienvenida!\n",
      "Hola b@ejemplo.com, te damos la bienvenida!\n"
     ]
    }
   ],
   "source": [
    "correo_1 = \"a@ejemplo.com\"\n",
    "correo_2 = \"b@ejemplo.com\"\n",
    "\n",
    "saludar_usuario = \"Hola {}, te damos la bienvenida!\"\n",
    "\n",
    "print(saludar_usuario.format(correo_1))\n",
    "print(saludar_usuario.format(correo_2))"
   ]
  },
  {
   "cell_type": "markdown",
   "metadata": {},
   "source": [
    "Sin embargo, dado que podemos hacer múltiples reemplazos a través del uso de múltiples llaves dentro del *string*, podemos asignarle un nombre a cada uno de estos espacios y elegir qué valor darle a ese espacio particular a través del uso de *keyword arguments*:"
   ]
  },
  {
   "cell_type": "code",
   "execution_count": 17,
   "metadata": {},
   "outputs": [
    {
     "name": "stdout",
     "output_type": "stream",
     "text": [
      "Hola b@ejemplo.com, te saluda el usuario a@ejemplo.com\n"
     ]
    }
   ],
   "source": [
    "saludo_entre_usuarios = \"Hola {saludado}, te saluda el usuario {saludador}\"\n",
    "\n",
    "print(saludo_entre_usuarios.format(saludado=correo_2, saludador=correo_1))"
   ]
  },
  {
   "cell_type": "markdown",
   "metadata": {},
   "source": [
    "## Mejorando la impresión de los *strings*\n",
    "\n",
    "También podemos mejorar el formato de los *strings* que se imprimen. Por ejemplo, en casos como la impresión de una tabla con datos, muchas veces queremos que datos pertenecientes a la misma variable se vean alineados en columnas:"
   ]
  },
  {
   "cell_type": "code",
   "execution_count": 18,
   "metadata": {},
   "outputs": [],
   "source": [
    "compra = [('leche', 2, 120), ('pan', 3.5, 800), ('arroz', 1.75, 960)]"
   ]
  },
  {
   "cell_type": "code",
   "execution_count": 19,
   "metadata": {},
   "outputs": [
    {
     "name": "stdout",
     "output_type": "stream",
     "text": [
      "PRODUCTO | CANTIDAD | PRECIO | SUBTOTAL\n",
      "leche | 120 | $2 | $240\n",
      "pan | 800 | $3.5 | $2800.0\n",
      "arroz | 960 | $1.75 | $1680.0\n"
     ]
    }
   ],
   "source": [
    "print(\"PRODUCTO | CANTIDAD | PRECIO | SUBTOTAL\")\n",
    "for producto, precio, cantidad in compra:\n",
    "    subtotal = precio * cantidad\n",
    "    print(f\"{producto} | {cantidad} | ${precio} | ${subtotal}\")"
   ]
  },
  {
   "cell_type": "markdown",
   "metadata": {},
   "source": [
    "Como puedes ver, los elementos de cada línea no quedan alineados, pero Python nos permite utilizar elementos extra en la formación de *strings* para darle una forma más estructurada:"
   ]
  },
  {
   "cell_type": "code",
   "execution_count": 20,
   "metadata": {},
   "outputs": [
    {
     "name": "stdout",
     "output_type": "stream",
     "text": [
      "PRODUCTO | CANTIDAD | PRECIO | SUBTOTAL\n",
      "leche    |   120    | $2.00  | $ 240.00\n",
      "pan      |   800    | $3.50  | $2800.00\n",
      "arroz    |   960    | $1.75  | $1680.00\n"
     ]
    }
   ],
   "source": [
    "print(\"PRODUCTO | CANTIDAD | PRECIO | SUBTOTAL\")\n",
    "for producto, precio, cantidad in compra:\n",
    "    subtotal = precio * cantidad\n",
    "    print(f\"{producto:8s} | {cantidad: ^8d} | ${precio: <5.2f} | ${subtotal: >7.2f}\")"
   ]
  },
  {
   "attachments": {},
   "cell_type": "markdown",
   "metadata": {},
   "source": [
    "Notar que, dentro de cada llave, existe un ítem tipo diccionario; es decir, antes de los dos puntos, va la variable que utilizamos normalmente en nuestro *f-string*. Después de los dos puntos, por ejemplo, `8s`, significa que el dato es un *string* de ocho caracteres. Por defecto, si el *string* es más corto que los ocho caracteres, el resto se llenará con espacios (por la derecha). Notar que también, por defecto, si el *string* que ingresamos es más largo que los 8 caracteres, este **no** será truncado:"
   ]
  },
  {
   "cell_type": "code",
   "execution_count": 21,
   "metadata": {},
   "outputs": [],
   "source": [
    "compra = [('lecheeeeeeeeeeeeeee', 2, 120), ('pan', 3.5, 800), ('arroz', 1.75, 960)]"
   ]
  },
  {
   "cell_type": "code",
   "execution_count": 22,
   "metadata": {},
   "outputs": [
    {
     "name": "stdout",
     "output_type": "stream",
     "text": [
      "PRODUCTO | CANTIDAD | PRECIO | SUBTOTAL\n",
      "lecheeeeeeeeeeeeeee |   120    | $2.00  | $ 240.00\n",
      "pan      |   800    | $3.50  | $2800.00\n",
      "arroz    |   960    | $1.75  | $1680.00\n"
     ]
    }
   ],
   "source": [
    "print(\"PRODUCTO | CANTIDAD | PRECIO | SUBTOTAL\")\n",
    "for producto, precio, cantidad in compra:\n",
    "    subtotal = precio * cantidad\n",
    "    print(f\"{producto:8s} | {cantidad: ^8d} | ${precio: <5.2f} | ${subtotal: >7.2f}\")"
   ]
  },
  {
   "cell_type": "markdown",
   "metadata": {},
   "source": [
    "Podemos cambiar esta situación obligando a que el *string* sea truncado si se pasa del largo máximo. Basta con agregar un punto y la precisión luego del número que indica el largo del *string*. La precisión para tipos no numéricos indica el largo máximo de caracteres usados para este campo."
   ]
  },
  {
   "cell_type": "code",
   "execution_count": 23,
   "metadata": {},
   "outputs": [
    {
     "name": "stdout",
     "output_type": "stream",
     "text": [
      "PRODUCTO | CANTIDAD | PRECIO | SUBTOTAL\n",
      "lecheeee |   120    | $2.00  | $ 240.00\n",
      "pan      |   800    | $3.50  | $2800.00\n",
      "arroz    |   960    | $1.75  | $1680.00\n"
     ]
    }
   ],
   "source": [
    "print(\"PRODUCTO | CANTIDAD | PRECIO | SUBTOTAL\")\n",
    "for producto, precio, cantidad in compra:\n",
    "    subtotal = precio * cantidad\n",
    "    print(f\"{producto:8.8s} | {cantidad: ^8d} | ${precio: <5.2f} | ${subtotal: >7.2f}\")"
   ]
  },
  {
   "attachments": {},
   "cell_type": "markdown",
   "metadata": {},
   "source": [
    "Para la cantidad de producto el formato es `{cantidad: ^8d}`. `cantidad` corresponde a la variable de la tupla en la iteración actual, el espacio después de los dos puntos dice que los lugares vacíos deben ser llenados con espacios (en los tipos enteros, por defecto, se llenará con ceros), el símbolo `^` es para que el número quede centrado en el espacio disponible, `8d` significa que será un entero de hasta ocho dígitos. Notar que siempre el orden de estos parámetros (aunque son opcionales) debe ser de izquierda a derecha después de los dos puntos: **primero el carácter para llenar los espacios vacíos, después el alineamiento, después el tamaño y finalmente el tipo**.\n",
    "\n",
    "Para el precio, por ejemplo, `{precio: <5.2f}` significa que el dato se leerá de la variable `precio`, luego los lugares que queden libres se llenarán con espacios, el símbolo `<` significa que el alineamiento es a la izquierda, el formato será un *float* (`f`) de hasta cinco caracteres, con dos decimales.\n",
    "\n",
    "De la misma forma, para el subtotal, `{subtotal: >7.2f}` significa que el dato se sacará de la variable `subtotal`, el carácter de llenado será espacio, el alineamiento es a la derecha y será un *float* de siete dígitos, dos de ellos decimales, incluyendo el `.` como carácter."
   ]
  }
 ],
 "metadata": {
  "kernelspec": {
   "display_name": "Python 3 (ipykernel)",
   "language": "python",
   "name": "python3"
  },
  "language_info": {
   "codemirror_mode": {
    "name": "ipython",
    "version": 3
   },
   "file_extension": ".py",
   "mimetype": "text/x-python",
   "name": "python",
   "nbconvert_exporter": "python",
   "pygments_lexer": "ipython3",
   "version": "3.10.4"
  }
 },
 "nbformat": 4,
 "nbformat_minor": 4
}
