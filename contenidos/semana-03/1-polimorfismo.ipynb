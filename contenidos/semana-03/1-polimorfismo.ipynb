{
 "cells": [
  {
   "cell_type": "markdown",
   "metadata": {},
   "source": [
    "<p>\n",
    "<font size='5' face='Georgia, Arial'>IIC2233 Apunte Programación Avanzada</font><br>\n",
    "<font size='1'>Basado en: &copy; 2015 Karim Pichara - Christian Pieringer. Todos los derechos reservados. Modificado en 2018-1, 2019-2, 2020-1 y 2020-2 por Equipo IIC2233</font>\n",
    "</p>"
   ]
  },
  {
   "cell_type": "markdown",
   "metadata": {},
   "source": [
    "# Tabla de contenidos\n",
    "1. [Polimorfismo](#Polimorfismo)\n",
    "    1. [Overriding](#Overriding)\n",
    "    2. [Overloading](#Overloading)\n",
    "        1. [Overloading de operadores en Python](#Overloading-de-operadores-en-Python)\n",
    "    3. [`__repr__` vs `__str__`](#__repr__-vs-__str__)\n",
    "2. [*Duck typing*](#Duck-typing)"
   ]
  },
  {
   "cell_type": "markdown",
   "metadata": {},
   "source": [
    "# Polimorfismo\n",
    "\n",
    "El **polimorfismo** se refiere a \"la propiedad por la que es posible enviar mensajes sintácticamente iguales a objetos de tipos distintos\" ([Wikipedia](https://es.wikipedia.org/wiki/Polimorfismo_%28inform%C3%A1tica%29), 2017)). Básicamente se trata de utilizar objetos de distinto tipo con la misma *interfaz*. Dos mecanismo para proveer polimorfismo son _overriding_ y _overloading_.\n",
    "\n",
    "- ***Overriding***: ocurre cuando se implementa un método en una subclase que sobreescribe la implementación del mismo método en la super clase\n",
    "   \n",
    "- ***Overloading***: es la capacidad de definir un método con el mismo nombre pero con distinto número y tipo de argumentos. Es la capacidad de una función de ejecutar distintas acciones dependiendo del tipo y número de argumentos que recibe. \n",
    "  \n",
    "Python no soporta _function overloading_. No se puede definir la función más de una vez con distintos tipos y números de argumentos y esperar que ambas definiciones sean consideradas por el programa. Sin embargo, se puede \"simular\" usando algunos parámetros con valores por defecto o número de argumentos variables.\n",
    "   "
   ]
  },
  {
   "cell_type": "markdown",
   "metadata": {},
   "source": [
    "## *Overriding*\n",
    "Como se mencionó anteriormente, una subclase puede sobreescribir la implementación de los distintos métodos que hereda. A continuación se encuentra un ejemplo en el que se crea una clase superior de nombre `Variable`, la cual almacena un conjunto de datos en el atributo `data`. Se definen tres subclases: `Ingresos`, `Comuna` y `Puesto`. Cada uno, como subclase, posee un atributo `data`, y una implementación distinta del método `representante`. Este método se usa para obtener un valor a partir del conjunto de datos. Algunos ejemplos de valores \"representantes\" pueden ser el promedio, la mediana, o la moda.\n",
    "\n",
    "El siguiente diagrama representa este diseño:\n",
    "\n",
    "![](img/OOP_polimorfismo.png)\n",
    "\n",
    "Se define entonces cómo debe funcionar el método `representante` para cada subclase.\n",
    "\n",
    "- Si los datos son de tipo `Ingresos`, el valor representante es el promedio.\n",
    "- Si los datos son de tipo `Comuna`, el valor representante es la comuna que más se repite. \n",
    "- Si los datos son del tipo `Puesto` de trabajo, entonces el valor representante es el que tiene el puesto más alto según la jerarquía especificada en una lista de categorías.\n",
    "\n",
    "La implementación se ve de la siguiente manera:"
   ]
  },
  {
   "cell_type": "code",
   "execution_count": 1,
   "metadata": {},
   "outputs": [],
   "source": [
    "import statistics\n",
    "\n",
    "class Variable:\n",
    "    def __init__(self, data):\n",
    "        self.data = data\n",
    "\n",
    "    def representante(self):\n",
    "        pass\n",
    "\n",
    "\n",
    "class Ingresos(Variable):\n",
    "    def representante(self):\n",
    "        return statistics.mean(self.data)\n",
    "\n",
    "\n",
    "class Comunas(Variable):\n",
    "    def representante(self):\n",
    "        return statistics.mode(self.data)\n",
    "\n",
    "\n",
    "class Puestos(Variable):\n",
    "    # Ordenadas de menor a mayor\n",
    "    # Este es un atributo de la clase Puestos, compartida por todas sus instancias\n",
    "    # Este tipo de atributo se accede con la notación NombreDeLaClase.atributoClase\n",
    "    # Por ejemplo: Puestos.categorias\n",
    "    categorias = ['Alumno en Practica', 'Analista', 'SubGerente', 'Gerente']\n",
    "\n",
    "    def representante(self):\n",
    "        # Paso 1: Transformar la lista en lista de números, donde 0 es alumno en práctica y 3 gerente\n",
    "        puestos = []\n",
    "        for cargo in self.data:\n",
    "            puestos.append(Puestos.categorias.index(cargo))\n",
    "        # Paso 2: Vemos cuál es el máximo\n",
    "        maximo = max(puestos)\n",
    "        # Paso 3: Retornar cargo asociado\n",
    "        return Puestos.categorias[maximo]"
   ]
  },
  {
   "cell_type": "markdown",
   "metadata": {},
   "source": [
    "Vemos que cada subclase define su propia implementación del método `representante`. Cuando se invoca a un método sobre un tipo de datos, primero se busca el método en la definición del tipo de datos correspondiente. Por ejemplo, si estamos en un objeto de tipo `Comunas`, se invoca el método `representante` definido en la clase `Comunas`. Si no se llegara a encontrar el método en la definición de una clase, entonces se busca si está implementado en la clase superior."
   ]
  },
  {
   "cell_type": "code",
   "execution_count": 2,
   "metadata": {},
   "outputs": [
    {
     "name": "stdout",
     "output_type": "stream",
     "text": [
      "79.36363636363636\n",
      "Santiago\n",
      "SubGerente\n"
     ]
    }
   ],
   "source": [
    "lista_pesos = Ingresos([50, 80, 90, 150, 45, 65, 78, 89, 59, 77, 90])\n",
    "lista_comunas = Comunas(['Providencia', 'Macul' , 'La Reina' ,'Santiago', 'Providencia', 'Puente Alto',\n",
    "                        'Macul', 'Santiago', 'Santiago'])\n",
    "lista_puestos = Puestos(['SubGerente', 'Analista','SubGerente','Analista','Alumno en Practica',\n",
    "                        'Alumno en Practica'])\n",
    "\n",
    "print(lista_pesos.representante())\n",
    "print(lista_comunas.representante())\n",
    "print(lista_puestos.representante())"
   ]
  },
  {
   "cell_type": "markdown",
   "metadata": {},
   "source": [
    "Podemos ver que, si bien las clases `Ingresos`, `Comunas` y `Puestos` heredan de la misma clase, a pesar de tener distintos tipos de datos, para cada una de ellas podemos llamar de la misma manera a su método `representante` y, de acuerdo a la clase que corresponda, se llama a la versión correcta del método.\n",
    "\n",
    "Esto es un ejemplo de polimorfismo: se invoca el mismo método sobre objetos de distinto tipo, y cada uno lo interpreta de acuerdo a su propia definición."
   ]
  },
  {
   "cell_type": "markdown",
   "metadata": {},
   "source": [
    "## *Overloading*\n",
    "\n",
    "A diferencia de otros lenguajes, como C++ o Java, python no soporta _function overloading_, es decir, no es posible definir dos veces la misma función con diferente tipo o número de argumentos, es decir, el siguiente código no se podrá ejecutar:"
   ]
  },
  {
   "cell_type": "code",
   "execution_count": 3,
   "metadata": {},
   "outputs": [
    {
     "ename": "TypeError",
     "evalue": "funcion() missing 1 required positional argument: 'arg2'",
     "output_type": "error",
     "traceback": [
      "\u001b[0;31m---------------------------------------------------------------------------\u001b[0m",
      "\u001b[0;31mTypeError\u001b[0m                                 Traceback (most recent call last)",
      "Cell \u001b[0;32mIn[3], line 8\u001b[0m\n\u001b[1;32m      5\u001b[0m \u001b[38;5;28;01mdef\u001b[39;00m \u001b[38;5;21mfuncion\u001b[39m(arg1, arg2):\n\u001b[1;32m      6\u001b[0m     \u001b[38;5;28mprint\u001b[39m(arg1, arg2)\n\u001b[0;32m----> 8\u001b[0m \u001b[43mfuncion\u001b[49m\u001b[43m(\u001b[49m\u001b[38;5;124;43m'\u001b[39;49m\u001b[38;5;124;43meste\u001b[39;49m\u001b[38;5;124;43m'\u001b[39;49m\u001b[43m)\u001b[49m\n\u001b[1;32m      9\u001b[0m funcion(\u001b[38;5;124m'\u001b[39m\u001b[38;5;124mcodigo\u001b[39m\u001b[38;5;124m'\u001b[39m, \u001b[38;5;124m'\u001b[39m\u001b[38;5;124mfallará\u001b[39m\u001b[38;5;124m'\u001b[39m)\n",
      "\u001b[0;31mTypeError\u001b[0m: funcion() missing 1 required positional argument: 'arg2'"
     ]
    }
   ],
   "source": [
    "def funcion(arg):\n",
    "    print(arg)\n",
    "\n",
    "\n",
    "def funcion(arg1, arg2):\n",
    "    print(arg1, arg2)\n",
    "    \n",
    "funcion('este')\n",
    "funcion('codigo', 'fallará')"
   ]
  },
  {
   "cell_type": "markdown",
   "metadata": {},
   "source": [
    "Profundizando un poco más, al leer el error entregado se hace evidente que la definición que se está considerando es la segunda, pues la ejecución de `funcion('este')` falla al dar un solo argumento en lugar de dos, es decir, python está considerando solamente la definición más nueva.\n",
    "\n",
    "A pesar de lo anterior, python sí permite un tipo de _overloading_, el _overloading_ de sus operadores *built-in*."
   ]
  },
  {
   "cell_type": "markdown",
   "metadata": {},
   "source": [
    "### *Overloading* de operadores en Python\n",
    "Existen muchos operadores en Python que funcionan para varias de las clases *built-in*. Por ejemplo, el operador \"+\" puede sumar dos números, concatenar dos strings, mezclar dos listas, etc. (dependiendo de la clase con la que estemos trabajando). Esto es un ejemplo de `overloading`; el mismo operador funciona de distinta manera de acuerdo al tipo de los argumentos que recibe."
   ]
  },
  {
   "cell_type": "code",
   "execution_count": 4,
   "metadata": {},
   "outputs": [
    {
     "name": "stdout",
     "output_type": "stream",
     "text": [
      "[1, 2, 3, 4, 5, 6, 7, 8]\n",
      "Hola Mundo\n"
     ]
    }
   ],
   "source": [
    "a = [1, 2, 3, 4]\n",
    "b = [5, 6, 7, 8]\n",
    "print(a + b)\n",
    "c = \"Hola\"\n",
    "d = \" Mundo\"\n",
    "print(c + d)"
   ]
  },
  {
   "cell_type": "markdown",
   "metadata": {},
   "source": [
    "Además, Python nos permite personalizar el método `__add__` para que el operador \"+\" funcione en algún tipo de clase específica que necesitemos. Por ejemplo, supongamos una clase que representa un carro de compra:"
   ]
  },
  {
   "cell_type": "code",
   "execution_count": 5,
   "metadata": {},
   "outputs": [],
   "source": [
    "class Carro:\n",
    "\n",
    "    def __init__(self, pan, leche, agua):\n",
    "        self.pan = pan\n",
    "        self.leche = leche\n",
    "        self.agua = agua\n",
    "    \n",
    "    def __add__(self, otro):\n",
    "        \n",
    "        suma_pan = self.pan + otro.pan\n",
    "        suma_leche = self.leche + otro.leche\n",
    "        suma_agua = self.agua + otro.agua\n",
    "            \n",
    "        return Carro(suma_pan, suma_leche, suma_agua)\n",
    "    \n",
    "    def __str__(self):\n",
    "        return f\"Pan:{self.pan}, Leche:{self.leche}, Agua:{self.agua}\""
   ]
  },
  {
   "cell_type": "code",
   "execution_count": 6,
   "metadata": {},
   "outputs": [
    {
     "name": "stdout",
     "output_type": "stream",
     "text": [
      "Pan:4, Leche:6, Agua:8\n"
     ]
    }
   ],
   "source": [
    "carro_1 = Carro(1, 2, 3)\n",
    "carro_2 = Carro(3, 4, 5)\n",
    "carro_sumado = carro_1 + carro_2\n",
    "print(carro_sumado)"
   ]
  },
  {
   "cell_type": "markdown",
   "metadata": {},
   "source": [
    "De la misma forma, podemos personalizar la mayoría de los operadores. Por ejemplo, para personalizar el operador \"menor que\" implementamos `__lt__` (del inglés *less than*):"
   ]
  },
  {
   "cell_type": "code",
   "execution_count": 7,
   "metadata": {},
   "outputs": [
    {
     "name": "stdout",
     "output_type": "stream",
     "text": [
      "True\n"
     ]
    }
   ],
   "source": [
    "import math\n",
    "\n",
    "class Vector: \n",
    "    \"\"\"Vector desde el origen\"\"\"\n",
    "    def __init__(self, x, y): \n",
    "        self.x = x \n",
    "        self.y = y\n",
    "        \n",
    "    @property\n",
    "    def magnitud(self):\n",
    "        return math.sqrt(self.x ** 2 + self.y ** 2)\n",
    "    \n",
    "    def __lt__(self, otro_punto):\n",
    "        return self.magnitud < otro_punto.magnitud\n",
    "\n",
    "v1 = Vector(2,4)\n",
    "v2 = Vector(8,3)\n",
    "print(v1 < v2)"
   ]
  },
  {
   "cell_type": "markdown",
   "metadata": {},
   "source": [
    "**Para poner en práctica el *overriding* de operadores puedes realizar los ejercicios propuestos 1.2 y 1.3.**"
   ]
  },
  {
   "cell_type": "markdown",
   "metadata": {},
   "source": [
    "## `__repr__` vs `__str__`"
   ]
  },
  {
   "cell_type": "markdown",
   "metadata": {},
   "source": [
    "Podemos implementar los métodos `__repr__` y `__str__` para entregar una representación en texto de nuestro objeto. Estos métodos deben retornar un *string*, el que podrá ser usado por la función `print`. Si se implementan ambos, `print` utiliza `__str__`.\n",
    "\n",
    "La diferencia entre  `__str__` y `__repr__` es sutil. Si bien ambos devuelven una representación del objeto en forma de *string*, cada representación persigue un objetivo distinto. Por una parte, `__str__` busca devolver una representación legible (*human-readable*) del objeto. Es como si un usuario del programa quisiera leer esa información, y por eso se usa para `print`. Por otra parte, `__repr__` tiene por objetivo ofrecer una representación completa y sin ambigüedades del objeto. Es como si un desarrollador del programa quisiera leer esa información.\n",
    "\n",
    "El siguiente ejemplo define una clase `Fraccion`, con una implementación para `__repr__` y una para `__str__`."
   ]
  },
  {
   "cell_type": "code",
   "execution_count": 8,
   "metadata": {},
   "outputs": [],
   "source": [
    "class Fraccion:\n",
    "    def __init__(self, numerador, denominador): \n",
    "        self.numerador = numerador \n",
    "        self.denominador = denominador\n",
    "        \n",
    "    def __repr__(self):\n",
    "        return f\"Fraccion({self.numerador}, {self.denominador})\"\n",
    "    \n",
    "    def __str__(self):\n",
    "        return f\"{self.numerador} / {self.denominador}\"\n",
    "    \n",
    "frac = Fraccion(3, 4)"
   ]
  },
  {
   "cell_type": "code",
   "execution_count": 9,
   "metadata": {},
   "outputs": [
    {
     "data": {
      "text/plain": [
       "'Fraccion(3, 4)'"
      ]
     },
     "execution_count": 9,
     "metadata": {},
     "output_type": "execute_result"
    }
   ],
   "source": [
    "repr(frac)"
   ]
  },
  {
   "cell_type": "code",
   "execution_count": 10,
   "metadata": {},
   "outputs": [
    {
     "data": {
      "text/plain": [
       "'3 / 4'"
      ]
     },
     "execution_count": 10,
     "metadata": {},
     "output_type": "execute_result"
    }
   ],
   "source": [
    "str(frac)"
   ]
  },
  {
   "cell_type": "code",
   "execution_count": 11,
   "metadata": {},
   "outputs": [
    {
     "name": "stdout",
     "output_type": "stream",
     "text": [
      "3 / 4\n"
     ]
    }
   ],
   "source": [
    "print(frac)"
   ]
  },
  {
   "cell_type": "markdown",
   "metadata": {},
   "source": [
    "Si no implementamos el método `__str__`, `print` va a imprimir el *string* que retorna la función `__repr__`"
   ]
  },
  {
   "cell_type": "code",
   "execution_count": 12,
   "metadata": {},
   "outputs": [
    {
     "name": "stdout",
     "output_type": "stream",
     "text": [
      "Fraccion(3, 4)\n"
     ]
    }
   ],
   "source": [
    "class Fraccion: \n",
    "    def __init__(self, numerador, denominador): \n",
    "        self.numerador = numerador \n",
    "        self.denominador = denominador\n",
    "        \n",
    "    def __repr__(self):\n",
    "        return f\"Fraccion({self.numerador}, {self.denominador})\"\n",
    "    \n",
    "frac = Fraccion(3, 4)\n",
    "print(frac)"
   ]
  },
  {
   "cell_type": "markdown",
   "metadata": {},
   "source": [
    "**Revisa el ejercicio 1.1 para notar otra diferencia entre `__str__` y `__repr__`.**"
   ]
  },
  {
   "cell_type": "markdown",
   "metadata": {},
   "source": [
    "# *Duck typing*\n",
    "\n",
    "> \"If it walks like a duck and quacks like a duck then it is a duck\" \n",
    "(no importa de qué tipo sea un objeto mientras contenga la acción)\n",
    " \n",
    "*Duck typing* es una característica de algunos lenguajes que hace que el polimorfismo sea menos atractivo, ya que el lenguaje por sí sólo es capaz de generar comportamiento polimórfico sin la necesidad de implementar el polimorfismo a través de la herencia. \n",
    "\n",
    "Consideremos las siguientes clases:"
   ]
  },
  {
   "cell_type": "code",
   "execution_count": 13,
   "metadata": {},
   "outputs": [],
   "source": [
    "class Pato:\n",
    "    def gritar(self):\n",
    "        print(\"Quack!\")\n",
    "        \n",
    "    def caminar(self):\n",
    "        print(\"Caminando como un pato\")        \n",
    "    \n",
    "class Persona:\n",
    "    def gritar(self):\n",
    "        print(\"¡Ahhh!\")\n",
    "        \n",
    "    def caminar(self):\n",
    "        print(\"Caminando como un humano\")"
   ]
  },
  {
   "cell_type": "markdown",
   "metadata": {},
   "source": [
    "El diagrama que los representa es el siguiente:\n",
    "\n",
    "![](img/OOP_ducktyping.png)\n",
    "\n",
    "Es claro que si creamos un objeto de tipo `Pato` y un objeto de tipo `Persona`, se llamará a los métodos `gritar` y `caminar` que correspondan a la clase."
   ]
  },
  {
   "cell_type": "code",
   "execution_count": 14,
   "metadata": {},
   "outputs": [
    {
     "name": "stdout",
     "output_type": "stream",
     "text": [
      "Quack!\n",
      "¡Ahhh!\n"
     ]
    }
   ],
   "source": [
    "donald = Pato()\n",
    "enzo = Persona()\n",
    "donald.gritar()\n",
    "enzo.gritar()"
   ]
  },
  {
   "cell_type": "markdown",
   "metadata": {},
   "source": [
    "Pero si escribimos una función que recibe un argumento, no sabemos, al momento de programarlo, qué tipo de dato recibirá este objeto. Y no necesitamos saberlo, pues el mecanismo de *duck typing* determinará al momento de ejecutar, qué método se invocará, de acuerdo con el tipo de dato."
   ]
  },
  {
   "cell_type": "code",
   "execution_count": 15,
   "metadata": {},
   "outputs": [
    {
     "name": "stdout",
     "output_type": "stream",
     "text": [
      "Quack!\n",
      "Caminando como un pato\n",
      "¡Ahhh!\n",
      "Caminando como un humano\n"
     ]
    }
   ],
   "source": [
    "def activar(pato):  # Esto, en otro tipo de lenguaje, obligaría a que pato sea del tipo \"Pato\", por lo tanto\n",
    "    pato.gritar()   # la función activar no podría ser llamada con un argumento tipo \"Persona\"\n",
    "    pato.caminar()\n",
    "\n",
    "donald = Pato()\n",
    "juan = Persona()\n",
    "activar(donald)\n",
    "activar(juan)"
   ]
  },
  {
   "cell_type": "markdown",
   "metadata": {},
   "source": [
    "En este ejemplo hay dos clases distintas, `Pato` y `Persona`, sin ninguna relación de herencia entre ellas. Cada una tiene implementados los métodos `gritar` y `caminar`. La función `activar` recibe un argumento de nombre `pato`, pero no sabe (ni le interesa) si es un objeto de tipo `Pato` o `Persona`; simplemente llama a los métodos `gritar` y `caminar`, y en ese momento se determina si la clase a la cual pertenece el argumento `Pato` contiene una implementación del método que se necesita.\n",
    "\n",
    "Este comportamiento puede parecer obvio, sobre todo para quienes solo han programado en Python, sin embargo en otros lenguajes de programación, como C, C++, Java ó C#, se obliga a que los argumentos tengan un tipo de dato definido (lenguajes con sistema de tipos estáticos), por lo tanto este mecanismo no funcionaría. \n",
    "\n",
    "Lenguajes como Python utilizan un sistema de tipos dinámicos, lo que permite que el tipo de una variable se determine al momento de ejecutar el código (y no al compilarlo ni al escribirlo). Gracias a esto, la función `activar` puede recibir cualquier tipo de argumentos. Sin embargo, si recibe un argumento que no posee una implementación para `gritar` o para `caminar`, se producirá un error."
   ]
  },
  {
   "cell_type": "markdown",
   "metadata": {},
   "source": [
    "## Comentarios finales\n",
    "\n",
    "Existen muchas opiniones acerca de la relación entre polimorfismo, herencia y *duck typing* ([1](https://softwareengineering.stackexchange.com/questions/121778/is-duck-typing-a-subset-of-polymorphism), [2](https://stackoverflow.com/questions/11502433/what-is-the-difference-between-polymorphism-and-duck-typing), [3](https://www.reddit.com/r/learnprogramming/comments/2r30c0/is_ducktyping_and_advanced_form_of_polymorphism/) y otras). Lo importante para este curso es que entiendas cómo se implementan estos tres conceptos en Python. Si tienes  dudas, te invitamos a crear una issue en el foro del curso 😃."
   ]
  }
 ],
 "metadata": {
  "kernelspec": {
   "display_name": "Python 3 (ipykernel)",
   "language": "python",
   "name": "python3"
  },
  "language_info": {
   "codemirror_mode": {
    "name": "ipython",
    "version": 3
   },
   "file_extension": ".py",
   "mimetype": "text/x-python",
   "name": "python",
   "nbconvert_exporter": "python",
   "pygments_lexer": "ipython3",
   "version": "3.10.6"
  }
 },
 "nbformat": 4,
 "nbformat_minor": 4
}
