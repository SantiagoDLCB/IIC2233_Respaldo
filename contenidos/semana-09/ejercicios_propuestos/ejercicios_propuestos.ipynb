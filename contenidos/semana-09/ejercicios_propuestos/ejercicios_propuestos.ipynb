{
 "cells": [
  {
   "attachments": {},
   "cell_type": "markdown",
   "metadata": {},
   "source": [
    "<p>\n",
    "<font size='5' face='Georgia, Arial'>IIC-2233 Apunte Programación Avanzada</font><br>\n",
    "<font size='1'> Ejercicios creados a partir de 2019-2 por Equipo Docente IIC2233. </font>\n",
    "<font size='1'> Actualizados en 2020-1 y 2023-1</font>\n",
    "</p>\n",
    "\n",
    "\n",
    "# Ejercicios propuestos: Estructuras nodales I"
   ]
  },
  {
   "cell_type": "markdown",
   "metadata": {},
   "source": [
    "Los siguientes problemas se proveen como oportunidad de ejercitar los conceptos revisados en el material de estructuras nodales I. Si tienes dudas sobre algún problema o alguna solución, no dudes en dejar una *issue* en el [foro del curso](https://github.com/IIC2233/syllabus/issues).\n",
    "\n",
    "Los ejercicios se subdividen según la numeración de los cuadernos de la semana. Algunos de ellos se referencian desde los cuadernos de material mismo, mientras que pueden haber otros adicionales para mayor ejercitación."
   ]
  },
  {
   "cell_type": "markdown",
   "metadata": {},
   "source": [
    "## 1. Listas ligadas"
   ]
  },
  {
   "cell_type": "markdown",
   "metadata": {},
   "source": [
    "### Ejercicio 1.1: Cadenas de texto aleatorias"
   ]
  },
  {
   "attachments": {},
   "cell_type": "markdown",
   "metadata": {},
   "source": [
    "En este ejercicio, deberás terminar de implementar una clase propuesta, modelada como una lista ligada. \n",
    "\n",
    "La clase `TextoAleatorio`, representa una cadena de texto (como los *strings*), pero que simplemente se genera a partir de caracteres aleatorios (clase `Caracter`). `TextoAleatorio` tiene ya implementada el método `agregar_nuevo_caracter` que agrega un nuevo carácter a la cadena de texto. \n",
    "\n",
    "Específicamente debes completar los métodos `__repr__` y `recorrer_texto` de `TextoAleatorio`.\n",
    "\n",
    "El primer método debe retornar como `str` la concatenación de los caracteres de la cadena según el orden en que fueron agregados, para que sea vista al usar `print` sobre el texto. Por el momento retorna la representación de objetos de siempre, así que puedes cambiar la línea que actualmente está implementada para retornar el resultado de la cadena como *string*.\n",
    "\n",
    "`recorrer_texto` por su parte itera por cada carácter de la cadena de texto e imprime un mensaje indicando la posición del carácter y su valor. Por ejemplo, para una cadena de texto de las letras `'M'`, `'A'` Y `'S'`, imprimiría:\n",
    "\n",
    "```\n",
    "En posición 0, el carácter es M\n",
    "En posición 1, el carácter es A\n",
    "En posición 2, el carácter es S\n",
    "```"
   ]
  },
  {
   "cell_type": "code",
   "execution_count": null,
   "metadata": {},
   "outputs": [],
   "source": [
    "from random import choice\n",
    "from string import ascii_uppercase\n",
    "\n",
    "caracter_aleatorio = lambda: choice(ascii_uppercase)\n",
    "\n",
    "\n",
    "class Caracter:\n",
    "    def __init__(self):\n",
    "        self.valor = caracter_aleatorio()\n",
    "        self.siguiente = None\n",
    "\n",
    "\n",
    "class TextoAleatorio:\n",
    "\n",
    "    def __init__(self):\n",
    "        self.primer_caracter = None\n",
    "        self.ultimo_caracter = None\n",
    "\n",
    "    def agregar_nuevo_caracter(self):\n",
    "        nuevo = Caracter()\n",
    "        if self.primer_caracter is None:\n",
    "            self.primer_caracter = nuevo\n",
    "            self.ultimo_caracter = self.primer_caracter\n",
    "        else:\n",
    "            self.ultimo_caracter.siguiente = nuevo\n",
    "            self.ultimo_caracter = self.ultimo_caracter.siguiente        \n",
    "\n",
    "    def __repr__(self):\n",
    "        '''\n",
    "        Representa la concatenación de cada caracter de la cadena de texto.\n",
    "        '''\n",
    "        return repr(super())  # Reemplazar esta línea.\n",
    "\n",
    "    def recorrer_texto(self):\n",
    "        '''\n",
    "        Recorrer cada caracter imprimiendo su valor y posición.\n",
    "        '''\n",
    "        pass"
   ]
  },
  {
   "cell_type": "code",
   "execution_count": null,
   "metadata": {},
   "outputs": [],
   "source": [
    "texto_1 = TextoAleatorio()\n",
    "texto_1.agregar_nuevo_caracter()\n",
    "print(texto_1)\n",
    "texto_1.agregar_nuevo_caracter()\n",
    "print(texto_1)\n",
    "texto_1.agregar_nuevo_caracter()\n",
    "print(texto_1)\n",
    "texto_1.agregar_nuevo_caracter()\n",
    "print(texto_1)\n",
    "texto_1.agregar_nuevo_caracter()\n",
    "print(texto_1)\n",
    "texto_1.agregar_nuevo_caracter()\n",
    "print(texto_1)\n",
    "texto_1.agregar_nuevo_caracter()\n",
    "print(texto_1)\n",
    "texto_1.agregar_nuevo_caracter()\n",
    "print(texto_1)\n",
    "texto_1.agregar_nuevo_caracter()\n",
    "print(texto_1)\n",
    "\n",
    "texto_1.recorrer_texto()"
   ]
  },
  {
   "cell_type": "markdown",
   "metadata": {},
   "source": [
    "### Ejercicio 1.2: Extendiendo `ListaLigada`"
   ]
  },
  {
   "cell_type": "markdown",
   "metadata": {},
   "source": [
    "En este ejercicio, se te incluye el ejemplo de la clase `ListaLigada` del material, pero con dos firmas de métodos que debes implementar: `__len__` y `remover`. \n",
    "\n",
    "`__len__` debe retornar un `int` que indique el largo actual de la lista ligada. Por otro lado, `remover` recibe como argumento una posición en la lista, y debe eliminar de la lista ligada el nodo que se encuentre en esa posición."
   ]
  },
  {
   "cell_type": "code",
   "execution_count": null,
   "metadata": {},
   "outputs": [],
   "source": [
    "class Nodo:\n",
    "    def __init__(self, valor=None):\n",
    "        self.valor = valor\n",
    "        self.siguiente = None\n",
    "\n",
    "\n",
    "class ListaLigada:\n",
    "    \"\"\"\n",
    "    Clase que representa una lista ligada.\n",
    "    \"\"\"\n",
    "\n",
    "    def __init__(self):\n",
    "        \"\"\"\n",
    "        Inicializa una lista ligada vacia,\n",
    "        con una referencia nula a su cabeza y cola.\n",
    "        \"\"\"\n",
    "        self.cabeza = None\n",
    "        self.cola = None\n",
    "\n",
    "    def agregar(self, valor):\n",
    "        \"\"\"\n",
    "        Agrega un nodo al final de la cola, similar a lista.append.\n",
    "        \"\"\"\n",
    "        # Inicializamos el nuevo nodo\n",
    "        nuevo = Nodo(valor)\n",
    "        # Si la lista está vacía (no hay cabeza)\n",
    "        if self.cabeza is None:\n",
    "            # El nuevo nodo es la cabeza y el nodo cola de la lista\n",
    "            self.cabeza = nuevo\n",
    "            self.cola = self.cabeza\n",
    "        else:\n",
    "            # Agregamos el nuevo nodo como sucesor del nodo cola actual.\n",
    "            self.cola.siguiente = nuevo\n",
    "            # Actualizamos la referencia al nodo cola.\n",
    "            self.cola = self.cola.siguiente\n",
    "\n",
    "    def obtener(self, posicion):\n",
    "        \"\"\"\n",
    "        Busca el valor del nodo que está en la posición indicada,\n",
    "        partiendo de 0.\n",
    "        \"\"\"\n",
    "        # Empezamos en la cabeza\n",
    "        nodo_actual = self.cabeza\n",
    "\n",
    "        # Recorremos secuencialmente la lista ligada siguiendo los punteros\n",
    "        # al nodo siguiente.\n",
    "        for _ in range(posicion):\n",
    "            # Revisamos que no se haya llegado al final de la lista\n",
    "            if nodo_actual is not None:\n",
    "                nodo_actual = nodo_actual.siguiente\n",
    "\n",
    "        # Si buscamos una posición mayor a la longitud de la lista ligada\n",
    "        if nodo_actual is None:\n",
    "            return None  # Retorna \"nada\"\n",
    "        return nodo_actual.valor\n",
    "\n",
    "    def insertar(self, valor, posicion):\n",
    "        \"\"\"\n",
    "        Inserta un valor nuevo en una posición arbitraria.\n",
    "        \"\"\"\n",
    "        # Inicializamos el nuevo nodo\n",
    "        nodo_nuevo = Nodo(valor)\n",
    "        # Empezamos en la cabeza\n",
    "        nodo_actual = self.cabeza\n",
    "\n",
    "        # Caso particular: insertar en la cabeza\n",
    "        if posicion == 0:\n",
    "            # Actualizamos la cabeza\n",
    "            nodo_nuevo.siguiente = self.cabeza\n",
    "            self.cabeza = nodo_nuevo\n",
    "            # Caso más particular. Si la lista estaba vacía,\n",
    "            # actualizamos la cola\n",
    "            if nodo_nuevo.siguiente is None:\n",
    "                self.cola = nodo_nuevo\n",
    "            # Terminamos de ejecutar la función\n",
    "            return\n",
    "\n",
    "        # Buscamos el nodo predecesor\n",
    "        for _ in range(posicion - 1):\n",
    "            if nodo_actual is not None:\n",
    "                nodo_actual = nodo_actual.siguiente\n",
    "\n",
    "        # Si encontramos el predecesor, actualizamos las referencias\n",
    "        if nodo_actual is not None:\n",
    "            # Si no lo hacemos en este orden perdemos la referencia\n",
    "            # al resto de la lista ligada\n",
    "            nodo_nuevo.siguiente = nodo_actual.siguiente        \n",
    "            nodo_actual.siguiente = nodo_nuevo\n",
    "            # Caso particular: si es que insertamos en la última posición\n",
    "            if nodo_nuevo.siguiente is None:\n",
    "                self.cola = nodo_nuevo\n",
    "\n",
    "    def __repr__(self):\n",
    "        \"\"\"Forma una representación de la lista\"\"\"\n",
    "        string = \"\"\n",
    "        nodo_actual = self.cabeza\n",
    "        while nodo_actual is not None:\n",
    "            string = f\"{string}{nodo_actual.valor} → \"\n",
    "            nodo_actual = nodo_actual.siguiente\n",
    "        return string\n",
    "\n",
    "    def __len__(self):\n",
    "        # Haga su solución aquí\n",
    "        pass\n",
    "\n",
    "    def remover(self, posicion):\n",
    "        # Haga su solución aquí\n",
    "        pass"
   ]
  },
  {
   "cell_type": "markdown",
   "metadata": {},
   "source": [
    "Un ejemplo para probar tu solución:"
   ]
  },
  {
   "cell_type": "code",
   "execution_count": null,
   "metadata": {},
   "outputs": [],
   "source": [
    "mi_lista = ListaLigada()\n",
    "mi_lista.insertar(5, 0)\n",
    "print(mi_lista)\n",
    "mi_lista.agregar(8)\n",
    "print(mi_lista)\n",
    "mi_lista.insertar(6, 1)\n",
    "print(mi_lista)\n",
    "mi_lista.insertar(7, 2)\n",
    "print(mi_lista)\n",
    "mi_lista.agregar(9)\n",
    "print(mi_lista)\n",
    "mi_lista.agregar(10)\n",
    "print(mi_lista)"
   ]
  },
  {
   "cell_type": "code",
   "execution_count": null,
   "metadata": {},
   "outputs": [],
   "source": [
    "print(len(mi_lista)) "
   ]
  },
  {
   "cell_type": "code",
   "execution_count": null,
   "metadata": {},
   "outputs": [],
   "source": [
    "mi_lista.remover(3)\n",
    "print(mi_lista)\n",
    "print(len(mi_lista)) "
   ]
  },
  {
   "cell_type": "markdown",
   "metadata": {},
   "source": [
    "### Ejercicio 1.3: Listas ligadas ordenadas"
   ]
  },
  {
   "cell_type": "markdown",
   "metadata": {},
   "source": [
    "En este ejercicio se pide implementar una lista ligada que siempre esté ordenada crecientemente de acuerdo al valor de almacenado en sus nodos. Para lograr esto, basta con que cada vez que se desee insertar un nuevo nodo en la lista ligada, esta lo inserte en una posición que corresponda según su valor, de manera que se mantenga ordenada. De esta forma, la cabeza de la lista tiene siempre el valor más pequeño y la cola el valor más alto. \n",
    "\n",
    "Deberás completar el método `agregar` de la clase `ListaLigadaOrdenada`. Observa que no necesitamos el argumento `posicion` para agregar."
   ]
  },
  {
   "cell_type": "code",
   "execution_count": null,
   "metadata": {},
   "outputs": [],
   "source": [
    "class Nodo:\n",
    "\n",
    "    def __init__(self, valor=None):\n",
    "        self.valor = valor\n",
    "        self.siguiente = None\n",
    "\n",
    "\n",
    "class ListaLigadaOrdenada:\n",
    "\n",
    "    def __init__(self):\n",
    "        self.cabeza = None\n",
    "        self.cola = None\n",
    "\n",
    "    def obtener(self, posicion):\n",
    "        nodo_actual = self.cabeza\n",
    "        for _ in range(posicion):\n",
    "            if nodo_actual is not None:\n",
    "                nodo_actual = nodo_actual.siguiente\n",
    "\n",
    "        if nodo_actual is None:\n",
    "            return None \n",
    "        return nodo_actual.valor\n",
    "\n",
    "    def agregar(self, valor):\n",
    "        \"\"\" Completar aquí \"\"\"\n",
    "        nodo_nuevo = Nodo(valor)\n",
    "\n",
    "        # Completar...\n",
    "\n",
    "    def __repr__(self):\n",
    "        string = \"\"\n",
    "        nodo_actual = self.cabeza\n",
    "        while nodo_actual is not None:\n",
    "            string = f\"{string}{nodo_actual.valor} → \"\n",
    "            nodo_actual = nodo_actual.siguiente\n",
    "        return string"
   ]
  },
  {
   "cell_type": "markdown",
   "metadata": {},
   "source": [
    "Puedes probar tu implementación con el siguiente código:"
   ]
  },
  {
   "cell_type": "code",
   "execution_count": null,
   "metadata": {},
   "outputs": [],
   "source": [
    "lista_ordenada = ListaLigadaOrdenada()\n",
    "lista_ordenada.agregar(1)\n",
    "print(lista_ordenada)\n",
    "lista_ordenada.agregar(3)\n",
    "print(lista_ordenada)\n",
    "lista_ordenada.agregar(2)\n",
    "print(lista_ordenada)\n",
    "lista_ordenada.agregar(2.5)\n",
    "print(lista_ordenada)\n",
    "lista_ordenada.agregar(0)\n",
    "print(lista_ordenada)"
   ]
  },
  {
   "cell_type": "markdown",
   "metadata": {},
   "source": [
    "## 2. Árboles"
   ]
  },
  {
   "cell_type": "markdown",
   "metadata": {},
   "source": [
    "### Ejercicio 2.1: El árbol del conejo malo."
   ]
  },
  {
   "cell_type": "markdown",
   "metadata": {},
   "source": [
    "En este ejercicio, se te incluye el ejemplo de la clase `Arbol` del material de estudio de esta semana, además de la función `cargar_contenido(ruta)` que carga un archivo CSV con el contenido a cargarse en un árbol:"
   ]
  },
  {
   "cell_type": "code",
   "execution_count": 1,
   "metadata": {},
   "outputs": [],
   "source": [
    "# textwrap tiene varias funciones convenientes para el manejo de strings\n",
    "from textwrap import indent\n",
    "\n",
    "\n",
    "class Arbol:\n",
    "    \"\"\"\n",
    "    Esta clase representa un árbol.\n",
    "\n",
    "    La estructura es recursiva, de manera que cada nodo es la raíz\n",
    "    de un sub-árbol. Los nodos hijos pueden ser guardados en una estructura,\n",
    "    como lista o diccionario.\n",
    "    En este ejemplo, los nodos hijos serán guardados en un diccionario.\n",
    "    \"\"\"\n",
    "\n",
    "    def __init__(self, id_nodo, valor=None, padre=None):\n",
    "        \"\"\"\n",
    "        Inicializa la estructura básica del árbol.\n",
    "\n",
    "        Tiene un identificador propio, la referencia a su padre,\n",
    "        el valor almacenado y una estructura con sus hijos.\n",
    "        \"\"\"\n",
    "        self.id_nodo = id_nodo\n",
    "        self.padre = padre\n",
    "        self.valor = valor\n",
    "        self.hijos = {}\n",
    "\n",
    "    def obtener_nodo(self, id_nodo):\n",
    "        \"\"\"\n",
    "        Obtiene el nodo con el id dado, en forma recursiva.\n",
    "\n",
    "        A partir del nodo actual, buscamos el nodo 'id_nodo' entre sus hijos\n",
    "        y lo retornamos si existe.\n",
    "        \"\"\"\n",
    "        # Caso base: ¡Lo encontramos!\n",
    "        if self.id_nodo == id_nodo:\n",
    "            return self\n",
    "\n",
    "        # Buscamos recursivamente entre los hijos\n",
    "        for hijo in self.hijos.values():\n",
    "            nodo = hijo.obtener_nodo(id_nodo)\n",
    "            # Si lo encontró, lo retornamos\n",
    "            if nodo is not None:\n",
    "                return nodo\n",
    "\n",
    "        # Si no lo encuentra, retorna None\n",
    "        return None\n",
    "\n",
    "    def agregar_nodo(self, id_nodo, valor, id_padre):\n",
    "        \"\"\"\n",
    "        Agrega un nodo con el id y valor dado,\n",
    "        como hijo del nodo con el id 'id_padre'\n",
    "        \"\"\"\n",
    "        # Primero, tenemos que encontrar al padre\n",
    "        padre = self.obtener_nodo(id_padre)\n",
    "        # En caso de que el padre no exista no hacemos nada\n",
    "        if padre is None:\n",
    "            return\n",
    "\n",
    "        # Creamos el nodo\n",
    "        # Nos aseguramos de que el nodo nuevo sea del mismo tipo que la raíz\n",
    "        # Por ahora, la siguiente línea es equivalente a:\n",
    "        # Arbol(id_nodo, valor, padre)\n",
    "        nodo = type(self)(id_nodo, valor, padre)  # Esto lo ocuparemos cuando\n",
    "                                                  # sea otra clase que herede\n",
    "                                                  # de Arbol\n",
    "        # Agregamos el nodo como hijo de su padre\n",
    "        padre.hijos[id_nodo] = nodo\n",
    "\n",
    "    def __repr__(self):\n",
    "        \"\"\"\n",
    "        Entrega una representación del árbol, en forma recursiva.\n",
    "\n",
    "        Para ello, tenemos que pedir la representación de cada hijo\n",
    "        recursivamente. Esto nos lleva a recorrer todos los nodos del árbol.\n",
    "        \"\"\"\n",
    "        # Texto de este nodo\n",
    "        texto = f\"id: {self.id_nodo}, valor: {self.valor}\"\n",
    "        # Si el nodo es hoja, se avisa de ello.\n",
    "        # Si el nodo no es hoja, se deja un salto de línea para\n",
    "        # poder nombrar a los hijos\n",
    "        texto += ', nodo hoja' if len(self.hijos) == 0 else '\\n'\n",
    "\n",
    "        # Extrae el repr de cada hijo, en forma recursiva\n",
    "        repr_hijos = [repr(hijo) for hijo in self.hijos.values()]\n",
    "\n",
    "        # Indentamos cada línea del texto de los hijos con tres espacios\n",
    "        # Esto es para que se note el nivel del nodo.\n",
    "        texto_hijos = [indent(texto_hijo, \"   \") for texto_hijo in repr_hijos]\n",
    "        \n",
    "        # Usamos join para juntar todos los strings anteriores con un\n",
    "        # salto de línea entre cada uno\n",
    "        return texto + \"\\n\".join(texto_hijos)"
   ]
  },
  {
   "cell_type": "code",
   "execution_count": 2,
   "metadata": {},
   "outputs": [],
   "source": [
    "def cargar_contenido(ruta):\n",
    "    contenido = []\n",
    "    with open(ruta, \"r\", encoding=\"utf-8\") as archivo:\n",
    "        for line in archivo.readlines():\n",
    "            nodo = line.strip().split(\",\")\n",
    "            \n",
    "            if nodo[2] == '0':\n",
    "                indice, valor, padre = int(nodo[0]), nodo[1], int(nodo[2])\n",
    "            else:\n",
    "                indice, valor, padre = int(nodo[0]), nodo[1].split(';'), int(nodo[2])\n",
    "                valor[1] = int(valor[1])\n",
    "            contenido.append([indice, valor, padre])\n",
    "            # print([indice, valor, padre])\n",
    "    return contenido "
   ]
  },
  {
   "cell_type": "markdown",
   "metadata": {},
   "source": [
    "La función anterior retorna una lista de listas con la información de nodos para un árbol, de la forma:\n",
    "```\n",
    "[indice_nodo, valor_nodo, indice_padre_de_nodo]\n",
    "```"
   ]
  },
  {
   "cell_type": "markdown",
   "metadata": {},
   "source": [
    "El objetivo de este ejercicio es descubrir cuál es el álbum de mayor duración del gran **Bad Bunny**, y para lograrlo utilizaremos un árbol. \n",
    "Tendrás que utilizar la clase `Arbol` con sus métodos para construir un árbol con información sobre la discografía de **Bad Bunny**.\n",
    "Específicamente, la raíz del árbol representará al Conejo Malo, sus hijos directos serán los nombres de sus álbums, y los hijos de nodos con álbums son canciones. Para cada canción, se cuenta con su nombre junto a su duración.\n",
    "\n",
    "El valor de los nodos que contienen a las canciones serán de la forma `[nombre_cancion, duracion]` (duración en segundos), en cambio, el valor del resto de los nodos será de la forma `nombre_album`.\n",
    "\n",
    "Para ordenar tu programa, se te entrega una base a continuación. Primero, se instancia el árbol con la raíz: `'El Conejo Malo'`, luego se carga el contenido (`cargar_contenido`) de un archivo CSV con la información estructural del árbol. Luego se llama a `completar_arbol` que completa el árbol creado a partir de los datos cargados, y finalmente se llama a `encontrar_max_duracion` que recorre el árbol y **retorna la canción con mayor duración** contenida.\n",
    "\n",
    "Debes completar las funciones `completar_arbol(arbol, contenido)` y `encontrar_max_duracion(arbol)` para lograr el importante objetivo de este ejercicio."
   ]
  },
  {
   "cell_type": "code",
   "execution_count": null,
   "metadata": {},
   "outputs": [],
   "source": [
    "def completar_arbol(arbol, contenido):\n",
    "    # Completar\n",
    "    pass\n",
    "\n",
    "def encontrar_max_duracion(arbol):\n",
    "    # Completar\n",
    "    pass"
   ]
  },
  {
   "cell_type": "code",
   "execution_count": null,
   "metadata": {},
   "outputs": [],
   "source": [
    "bad_bunny = Arbol(0, 'El Conejo Malo')\n",
    "\n",
    "contenido = cargar_contenido('badbunny.csv')\n",
    "\n",
    "completar_arbol(bad_bunny, contenido)\n",
    "\n",
    "encontrar_max_duracion(bad_bunny)"
   ]
  },
  {
   "cell_type": "markdown",
   "metadata": {},
   "source": [
    "### Ejercicio 2.2: Implementar un Árbol Binario."
   ]
  },
  {
   "attachments": {},
   "cell_type": "markdown",
   "metadata": {},
   "source": [
    "Debes implementar el mencionado árbol binario de los contenidos. Es bastante similar al caso genérico ya presentado, pero con la diferencia de que en vez de tener una estructura interna `self.hijos` para almacenar cualquier cantidad de hijos, debe tener dos referencias directas a sub-árboles binarios: `self.hijo_izquierdo` y `self.hijo_derecho`. Esto cambia levemente las implementaciones de `obtener_nodo`, `agregar_nodo` y `__repr__`. Notar que también cambian los argumentos de `agregar_nodo`, ya que es necesario incluir en cuál posición se agrega el hijo, si como izquierdo o derecho. \n",
    "\n",
    "A continuación se agregan la base de la clase junto con código de ejemplo para usar."
   ]
  },
  {
   "cell_type": "code",
   "execution_count": null,
   "metadata": {},
   "outputs": [],
   "source": [
    "# textwrap tiene varias funciones convenientes para el manejo de strings\n",
    "from textwrap import indent\n",
    "\n",
    "\n",
    "class ArbolBinario:\n",
    "    def __init__(self, id_nodo, valor=None, padre=None):\n",
    "        self.id_nodo = id_nodo\n",
    "        self.padre = padre\n",
    "        self.valor = valor\n",
    "        self.hijo_izquierdo = None\n",
    "        self.hijo_derecho = None\n",
    "\n",
    "    def obtener_nodo(self, id_nodo):\n",
    "        \"\"\"\n",
    "        Obtiene el nodo con el id dado.\n",
    "        \"\"\"\n",
    "        pass\n",
    "\n",
    "    def agregar_nodo(self, id_nodo, valor, id_padre, orientacion):\n",
    "        \"\"\"\n",
    "        Agrega un nodo con el id y valor dado,\n",
    "        como hijo del nodo con el id 'id_padre'.\n",
    "        \"\"\"\n",
    "        pass\n",
    "\n",
    "    def __repr__(self):\n",
    "        \"\"\"\n",
    "        Entrega una representación del árbol.\n",
    "        \"\"\"\n",
    "        pass"
   ]
  },
  {
   "cell_type": "markdown",
   "metadata": {},
   "source": [
    "### Ejercicio 2.3: Implementar una búsqueda BFS con profundidad máxima."
   ]
  },
  {
   "attachments": {},
   "cell_type": "markdown",
   "metadata": {},
   "source": [
    "En este ejercicio debes implementar una forma de búsqueda que combina BFS con búsqueda en profundidad.\n",
    "\n",
    "Concretamente, tienes que re-implementar el método `recorrer` para que itere sobre los nodos del árbol siguiendo un orden BFS, pero ahora de tal forma que **no sólo** retorne nodos, sino que también incluya la profundidad de cada nodo. La profundidad en este contexto corresponde a la cantidad de conexiones que se encuentra un nodo de la raíz. La raíz entonces se encuentra a profundidad **`0`**, sus hijos a profundidad `1`, y así sucesivamente...\n",
    "\n",
    "Luego, tienes que implementar `recorrer_con_profundidad` que recibe `profundidad_max` como argumento. El método recorre los nodos del árbol cuya profundidad es menor que `profundidad_max`, siguiendo el orden entregado por `recorrer`."
   ]
  },
  {
   "cell_type": "code",
   "execution_count": null,
   "metadata": {},
   "outputs": [],
   "source": [
    "from collections import deque\n",
    "\n",
    "\n",
    "# Arbol es la clase original de Arbol del material.\n",
    "# Si deseas probar tu código, copia y pega la implementación antes.\n",
    "# Así podrás construir un árbol correctamente antes de recorrerlo.\n",
    "class ArbolDBFS(Arbol):\n",
    "\n",
    "    def recorrer(self):\n",
    "        \"\"\"\n",
    "        Completar aquí.\n",
    "        ¡Puedes modificar el recorrer original del BFS!\n",
    "        \"\"\"\n",
    "        pass\n",
    "\n",
    "    def recorrer_con_profundidad(self, profundidad_max):\n",
    "        \"\"\"\n",
    "        Completar aquí.\n",
    "        Aprovecha el algoritmo anterior y haz la modificaciones necesarias.\n",
    "        \"\"\"\n",
    "        pass"
   ]
  },
  {
   "cell_type": "code",
   "execution_count": null,
   "metadata": {},
   "outputs": [],
   "source": [
    "T = ArbolDBFS(0, 10, 2)\n",
    "T.agregar_nodo(1, 8, 0)\n",
    "T.agregar_nodo(3, 12, 0)\n",
    "T.agregar_nodo(2, 9, 1)\n",
    "T.agregar_nodo(4, 5, 3)\n",
    "T.agregar_nodo(5, 14, 3)\n",
    "T.agregar_nodo(6, 20, 3)\n",
    "T.agregar_nodo(8, 4, 2)\n",
    "T.agregar_nodo(7, 8, 4)\n",
    "T.agregar_nodo(9, 15, 6)\n",
    "T.agregar_nodo(10, 6, 6)"
   ]
  },
  {
   "cell_type": "markdown",
   "metadata": {},
   "source": [
    "## 3. Ejemplos"
   ]
  },
  {
   "cell_type": "markdown",
   "metadata": {},
   "source": [
    "### Ejercicio 3.1: Modelando *stacks*"
   ]
  },
  {
   "attachments": {},
   "cell_type": "markdown",
   "metadata": {},
   "source": [
    "Si recordamos las estructuras secuenciales revisadas en el material de estructuras *built-ins*, una de ellas eran los *stacks*. Los *stacks* o pilas son estructuras de orden lineal, similar a las listas, pero cuya propiedad era que seguían el orden LIFO: el último elemento en agregarse, es el primero en sacarse. Se le llama tope de la pila al último elemento que fue agregado, y que será el próximo en salir si se le pide.\n",
    "\n",
    "A continuación se te entregan clases para nodos de *stack* y de *stack*. Debes completar `Stack` para modelar e imitar el comportamiento de un *stack* utilizando referencias nodales, sin el uso de listas u otras estructuras secuenciales ya construidas. Se te entregan todos los atributos necesarios para lograr modelarlo."
   ]
  },
  {
   "cell_type": "code",
   "execution_count": null,
   "metadata": {},
   "outputs": [],
   "source": [
    "class NodoStack:\n",
    "\n",
    "    def __init__(self, valor=None):\n",
    "        self.valor = None\n",
    "        self.anterior = None\n",
    "\n",
    "\n",
    "class Stack:\n",
    "\n",
    "    def __init__(self):\n",
    "        self.tope = None\n",
    "\n",
    "    def push(self, valor):\n",
    "        \"\"\"\n",
    "        Agrega un elemento al tope del stack.\n",
    "        \"\"\"\n",
    "        pass\n",
    "\n",
    "    def pop(self):\n",
    "        \"\"\"\n",
    "        Retorna y extrae el elemento del tope del stack.\n",
    "        \"\"\"\n",
    "        pass\n",
    "\n",
    "    def peek(self):\n",
    "        \"\"\"\n",
    "        Retorna el elemento del tope del _stack_\n",
    "        sin extraerlo de la estructura.\n",
    "        \"\"\"\n",
    "        pass\n",
    "\n",
    "    def is_empty(self):\n",
    "        \"\"\"\n",
    "        Retorna True si el stack está vacío.\n",
    "        \"\"\"\n",
    "        pass"
   ]
  },
  {
   "cell_type": "code",
   "execution_count": null,
   "metadata": {},
   "outputs": [],
   "source": [
    "mi_stack = Stack()\n",
    "mi_stack.push(1)  # 1\n",
    "mi_stack.push(2)  # 1, 2\n",
    "mi_stack.push(3)  # 1, 2, 3\n",
    "mi_stack.push(4)  # 1, 2, 3, 4\n",
    "mi_stack.push(5)  # 1, 2, 3, 4, 5\n",
    "print(mi_stack.pop())  # 5\n",
    "print(mi_stack.pop())  # 4\n",
    "mi_stack.push(6)  # 1, 2, 3, 6\n",
    "print(mi_stack.peek())  # 6\n",
    "mi_stack.push(7)  # 1, 2, 3, 6, 7\n",
    "print(mi_stack.pop())  # 7\n",
    "print(mi_stack.pop())  # 6\n",
    "print(mi_stack.pop())  # 3\n",
    "print(mi_stack.is_empty())  # False"
   ]
  },
  {
   "cell_type": "markdown",
   "metadata": {},
   "source": [
    "### Ejercicio 3.2: Lista Ligada 2.0"
   ]
  },
  {
   "cell_type": "markdown",
   "metadata": {},
   "source": [
    "La modelación vista hasta el momento para listas ligadas, utiliza nodos para encapsular los valores en cada posición y relacionarlos: el objeto siguiente a un nodo, también es un nodo. Pero por el otro lado, los árboles se modelan de forma recursiva para mantener referencias entre ellos: los hijos de un árbol son árboles.\n",
    "\n",
    "Las listas ligadas también pueden verse como una estructura recursiva: cada una contiene el valor almacenado en su cabeza, y tiene de referencia a otra sub-lista, de menor tamaño y cuya cabeza contiene el siguiente valor de la lista completa.\n",
    "\n",
    "En este ejercicio debes implementar una estructura recursiva para una lista ligada, y que del mismo modo, sea capaz de relacionar cada uno de sus nodos con aquellos que están adyacentes."
   ]
  },
  {
   "cell_type": "code",
   "execution_count": null,
   "metadata": {},
   "outputs": [],
   "source": [
    "class ListaRecursiva:\n",
    "\n",
    "    def __init__(self):\n",
    "        self.valor = None\n",
    "        self.siguiente = None\n",
    "\n",
    "    def agregar(self, valor):\n",
    "        '''\n",
    "        Método que instancia cada nodo dependiendo de\n",
    "        si existe alguno adyacente a él o no.\n",
    "        '''\n",
    "        pass\n",
    "\n",
    "    def __repr__(self):\n",
    "        '''\n",
    "        Método para representación de la lista.\n",
    "        '''\n",
    "        pass\n",
    "\n",
    "    def obtener(self, posicion):\n",
    "        '''\n",
    "        Buscador de elemento integrante de la estructura\n",
    "        '''\n",
    "        pass"
   ]
  },
  {
   "cell_type": "code",
   "execution_count": null,
   "metadata": {},
   "outputs": [],
   "source": [
    "lista = ListaRecursiva()\n",
    "lista.agregar(1)\n",
    "print(lista)\n",
    "lista.agregar(2)\n",
    "print(lista)\n",
    "lista.agregar(3)\n",
    "print(lista)\n",
    "lista.agregar(4)\n",
    "print(lista)\n",
    "\n",
    "print(lista.obtener(0))\n",
    "print(lista.obtener(2))\n",
    "print(lista.obtener(3))"
   ]
  }
 ],
 "metadata": {
  "kernelspec": {
   "display_name": "Python 3 (ipykernel)",
   "language": "python",
   "name": "python3"
  },
  "language_info": {
   "codemirror_mode": {
    "name": "ipython",
    "version": 3
   },
   "file_extension": ".py",
   "mimetype": "text/x-python",
   "name": "python",
   "nbconvert_exporter": "python",
   "pygments_lexer": "ipython3",
   "version": "3.10.4"
  }
 },
 "nbformat": 4,
 "nbformat_minor": 4
}
