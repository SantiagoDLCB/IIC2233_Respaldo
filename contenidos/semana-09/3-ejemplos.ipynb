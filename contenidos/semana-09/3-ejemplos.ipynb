{
 "cells": [
  {
   "cell_type": "markdown",
   "metadata": {
    "ExecuteTime": {
     "end_time": "2019-04-05T19:09:20.231800Z",
     "start_time": "2019-04-05T19:09:20.218679Z"
    }
   },
   "source": [
    "<p>\n",
    "<font size='5' face='Georgia, Arial'>IIC-2233 Apunte Programación Avanzada</font><br>\n",
    "<font size='1'>Material confeccionado por Fernando Florenzano y Antonio Ossa en 2019.</font><br>\n",
    "<font size='1'>Editado por Equipo Docente IIC2233 2019-1 al 2023-1</font>\n",
    "<br>\n",
    "</p>"
   ]
  },
  {
   "attachments": {},
   "cell_type": "markdown",
   "metadata": {},
   "source": [
    "# Tabla de contenidos\n",
    "\n",
    "1. [Ejemplos de estructuras nodales](#Ejemplos-de-estructuras-nodales)  \n",
    "    2. [Eficiencia de Listas Ligadas](#Eficiencia-de-Listas-Ligadas)  \n",
    "    2. [Árbol de operaciones](#Árbol-de-operaciones)  "
   ]
  },
  {
   "cell_type": "markdown",
   "metadata": {},
   "source": [
    "# Ejemplos de estructuras nodales\n",
    "\n",
    "Los siguientes son ejemplos del uso de estructuras nodales como herramienta de modelación."
   ]
  },
  {
   "cell_type": "markdown",
   "metadata": {},
   "source": [
    "## Eficiencia de Listas Ligadas\n",
    "\n",
    "Una de las ventajas del funcionamiento de Listas Ligadas es que utilizan el **cambio de referencia de objetos** como mecanismo de guardado de datos. Esta es la idea detrás de la implementación de `deque`, que es capaz de extraer rápidamente el primer elemento de la cola, a diferencia de `list`. \n",
    "\n",
    "La razón detrás de esto radica que lo único que hace `popleft` para eliminar un elemento es cambiar referencias de objetos, mientras que `list`, para ejecutar la misma acción, debe mover todos los elementos de la lista una posición a la izquierda de manera de mantener su estructura. Esto hace que una operación aparentemente sencilla, como sacar el primer elemento, sea más eficiente en un `deque` que en una `list`.\n",
    "\n",
    "Por otro lado, esto no significa que todas las operaciones sean más eficientes cuando usamos una estructura ligada. La operación de obtener un objeto cualquiera, por ejemplo, es más costosa en estructuras ligadas que en `list`. `list` es capaz de acceder directamente a un elemento cualquiera de la lista según su índice, mientras que una cola debe navegar a través de sus elementos para llegar a la posición que se busca.\n",
    "\n",
    "A continuación se muestra una implementación mediante nodos ligados para una cola, y luego se muestra una prueba de tiempo en contra de `list` para ver que estructura demora más con ciertas operaciones."
   ]
  },
  {
   "cell_type": "code",
   "execution_count": 1,
   "metadata": {},
   "outputs": [],
   "source": [
    "class Nodo:\n",
    "    \"\"\"\n",
    "    Esta clase representa un nodo de una lista ligada.\n",
    "    \"\"\"\n",
    "    def __init__(self, valor=None):\n",
    "        \"\"\"Inicializa la estructura del nodo\"\"\"\n",
    "        self.valor = valor\n",
    "        self.siguiente = None\n",
    "\n",
    "\n",
    "class Cola:\n",
    "    \"\"\"\n",
    "    Clase que representa una lista ligada.\n",
    "    \"\"\"\n",
    "\n",
    "    def __init__(self, iterable=None):\n",
    "        \"\"\"\n",
    "        Inicializa una cola, con una referencia nula a su cabeza y cola.\n",
    "        \"\"\"\n",
    "        self.cabeza = None\n",
    "        self.cola = None\n",
    "        if iterable is not None:\n",
    "            for elemento in iterable:\n",
    "                self.push(elemento)\n",
    "\n",
    "    def push(self, valor):\n",
    "        \"\"\"\n",
    "        Agrega un nodo al final de la cola.\n",
    "        \"\"\"\n",
    "        nuevo = Nodo(valor)\n",
    "        if self.cabeza is None:\n",
    "            self.cabeza = nuevo\n",
    "            self.cola = self.cabeza\n",
    "        else:\n",
    "            self.cola.siguiente = nuevo\n",
    "            self.cola = self.cola.siguiente\n",
    "\n",
    "    def obtener(self, posicion):\n",
    "        \"\"\"\n",
    "        Busca el valor del nodo que está en la posición indicada,\n",
    "        partiendo de 0.\n",
    "        \"\"\"\n",
    "        nodo_actual = self.cabeza\n",
    "        for _ in range(posicion):\n",
    "            if nodo_actual is not None:\n",
    "                nodo_actual = nodo_actual.siguiente\n",
    "        if nodo_actual is None:\n",
    "            return None\n",
    "        return nodo_actual.valor\n",
    "\n",
    "    def popleft(self):\n",
    "        nodo = self.cabeza\n",
    "        if self.cabeza is not None:\n",
    "            self.cabeza = self.cabeza.siguiente\n",
    "            if self.cabeza is None:\n",
    "                self.cola = self.cabeza\n",
    "        return nodo"
   ]
  },
  {
   "cell_type": "code",
   "execution_count": 2,
   "metadata": {},
   "outputs": [],
   "source": [
    "from time import time\n",
    "\n",
    "N = 1000000\n",
    "# Creamos una Cola y una lista con 1000000 elementos\n",
    "cola = Cola(range(N))\n",
    "lista = list(range(N))"
   ]
  },
  {
   "cell_type": "code",
   "execution_count": 3,
   "metadata": {},
   "outputs": [
    {
     "name": "stdout",
     "output_type": "stream",
     "text": [
      "Buscar el elemento 500000 en la cola demoró 0.065882 segundos.\n",
      "Buscar el elemento 500000 en la lista demoró 0.000159 segundos.\n",
      "Buscar un elemento demoró en la cola 414.91 veces el tiempo de lista.\n"
     ]
    }
   ],
   "source": [
    "# Vemos el tiempo actual\n",
    "tiempo_inicial = time()\n",
    "\n",
    "# Buscamos el valor intermedio de la estructura\n",
    "cola.obtener(N // 2)\n",
    "tiempo_final = time()\n",
    "tiempo_cola = tiempo_final - tiempo_inicial\n",
    "\n",
    "# Imprimimos el tiempo transcurrido\n",
    "print(f\"Buscar el elemento {N // 2} en la cola demoró \"\n",
    "      f\"{tiempo_cola:.6f} segundos.\")\n",
    "\n",
    "# Vemos el tiempo actual\n",
    "tiempo_inicial = time()\n",
    "\n",
    "# Buscamos el valor intermedio de la estructura\n",
    "lista[N // 2]\n",
    "tiempo_final = time()\n",
    "tiempo_lista = tiempo_final - tiempo_inicial\n",
    "\n",
    "# Imprimimos el tiempo transcurrido\n",
    "print(f\"Buscar el elemento {N // 2} en la lista demoró \"\n",
    "      f\"{tiempo_lista:.6f} segundos.\")\n",
    "try:\n",
    "    print(f\"Buscar un elemento demoró en la cola \"\n",
    "          f\"{tiempo_cola/tiempo_lista:.2f} veces el tiempo de lista.\")\n",
    "except ZeroDivisionError:\n",
    "    print(f\"Buscar en la lista es tan rápido, que el tiempo fue cero D:\")"
   ]
  },
  {
   "cell_type": "markdown",
   "metadata": {},
   "source": [
    "Podemos ver que la operación **búsqueda por índice** fue mucho más lenta en una cola implementada con `deque` (que es una estructura ligada), que en una lista."
   ]
  },
  {
   "attachments": {},
   "cell_type": "markdown",
   "metadata": {},
   "source": [
    "A continuación un ejemplo similar, pero en el que vamos a eliminar los primeros elemento de un `deque` mediante `popleft` y luego lo haremos en una lista mediante `pop`."
   ]
  },
  {
   "cell_type": "code",
   "execution_count": 4,
   "metadata": {},
   "outputs": [
    {
     "name": "stdout",
     "output_type": "stream",
     "text": [
      "Sacar los primeros 10000 elementos de la lista demoró 9.465594 segundos.\n",
      "Sacar los primeros 10000 elementos de la cola demoró 0.006213 segundos.\n",
      "La extracción en lista fue 1523.41 veces el tiempo de la cola.\n"
     ]
    }
   ],
   "source": [
    "# Vamos a hacer remove de los primeros 1000 elementos de la lista\n",
    "N = 10000\n",
    "tiempo_inicial = time()\n",
    "for i in range(N):\n",
    "    lista.pop(0)\n",
    "tiempo_final = time()\n",
    "tiempo_lista = tiempo_final - tiempo_inicial\n",
    "print(f\"Sacar los primeros {N} elementos de la lista demoró \"\n",
    "      f\"{tiempo_lista:.6f} segundos.\")\n",
    "\n",
    "# Vamos a hacer remove de los primeros 1000 elementos de la cola\n",
    "tiempo_inicial = time()\n",
    "for i in range(N):\n",
    "    cola.popleft()\n",
    "tiempo_final = time()\n",
    "tiempo_cola = tiempo_final - tiempo_inicial\n",
    "print(f\"Sacar los primeros {N} elementos de la cola demoró \"\n",
    "      f\"{tiempo_cola:.6f} segundos.\")\n",
    "try:\n",
    "    print(f\"La extracción en lista fue {tiempo_lista/tiempo_cola:.2f} \"\n",
    "          f\"veces el tiempo de la cola.\")\n",
    "except ZeroDivisionError:\n",
    "    print(f\"La extracción en la cola fue tan rápida, que el tiempo fue cero D:\")"
   ]
  },
  {
   "cell_type": "markdown",
   "metadata": {},
   "source": [
    "Lo que confirma que la operación **extracción de un elemento** en la cola fue mucho más rápido que en una lista."
   ]
  },
  {
   "attachments": {},
   "cell_type": "markdown",
   "metadata": {},
   "source": [
    "## Árbol de operaciones\n",
    "\n",
    "En este ejemplo usaremos la idea de árboles como herramienta de modelación para un ejemplo particular.\n",
    "\n",
    "Trabajaremos con una representación de operaciones matemáticas. Podemos representar una operación como un árbol donde la raíz contiene la operación matemática, y ésta se aplica sobre sus hijos. \n",
    "\n",
    "Por ejemplo, `suma(1, 2)` se representaría con 3 nodos:\n",
    "* `suma` sería el nodo raíz\n",
    "* 1 sería un nodo hijo del nodo raíz\n",
    "* 2 sería otro nodo hijo del nodo raíz"
   ]
  },
  {
   "attachments": {},
   "cell_type": "markdown",
   "metadata": {},
   "source": [
    "Lo importante en este modelamiento es que los nodos hijos pueden ser otras operaciones, no solamente números. Supongamos que queremos realizar la siguiente operación: `((3+7)*5)*2**1`. Notamos que esto es una composición de distintas operaciones. Primero definiremos cuáles son las operaciones que podemos utilizar:"
   ]
  },
  {
   "cell_type": "code",
   "execution_count": 5,
   "metadata": {
    "ExecuteTime": {
     "end_time": "2019-04-05T19:27:03.952388Z",
     "start_time": "2019-04-05T19:27:03.943778Z"
    }
   },
   "outputs": [],
   "source": [
    "def sumar(x, y):\n",
    "    \"\"\"Suma de x e y, es decir, x + y\"\"\"\n",
    "    return x + y\n",
    "\n",
    "\n",
    "def multiplicar(x, y):\n",
    "    \"\"\"Multiplica a x e y, es decir, x * y\"\"\"\n",
    "    return x * y\n",
    "\n",
    "\n",
    "def mi_operador(x, y, z):\n",
    "    \"\"\"Este es un operador que calcula x*(y^z)\"\"\"\n",
    "    return x * (y ** z)"
   ]
  },
  {
   "cell_type": "markdown",
   "metadata": {},
   "source": [
    "Ahora, recordemos que para calcular algo como `((3+7)*5)*2**1` necesitamos operar de adentro hacia afuera:\n",
    "* Primero sumamos 3 + 7\n",
    "* Este resultado lo multiplicamos por 5\n",
    "* Y luego a este resultado le aplicamos el operador `mi_operador` junto con 2 y 1 como argumentos.\n",
    "\n",
    "Como se puede notar, la cantidad de argumentos sobre los que se aplica una operación puede cambiar, por lo que aprovecharemos de ocupar `*args` para recibir cualquier cantidad de argumentos en el constructor de un operador."
   ]
  },
  {
   "cell_type": "code",
   "execution_count": 6,
   "metadata": {
    "ExecuteTime": {
     "end_time": "2019-04-05T19:27:04.019090Z",
     "start_time": "2019-04-05T19:27:03.961601Z"
    }
   },
   "outputs": [],
   "source": [
    "class Operacion:\n",
    "\n",
    "    def __init__(self, operacion, *factores):\n",
    "        # Operación es la raíz\n",
    "        self.operacion = operacion\n",
    "        # Los factores son los nodos hijos\n",
    "        self.factores = factores\n",
    "\n",
    "    def calcular(self):\n",
    "        factores = []\n",
    "        # Iteramos sobre cada factor\n",
    "        for factor in self.factores:\n",
    "            # Si el factor es una operación\n",
    "            if type(factor) is Operacion:\n",
    "                # ... calculamos el resultado de esa operación\n",
    "                factor = factor.calcular()\n",
    "            # Cada factor (ya calculado) lo guardamos para dárselo a la función\n",
    "            factores.append(factor)\n",
    "\n",
    "        return self.operacion(*factores)"
   ]
  },
  {
   "cell_type": "markdown",
   "metadata": {},
   "source": [
    "Ahora que tenemos nuestra propia representación de una operación, podemos ocupar el código para resolver `((3+7)*5)*2**1` tal como se comentó antes."
   ]
  },
  {
   "cell_type": "code",
   "execution_count": 7,
   "metadata": {
    "ExecuteTime": {
     "end_time": "2019-04-05T19:27:04.094055Z",
     "start_time": "2019-04-05T19:27:04.024416Z"
    }
   },
   "outputs": [
    {
     "name": "stdout",
     "output_type": "stream",
     "text": [
      "100\n"
     ]
    }
   ],
   "source": [
    "a = Operacion(sumar, 3, 7)  # 10\n",
    "# a es un arbol con valor \"+\" y con hijos [3, 7]\n",
    "\n",
    "b = Operacion(multiplicar, a, 5)  # 10 * 5 = 50\n",
    "# b es un arbol con valor \"*\" y con hijos [a, 5]\n",
    "\n",
    "c = Operacion(mi_operador, b, 2, 1)  # 50 * 2 ** 1 = 100\n",
    "# c es un arbol con valor \"* **\" y con hijos [b, 2, 1]\n",
    "    \n",
    "# El resultado debería ser 100\n",
    "resultado = c.calcular()\n",
    "print(resultado)"
   ]
  },
  {
   "cell_type": "markdown",
   "metadata": {},
   "source": [
    "**Puedes poner en práctica más ejemplos con estructuras nodales con los ejercicios propuestos 3.1 y 3.2.**"
   ]
  }
 ],
 "metadata": {
  "kernelspec": {
   "display_name": "Python 3 (ipykernel)",
   "language": "python",
   "name": "python3"
  },
  "language_info": {
   "codemirror_mode": {
    "name": "ipython",
    "version": 3
   },
   "file_extension": ".py",
   "mimetype": "text/x-python",
   "name": "python",
   "nbconvert_exporter": "python",
   "pygments_lexer": "ipython3",
   "version": "3.10.4"
  },
  "varInspector": {
   "cols": {
    "lenName": 16,
    "lenType": 16,
    "lenVar": 40
   },
   "kernels_config": {
    "python": {
     "delete_cmd_postfix": "",
     "delete_cmd_prefix": "del ",
     "library": "var_list.py",
     "varRefreshCmd": "print(var_dic_list())"
    },
    "r": {
     "delete_cmd_postfix": ") ",
     "delete_cmd_prefix": "rm(",
     "library": "var_list.r",
     "varRefreshCmd": "cat(var_dic_list()) "
    }
   },
   "types_to_exclude": [
    "module",
    "function",
    "builtin_function_or_method",
    "instance",
    "_Feature"
   ],
   "window_display": false
  }
 },
 "nbformat": 4,
 "nbformat_minor": 4
}
