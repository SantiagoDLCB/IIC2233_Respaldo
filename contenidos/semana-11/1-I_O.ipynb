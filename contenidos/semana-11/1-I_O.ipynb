{
 "cells": [
  {
   "cell_type": "markdown",
   "metadata": {},
   "source": [
    "<p>\n",
    "<font size='5' face='Georgia, Arial'>IIC-2233 Apunte Programación Avanzada</font><br>\n",
    "<font size='1'> Modificado en 2019-1 al 2023-1 por Equipo Docente IIC2233. </font>\n",
    "</p>"
   ]
  },
  {
   "cell_type": "markdown",
   "metadata": {},
   "source": [
    "# Tabla de contenidos\n",
    "\n",
    "1. [Input/Output](#Input/Output)\n",
    "    1. [Bytes y encoding](#Bytes-y-encoding)\n",
    "    2. [El objeto `bytes`](#El-objeto-bytes)\n",
    "    3. [El objeto `bytearray`](#El-objeto-bytearray)\n",
    "    4. [*Chunks*](#Chunks)\n",
    "2. [I/O de archivos](#I/O-de-archivos)\n",
    "3. [*Context Manager*](#Context-Manager)\n",
    "4. [Cómo emular archivos para I/O](#Cómo-emular-archivos-para-I/O)"
   ]
  },
  {
   "cell_type": "markdown",
   "metadata": {},
   "source": [
    "Esta semana estudiaremos detalles del uso de archivos y de la representación de *bytes* en Python. Aprenderemos que no solamente podemos almacenar *strings* como caracteres que podemos ver en la pantalla, sino que podemos también manipular la representación de más bajo nivel en el lenguaje que habla el computador: *bytes*."
   ]
  },
  {
   "cell_type": "markdown",
   "metadata": {},
   "source": [
    "# *Input/Output*\n",
    "\n",
    "En este capítulo, estudiaremos a fondo el manejo de *bytes*, arreglos de *bytes*, archivos, y *context managers*."
   ]
  },
  {
   "cell_type": "markdown",
   "metadata": {},
   "source": [
    "## *Bytes* y *encoding*\n",
    "\n",
    "Recordemos que los *strings* en Python son una colección de caracteres **inmutables**. \n",
    "\n",
    "¿Cómo se almacena un caracter en un computador? Un computador solo almacena números y los almacena en formato de Bytes. Un Byte es una secuencia de 8 *bits*, y el valor de un bit puede ser 0 ó 1. Un Byte, por lo tanto puede almacenar hasta $2^8=256$ combinaciones distintas de 0's y 1's, de manera que puede representar los números desde el 0 al 255.\n",
    "\n",
    "Dado que un Byte solamente almacena números de 0 a 255, es válido preguntarse cómo se almacenan los caracteres. Cuando queremos representar un caracter lo que hacemos es **interpretar** el número almacenado en el Byte como un caracter. Por ejemplo podríamos decir que el Byte 0 corresponde a la letra `a`, el Byte 1 corresponde a `b`, el Byte 2 corresponde a `c`, etc, hasta cubrir todos los caracteres que queremos representar. Esa asociación se conoce como ***codificación*** o ***encoding***. Una codificación muy común es la codificación [ASCII](https://es.wikipedia.org/wiki/ASCII), que data de 1963 y asocia números (Bytes) con caracteres de la siguiente manera:\n",
    "\n",
    "<img src=\"img/ascii.jpg\" alt=\"Codificación ASCII\" style=\"height: 400px; width:400px;\"/>\n",
    "\n",
    "La tabla ASCII muestra el valor del Byte en formato decimal (0 a 255), en formato hexadecimal (0x00 a 0xFF), y el caracter o significado correspondiente. Podemos ver que las letras mayúsculas del alfabeto corresponden desde el código 65 al código 90, las minúsculas van del código 97 al 122, y los dígitos van desde el código 48 al 57. Además los caracteres de puntuación, espacios, cambios de línea, tabulación, etc. también necesita un código.\n",
    "\n",
    "La función `chr` de Python permite obtener el caracter correspondiente a un código decimal.\n"
   ]
  },
  {
   "cell_type": "code",
   "execution_count": 1,
   "metadata": {},
   "outputs": [
    {
     "name": "stdout",
     "output_type": "stream",
     "text": [
      "i\n",
      "i\n",
      "c\n",
      "2\n",
      "2\n",
      "3\n",
      "3\n"
     ]
    }
   ],
   "source": [
    "print(chr(105))\n",
    "print(chr(105))\n",
    "print(chr(99))\n",
    "print(chr(50))\n",
    "print(chr(50))\n",
    "print(chr(51))\n",
    "print(chr(51))"
   ]
  },
  {
   "cell_type": "markdown",
   "metadata": {},
   "source": [
    "De manera equivalente, para obtener el código correspondiente a un caracter, usamos la función `ord`."
   ]
  },
  {
   "cell_type": "code",
   "execution_count": 2,
   "metadata": {},
   "outputs": [
    {
     "name": "stdout",
     "output_type": "stream",
     "text": [
      "66\n",
      "121\n",
      "116\n",
      "101\n"
     ]
    }
   ],
   "source": [
    "print(ord('B'))\n",
    "print(ord('y'))\n",
    "print(ord('t'))\n",
    "print(ord('e'))"
   ]
  },
  {
   "cell_type": "markdown",
   "metadata": {},
   "source": [
    "Para representar Bytes, si bien la tabla y la función `ord` muestran el valor decimal, es común usar dos dígitos hexadecimal. Un **dígito hexadecimal** es uno de los dígitos: 0, 1, 2, 3, 4, 5, 6, 7, 8, 9, A, B, C, D, E, F, que corresponden a un valor desde el 0 al 15 respectivamente. La representación **hexadecimal** de un Byte utiliza dos dígitos hexadecimales (valores decimales de 0 a 15) para representar los 8 bits del Byte. Para identificar que una representación es hexadecimal se suele anteponer el string `0x`. La función `hex` de Python nos permiten obtener rápidamente la representación hexadecimal de un número. Por ejemplo:"
   ]
  },
  {
   "cell_type": "code",
   "execution_count": 3,
   "metadata": {},
   "outputs": [
    {
     "name": "stdout",
     "output_type": "stream",
     "text": [
      "Decimal: 0, Hexadecimal: 0x0\n",
      "Decimal: 8, Hexadecimal: 0x8\n",
      "Decimal: 12, Hexadecimal: 0xc\n",
      "Decimal: 15, Hexadecimal: 0xf\n",
      "Decimal: 16, Hexadecimal: 0x10\n",
      "Decimal: 42, Hexadecimal: 0x2a\n",
      "Decimal: 100, Hexadecimal: 0x64\n",
      "Decimal: 255, Hexadecimal: 0xff\n"
     ]
    }
   ],
   "source": [
    "for i in [0, 8, 12, 15, 16, 42, 100, 255]:\n",
    "    print(f\"Decimal: {i}, Hexadecimal: {hex(i)}\")"
   ]
  },
  {
   "cell_type": "markdown",
   "metadata": {},
   "source": [
    "Existen [muchas representaciones modernas](https://es.wikipedia.org/wiki/Codificaci%C3%B3n_de_caracteres), pero una de las más comunes y expandidas actualmente es **Unicode**, que puede representar hasta 65536 caracteres, y es el único que estaremos usando a lo largo del curso. Además la mayoría de las aplicaciones modernas utilizan por defecto esta representación."
   ]
  },
  {
   "cell_type": "markdown",
   "metadata": {},
   "source": [
    "## El objeto `bytes`"
   ]
  },
  {
   "cell_type": "markdown",
   "metadata": {},
   "source": [
    "En Python los *bytes* se representan con el objeto de tipo `bytes`. Un objeto de tipo `bytes` es una secuencia **inmutable**, tal como los `str`. Para declarar que un objeto es un *byte* simplemente se pone al comienzo del objeto una `b`. Por ejemplo:"
   ]
  },
  {
   "cell_type": "code",
   "execution_count": 4,
   "metadata": {},
   "outputs": [
    {
     "name": "stdout",
     "output_type": "stream",
     "text": [
      "b'clich\\xe9'\n",
      "<class 'bytes'>\n"
     ]
    }
   ],
   "source": [
    "# Lo que está entre las comillas es un objeto de tipo bytes\n",
    "# La notación \\x63 indica el valor hexadecimal 63\n",
    "# Este ejemplo almacena los caracteres c, l, i, c, h, é\n",
    "caracteres = b\"\\x63\\x6c\\x69\\x63\\x68\\xe9\"\n",
    "print(caracteres)\n",
    "print(type(caracteres))"
   ]
  },
  {
   "cell_type": "markdown",
   "metadata": {},
   "source": [
    "Cada secuencia `\\x63` representa **1 Byte**. El Byte está descrito como un valor hexadecimal. En este caso el valor hexadecimal 63.\n",
    "\n",
    "El símbolo escape `\\x` indica que los siguientes dos caracteres después de la `x` corresponden a un *byte* usando dígitos hexadecimales. Los *bytes* que coinciden con los *bytes* de ASCII son reconocidos inmediatamente, así cuando los tratamos de imprimir aparecen correctamente (`clich`), el resto (`é`) se imprime como hexadecimal. La `b` en la impresión nos recuerda que lo que está a la derecha es un objeto de tipo `bytes`, no un `str`.\n",
    "\n",
    "Los *bytes* a secas pueden representar cualquier entidad, desde caracteres codificados de un *string* a pixeles de una imagen. Para poder interpretar correctamente los *bytes*, necesitamos conocer la forma en que fueron codificados. Por ejemplo, un patrón binario de 8 *bits* (1 *byte*) puede corresponder a un carácter en particular si lo decodificamos usando la codificación llamada `latin1`, pero puede corresponder a un carácter completamente distinto si lo decodificamos como un carácter de tipo `utf-16`. "
   ]
  },
  {
   "cell_type": "code",
   "execution_count": 5,
   "metadata": {},
   "outputs": [
    {
     "name": "stdout",
     "output_type": "stream",
     "text": [
      "b'clich\\xe9'\n",
      "cliché\n"
     ]
    }
   ],
   "source": [
    "caracteres = b\"\\x63\\x6c\\x69\\x63\\x68\\xe9\"  # Secuencia de 6 bytes\n",
    "print(caracteres)\n",
    "\n",
    "# Con bytes.decode() interpretamos los bytes utilizando la codificación latin-1 para obtener un string\n",
    "print(caracteres.decode(\"latin-1\"))"
   ]
  },
  {
   "cell_type": "code",
   "execution_count": 6,
   "metadata": {},
   "outputs": [
    {
     "name": "stdout",
     "output_type": "stream",
     "text": [
      "ab\n"
     ]
    }
   ],
   "source": [
    "# 0x61 y 0x62 son la representación en hexadecimal de los caracteres 'a' y 'b', respectivamente\n",
    "caracteres = b\"\\x61\\x62\"\n",
    "print(caracteres.decode(\"ascii\"))\n"
   ]
  },
  {
   "cell_type": "code",
   "execution_count": 7,
   "metadata": {},
   "outputs": [
    {
     "name": "stdout",
     "output_type": "stream",
     "text": [
      "b'ab'\n"
     ]
    }
   ],
   "source": [
    "# 97 y 98 corresponden al código ASCII (en decimal) de a y b, respectivamente\n",
    "caracteres = bytes((97, 98))\n",
    "print(caracteres)\n"
   ]
  },
  {
   "cell_type": "code",
   "execution_count": 8,
   "metadata": {},
   "outputs": [
    {
     "ename": "SyntaxError",
     "evalue": "bytes can only contain ASCII literal characters (2046671103.py, line 2)",
     "output_type": "error",
     "traceback": [
      "\u001b[0;36m  File \u001b[0;32m\"/tmp/ipykernel_10556/2046671103.py\"\u001b[0;36m, line \u001b[0;32m2\u001b[0m\n\u001b[0;31m    caracteres = b\"áb\"\u001b[0m\n\u001b[0m                      ^\u001b[0m\n\u001b[0;31mSyntaxError\u001b[0m\u001b[0;31m:\u001b[0m bytes can only contain ASCII literal characters\n"
     ]
    }
   ],
   "source": [
    "# Esto generará un error ya que sólo se pueden usar literales ASCII para la creación de bytes\n",
    "caracteres = b\"áb\"\n"
   ]
  },
  {
   "cell_type": "markdown",
   "metadata": {},
   "source": [
    "El método `decode` retorna un *string* normal (Unicode). Si, por ejemplo, hubiésemos usado otro alfabeto, habríamos obtenido otro *string*."
   ]
  },
  {
   "cell_type": "code",
   "execution_count": 9,
   "metadata": {},
   "outputs": [
    {
     "name": "stdout",
     "output_type": "stream",
     "text": [
      "cliché\n",
      "clichщ\n",
      "clichΘ\n",
      "汣捩\n"
     ]
    }
   ],
   "source": [
    "caracteres = b'\\x63\\x6c\\x69\\x63\\x68\\xe9'\n",
    "print(caracteres.decode(\"latin-1\"))\n",
    "print(caracteres.decode(\"iso8859-5\"))\n",
    "print(caracteres.decode(\"CP437\"))\n",
    "print(caracteres.decode(\"utf-16\"))\n"
   ]
  },
  {
   "cell_type": "markdown",
   "metadata": {},
   "source": [
    "Para codificar un *string* en un alfabeto específico, simplemente usamos el método `encode` de la clase `str`. Es necesario ingresar como argumento el conjunto de caracteres o alfabeto con que se quiere codificar."
   ]
  },
  {
   "cell_type": "code",
   "execution_count": 10,
   "metadata": {},
   "outputs": [
    {
     "name": "stdout",
     "output_type": "stream",
     "text": [
      "b'estaci\\xc3\\xb3n'\n",
      "b'estaci\\xf3n'\n",
      "b'estaci\\xa2n'\n"
     ]
    },
    {
     "ename": "UnicodeEncodeError",
     "evalue": "'ascii' codec can't encode character '\\xf3' in position 6: ordinal not in range(128)",
     "output_type": "error",
     "traceback": [
      "\u001b[0;31m---------------------------------------------------------------------------\u001b[0m",
      "\u001b[0;31mUnicodeEncodeError\u001b[0m                        Traceback (most recent call last)",
      "\u001b[0;32m/tmp/ipykernel_10556/4149832840.py\u001b[0m in \u001b[0;36m<module>\u001b[0;34m\u001b[0m\n\u001b[1;32m      6\u001b[0m \u001b[0;31m# No se puede codificar en ASCII el caracter \"ó\" ya que no existe dentro\u001b[0m\u001b[0;34m\u001b[0m\u001b[0;34m\u001b[0m\u001b[0m\n\u001b[1;32m      7\u001b[0m \u001b[0;31m# de los 128 caracteres de ASCII\u001b[0m\u001b[0;34m\u001b[0m\u001b[0;34m\u001b[0m\u001b[0m\n\u001b[0;32m----> 8\u001b[0;31m \u001b[0mprint\u001b[0m\u001b[0;34m(\u001b[0m\u001b[0mcaracteres\u001b[0m\u001b[0;34m.\u001b[0m\u001b[0mencode\u001b[0m\u001b[0;34m(\u001b[0m\u001b[0;34m\"ascii\"\u001b[0m\u001b[0;34m)\u001b[0m\u001b[0;34m)\u001b[0m\u001b[0;34m\u001b[0m\u001b[0;34m\u001b[0m\u001b[0m\n\u001b[0m",
      "\u001b[0;31mUnicodeEncodeError\u001b[0m: 'ascii' codec can't encode character '\\xf3' in position 6: ordinal not in range(128)"
     ]
    }
   ],
   "source": [
    "caracteres = \"estación\"\n",
    "print(caracteres.encode(\"UTF-8\"))  # 8-bit Unicode Transformation Format\n",
    "print(caracteres.encode(\"latin-1\"))\n",
    "print(caracteres.encode(\"CP437\"))\n",
    "\n",
    "# No se puede codificar en ASCII el caracter \"ó\" ya que no existe dentro\n",
    "# de los 128 caracteres de ASCII\n",
    "print(caracteres.encode(\"ascii\"))\n"
   ]
  },
  {
   "cell_type": "markdown",
   "metadata": {},
   "source": [
    "El método `encode` nos ofrece opciones de cómo manejar el caso en que el *string* que se quiere codificar no puede ser codificado con el alfabeto requerido. Estas opciones se ingresan a través del argumento opcional `errors`, donde los valores posibles son: `strict` (el valor por defecto), `replace`, `ignore` o `xmlcharrefreplace`. "
   ]
  },
  {
   "cell_type": "code",
   "execution_count": 11,
   "metadata": {},
   "outputs": [
    {
     "name": "stdout",
     "output_type": "stream",
     "text": [
      "b'estaci?n'\n",
      "b'estacin'\n",
      "b'estaci&#243;n'\n"
     ]
    }
   ],
   "source": [
    "print(caracteres.encode(\"ascii\", errors='replace'))  # en ascii se reemplaza el caracter desconocido con \"?\"\n",
    "print(caracteres.encode(\"ascii\", errors='ignore'))\n",
    "print(caracteres.encode(\"ascii\", errors='xmlcharrefreplace'))  # se crea una entidad xml que representa el caracter Unicode\n"
   ]
  },
  {
   "cell_type": "markdown",
   "metadata": {},
   "source": [
    "En general, si queremos codificar un *string* y no sabemos con qué alfabeto deberíamos codificar, lo mejor es usar UTF-8, ya que los primeros 128 caracteres de UTF-8 son los mismos que en ASCII (es *backwards* compatible con ASCII). Recordar siempre que los objetos tipo *byte* son **inmutables**."
   ]
  },
  {
   "cell_type": "markdown",
   "metadata": {},
   "source": [
    "## El objeto `bytearray`\n",
    "\n",
    "Los *bytearrays* son **arreglos (listas) de `bytes`** que, a diferencia de los `bytes` **son mutables**. Los `bytearrays` se comportan como las listas: podemos indexar con la notación de *slicing*, y también podemos ir agregando `bytes` con el método `extend`. Para construir un `bytearray` podemos ingresar un objeto `bytes` inicial."
   ]
  },
  {
   "cell_type": "code",
   "execution_count": 12,
   "metadata": {},
   "outputs": [
    {
     "name": "stdout",
     "output_type": "stream",
     "text": [
      "bytearray(b'holamundo')\n",
      "bytearray(b'amun')\n",
      "bytearray(b'hola\\x15\\xa3ndo')\n",
      "bytearray(b'hola\\x15\\xa3ndoprograma')\n"
     ]
    }
   ],
   "source": [
    "ba = bytearray(b\"holamundo\")\n",
    "print(ba)\n",
    "\n",
    "# Podemos ocupar la notación de slicing\n",
    "print(ba[3:7])\n",
    "ba[4:6] = b\"\\x15\\xa3\"\n",
    "print(ba)\n",
    "\n",
    "# Podemos agregar bytes con el método extend\n",
    "ba.extend(b\"programa\")\n",
    "print(ba)\n"
   ]
  },
  {
   "cell_type": "code",
   "execution_count": 13,
   "metadata": {},
   "outputs": [
    {
     "name": "stdout",
     "output_type": "stream",
     "text": [
      "104\n",
      "0b1101000\n",
      "01101000\n"
     ]
    }
   ],
   "source": [
    "# Aquí se imprime un byte, representado por un entero, el ascii que corresponde a la letra \"h\"\n",
    "print(ba[0])\n",
    "# La función bin genera un string con la representación binaria del byte\n",
    "print(bin(ba[0]))\n",
    "# El método zfill(r) rellena con 0's al inicio hasta completar r caracteres\n",
    "print(bin(ba[0])[2:].zfill(8))\n"
   ]
  },
  {
   "cell_type": "markdown",
   "metadata": {},
   "source": [
    "La última línea permite imprimir directamente los valores de los *bits* correspondientes al primer *byte* (representado en el literal `h` o el entero 104). El `[2:]` es para partir desde la tercera posición, ya que las primeras dos posiciones contienen los caracteres `0b`, que simplemente indica que el formato es en binario (línea anterior). Al agregar `.zfill(8)` indicamos que se usarán 8 *bits* para representar el *byte*, lo cual tiene sentido cuando hay ceros por el lado izquierdo y el *default* no los muestra (línea anterior tiene sólo 7 bits después del `0b`). \n",
    "\n",
    "Un caracter de un *byte* puede ser convertido a un entero usando la función `ord`."
   ]
  },
  {
   "cell_type": "code",
   "execution_count": 14,
   "metadata": {},
   "outputs": [
    {
     "name": "stdout",
     "output_type": "stream",
     "text": [
      "97\n",
      "97\n"
     ]
    }
   ],
   "source": [
    "# Recordemos que imprimir un elemento de un bytearray nos muestra el int que le representa\n",
    "print(bytearray(b\"a\")[0])\n",
    "# La función ord hace esta conversión directamente a partir de un byte\n",
    "print(ord(b\"a\"))\n"
   ]
  },
  {
   "cell_type": "code",
   "execution_count": 15,
   "metadata": {},
   "outputs": [
    {
     "name": "stdout",
     "output_type": "stream",
     "text": [
      "bytearray(b'abcgDf')\n"
     ]
    }
   ],
   "source": [
    "# Aqui ocupamos ambas formas (int directamente y ord) para hacer cambios en un bytearray\n",
    "b = bytearray(b'abcdef')\n",
    "b[3] = ord(b'g')         # El caracter g tiene como código ascii el 103\n",
    "b[4] = 68                # El caracter D tiene como código ascii el 68, esto sería lo mismo que ingresar b[4] = ord(b'D')\n",
    "print(b)\n"
   ]
  },
  {
   "cell_type": "markdown",
   "metadata": {},
   "source": [
    "### *Chunks*\n",
    "\n",
    "Un concepto importante en el manejo de *bytes* es lo que se entiende por ***chunk***: un grupo de *bytes*. Cuando trabajamos con una cantidad importante de *bytes*, no es conveniente leerlos todos a la vez, ya que pueden ser muchos y no caber en nuestra memoria; ni tampoco uno por uno, pues requiere más operaciones de lectura de datos y puede ser muy lento. Sin embargo, podemos utilizar el punto medio: leer los *bytes* en *chunks* (grupos) de cierta cantidad de *bytes*. Por ejemplo, el siguiente *bytearray* lo leeremos en *chunks* de tamaño 4 (`TAMANO_CHUNK`):"
   ]
  },
  {
   "cell_type": "code",
   "execution_count": 16,
   "metadata": {},
   "outputs": [
    {
     "name": "stdout",
     "output_type": "stream",
     "text": [
      "bytearray(b'Una ')\n",
      "bytearray(b'gran')\n",
      "bytearray(b' can')\n",
      "bytearray(b'tida')\n",
      "bytearray(b'd de')\n",
      "bytearray(b' byt')\n",
      "bytearray(b'es q')\n",
      "bytearray(b'ue q')\n",
      "bytearray(b'uier')\n",
      "bytearray(b'o le')\n",
      "bytearray(b'er d')\n",
      "bytearray(b'e a ')\n",
      "bytearray(b'poqu')\n",
      "bytearray(b'ito')\n"
     ]
    }
   ],
   "source": [
    "muchos_bytes = bytearray(b\"Una gran cantidad de bytes que quiero leer de a poquito\")\n",
    "TAMANO_CHUNK = 4\n",
    "\n",
    "for i in range(0, len(muchos_bytes), TAMANO_CHUNK):\n",
    "    # Aqui obtenemos nuestro chunk\n",
    "    chunk = bytearray(muchos_bytes[i:i+TAMANO_CHUNK])\n",
    "    print(chunk)\n"
   ]
  },
  {
   "cell_type": "markdown",
   "metadata": {},
   "source": [
    "## I/O de archivos\n",
    "\n",
    "Hasta ahora, en el curso hemos operado con la lectura y escritura de archivos de texto; sin embargo, los sistemas operativos representan los archivos como secuencias de *bytes*, no como texto. Dado que leer *bytes* y convertirlos a texto es una operación muy común en archivos, los lenguajes de programación proveen maneras de manejar los *bytes* para transformarlos a una representación en *string* usando métodos de codificación (*encoding*) y decodificación (*decoding*). La función `open` nos permite, además de abrir archivos, ingresar como argumentos el set de caracteres que se usará para codificar los *bytes* y la estrategia que se debe seguir cuando aparezcan *bytes* inconsistentes con el formato:"
   ]
  },
  {
   "cell_type": "code",
   "execution_count": 17,
   "metadata": {},
   "outputs": [
    {
     "name": "stdout",
     "output_type": "stream",
     "text": [
      "��Qu�� pasa con los tildes? ��Y por qu�� no aparecen los signos de interrogaci��n del comienzo? :(\n"
     ]
    }
   ],
   "source": [
    "# Creamos un archivo con un texto de base.\n",
    "contenido = \"¿Qué pasa con los tildes? ¿Y por qué no aparecen los signos de interrogación del comienzo? :(\"\n",
    "file = open(\"data/archivo_ejemplo\", \"w\", encoding='utf-8', errors=\"replace\")\n",
    "file.write(contenido)\n",
    "\n",
    "file = open('data/archivo_ejemplo', \"r\", encoding='ascii', errors='replace')\n",
    "print(file.read())\n",
    "file.close()\n"
   ]
  },
  {
   "cell_type": "markdown",
   "metadata": {},
   "source": [
    "Veamos cómo cambia esto, si es que eligimos otro *encoding*."
   ]
  },
  {
   "cell_type": "code",
   "execution_count": 18,
   "metadata": {},
   "outputs": [
    {
     "name": "stdout",
     "output_type": "stream",
     "text": [
      "¿Qué pasa con los tildes? ¿Y por qué no aparecen los signos de interrogación del comienzo? :(\n"
     ]
    }
   ],
   "source": [
    "file = open('data/archivo_ejemplo', \"r\", encoding='utf-8', errors='replace')\n",
    "print(file.read())\n",
    "file.close()\n"
   ]
  },
  {
   "cell_type": "markdown",
   "metadata": {},
   "source": [
    "Vemos que ahora sí se muestran bien los tildes y los signos de interrogación, pues al leer el archivo lo estamos haciendo con el mismo *encoding* con el que fue escrito. Ahora, escribiremos en el mismo archivo, un texto distinto, y luego leeremos el archivo para ver qué ocurre."
   ]
  },
  {
   "cell_type": "code",
   "execution_count": 19,
   "metadata": {},
   "outputs": [
    {
     "name": "stdout",
     "output_type": "stream",
     "text": [
      "sorry pero ahora yo soy lo que habrá dentro del archivo\n"
     ]
    }
   ],
   "source": [
    "contenido = \"sorry pero ahora yo soy lo que habrá dentro del archivo\"\n",
    "file = open(\"data/archivo_ejemplo\", \"w\", encoding=\"utf-8\", errors=\"replace\")\n",
    "file.write(contenido)\n",
    "file.close()\n",
    "file = open('data/archivo_ejemplo', \"r\", encoding='utf-8', errors='replace')\n",
    "print(file.read())\n",
    "file.close()\n"
   ]
  },
  {
   "cell_type": "markdown",
   "metadata": {},
   "source": [
    "Como puedes haber notado, el archivo se sobreescribió, y el nuevo texto en lugar de ser agregado al archivo, reemplazó lo que había. Para agregar un nuevo texto al final de un archivo ya existente, debemos cambiar el módo de apertura del archivo cambiando la `w` de *write* por una `a`, de *append*. De esta forma, al escribir en el archivo, se va a hacer al final del archivo en lugar de reemplazar el contenido anterior"
   ]
  },
  {
   "cell_type": "code",
   "execution_count": 20,
   "metadata": {},
   "outputs": [
    {
     "name": "stdout",
     "output_type": "stream",
     "text": [
      "sorry pero ahora yo soy lo que habrá dentro del archivo\n",
      "yo me agregaré al final\n"
     ]
    }
   ],
   "source": [
    "contenido = \"\\nyo me agregaré al final\"\n",
    "file = open(\"data/archivo_ejemplo\", \"a\", encoding=\"utf-8\", errors=\"replace\")\n",
    "file.write(contenido)\n",
    "file.close()\n",
    "\n",
    "file = open('data/archivo_ejemplo', \"r\", encoding='utf-8', errors='replace')\n",
    "print(file.read())\n",
    "file.close()\n"
   ]
  },
  {
   "cell_type": "markdown",
   "metadata": {},
   "source": [
    "Además de leer archivos de texto, podemos abrir archivos y leer sus *bytes* en lugar de texto. Para abrir un archivo como binario, simplemente debemos agregar una `b` por el lado derecho del modo de apertura. Por ejemplo, `wb` (*write bytes*) o `rb` (*read bytes*). El archivo se comportará igual que un archivo de texto, sólo que sin la codificación automática de *byte* a texto."
   ]
  },
  {
   "cell_type": "code",
   "execution_count": 21,
   "metadata": {},
   "outputs": [
    {
     "name": "stdout",
     "output_type": "stream",
     "text": [
      "b'abcde12'\n"
     ]
    }
   ],
   "source": [
    "contenido = b\"abcde12\"\n",
    "file = open(\"data/archivo_ejemplo_2\", \"wb\")\n",
    "file.write(contenido)\n",
    "file.close()\n",
    "\n",
    "file = open('data/archivo_ejemplo_2', \"rb\")\n",
    "print(file.read())\n",
    "file.close()\n"
   ]
  },
  {
   "cell_type": "markdown",
   "metadata": {},
   "source": [
    "Podemos concatenar *bytes* simplemente con el operador `+`. En el siguiente ejemplo, construimos un contenido dinámico para ser escrito en un archivo de *bytes*. Después leemos una cantidad fija de *bytes* desde el mismo archivo:"
   ]
  },
  {
   "cell_type": "code",
   "execution_count": 22,
   "metadata": {},
   "outputs": [
    {
     "name": "stdout",
     "output_type": "stream",
     "text": [
      "b'linea_\\x00 abcde12 linea_\\x01 abcde12 linea_\\x02 a'\n"
     ]
    }
   ],
   "source": [
    "num_lineas = 100\n",
    "\n",
    "file = open(\"data/archivo_ejemplo_3\", \"wb\")\n",
    "for i in range(num_lineas):\n",
    "    # A la función \"bytes\" debemos pasarle un iterable con el contenido a convertir\n",
    "    # por eso le pasamos el entero dentro de una lista\n",
    "    contenido = b\"linea_\" + bytes([i]) + b\" abcde12 \"\n",
    "    file.write(contenido)\n",
    "file.close()\n",
    "\n",
    "file = open('data/archivo_ejemplo_3', \"rb\")\n",
    "# El número dentro de la función read nos dice el número de bytes que se van a leer del archivo\n",
    "print(file.read(41))\n",
    "file.close()\n"
   ]
  },
  {
   "cell_type": "markdown",
   "metadata": {},
   "source": [
    "## *Context Manager*\n",
    "\n",
    "Dado que siempre necesitamos cerrar un archivo después de usarlo, debemos considerar la posibilidad de que ocurran excepciones mientras el archivo está abierto. Una forma clara de hacerlo es cerrar el archivo dentro de la sentencia `finally` después de un `try`; sin embargo, esto genera bastante código extra. En Python existe una forma de hacer lo mismo con menos código, a través de un *context manager*, que se encarga de ejecutar las sentencias `try` y `finally` sin la necesidad de llamarlas directamente. Sólo necesitamos llamar al archivo que queremos abrir usando la sentencia `with`. Veamos un ejemplo."
   ]
  },
  {
   "cell_type": "code",
   "execution_count": 23,
   "metadata": {},
   "outputs": [],
   "source": [
    "with open(\"data/archivo_ejemplo_4\", \"r\") as file:\n",
    "    contenido = file.read()\n"
   ]
  },
  {
   "cell_type": "markdown",
   "metadata": {},
   "source": [
    "El código anterior sería equivalente a hacer lo siguiente:"
   ]
  },
  {
   "cell_type": "code",
   "execution_count": 24,
   "metadata": {},
   "outputs": [],
   "source": [
    "file = open(\"data/archivo_ejemplo_4\", \"r\")\n",
    "try:\n",
    "    contenido = file.read()\n",
    "finally:\n",
    "    file.close()\n"
   ]
  },
  {
   "cell_type": "markdown",
   "metadata": {},
   "source": [
    "Si ejecutamos `dir` en un objeto de tipo archivo:"
   ]
  },
  {
   "cell_type": "code",
   "execution_count": 25,
   "metadata": {},
   "outputs": [
    {
     "name": "stdout",
     "output_type": "stream",
     "text": [
      "['_CHUNK_SIZE', '__class__', '__del__', '__delattr__', '__dict__', '__dir__', '__doc__', '__enter__', '__eq__', '__exit__', '__format__', '__ge__', '__getattribute__', '__gt__', '__hash__', '__init__', '__init_subclass__', '__iter__', '__le__', '__lt__', '__ne__', '__new__', '__next__', '__reduce__', '__reduce_ex__', '__repr__', '__setattr__', '__sizeof__', '__str__', '__subclasshook__', '_checkClosed', '_checkReadable', '_checkSeekable', '_checkWritable', '_finalizing', 'buffer', 'close', 'closed', 'detach', 'encoding', 'errors', 'fileno', 'flush', 'isatty', 'line_buffering', 'mode', 'name', 'newlines', 'read', 'readable', 'readline', 'readlines', 'reconfigure', 'seek', 'seekable', 'tell', 'truncate', 'writable', 'write', 'write_through', 'writelines']\n"
     ]
    }
   ],
   "source": [
    "file = open(\"data/archivo_ejemplo_4\", \"w\")\n",
    "print(dir(file))\n",
    "file.close()\n"
   ]
  },
  {
   "cell_type": "markdown",
   "metadata": {},
   "source": [
    "Vemos que existen dos métodos llamados `__enter__` y `__exit__`. Estos dos métodos transforman el archivo en un *context manager*. El método `__exit__` asegura que el archivo será cerrado incluso si aparece una excepción mientras esté abierto. El método `__enter__` inicializa el archivo o realiza cualquier acción necesaria para ajustar el contexto del objeto.\n",
    "\n",
    "Para asegurarnos que un archivo usará los métodos `__enter__` y `__exit__`, simplemente debemos llamar a la apertura del archivo con el método `with`.\n",
    "\n",
    "También podemos crear nuestros propios *context managers* a partir de cualquier clase. Simplemente agregamos los métodos `__enter__` y `__exit__` y podemos llamar a nuestra clase a través del método `with`. Del siguiente ejemplo, se puede ver cómo el método `__exit__` se ejecuta una vez que nos salimos del *scope* de la sentencia `with`."
   ]
  },
  {
   "cell_type": "code",
   "execution_count": 26,
   "metadata": {},
   "outputs": [
    {
     "name": "stdout",
     "output_type": "stream",
     "text": [
      "['w', 'l', 'q', 'f', 'w', 'q', 'i', 'p', 'k', 'p', 'q', 'd', 'a', 'w', 'q', 'a', 'y', 'u', 'u', 'x']\n",
      "['W', 'L', 'Q', 'F', 'W', 'Q', 'I', 'P', 'K', 'P', 'Q', 'D', 'A', 'W', 'Q', 'A', 'Y', 'U', 'U', 'X']\n"
     ]
    }
   ],
   "source": [
    "import string\n",
    "import random\n",
    "\n",
    "\n",
    "class StringUpper(list):\n",
    "\n",
    "    def __enter__(self):\n",
    "        return self\n",
    "\n",
    "    def __exit__(self, exc_type, exc_value, traceback):\n",
    "        for index, char in enumerate(self):\n",
    "            self[index] = char.upper()\n",
    "\n",
    "\n",
    "with StringUpper() as s_upper:\n",
    "    for i in range(20):\n",
    "        # Aquí seleccionamos, en forma aleatoria, un ascii en minúsculas\n",
    "        # y las agregamos a la lista\n",
    "        s_upper.append(random.choice(string.ascii_lowercase))\n",
    "    print(s_upper)\n",
    "\n",
    "print(s_upper)\n"
   ]
  },
  {
   "cell_type": "markdown",
   "metadata": {},
   "source": [
    "El código anterior simplemente corresponde a una clase que hereda de la clase `list`. Al implementar los métodos `__enter__` y `__exit__`, podemos instanciar la clase a través de un *context manager*. En este ejemplo en particular, el *context manager* se encarga de transformar todos los caracteres ASCII de la lista a mayúsculas."
   ]
  },
  {
   "cell_type": "markdown",
   "metadata": {},
   "source": [
    "## Cómo emular archivos para I/O\n",
    "\n",
    "Muchas veces tenemos que interactuar con algunos módulos de software que sólo leen y escriben sus datos desde y hacia archivos. Si queremos comunicar nuestro código que genera, por ejemplo, *strings*, para evitar tener que escribir nuestros datos en un archivo para que el otro programa los lea, podemos *emular* el tener un archivo usando los módulos de Python `StringIO` o `BytesIO`. El siguiente ejemplo muestra cómo usar estos módulos:"
   ]
  },
  {
   "cell_type": "code",
   "execution_count": 27,
   "metadata": {},
   "outputs": [
    {
     "name": "stdout",
     "output_type": "stream",
     "text": [
      "b'informacin como texto y ms'\n"
     ]
    }
   ],
   "source": [
    "from io import StringIO, BytesIO\n",
    "\n",
    "\n",
    "# aquí simulamos tener un archivo que contiene el string dado\n",
    "file_in = StringIO(\"información como texto y más\")\n",
    "# aquí simulamos un archivo de Bytes para escribir la información\n",
    "file_out = BytesIO()\n",
    "\n",
    "char = file_in.read(1)\n",
    "while char:\n",
    "    file_out.write(char.encode(\"ascii\", \"ignore\"))\n",
    "    char = file_in.read(1)\n",
    "\n",
    "buffer_ = file_out.getvalue()\n",
    "print(buffer_)\n"
   ]
  },
  {
   "cell_type": "markdown",
   "metadata": {},
   "source": [
    "## Más información\n",
    "\n",
    "Para conocer más sobre *bytes*, puedes visitar [este enlace](http://www.dummies.com/programming/electronics/digital-electronics-binary-basics/)."
   ]
  }
 ],
 "metadata": {
  "anaconda-cloud": {},
  "kernelspec": {
   "display_name": "Python 3 (ipykernel)",
   "language": "python",
   "name": "python3"
  },
  "language_info": {
   "codemirror_mode": {
    "name": "ipython",
    "version": 3
   },
   "file_extension": ".py",
   "mimetype": "text/x-python",
   "name": "python",
   "nbconvert_exporter": "python",
   "pygments_lexer": "ipython3",
   "version": "3.9.10"
  },
  "varInspector": {
   "cols": {
    "lenName": 16,
    "lenType": 16,
    "lenVar": 40
   },
   "kernels_config": {
    "python": {
     "delete_cmd_postfix": "",
     "delete_cmd_prefix": "del ",
     "library": "var_list.py",
     "varRefreshCmd": "print(var_dic_list())"
    },
    "r": {
     "delete_cmd_postfix": ") ",
     "delete_cmd_prefix": "rm(",
     "library": "var_list.r",
     "varRefreshCmd": "cat(var_dic_list()) "
    }
   },
   "types_to_exclude": [
    "module",
    "function",
    "builtin_function_or_method",
    "instance",
    "_Feature"
   ],
   "window_display": false
  }
 },
 "nbformat": 4,
 "nbformat_minor": 4
}
