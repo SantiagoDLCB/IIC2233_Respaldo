{
 "cells": [
  {
   "cell_type": "markdown",
   "metadata": {},
   "source": [
    "<p>\n",
    "<font size='5' face='Georgia, Arial'>IIC-2233 Apunte Programación Avanzada</font><br>\n",
    "<font size='1'> Modificado en 2019-1 al 2023-1 por Equipo Docente IIC2233. </font>\n",
    "</p>"
   ]
  },
  {
   "cell_type": "markdown",
   "metadata": {},
   "source": [
    "# Tabla de contenidos\n",
    "\n",
    "1. [*Networking* con Python](#Networking-con-Python)\n",
    "    1. [Arquitectura cliente-servidor](#Arquitectura-cliente-servidor)\n",
    "    2. [`Sockets`](#Sockets)\n",
    "        1. [Ejemplo: Sockets TCP](#Ejemplo:-Sockets-TCP)\n",
    "            1. [Cliente TCP](#Cliente-TCP)\n",
    "            2. [Servidor TCP](#Servidor-TCP)\n",
    "        3. [Ejemplo: Sockets UDP](#Ejemplo:-Sockets-UDP)\n",
    "            1. [Cliente UDP](#Cliente-UDP)\n",
    "            2. [Servidor UDP](#Servidor-UDP)"
   ]
  },
  {
   "cell_type": "markdown",
   "metadata": {},
   "source": [
    "# *Networking* con Python\n",
    "\n",
    "**Recuerda que al leer este documento directamente desde GitHub, no estás aprovechando su contenido al 100%.\n",
    "Editando el código puedes aprender más que leyéndolo. Te recomendamos descargarlo y ejecutarlo desde tu computador para que puedas hacer modificaciones e interactuar con el código.**\n",
    "\n",
    "**IMPORTANTE: El siguiente material incluye ejemplos que deberían ser ejecutados en programas separados, donde uno actúa como el cliente, y otro actúa como el servidor. Para ello, copia los códigos correspondientes en archivos `.py` en tu computador y ejecútalo en consolas separadas. Si ejecutas los códigos directamente en este `jupyter-notebook` los programas se pueden quedar pegados esperando una conexión.**\n",
    "\n",
    "En este material, veremos cómo implementar programas en Python para que puedan comunicarse con otro programa, el cual puede encontrarse en el mismo computador o en otro."
   ]
  },
  {
   "cell_type": "markdown",
   "metadata": {},
   "source": [
    "## Arquitectura cliente-servidor\n",
    "\n",
    "Una **arquitectura** en computación es una manera de conectar o construir _hardware_ o _software_ para que cumpla ciertos estándares. La **arquitectura cliente-servidor** es una manera de conectar dos o más programas donde uno cumple el **rol de servidor**, el cual **ofrece servicios** a otros programos que poseen el **rol de cliente**. Los programas cliente **efectúan solicitudes al servidor** y **consumen sus servicios**.\n",
    "\n",
    "En esta arquitectura el **cliente** es quien **inicia la conexión**, y establece una conexión con el **servidor** de acuerdo a algún protocolo. Por otro lado, el **servidor**, al iniciarse, se dedica a esperar y **escuchar conexiones entrantes** de clientes, y reacciona a cada una de ellas. Al recibir una solicitud de conexión, el servidor puede decidir si la acepta o no, efectúa una acción predefinida, y envía una respuesta al cliente según lo diga el protocolo de comunicación. La transmisión puede hacerse vía TCP ó UDP.\n",
    "\n",
    "![Fuente: http://en.wikipedia.org/wiki/Client%E2%80%93server_model](imgs/client-server-model.png)\n",
    "Fuente de la imagen: [Wikipedia](http://en.wikipedia.org/wiki/Client%E2%80%93server_model)"
   ]
  },
  {
   "cell_type": "markdown",
   "metadata": {},
   "source": [
    "## *Sockets*\n",
    "\n",
    "Un ***socket*** es un objeto del sistema operativo que permite a un programa transmitir y recibir datos desde y hacia otro programa corriendo en otra máquina, o en la misma máquina pero en otro puerto. Son nuestro \"punto de entrada y salida a/desde la red\" en nuestro código. Para obtener un *socket*, necesitamos (1) especificar qué tipo dirección IP usaremos (IPv4 o IPv6), y qué protocolo de transpote usaremos (TCP ó UDP).\n",
    "\n",
    "En Python, los *sockets* son provistos por el módulo `socket`. Para crear un *socket*, debemos crear una instancia de la clase `socket(family, type)`, donde `family` es el tipo de dirección IP que usaremos, y `type` es el protocolo de transporte. Algunos de los valores permitidos son:\n",
    "\n",
    "- `family`\n",
    "    - `AF_INET` para direcciones IPv4\n",
    "    - `AF_INET6` para direcciones IPv6\n",
    "- `type`\n",
    "    - `SOCK_STREAM` para TCP\n",
    "    - `SOCK_DGRAM` para UDP\n",
    "\n",
    "Por ejemplo, para crear un *socket* TCP con IPv4, lo hacemos de la siguiente manera."
   ]
  },
  {
   "cell_type": "code",
   "execution_count": null,
   "metadata": {},
   "outputs": [],
   "source": [
    "import socket\n",
    "\n",
    "sock = socket.socket(socket.AF_INET, socket.SOCK_STREAM)"
   ]
  },
  {
   "cell_type": "markdown",
   "metadata": {},
   "source": [
    "### Ejemplo: Sockets TCP\n",
    "\n",
    "#### Cliente TCP\n",
    "\n",
    "Para establecer una conexión TCP necesitamos (1) la dirección IP del *host* destinatario, y (2) el puerto del *host* destinatario. Para conectarse a un servidor TCP usamos el método `connect((host, port))` del *socket*. El método recibe una tupla, cuyo primer elemento debe ser una dirección IP acorde a lo que especificamos al momento de crear el *socket*, y el segundo elemento es el puerto al que nos queremos conectar. \n",
    "\n",
    "Opcionalmente, el primer elemento de la tupla puede ser un *string* con el *hostname*, como por ejemplo, `python.org`, `github.com` o `canvas.uc.cl`. En ese caso, el sistema utilizará el protocolo DNS para obtener la  dirección IP correspondiente a ese *hostname*.\n",
    "\n",
    "Por ejemplo, hagamos un cliente que se conecte a `146.155.123.21` en el puerto 80 vía TCP."
   ]
  },
  {
   "cell_type": "code",
   "execution_count": null,
   "metadata": {},
   "outputs": [],
   "source": [
    "import socket\n",
    "\n",
    "sock = socket.socket(socket.AF_INET, socket.SOCK_STREAM)\n",
    "sock.connect(('146.155.123.21', 80))"
   ]
  },
  {
   "cell_type": "markdown",
   "metadata": {},
   "source": [
    "Si nos queremos conectar a [canvas.uc.cl](http://canvas.uc.cl) también lo podemos hacer sin conocer su dirección IP."
   ]
  },
  {
   "cell_type": "code",
   "execution_count": null,
   "metadata": {},
   "outputs": [],
   "source": [
    "import socket\n",
    "\n",
    "sock = socket.socket(socket.AF_INET, socket.SOCK_STREAM)\n",
    "sock.connect(('canvas.uc.cl', 80))"
   ]
  },
  {
   "cell_type": "markdown",
   "metadata": {},
   "source": [
    "Llegó la hora de enviar algún mensaje. Los *sockets* sólo transmiten *bytes*, por lo que cualquier cosa que enviemos debemos codificarla. Para enviar un mensaje, se puede ocupar el método `sendall(bytes)` de socket. Estos *bytes* contienen un mensaje en el formato HTTP, y corresponde a una **solicitud HTTP** (*HTTP Request*) que puede ser comprendida por un servidor web."
   ]
  },
  {
   "cell_type": "code",
   "execution_count": null,
   "metadata": {},
   "outputs": [],
   "source": [
    "solicitud = 'GET / HTTP/1.1\\n\\n\\n'\n",
    "sock.sendall(solicitud.encode('ascii'))"
   ]
  },
  {
   "cell_type": "markdown",
   "metadata": {},
   "source": [
    "¿Qué nos habrá respondido el servidor? Para saberlo, debemos ocupar el método `recv(buffer)`, que nos retornará un objeto `bytes`. El parámetro que recibe este método es la cantidad __máxima__* de *bytes* que será leída. La documentación sugiere colocar una potencia de 2 pequeña, como 4096.\n",
    "\n",
    "*Es la cantidad máxima, porque lo que hace es sacar los bytes que hayan llegado al socket en ese instante. Si es que en el socket habían llegado 20 bytes al momento de llamar a `sock.recv(4096)`, entonces el método me entregará solo 20 bytes."
   ]
  },
  {
   "cell_type": "code",
   "execution_count": null,
   "metadata": {},
   "outputs": [],
   "source": [
    "data = sock.recv(4096)\n",
    "print(data.decode('ascii'))"
   ]
  },
  {
   "cell_type": "markdown",
   "metadata": {},
   "source": [
    "El último paso, pero no el menos importante: **debemos cerrar la conexión**; de lo contrario, si nuestro programa continúa, estará ocupando recursos que no utiliza."
   ]
  },
  {
   "cell_type": "code",
   "execution_count": null,
   "metadata": {},
   "outputs": [],
   "source": [
    "sock.close()"
   ]
  },
  {
   "cell_type": "markdown",
   "metadata": {},
   "source": [
    "Hagamos el ejercicio completo en una sola celda. Además, aprovechemos de manejar las excepciones pues, en *networking*, es muy probable que se produzcan errores. La clase `ConnectionError` es la clase base para distintos errores relacionados con problemas de conexión, por lo que capturando su excepción podremos responder a cualquier problema que ocurra en este sentido."
   ]
  },
  {
   "cell_type": "code",
   "execution_count": null,
   "metadata": {},
   "outputs": [],
   "source": [
    "## Esta celda puede ser ejecutada desde aquí sin problemas\n",
    "\n",
    "import socket\n",
    "\n",
    "sock = socket.socket(socket.AF_INET, socket.SOCK_STREAM)\n",
    "\n",
    "host = \"iic2333.ing.puc.cl\"\n",
    "port = 80\n",
    "\n",
    "try:\n",
    "    sock.connect((host, port))\n",
    "    sock.sendall('GET / HTTP/1.1\\nHost: iic2333.ing.puc.cl\\n\\n'.encode('utf-8'))\n",
    "    data = sock.recv(4096)\n",
    "    print(data.decode('utf-8'))\n",
    "except ConnectionError as e:\n",
    "    # ConnectionError es la clase base BrokenPipeError, ConnectionAbortedError,\n",
    "    # ConnectionRefusedError y ConnectionResetError\n",
    "    print(\"Ocurrió un error.\")\n",
    "finally:\n",
    "    # ¡No olvidemos cerrar la conexión!\n",
    "    sock.close()"
   ]
  },
  {
   "cell_type": "markdown",
   "metadata": {},
   "source": [
    "La respuesta que obtenemos del servidor web ubicado en el puerto 80 del `iic2333.ing.puc.cl` es una **respuesta HTTP** (*HTTP Response*) que contiene 4096 *bytes*. La respuesta HTTP incluye el código HTML que describe el contenido de la página http://iic2333.ing.puc.cl (un **muy buen curso**).\n",
    "\n",
    "El puerto 80 es usado por los servidores. Se trata un servicio de **texto plano**, esto es, sin encriptación. La mayoría de los servidores web modernos utilizan una versión de HTTP con encriptación, conocida como HTTPS y que funciona en el puerto 443. Conectarse a un servidor web con HTTPS requiere operaciones de encriptación sobre el *socket* que complicarían innecesariamente este ejemplo."
   ]
  },
  {
   "cell_type": "markdown",
   "metadata": {},
   "source": [
    "#### Servidor TCP\n",
    "\n",
    "Un servidor debe escuchar las conexiones que le llegan a él en un puerto específico. Para ello, debemos \"enlazar\" o \"asociar\" un *socket* a ese puerto con el método `bind((host, port))`. El primer elemento de la tupla es el *hostname* del *host* en que estamos corriendo el servidor; el segundo elemento es el puerto donde queremos escuchar las conexiones.\n",
    "\n",
    "Supongamos que queremos escuchar en el puerto 9000."
   ]
  },
  {
   "cell_type": "code",
   "execution_count": null,
   "metadata": {},
   "outputs": [],
   "source": [
    "import socket\n",
    "\n",
    "sock = socket.socket(socket.AF_INET, socket.SOCK_STREAM)\n",
    "\n",
    "# Así podemos obtener el hostname de la máquina actual\n",
    "host = socket.gethostname()\n",
    "port = 9000\n",
    "\n",
    "sock.bind((host, port))"
   ]
  },
  {
   "cell_type": "markdown",
   "metadata": {},
   "source": [
    "En el cliente no es necesario hacer un *bind* entre el *host* y el puerto, ya que el sistema operativo lo hace implícitamente a través del método `connect`, asignando al cliente un puerto aleatorio. Si el servidor al cual nos conectamos exigiera que el puerto de cada cliente esté en un rango específico, tendríamos que \"enlazar\" el cliente a un puerto específico también.\n",
    "\n",
    "Ahora, empecemos a escuchar conexiones con el método `listen()`."
   ]
  },
  {
   "cell_type": "code",
   "execution_count": null,
   "metadata": {},
   "outputs": [],
   "source": [
    "sock.listen()"
   ]
  },
  {
   "cell_type": "markdown",
   "metadata": {},
   "source": [
    "Ahora, empecemos a aceptar conexiones. Para ello, ocupamos el método `accept()`, que nos retornará un _socket_ con el que podremos comunicarnos con ese cliente en específico, y la dirección de ese cliente (en específico, una tupla con su dirección IP y su puerto). El método esperará hasta que haya una conexión entrante; por lo tanto, si nadie se conecta, el programa quedará congelado."
   ]
  },
  {
   "cell_type": "code",
   "execution_count": null,
   "metadata": {},
   "outputs": [],
   "source": [
    "while True:\n",
    "    socket_cliente, address = sock.accept()\n",
    "    print(\"Conexión aceptada desde\", address)\n",
    "    socket_cliente.sendall(\"Gracias por conectarte\\n\".encode(\"utf-8\"))\n",
    "    socket_cliente.close()"
   ]
  },
  {
   "cell_type": "markdown",
   "metadata": {},
   "source": [
    "Cuando queramos terminar el programa servidor, debemos cerrar el *socket* que estaba aceptando las conexiones."
   ]
  },
  {
   "cell_type": "code",
   "execution_count": null,
   "metadata": {},
   "outputs": [],
   "source": [
    "sock.close()"
   ]
  },
  {
   "cell_type": "markdown",
   "metadata": {},
   "source": [
    "Hagamos el ejercicio completo en una sola celda. Supondremos que queremos que el servidor se cierre después de aceptar cinco clientes."
   ]
  },
  {
   "cell_type": "code",
   "execution_count": null,
   "metadata": {},
   "outputs": [],
   "source": [
    "## No ejecutar esto desde esta celda\n",
    "## Cree un archivo servidor.py con este código\n",
    "\n",
    "import socket\n",
    "\n",
    "sock = socket.socket(socket.AF_INET, socket.SOCK_STREAM)\n",
    "\n",
    "# Así podemos obtener el hostname de la máquina actual\n",
    "host = socket.gethostname()\n",
    "port = 9000\n",
    "\n",
    "sock.bind((host, port))\n",
    "sock.listen()\n",
    "\n",
    "counter = 0\n",
    "while counter < 5:\n",
    "    try:\n",
    "        socket_cliente, address = sock.accept()\n",
    "        print(\"Conexión aceptada desde\", address)\n",
    "        socket_cliente.sendall(\"Gracias por conectarte\\n\".encode(\"utf-8\"))\n",
    "        socket_cliente.close()\n",
    "        counter += 1\n",
    "    except ConnectionError:\n",
    "        print(\"Ocurrió un error.\")\n",
    "\n",
    "sock.close()"
   ]
  },
  {
   "cell_type": "markdown",
   "metadata": {},
   "source": [
    "El siguiente código corresponde a un posible cliente para el servidor implementado en la celda anterior."
   ]
  },
  {
   "cell_type": "code",
   "execution_count": null,
   "metadata": {},
   "outputs": [],
   "source": [
    "## No ejecutar esto desde esta celda\n",
    "## Cree un archivo cliente.py con este código, en una \n",
    "##ventana/terminal distinta a aquella en que está el servidor\n",
    "\n",
    "import socket\n",
    "\n",
    "sock = socket.socket(socket.AF_INET, socket.SOCK_STREAM)\n",
    "\n",
    "# Obtenemos el nombre de la máquina a la que nos queremos conectar\n",
    "# En este caso, nos queremos conectar a esta misma máquina\n",
    "host = socket.gethostname()\n",
    "port = 9000\n",
    "\n",
    "try:\n",
    "    sock.connect((host, port))\n",
    "    data = sock.recv(4096)\n",
    "    print(data.decode(\"utf-8\"))\n",
    "except ConnectionError as e:\n",
    "    print(\"[Cliente] Ocurrió un error\")\n",
    "finally:\n",
    "    sock.close() "
   ]
  },
  {
   "cell_type": "markdown",
   "metadata": {},
   "source": [
    "### Ejemplo: Sockets UDP\n",
    "\n",
    "#### Cliente UDP\n",
    "\n",
    "Dado que el protocolo UDP no establece una conexión, la comunicación UDP es mucho más simple de implementar. No requiere solicitar una conexión previa (no hay un `connect`) con una dirección IP ni puerto específico antes de transmitir datos. Por lo mismo, cada vez que se envía un mensaje, mediante el método `sendto`, se debe especificar la dirección y puerto del servidor, a diferencia de `sendall` y `recv` de TCP.\n",
    "\n",
    "Por ejemplo, para enviar un mensaje como cliente a un servidor ocupamos el método `sendto(mensaje, (host_destino, puerto_destino))` como se muestra a continuación."
   ]
  },
  {
   "cell_type": "code",
   "execution_count": null,
   "metadata": {},
   "outputs": [],
   "source": [
    "import socket\n",
    "\n",
    "server_host = socket.gethostname()\n",
    "server_port = 15000\n",
    "\n",
    "sock = socket.socket(socket.AF_INET, socket.SOCK_DGRAM)\n",
    "mensaje = \"Hola, simplemente te estoy enviando un mensaje.\".encode('utf-8')\n",
    "sock.sendto(mensaje, (server_host, server_port))"
   ]
  },
  {
   "cell_type": "markdown",
   "metadata": {},
   "source": [
    "Opcionalmente, podemos recibir información enviada de vuelta. El metodo `recvfrom(buffer)` retorna, además de los datos, la dirección y puerto desde donde fueron enviados. El parámetro `buffer` es la cantidad máxima de *bytes* que será leída, que se recomienda que sea una potencia de 2 pequeña."
   ]
  },
  {
   "cell_type": "code",
   "execution_count": null,
   "metadata": {},
   "outputs": [],
   "source": [
    "data, (host_origen, puerto_origen) = sock.recvfrom(4096)\n",
    "print(data.decode('utf-8'))"
   ]
  },
  {
   "cell_type": "markdown",
   "metadata": {},
   "source": [
    "Cuando terminemos de ocupar el *socket*, debemos cerrarlo."
   ]
  },
  {
   "cell_type": "code",
   "execution_count": null,
   "metadata": {},
   "outputs": [],
   "source": [
    "sock.close()"
   ]
  },
  {
   "cell_type": "markdown",
   "metadata": {},
   "source": [
    "#### Servidor UDP\n",
    "\n",
    "Si de forma similar queremos implementar un servidor que envía mensajes usando el protocolo UDP, simplemente debemos preocuparnos de responder a la misma dirección desde donde se nos ha enviado algún mensaje. Dado que un _socket_ UDP no establece una conexión previa, cada vez que ejecutamos `recvfrom`, el método retorna los datos leídos y la información de dirección IP y puerto del emisor. \n",
    "\n",
    "Por ejemplo, el siguiente código podría representar al servidor que se comunica con el cliente implementado anteriormente."
   ]
  },
  {
   "cell_type": "code",
   "execution_count": null,
   "metadata": {},
   "outputs": [],
   "source": [
    "## No ejecutar esto desde esta celda\n",
    "## Cree un archivo servidor.py con este código\n",
    "\n",
    "import socket\n",
    "\n",
    "sock = socket.socket(socket.AF_INET, socket.SOCK_DGRAM)\n",
    "\n",
    "# Con un string vacío como argumento del bind, indicamos que el socket es \n",
    "# alcanzable desde cualquier dirección que pueda tener el servidor\n",
    "sock.bind((\"\", 15000))\n",
    "\n",
    "while True:\n",
    "    data, (host_cliente, puerto_cliente) = sock.recvfrom(4096)\n",
    "    print(data.decode('ascii'))\n",
    "    respuesta = f\"Aquí va mi respuesta para {host_cliente}.\"\n",
    "    sock.sendto(respuesta.encode('utf-8'), (host_cliente, puerto_cliente))"
   ]
  },
  {
   "cell_type": "markdown",
   "metadata": {},
   "source": [
    "**NOTA: Junto a este archivo se encuentra la carpeta `codigo_base`, donde se encuentran los archivos para el cliente y el servidor utilizando UDP y TCP.**"
   ]
  }
 ],
 "metadata": {
  "kernelspec": {
   "display_name": "Python 3 (ipykernel)",
   "language": "python",
   "name": "python3"
  },
  "language_info": {
   "codemirror_mode": {
    "name": "ipython",
    "version": 3
   },
   "file_extension": ".py",
   "mimetype": "text/x-python",
   "name": "python",
   "nbconvert_exporter": "python",
   "pygments_lexer": "ipython3",
   "version": "3.9.10"
  },
  "varInspector": {
   "cols": {
    "lenName": 16,
    "lenType": 16,
    "lenVar": 40
   },
   "kernels_config": {
    "python": {
     "delete_cmd_postfix": "",
     "delete_cmd_prefix": "del ",
     "library": "var_list.py",
     "varRefreshCmd": "print(var_dic_list())"
    },
    "r": {
     "delete_cmd_postfix": ") ",
     "delete_cmd_prefix": "rm(",
     "library": "var_list.r",
     "varRefreshCmd": "cat(var_dic_list()) "
    }
   },
   "types_to_exclude": [
    "module",
    "function",
    "builtin_function_or_method",
    "instance",
    "_Feature"
   ],
   "window_display": false
  }
 },
 "nbformat": 4,
 "nbformat_minor": 4
}
