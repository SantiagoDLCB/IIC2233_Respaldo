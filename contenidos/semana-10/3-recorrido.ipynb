{
 "cells": [
  {
   "cell_type": "markdown",
   "metadata": {},
   "source": [
    "<p>\n",
    "<font size='5' face='Georgia, Arial'>IIC-2233 Apunte Programación Avanzada</font><br>\n",
    "<font size='1'>&copy; 2016-2017 Ivania Donoso - Antonio Ossa. Editado en 2018-2, 2019-1, 2020-1 y 2021-1 por Equipo Docente IIC2233.</font>\n",
    "</p>"
   ]
  },
  {
   "cell_type": "markdown",
   "metadata": {},
   "source": [
    "# Tabla de contenidos\n",
    "\n",
    "1. [Cómo recorrer o buscar en un grafo](#Cómo-recorrer-o-buscar-en-un-grafo)\n",
    "    1. [*BFS: Breadth-first search*](#BFS:-Breadth-first-search)\n",
    "    2. [*DFS: Depth-first search*](#DFS:-Depth-first-search)\n",
    "        1. [DFS iterativo](#DFS-iterativo)\n",
    "        2. [DFS recursivo](#DFS-recursivo)\n"
   ]
  },
  {
   "cell_type": "markdown",
   "metadata": {},
   "source": [
    "## Cómo recorrer o buscar en un grafo\n",
    "\n",
    "Podemos recorrer un grafo usando los mismos métodos que utilizamos para árboles (BFS y DFS). Pero debemos tener cuidado en la implementación.\n",
    "\n",
    "Vamos a realizar estos recorridos sobre el grafo de amistades que ya hemos utilizado."
   ]
  },
  {
   "cell_type": "code",
   "execution_count": 1,
   "metadata": {},
   "outputs": [
    {
     "data": {
      "text/plain": [
       "Amigos de Coco: {Kira, Tomás, Anya, Thor, Bon, Luna}.\n",
       "Amigos de Thor: {Kira, Tomás, Anya}.\n",
       "Amigos de Luna: {Thor, Anya, Bon}.\n",
       "Amigos de Bon: {Tomás, Anya, Luna}.\n",
       "Amigos de Kira: {Thor, Bon, Anya, Luna}.\n",
       "Amigos de Anya: {Kira, Thor, Bon, Luna}.\n",
       "Amigos de Tomás: {Coco, Bon}."
      ]
     },
     "execution_count": 1,
     "metadata": {},
     "output_type": "execute_result"
    }
   ],
   "source": [
    "# Utilizaremos estas definiciones para Persona, Nodo y para Grafo, que ya habíamos revisado anteriormente.\n",
    "class Persona:\n",
    "\n",
    "    def __init__(self, nombre, edad):\n",
    "        self.nombre = nombre\n",
    "        self.edad = edad\n",
    "\n",
    "    def __repr__(self):\n",
    "        return self.nombre\n",
    "\n",
    "\n",
    "class Nodo:\n",
    "\n",
    "    def __init__(self, valor):\n",
    "        self.valor = valor\n",
    "\n",
    "    def __repr__(self):\n",
    "        return repr(self.valor)\n",
    "\n",
    "\n",
    "class Grafo:\n",
    "\n",
    "    def __init__(self, lista_adyacencia=None):\n",
    "        self.lista_adyacencia = lista_adyacencia or dict()\n",
    "\n",
    "    def adyacentes(self, x, y):\n",
    "        return y in self.lista_adyacencia[x]\n",
    "\n",
    "    def vecinos(self, x):\n",
    "        return self.lista_adyacencia[x]\n",
    "\n",
    "    def agregar_vertice(self, x):\n",
    "        self.lista_adyacencia[x] = set()\n",
    "\n",
    "    def remover_vertice(self, x):\n",
    "        self.lista_adyacencia.pop(x, None)\n",
    "        for k, v in self.lista_adyacencia.items():\n",
    "            if x in v:\n",
    "                v.remove(x)\n",
    "\n",
    "    def agregar_arista(self, x, y):\n",
    "        if x in self.lista_adyacencia:\n",
    "            self.lista_adyacencia[x].add(y)\n",
    "\n",
    "    def remover_arista(self, x, y):\n",
    "        vecinos_x = self.lista_adyacencia.get(x, set())\n",
    "        if y in vecinos_x:\n",
    "            vecinos_x.remove(y)\n",
    "\n",
    "    def __repr__(self):\n",
    "        texto_nodos = []\n",
    "        for nodo, vecinos in self.lista_adyacencia.items():\n",
    "            texto_nodos.append(f\"Amigos de {nodo}: {vecinos}.\")\n",
    "        return \"\\n\".join(texto_nodos)\n",
    "\n",
    "\n",
    "# Y creamos algunos nodos, y un grafo de amistades\n",
    "# Creamos a nuestras personas y los guardamos en nodos.\n",
    "coco = Nodo(Persona(\"Coco\", 15))\n",
    "thor = Nodo(Persona(\"Thor\", 20))\n",
    "luna = Nodo(Persona(\"Luna\", 21))\n",
    "kira = Nodo(Persona(\"Kira\", 20))\n",
    "bon = Nodo(Persona(\"Bon\", 20))\n",
    "tomas = Nodo(Persona(\"Tomás\", 10))\n",
    "anya = Nodo(Persona(\"Anya\", 22))\n",
    "\n",
    "# Definimos las amistades.\n",
    "amistades = {\n",
    "    coco: set([thor, luna, kira, bon, tomas, anya]),\n",
    "    thor: set([kira, tomas, anya]),\n",
    "    luna: set([thor, bon, anya]),\n",
    "    bon: set([luna, tomas, anya]),\n",
    "    kira: set([thor, luna, bon, anya]),\n",
    "    anya: set([thor, luna, kira, bon]),\n",
    "    tomas: set([bon, coco])\n",
    "}\n",
    "\n",
    "grafo = Grafo(amistades)\n",
    "grafo"
   ]
  },
  {
   "cell_type": "markdown",
   "metadata": {},
   "source": [
    "Ahora intentaremos aplicar el mismo algoritmo de BFS que usamos para un árbol. Agregaremos un argumento `limite` para limitar la cantidad de nodos que visitamos:"
   ]
  },
  {
   "cell_type": "code",
   "execution_count": 2,
   "metadata": {},
   "outputs": [],
   "source": [
    "from collections import deque\n",
    "\n",
    "\n",
    "def bfs(grafo, inicio, limite=20):\n",
    "    # La cola de siempre, comienza desde el nodo inicio.\n",
    "    cola = deque([inicio])\n",
    "\n",
    "    # Mientras queden vertices por visitar y no nos pasemos del limite de navegación\n",
    "    while len(cola) > 0 and limite > 0:\n",
    "        # Obtenemos de la cola el próximo vertice\n",
    "        vertice = cola.popleft()\n",
    "        print(vertice)\n",
    "        # Agregamos los vecinos al stack\n",
    "        for vecino in grafo[vertice]:\n",
    "            cola.append(vecino)\n",
    "        # Visitamos un nodo, bajamos el límite en 1\n",
    "        limite -= 1\n"
   ]
  },
  {
   "cell_type": "markdown",
   "metadata": {},
   "source": [
    "Ahora intentemos recorrer el grafo de amistades anterior, partiendo por Bon:"
   ]
  },
  {
   "cell_type": "code",
   "execution_count": 3,
   "metadata": {},
   "outputs": [
    {
     "name": "stdout",
     "output_type": "stream",
     "text": [
      "Bon\n",
      "Tomás\n",
      "Anya\n",
      "Luna\n",
      "Coco\n",
      "Bon\n",
      "Kira\n",
      "Thor\n",
      "Bon\n",
      "Luna\n",
      "Thor\n",
      "Anya\n",
      "Bon\n",
      "Kira\n",
      "Tomás\n",
      "Anya\n",
      "Thor\n",
      "Bon\n",
      "Luna\n",
      "Tomás\n"
     ]
    }
   ],
   "source": [
    "bfs(amistades, bon)\n"
   ]
  },
  {
   "cell_type": "markdown",
   "metadata": {},
   "source": [
    "Notamos rápidamente que lo impreso está repitiendo nombres. Si aumentamos `limite`, sigue pasando lo mismo. ¿Qué ocurre? \n",
    "\n",
    "Si vemos las amistades, eventualmente encontraremos que hay un ciclo de personas que son amigos uno tras el otro, volviendo a la persona inicial. Por ejemplo, Matías y Antonio son amigos mutuamente. Al mismo tiempo, Bastián tiene de amiga a Florencia B, quien tiene de amigo a Matías, quien tiene de amigo a Freddie, quien tiene de amigo a Bastián nuevamente. Luego, al visitar estos vértices, volvemos a agregar vértices que ya revisamos. Quedamos atrapados en un **ciclo** dentro del grafo.\n",
    "\n",
    "¿Por qué no pasó esto con los árboles? Porque debido a la estructura de un árbol, solo hay **una única** forma de llegar a un vértice cualquiera, a través de su padre. Es decir, nunca se agrega dos veces un mismo vértice con el algoritmo anterior (para un árbol). Sin embargo, en el caso más general de los grafos, **debemos recordar qué vértices hemos visitado** hasta el momento, pues un grafo puede contener ciclos. Esto es importante para no quedarse atrapado en uno; en caso contrario, nuestro programa *nunca* terminaría. De no agregar el límite en el ejemplo anterior, éste nunca hubiera terminado.\n",
    "\n",
    "A continuación, veremos las implementaciones para BFS y DFS que sí verifican que no se está recorriendo dos veces un mismo vértice."
   ]
  },
  {
   "cell_type": "markdown",
   "metadata": {},
   "source": [
    "### *BFS: Breadth-first search*\n",
    "\n",
    "BFS recorre exhaustivamente el grafo, dado un punto de partida. Por lo tanto, si un nodo no fue visitado en el recorrido, significa que **no es alcanzable** desde ese punto de partida. \n",
    "\n",
    "BFS utiliza una cola para mantener el registro de los nodos que debe visitar. Inicialmente el único nodo en la cola es el nodo inicial. Una vez que se extrae un nodo de la cola y se visita, se agregan todos sus vecinos a la cola. Esto provoca que, luego de visitar el nodo inicial, se visitan todos los nodos que están a una arista del inicial; luego se visitan todos los que están a dos aristas del inicial; luego los que están a tres aristas del inicial, y así hasta haber visitado todos los nodos.\n",
    "\n",
    "Este modo de recorrer hace que cada vez visitamos todos los nodos que están a cierta \"distancia\" del nodo inicial antes de pasar a la distancia siguiente. Por este recorrido se llama **recorrido en amplitud (_breadth_)**\n",
    "\n",
    "BFS es práctico cuando se quiere encontrar **la cantidad mínima de aristas a recorrer** para llegar desde un nodo a otro. Esto puede considerarse equivalente a encontrar el \"camino más corto\" entre dos nodos cuando todos las aristas poseen en el mismo peso. En el caso más general, cuando cada arista puede tener un peso distinto, el criterio de búsqueda de BFS ya no es suficiente y hay otros algoritmos que permiten obtener el camino más corto.\n"
   ]
  },
  {
   "cell_type": "code",
   "execution_count": 4,
   "metadata": {},
   "outputs": [],
   "source": [
    "from collections import deque\n",
    "\n",
    "\n",
    "def bfs(grafo, inicio):\n",
    "    # Vamos a mantener una lista con los nodos visitados.\n",
    "    visitados = []\n",
    "    # La cola de siempre, comienza desde el nodo inicio.\n",
    "    queue = deque([inicio])\n",
    "\n",
    "    while len(queue) > 0:\n",
    "        # Elegimos el siguiente nodo a visitar de la cola\n",
    "        vertice = queue.popleft()\n",
    "        # Detalle clave: si ya visitamos el nodo, no hacemos nada!\n",
    "        if vertice in visitados:\n",
    "            continue\n",
    "\n",
    "        # Lo visitamos\n",
    "        print(vertice)\n",
    "        visitados.append(vertice)\n",
    "        # Agregamos los vecinos a la cola si es que no han sido visitados.\n",
    "        for vecino in grafo[vertice]:\n",
    "            if vecino not in visitados:\n",
    "                queue.append(vecino)\n",
    "    return visitados\n"
   ]
  },
  {
   "cell_type": "code",
   "execution_count": 5,
   "metadata": {},
   "outputs": [
    {
     "name": "stdout",
     "output_type": "stream",
     "text": [
      "Bon\n",
      "Tomás\n",
      "Anya\n",
      "Luna\n",
      "Coco\n",
      "Kira\n",
      "Thor\n"
     ]
    },
    {
     "data": {
      "text/plain": [
       "[Bon, Tomás, Anya, Luna, Coco, Kira, Thor]"
      ]
     },
     "execution_count": 5,
     "metadata": {},
     "output_type": "execute_result"
    }
   ],
   "source": [
    "bfs(amistades, bon)"
   ]
  },
  {
   "cell_type": "markdown",
   "metadata": {},
   "source": [
    "Notamos que (1) el algoritmo termina gracias a que mantenemos un registro en `visitados` de todos los nodos revisados y (2) que obtenemos todas las personas como resultado, ya que todas son alcanzables desde alguna otra persona (grafo conexo). \n",
    "\n",
    "Pero si cambiamos un poco el grafo, dónde no todos los nodos son alcanzables desde otros nodos, solo obtenemos algunos:"
   ]
  },
  {
   "cell_type": "code",
   "execution_count": 6,
   "metadata": {},
   "outputs": [],
   "source": [
    "grafo = {\n",
    "    'A': ['B', 'C'],\n",
    "    'B': ['D', 'A'],\n",
    "    'C': ['D'],\n",
    "    'D': ['B'],\n",
    "    'E': ['F'],\n",
    "    'F': ['E'],\n",
    "    'G': ['A', 'F'],\n",
    "}\n"
   ]
  },
  {
   "cell_type": "code",
   "execution_count": 7,
   "metadata": {},
   "outputs": [
    {
     "name": "stdout",
     "output_type": "stream",
     "text": [
      "A\n",
      "B\n",
      "C\n",
      "D\n",
      "Nodos alcanzables desde A: ['A', 'B', 'C', 'D']\n"
     ]
    }
   ],
   "source": [
    "print(f\"Nodos alcanzables desde A: {bfs(grafo, 'A')}\")\n"
   ]
  },
  {
   "cell_type": "code",
   "execution_count": 8,
   "metadata": {},
   "outputs": [
    {
     "name": "stdout",
     "output_type": "stream",
     "text": [
      "E\n",
      "F\n",
      "Nodos alcanzables desde E: ['E', 'F']\n"
     ]
    }
   ],
   "source": [
    "print(f\"Nodos alcanzables desde E: {bfs(grafo, 'E')}\")\n"
   ]
  },
  {
   "cell_type": "code",
   "execution_count": 9,
   "metadata": {},
   "outputs": [
    {
     "name": "stdout",
     "output_type": "stream",
     "text": [
      "G\n",
      "A\n",
      "F\n",
      "B\n",
      "C\n",
      "E\n",
      "D\n",
      "Nodos alcanzables desde G: ['G', 'A', 'F', 'B', 'C', 'E', 'D']\n"
     ]
    }
   ],
   "source": [
    "print(f\"Nodos alcanzables desde G: {bfs(grafo, 'G')}\")\n"
   ]
  },
  {
   "cell_type": "markdown",
   "metadata": {},
   "source": [
    "Haz el ejercicio de dibujar el grafo anterior, y ve cómo el algoritmo va recorriendo qué nodos. Como nuestra implementación usa una lista para guardar a los nodos visitados, se mantiene el orden en que fueron agregados. Revisa por qué tiene ese orden los nodos alcanzables de cada resultado."
   ]
  },
  {
   "cell_type": "markdown",
   "metadata": {},
   "source": [
    "### *DFS: Depth-first search*\n",
    "\n",
    "Al igual que BFS, el algoritmo DFS recorre exhaustivamente el grafo, dado un punto de partida. Si un nodo no fue visitado en el recorrido, significa que **no es alcanzable** desde ese punto de partida.\n",
    "\n",
    "La diferencia con BFS es el orden en que se recorren los nodos. BFS realiza una **búsqueda por amplitud** (o \"por nivel\"), de manera que primero recorrerá todos los nodos que están a una arista del inicial, después todos los que están a dos aristas del inicial, luego a tres aristas, y así hasta recorrerlos todos.\n",
    "\n",
    "DFS explora **en profundidad (_depth_)** cada uno de los vecinos de un nodo. Esto significa que a partir del nodo inicial elige uno de sus vecinos y trata de llegar lo más lejos posible del nodo inicial (\"desciende por una rama\"); una vez que ha llegado lo más lejos posible, se devuelve e intenta otro camino. De esta manera el algoritmo explora cada \"rama\" completa del grafo antes de probar otra rama.\n",
    "\n",
    "DFS puede implementarse de manera muy similar a BFS pero cambiando la estructura en que se almacenan los nodos a visitar usando un _stack_ en lugar de una cola.\n",
    "\n",
    "DFS también posee una implementación recursiva muy natural. A continuación presentamos ambas implementaciones."
   ]
  },
  {
   "cell_type": "markdown",
   "metadata": {},
   "source": [
    "#### DFS iterativo\n",
    "\n",
    "La implementación iterativa de DFS es muy similar a la de BFS, pero DFS utiliza un _stack_ para mantener el registro de los nodos por visitar, mientras que BFS utiliza una cola. Esta diferencia provoca un cambio en el comportamiento del recorrido."
   ]
  },
  {
   "cell_type": "code",
   "execution_count": 10,
   "metadata": {},
   "outputs": [],
   "source": [
    "def dfs(grafo, inicio):\n",
    "    # Vamos a mantener un set con los nodos visitados.\n",
    "    visitados = set()\n",
    "\n",
    "    # El stack de siempre, comienza desde el nodo inicio.\n",
    "    stack = [inicio]\n",
    "\n",
    "    while len(stack) > 0:\n",
    "        vertice = stack.pop()\n",
    "        # Detalle clave: si ya visitamos el nodo, ¡no hacemos nada!\n",
    "        if vertice in visitados:\n",
    "            continue\n",
    "\n",
    "        # Lo visitamos\n",
    "        print(vertice)\n",
    "        visitados.add(vertice)\n",
    "\n",
    "        # Agregamos los vecinos al stack si es que no han sido visitados.\n",
    "        for vecino in grafo[vertice]:\n",
    "            if vecino not in visitados:\n",
    "                stack.append(vecino)\n",
    "\n",
    "    return list(visitados)\n"
   ]
  },
  {
   "cell_type": "code",
   "execution_count": 11,
   "metadata": {},
   "outputs": [
    {
     "name": "stdout",
     "output_type": "stream",
     "text": [
      "Bon\n",
      "Luna\n",
      "Anya\n",
      "Thor\n",
      "Tomás\n",
      "Coco\n",
      "Kira\n"
     ]
    },
    {
     "data": {
      "text/plain": [
       "[Kira, Tomás, Anya, Thor, Bon, Coco, Luna]"
      ]
     },
     "execution_count": 11,
     "metadata": {},
     "output_type": "execute_result"
    }
   ],
   "source": [
    "dfs(amistades, bon)\n"
   ]
  },
  {
   "cell_type": "code",
   "execution_count": 12,
   "metadata": {},
   "outputs": [
    {
     "name": "stdout",
     "output_type": "stream",
     "text": [
      "A\n",
      "C\n",
      "D\n",
      "B\n",
      "Nodos alcanzables desde A: ['A', 'D', 'C', 'B']\n"
     ]
    }
   ],
   "source": [
    "print(f\"Nodos alcanzables desde A: {dfs(grafo, 'A')}\")\n"
   ]
  },
  {
   "cell_type": "code",
   "execution_count": 13,
   "metadata": {},
   "outputs": [
    {
     "name": "stdout",
     "output_type": "stream",
     "text": [
      "E\n",
      "F\n",
      "Nodos alcanzables desde E: ['F', 'E']\n"
     ]
    }
   ],
   "source": [
    "print(f\"Nodos alcanzables desde E: {dfs(grafo, 'E')}\")\n"
   ]
  },
  {
   "cell_type": "code",
   "execution_count": 14,
   "metadata": {},
   "outputs": [
    {
     "name": "stdout",
     "output_type": "stream",
     "text": [
      "G\n",
      "F\n",
      "E\n",
      "A\n",
      "C\n",
      "D\n",
      "B\n",
      "Nodos alcanzables desde G: ['A', 'C', 'F', 'B', 'D', 'E', 'G']\n"
     ]
    }
   ],
   "source": [
    "print(f\"Nodos alcanzables desde G: {dfs(grafo, 'G')}\")\n"
   ]
  },
  {
   "cell_type": "markdown",
   "metadata": {},
   "source": [
    "Nota que los resultados (como conjuntos de nodos) son iguales que en BFS, pero el orden es lo que cambia. Revisa en este caso el por qué aparecen en el orden en que imprimen."
   ]
  },
  {
   "cell_type": "markdown",
   "metadata": {},
   "source": [
    "#### DFS recursivo\n",
    "\n",
    "La versión recursiva recorre cada vertice, y se vuelve a llamar recursivamente con cada uno de los vecinos de ese vértice. También se hace necesario maetener en cada llamado una lista con los vértices ya visitados para evitar procesar más de una vez cada vértice."
   ]
  },
  {
   "cell_type": "code",
   "execution_count": 15,
   "metadata": {},
   "outputs": [],
   "source": [
    "# Vamos a mantener como parámetro un set con los nodos visitados.\n",
    "def dfs_recursivo(grafo, vertice, visitados=None):\n",
    "    visitados = visitados or set()\n",
    "\n",
    "    # Lo visitamos\n",
    "    print(vertice)\n",
    "    visitados.add(vertice)\n",
    "\n",
    "    for vecino in grafo[vertice]:\n",
    "        # Detalle clave: si ya visitamos el nodo, ¡no hacemos nada!\n",
    "        if vecino not in visitados:\n",
    "            dfs_recursivo(grafo, vecino, visitados)\n",
    "\n",
    "    return list(visitados)\n"
   ]
  },
  {
   "cell_type": "code",
   "execution_count": 16,
   "metadata": {},
   "outputs": [
    {
     "name": "stdout",
     "output_type": "stream",
     "text": [
      "Bon\n",
      "Tomás\n",
      "Coco\n",
      "Kira\n",
      "Thor\n",
      "Anya\n",
      "Luna\n"
     ]
    },
    {
     "data": {
      "text/plain": [
       "[Kira, Tomás, Anya, Thor, Bon, Coco, Luna]"
      ]
     },
     "execution_count": 16,
     "metadata": {},
     "output_type": "execute_result"
    }
   ],
   "source": [
    "dfs_recursivo(amistades, bon)\n"
   ]
  },
  {
   "cell_type": "markdown",
   "metadata": {},
   "source": [
    "**Puedes poner en práctica implementación de algoritmos de recorrido o ponerlos en uso en los ejercicios propuestos 3.1,\n",
    " 3.2, 3.3, 3.4 y 3.5.**"
   ]
  }
 ],
 "metadata": {
  "kernelspec": {
   "display_name": "Python 3 (ipykernel)",
   "language": "python",
   "name": "python3"
  },
  "language_info": {
   "codemirror_mode": {
    "name": "ipython",
    "version": 3
   },
   "file_extension": ".py",
   "mimetype": "text/x-python",
   "name": "python",
   "nbconvert_exporter": "python",
   "pygments_lexer": "ipython3",
   "version": "3.9.10"
  },
  "vscode": {
   "interpreter": {
    "hash": "aee8b7b246df8f9039afb4144a1f6fd8d2ca17a180786b69acc140d282b71a49"
   }
  }
 },
 "nbformat": 4,
 "nbformat_minor": 4
}
