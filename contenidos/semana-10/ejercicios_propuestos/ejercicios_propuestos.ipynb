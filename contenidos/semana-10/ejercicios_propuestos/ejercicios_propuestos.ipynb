{
 "cells": [
  {
   "cell_type": "markdown",
   "metadata": {},
   "source": [
    "<p>\n",
    "<font size='5' face='Georgia, Arial'>IIC-2233 Apunte Programación Avanzada</font><br>\n",
    "<font size='1'> Ejercicios creados a partir de 2019-2 por Equipo Docente IIC2233. </font>\n",
    "<font size='1'> Actualizados en 2020-1</font>\n",
    "</p>\n",
    "\n",
    "\n",
    "# Ejercicios propuestos: Estructuras nodales II"
   ]
  },
  {
   "cell_type": "markdown",
   "metadata": {},
   "source": [
    "Los siguientes problemas se proveen como oportunidad de ejercitar los conceptos revisados en el material de estructuras nodales II. Si tienes dudas sobre algún problema o alguna solución, no dudes en dejar una *issue* en el [foro del curso](https://github.com/IIC2233/syllabus/issues).\n",
    "\n",
    "Los ejercicios se subdividen según la numeración de los cuadernos de la semana. Algunos de ellos se referencian desde los cuadernos de material mismo, mientras que pueden haber otros adicionales para mayor ejercitación."
   ]
  },
  {
   "cell_type": "markdown",
   "metadata": {},
   "source": [
    "## 1. Grafos y representación"
   ]
  },
  {
   "cell_type": "markdown",
   "metadata": {},
   "source": [
    "### Ejercicio 1.1: Convertir a listas de adyacencia"
   ]
  },
  {
   "cell_type": "markdown",
   "metadata": {},
   "source": [
    "Se entrega la siguiente lista de tuplas que representa las conexiones entre los nodos de un grafo. Donde la tupla se lee cómo: el primer valor tiene una conexion con el segundo valor. Es decir, `(x, y)` es equivalente a la conexión `x -> y`."
   ]
  },
  {
   "cell_type": "code",
   "execution_count": null,
   "metadata": {},
   "outputs": [],
   "source": [
    "conexiones = [(1, 2), (2, 3), (3, 2), (3, 4), (3, 5), (4, 5), (1, 6), (2, 7), (7, 10), (7, 11), (6, 8), (6, 9)]"
   ]
  },
  {
   "cell_type": "markdown",
   "metadata": {},
   "source": [
    "Transforma el grafo anterior a su representación de listas de adyacencia. Específicamente, como un diccionario en donde cada llave del diccionario es el valor de un nodo, y el valor asociado del diccionario, es una lista de adyacencia para el nodo ascodiado en la llave.\n",
    "\n",
    "Recuerda que a pesar de que un valor no tenga conexiones hacia otro valor, este sigue siendo un nodo en el grafo, por lo que debe tener una lista asociada en su representación de lista de adyacencia. En este caso, como no tiene conexiones salientes, la lista asociada terminará vacía."
   ]
  },
  {
   "cell_type": "code",
   "execution_count": null,
   "metadata": {},
   "outputs": [],
   "source": [
    "grafo = {}\n",
    "\n",
    "# rellenar aquí para poblar el grafo\n",
    "\n",
    "for nodo in grafo:\n",
    "    print(f\"{nodo} -> {grafo[nodo]}\")"
   ]
  },
  {
   "cell_type": "markdown",
   "metadata": {},
   "source": [
    "### Ejercicio 1.2: Convertir a representación nodal"
   ]
  },
  {
   "cell_type": "markdown",
   "metadata": {},
   "source": [
    "Se entrega la siguiente lista de tuplas que representa las conexiones entre los nodos de un grafo. Donde la tupla se lee cómo: el primer valor tiene una conexion con el segundo valor. Es decir, `(x, y)` es equivalente a la conexión `x -> y`."
   ]
  },
  {
   "cell_type": "code",
   "execution_count": null,
   "metadata": {},
   "outputs": [],
   "source": [
    "conexiones = [(1, 2), (2, 3), (3, 2), (3, 4), (3, 5), (4, 5), (1, 6), (2, 7), (7, 10), (7, 11), (6, 8), (6, 9)]"
   ]
  },
  {
   "cell_type": "markdown",
   "metadata": {},
   "source": [
    "Transforma el grafo anterior a su representación nodal utilizando la clase `Nodo` del material. Es decir, cada nodo debe tener su propia instancia de `Nodo` y agregarse entre si referencias a otras instancias. Un detalle importante a recordar es que por cada valor, debe haber una única instania de `Nodo`, ya que representan a la misma entidad. Si se crearan múltiples instancias para un mismo valor, entonces las referencias a sus conexiones no se almacenarían en la misma instancia.\n",
    "\n",
    "A continuación se deja la clase `Nodo` a utilizar, y una variable `nodos` que puede ser el contenedor que quieras (lista o diccionario, por ejemplo) que contenga las instancias de nodos."
   ]
  },
  {
   "cell_type": "code",
   "execution_count": null,
   "metadata": {},
   "outputs": [],
   "source": [
    "class Nodo:\n",
    "    \n",
    "    def __init__(self, valor):\n",
    "        self.valor = valor\n",
    "        self.conexiones = []\n",
    "        \n",
    "    def agregar_conexion(self, nodo):\n",
    "        self.conexiones.append(nodo)\n",
    "        \n",
    "    def __repr__(self):\n",
    "        texto = f\"[{self.valor}]\"\n",
    "        if len(self.conexiones) > 0:\n",
    "            textos_conexiones = [f\"[{conexion.valor}]\" for conexion in self.conexiones]\n",
    "            texto += \" -> \" + \", \".join(textos_conexiones)\n",
    "        return texto\n",
    "\n",
    "\n",
    "nodos = None"
   ]
  },
  {
   "cell_type": "markdown",
   "metadata": {},
   "source": [
    "### Ejercicio 1.3: Convertir a matriz de adyacencia"
   ]
  },
  {
   "cell_type": "markdown",
   "metadata": {},
   "source": [
    "Se entrega la siguiente lista de tuplas que representa las conexiones entre los nodos de un grafo. Donde la tupla se lee cómo: el primer valor tiene una conexion con el segundo valor. Es decir, `(x, y)` es equivalente a la conexión `x -> y`."
   ]
  },
  {
   "cell_type": "code",
   "execution_count": null,
   "metadata": {},
   "outputs": [],
   "source": [
    "conexiones = [(1, 2), (2, 3), (3, 2), (3, 4), (3, 5), (4, 5), (1, 6), (2, 7), (7, 10), (7, 11), (6, 8), (6, 9)]"
   ]
  },
  {
   "cell_type": "markdown",
   "metadata": {},
   "source": [
    "Transforma el grafo anterior a su representación  de matriz de adyacencia como una lista de listas."
   ]
  },
  {
   "cell_type": "code",
   "execution_count": null,
   "metadata": {},
   "outputs": [],
   "source": [
    "# Completar\n",
    "\n",
    "matriz = []"
   ]
  },
  {
   "cell_type": "markdown",
   "metadata": {},
   "source": [
    "## 2. Operaciones básicas"
   ]
  },
  {
   "cell_type": "markdown",
   "metadata": {},
   "source": [
    "### Ejercicio 2.1: Operaciones básicas en representación nodal"
   ]
  },
  {
   "cell_type": "markdown",
   "metadata": {},
   "source": [
    "Se entrega la siguiente lista de tuplas que representa las conexiones entre los nodos de un grafo. Donde la tupla se lee cómo: el primer valor tiene una conexion con el segundo valor. Es decir, `(x, y)` es equivalente a la conexión `x -> y`."
   ]
  },
  {
   "cell_type": "code",
   "execution_count": null,
   "metadata": {},
   "outputs": [],
   "source": [
    "conexiones = [(1, 2), (2, 3), (3, 2), (3, 4), (3, 5), (4, 5), (1, 6), (2, 7), (7, 10), (7, 11), (6, 8), (6, 9)]"
   ]
  },
  {
   "cell_type": "markdown",
   "metadata": {},
   "source": [
    "Transforma el grafo anterior a su representación nodal utilizando clases para tanto nodos como el grafo completo. Al tratarse de representación **nodal**, la clase `Nodo` es quien maneja las conexiones a los vecinos respectivos. Se te entrega la implementación de `Nodo` del material. Por otro lado, la clase `Grafo` almanecena los nodos y los manipula, **y la debes completar**. \n",
    "\n",
    "Tu implementación debe tener: \n",
    "- un método `crear_nodo(valor)` el cual crea una instancia de la clase `Nodo` con su valor respectivo;\n",
    "- un método `agregar_conexion(valor_origen, valor_destino)` que crea en el nodo cuyo valor es `valor_origen` una conexion hacia el nodo cuyo valor es `valor_destino` en el grafo, y en caso de que alguno de los nodos asociados a `valor_origen` o `valor_destino` no existan previamente en el grafo, los debe crear y agregar;\n",
    "- y un método `imprimir_grafo()` que imprime al grafo con sus respectivas conexiones."
   ]
  },
  {
   "cell_type": "code",
   "execution_count": null,
   "metadata": {},
   "outputs": [],
   "source": [
    "class Nodo:\n",
    "    \n",
    "    def __init__(self, valor):\n",
    "        self.valor = valor\n",
    "        self.conexiones = []\n",
    "        \n",
    "    def agregar_conexion(self, nodo):\n",
    "        self.conexiones.append(nodo)\n",
    "        \n",
    "    def __repr__(self):\n",
    "        texto = f\"[{self.valor}]\"\n",
    "        if len(self.conexiones) > 0:\n",
    "            textos_conexiones = [f\"[{conexion.valor}]\" for conexion in self.conexiones]\n",
    "            texto += \" -> \" + \", \".join(textos_conexiones)\n",
    "        return texto\n",
    "\n",
    "\n",
    "class Grafo:\n",
    "\n",
    "    def __init__(self):\n",
    "        # Implementar\n",
    "        pass\n",
    "\n",
    "    def crear_nodo(self, valor):\n",
    "        # Implementar\n",
    "        pass\n",
    "\n",
    "    def agregar_conexion(self, valor_origen, valor_destino):\n",
    "        # Implementar\n",
    "        pass\n",
    "\n",
    "    def imprimir_grafo(self):\n",
    "        # Implementar\n",
    "        pass\n",
    "    \n",
    "            \n",
    "grafo = Grafo()\n",
    "\n",
    "for conexion in conexiones:\n",
    "    origen, destino = conexion\n",
    "    grafo.agregar_conexion(origen, destino)\n",
    "\n",
    "grafo.imprimir_grafo()"
   ]
  },
  {
   "cell_type": "markdown",
   "metadata": {},
   "source": [
    "### Ejercicio 2.2: Operaciones básicas en matriz de adyacencia"
   ]
  },
  {
   "cell_type": "markdown",
   "metadata": {},
   "source": [
    "En este ejercicio podrás practicar cómo implementar las operaciones básicas sobre un grafo dirigido en base a una **matriz de adyacencia**.\n",
    "\n",
    "Debes implementar una clase `Grafo` que utiliza como representación interna una matriz de adyacencia (como lista de listas). El constructor de instancia de `Grafo` define inicialmente la matriz vacía como único atributo interno.\n",
    "\n",
    "Debes completar cada una de sus operaciones, pero adapatando cada uno al caso de contar una matriz como representación. Sólo deberás implementar las operaciones en base a la matriz de adyacencia, por lo que no habrán más clases implementadas. \n",
    "En cada método de la clase `Grafo` que requiere de algún argumento, este argumento representa un índice válido de nodo en la matriz. Por ejemplo, si se llama a `grafo.vecinos(2)`, el argumento hace referencia al \"nodo 2\" que corresponde a la fila 2 y la columna 2 de la matriz. Como los índices comienzan en 0, los nodos también comenzarán del 0."
   ]
  },
  {
   "cell_type": "markdown",
   "metadata": {},
   "source": [
    "Específicamente, cada método debe:\n",
    "\n",
    "- `agregar_vertice`: Debe agregar `0` al final de cada lista existente en la matriz, y una también agregar una última lista que solo contenga `0`s. Finalmente retorna `None`.\n",
    "- `agregar_arista(x, y)`: Debe colocar el valor `1` en la posición correspondiente a la matriz que representa una conexión de `x` hacia `y`. Finalmente retorna `None`.\n",
    "- `remover_vertice(x)`: Debe eliminar la lista correspondiente al nodo `x` de la matriz y los valores correspondientes a este nodo de las demás listas. Retorna `None`.\n",
    "- `remover_arista(x, y)`: Debe colocar el valor `0` en la posición correspondiente a la matriz que representa una conexión de `x` hacia `y`. Retorna `None`.\n",
    "- `adyacentes(x,y)`: Retorna `True` si existe la arista entre `x` e `y`.\n",
    "- `vecinos(x)`: Retorna una lista con índices correspondientes a los nodos vecinos de `x`."
   ]
  },
  {
   "cell_type": "code",
   "execution_count": null,
   "metadata": {},
   "outputs": [],
   "source": [
    "class Grafo:\n",
    "\n",
    "    def __init__(self):\n",
    "        self.matriz = []\n",
    "        # Completar\n",
    "\n",
    "    def agregar_vertice(self):\n",
    "        # Completar\n",
    "        pass\n",
    "\n",
    "    def agregar_arista(self, x, y):\n",
    "        # Completar\n",
    "        pass\n",
    "\n",
    "    def remover_vertice(self, x):\n",
    "        # Completar\n",
    "        pass\n",
    "    \n",
    "    def remover_arista(self, x, y):\n",
    "        # Completar\n",
    "        pass\n",
    "    \n",
    "    def adyacentes(self, x, y):\n",
    "        # Completar\n",
    "        pass\n",
    "\n",
    "    def vecinos(self, x):\n",
    "        # Completar\n",
    "        pass\n",
    "\n",
    "\n",
    "if __name__ == \"__main__\":\n",
    "\n",
    "    grafo = Grafo()\n",
    "    \n",
    "    for _ in range(4):\n",
    "        grafo.agregar_vertice()\n",
    "    \n",
    "    grafo.agregar_arista(0, 1)\n",
    "    grafo.agregar_arista(0, 2)\n",
    "    grafo.agregar_arista(1, 0)\n",
    "    grafo.agregar_arista(1, 3)\n",
    "    grafo.agregar_arista(2, 0)\n",
    "    grafo.agregar_arista(2, 1)\n",
    "    grafo.agregar_arista(3, 2)\n",
    "    \n",
    "    print(\"Chequeos:\")\n",
    "    \n",
    "    if grafo.matriz == [[0, 1, 1, 0], [1, 0, 0, 1], [1, 1, 0, 0], [0, 0, 1, 0]]:\n",
    "        print(\"Matriz inicial coincide :)\")\n",
    "    \n",
    "    if grafo.adyacentes(0, 1):\n",
    "        print(\"Existe adyacencia entre nodo 0 y nodo 1\")\n",
    "    \n",
    "    if grafo.vecinos(2) == [0, 1]:\n",
    "        lista = grafo.vecinos(2)\n",
    "        print(f\"Los vecinos del nodo 2 son: {lista[0]}, {lista[1]}\")\n",
    "    \n",
    "    grafo.agregar_vertice()\n",
    "    if grafo.matriz == [[0, 1, 1, 0, 0], [1, 0, 0, 1, 0], [1, 1, 0, 0, 0], [0, 0, 1, 0, 0], [0, 0, 0, 0, 0]]:\n",
    "        print(\"Se agregó un vértice correctamente :)\")\n",
    "    \n",
    "    grafo.remover_vertice(1)\n",
    "    if grafo.matriz == [[0, 1, 0, 0], [1, 0, 0, 0], [0, 1, 0, 0], [0, 0, 0, 0]]:\n",
    "        print(\"Se removió el vértice 1 correctamente :)\")\n",
    "    \n",
    "    grafo.agregar_arista(3, 1)\n",
    "    if grafo.matriz == [[0, 1, 0, 0], [1, 0, 0, 0], [0, 1, 0, 0], [0, 1, 0, 0]]:\n",
    "        print(\"Se agregó una arista entre el vértice 2 y el vértice 4 correctamente :)\")\n",
    "    \n",
    "    grafo.remover_arista(0, 1)\n",
    "    if grafo.matriz == [[0, 0, 0, 0], [1, 0, 0, 0], [0, 1, 0, 0], [0, 1, 0, 0]]:\n",
    "        print(\"Se eliminó una arista entre el vértice 1 y 2 correctamente :)\")\n"
   ]
  },
  {
   "cell_type": "markdown",
   "metadata": {},
   "source": [
    "## 3. Recorrido"
   ]
  },
  {
   "cell_type": "markdown",
   "metadata": {},
   "source": [
    "### Ejercicio 3.1: Implementando recorrido"
   ]
  },
  {
   "cell_type": "markdown",
   "metadata": {},
   "source": [
    "Crea una clase `Grafo`, que utilice cualquier tipo de representación interna que quieras, que implemente los métodos: \n",
    "- `recorrer_bfs(self)` para recorrer el grafo usando BFS desde un nodo cualquiera y que retorna una lista con los nodos visitados en orden.\n",
    "- `recorrer_dfs(self)` para recorrer el grafo usando DFS desde un nodo cualquiera y que retorna una lista con los nodos visitados en orden.\n",
    "\n",
    "Puedes utilizar de base una clase `Grafo` resultado de un ejercicio anterior. Para poblar y probar tu solución puedes utilizar la lista de tuplas `conexiones`, que representan conexiones entre nodos."
   ]
  },
  {
   "cell_type": "code",
   "execution_count": null,
   "metadata": {},
   "outputs": [],
   "source": [
    "class Grafo:\n",
    "    \n",
    "    # Puede contener la representación y métodos que estimes convenientes.\n",
    "    \n",
    "    def recorrer_bfs(self):\n",
    "        pass\n",
    "    \n",
    "    def recorrer_dfs(self):\n",
    "        pass\n",
    "\n",
    "\n",
    "conexiones = [(1, 2), (2, 3), (3, 2), (3, 4), (3, 5), (4, 5), (1, 6), (2, 7), (7, 10), (7, 11), (6, 8), (6, 9)]\n",
    "grafo = Grafo()\n",
    "\n",
    "# Poblar grafo dependiendo de implementación\n",
    "\n",
    "print(grafo.recorrer_bfs())\n",
    "print(grafo.recorrer_dfs())"
   ]
  },
  {
   "cell_type": "markdown",
   "metadata": {},
   "source": [
    "### Ejercicio 3.2: Encontrar camino"
   ]
  },
  {
   "cell_type": "markdown",
   "metadata": {},
   "source": [
    "Crea una clase `Grafo`, que utilice cualquier tipo de representación interna que quieras, que implemente el método `existe_camino(self, valor_origen, valor_destino)` que retorne `True` si existe el camino de cualquier largo entre el nodo cuyo valor es `valor_origen` al nodo cuyo valor es `valor_destino`, `False` en el caso contrario.\n",
    "\n",
    "Puedes utilizar de base una clase `Grafo` resultado de un ejercicio anterior, e incluso hacer una solución recursiva.  Para poblar y probar tu solución puedes utilizar la lista de tuplas `conexiones`, que representan conexiones entre nodos."
   ]
  },
  {
   "cell_type": "code",
   "execution_count": null,
   "metadata": {},
   "outputs": [],
   "source": [
    "class Grafo:\n",
    "    \n",
    "    # Puede contener la representación y métodos que estimes convenientes.\n",
    "    \n",
    "    def existe_camino(self, valor_origen, valor_destino):\n",
    "        pass\n",
    "\n",
    "\n",
    "conexiones = [(1, 2), (2, 3), (3, 2), (3, 4), (3, 5), (4, 5), (1, 6), (2, 7), (7, 10), (7, 11), (6, 8), (6, 9)]\n",
    "grafo = Grafo()\n",
    "\n",
    "# Poblar grafo dependiendo de implementación\n",
    "\n",
    "print(grafo.existe_camino(3, 5))\n",
    "print(grafo.existe_camino(10, 12))"
   ]
  },
  {
   "cell_type": "markdown",
   "metadata": {},
   "source": [
    "### Ejercico 3.3: Encontrar distancia"
   ]
  },
  {
   "cell_type": "markdown",
   "metadata": {},
   "source": [
    "Crea una clase `Grafo`, que utilice cualquier tipo de representación interna que quieras, que implemente el método `distancia_entre(self, valor_origen, valor_destino)` que retorne un `int` con la distancia entre los nodos origen (cuyo valor es `valor_origen`) y destino (cuyo valor es `valor_destino`).\n",
    "\n",
    "Asume que cada conexión directa en el grafo es de distancia 1, por lo tanto: la distancia desde un nodo hasta el mismo nodo es 0, la distancia entre un nodo y uno de sus vecinos es 1, la distancia entre un nodo y alguno de los vecinos de sus vecinos es 2 (a menos de que también sea vecino suyo o si mismo), etc...\n",
    "\n",
    "Puedes utilizar de base una clase `Grafo` resultado de un ejercicio anterior. Puedes usar el código de uno de los algoritmos de navegación y alterarlo para lograr el objetivo, pero uno puede que te sirva más que el otro. **¿Cuál?**\n",
    "\n",
    " Para poblar y probar tu solución puedes utilizar la lista de tuplas `conexiones`, que representan conexiones entre nodos."
   ]
  },
  {
   "cell_type": "code",
   "execution_count": null,
   "metadata": {},
   "outputs": [],
   "source": [
    "class Grafo:\n",
    "    \n",
    "    # Puede contener la representación y métodos que estimes convenientes.\n",
    "    \n",
    "    def distancia_entre(self, valor_origen, valor_destino):\n",
    "        pass\n",
    "\n",
    "\n",
    "conexiones = [(1, 2), (2, 3), (3, 2), (3, 4), (3, 5), (4, 5), (1, 6), (2, 7), (7, 10), (7, 11), (6, 8), (6, 9)]\n",
    "grafo = Grafo()\n",
    "\n",
    "# Poblar grafo dependiendo de implementación\n",
    "\n",
    "print(grafo.distancia_entre(1, 11))"
   ]
  },
  {
   "cell_type": "markdown",
   "metadata": {},
   "source": [
    "### Ejercicio 3.4: Encontrar ciclos"
   ]
  },
  {
   "cell_type": "markdown",
   "metadata": {},
   "source": [
    "Crea una clase `Grafo`, que utilice cualquier tipo de representación interna que quieras, que implemente el método `existe_ciclo(self)` que retorne `True` si existe un ciclo en el grafo, y `False` en caso contrario. Considera ciclo como que **existe si hay más de una forma de llegar a un nodo mediante navegación**.\n",
    "\n",
    "Puedes utilizar de base una clase `Grafo` resultado de un ejercicio anterior, e incluso hacer una solución recursiva.  Para poblar y probar tu solución puedes utilizar la lista de tuplas `conexiones`, que representan conexiones entre nodos."
   ]
  },
  {
   "cell_type": "code",
   "execution_count": null,
   "metadata": {},
   "outputs": [],
   "source": [
    "class Grafo:\n",
    "    \n",
    "    # Puede contener la representación y métodos que estimes convenientes.\n",
    "    \n",
    "    def existe_ciclo(self):\n",
    "        pass\n",
    "\n",
    "\n",
    "conexiones = [(1, 2), (2, 3), (3, 2), (3, 4), (3, 5), (4, 5), (1, 6), (2, 7), (7, 10), (7, 11), (6, 8), (6, 9)]\n",
    "grafo = Grafo()\n",
    "\n",
    "# Poblar grafo dependiendo de implementación\n",
    "\n",
    "print(grafo.existe_ciclo())"
   ]
  },
  {
   "cell_type": "markdown",
   "metadata": {},
   "source": [
    "### Ejercicio 3.5: Emprendimiento"
   ]
  },
  {
   "cell_type": "markdown",
   "metadata": {},
   "source": [
    "En medio de la propagación de una pandemia provocada por un virus altamente contagioso, decides iniciar un emprendimiento del producto más solicitado del momento: papel higienico. Para tu emprendimiento decides repartir a domicilio paquetes con diferente cantidad de rollos de papel y diferentes marcas.\n",
    "\n",
    "Las opciones de paquetes a enviar son las siguientes:\n",
    "\n",
    "1. Cuatro rollos de marca1\n",
    "2. Dos rollos de marca1\n",
    "3. Cuatro rollos de marca2\n",
    "4. Dos rollos de marca2\n",
    "\n",
    "Además, debido a la alta demanda, ya tienes seis encargos de paquetes. Cada encargo es de un sólo paquete. Además, cada encargo tiene direcciones diferentes y algunas de ellas están conectadas entre sí. Por esta razón, es posible modelar los encargos como un grafo. \n",
    "\n",
    "Para entregar los productos decides llevar exactamente la cantidad de productos que te pidieron. Esto quiere decir que si te pidieron tres tipos del paquete 1 y tres del paquete 2, entonces posees exactamente esa cantidad de productos. Debido a tu *stock* al momento de repartir, deberás comparar los productos que el cliente pidió con los productos que tienes a tu disposición, de manera que cada producto debe ser exactamente el que encargó el cliente."
   ]
  },
  {
   "cell_type": "markdown",
   "metadata": {},
   "source": [
    "Tu trabajo será modelar el problema con nodos para  cumplir con los todos los encargos. Afortunadamente, parte del código para esto ya está hecho:\n",
    "\n",
    "1. La clase `Producto`, representa los productos que llevas en el reparto. Sus atributos representan la candidad de rollos y la marca del producto. \n",
    "\n",
    "2. La clase `Encargo` está parcialmente implementada y debes completarla. Esta clase representa un encargo que hicieron de tus productos. El encargo tiene como atributos `eid` (*id* del encargo), `rollos`, `marca` y `estado`. Además de la lista `vecinos`, que contiene cada instancia de **otros** encargos cuyas direcciones son cercanas y funcionan como vecinos. Para completar esta clase debes completar el siguiente método:\n",
    "    - `aceptar_encargo`: Recibe una instancia de `Producto`. Este método revisa si los atributos de la instancia tienen el mismo valor que los atributos del encargo. Cambia el atributo estado a `\"Entregado\"` y retorna `True` si cumple con lo que desea. Retorna `False` si no cumple y tampoco cambia el atributo estado.\n",
    "\n",
    "3. Función `bfs`. No está implementada. Debes adaptar el algoritmo BFS para realizar todos los repartos. La función recibe un encargo de inicio y la lista de productos que llevas para el reparto. A partir del primer nodo de inicio debes hacer lo siguiente:\n",
    "    - Mientras visitas cada encargo, debes iterar sobre la lista de productos y usar la función `aceptar_encargo` de la instancia `Encargo` correspondiente. Si la función retorna `True`, es porque el producto corresponde al producto del encargo, por lo que debes eliminar el producto correspondiente de la lista y después ir al siguiente encargo (el siguiente producto que estará en la lista de vecinos de encargo)."
   ]
  },
  {
   "cell_type": "code",
   "execution_count": null,
   "metadata": {},
   "outputs": [],
   "source": [
    "class Producto:\n",
    "\n",
    "    def __init__(self, rollos, marca):\n",
    "        self.rollos = rollos\n",
    "        self.marca = marca\n",
    "\n",
    "\n",
    "class Encargo:\n",
    "\n",
    "    def __init__(self, eid, rollos, marca):\n",
    "        self.eid = eid\n",
    "        self.rollos = rollos\n",
    "        self.marca = marca\n",
    "        self.estado = \"Esperando\"\n",
    "        self.vecinos = []\n",
    "\n",
    "    def agregar_vecino(self, encargo):\n",
    "        self.vecinos.append(encargo)\n",
    "    \n",
    "    def __repr__(self):\n",
    "        return f\"Encargo {self.eid} - N° rollos: {self.rollos} - Marca: {self.marca} - Estado actual: {self.estado}\"\n",
    "        \n",
    "    def aceptar_encargo(self, producto):\n",
    "        # Completar\n",
    "        pass\n",
    "\n",
    "\n",
    "def bfs(inicio, lista_productos):\n",
    "    # Completar\n",
    "    \n",
    "    \n",
    "    # Completar\n",
    "    pass\n",
    "\n",
    "\n",
    "if __name__ == \"__main__\":\n",
    "    \n",
    "    lista_productos = [\n",
    "        Producto(\"2\", \"Marca1\"), Producto(\"4\", \"Marca1\"),\n",
    "        Producto(\"4\", \"Marca1\"), Producto(\"2\", \"Marca2\"), \n",
    "        Producto(\"2\", \"Marca2\"), Producto(\"4\", \"Marca2\")\n",
    "    ]\n",
    "\n",
    "    encargos = [\n",
    "        Encargo(\"1\", \"2\", \"Marca1\"),\n",
    "        Encargo(\"2\", \"4\", \"Marca1\"), \n",
    "        Encargo(\"3\", \"2\", \"Marca2\"),\n",
    "        Encargo(\"4\", \"4\", \"Marca2\"),\n",
    "        Encargo(\"5\", \"4\", \"Marca1\"),\n",
    "        Encargo(\"6\", \"2\", \"Marca2\")\n",
    "    ]\n",
    "\n",
    "    encargos[0].agregar_vecino(encargos[1])\n",
    "    encargos[1].agregar_vecino(encargos[2])\n",
    "    encargos[2].agregar_vecino(encargos[3])\n",
    "    encargos[3].agregar_vecino(encargos[4])\n",
    "    encargos[4].agregar_vecino(encargos[5])\n",
    "\n",
    "    bfs(encargos[0], lista_productos)\n",
    "\n",
    "    print(\"El estado de los encargos después de BFS es:\")\n",
    "\n",
    "    if len(lista_productos) > 0:\n",
    "        print(\"Todavía quedan productos en la lista.\")\n",
    "    else:\n",
    "        print(\"¡Repartiste TODO!\")\n",
    "    for _ in encargos:\n",
    "        print(_)"
   ]
  }
 ],
 "metadata": {
  "kernelspec": {
   "display_name": "Python 3 (ipykernel)",
   "language": "python",
   "name": "python3"
  },
  "language_info": {
   "codemirror_mode": {
    "name": "ipython",
    "version": 3
   },
   "file_extension": ".py",
   "mimetype": "text/x-python",
   "name": "python",
   "nbconvert_exporter": "python",
   "pygments_lexer": "ipython3",
   "version": "3.9.10"
  }
 },
 "nbformat": 4,
 "nbformat_minor": 2
}
