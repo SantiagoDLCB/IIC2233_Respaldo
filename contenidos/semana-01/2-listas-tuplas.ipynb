{
 "cells": [
  {
   "cell_type": "markdown",
   "metadata": {
    "colab_type": "text",
    "id": "eWR9iZ8qQeYM"
   },
   "source": [
    "<p>\n",
    "<font size='5' face='Georgia, Arial'>IIC2233 Apunte Programación Avanzada</font><br>\n",
    "<font size='1'>&copy; 2015 Karim Pichara - Christian Pieringer. Todos los derechos reservados.</font>\n",
    "<br>\n",
    "<font size='1'> Modificado en 2017-2, 2018-1, 2018-2, 2019-1, 2019-2, 2020-1, 2020-2, 2021-1, 2021-2, 2022-2 por Equipo Docente IIC2233</font>\n",
    "</p>"
   ]
  },
  {
   "cell_type": "markdown",
   "metadata": {
    "colab_type": "text",
    "id": "Ip7wjy55QeYW"
   },
   "source": [
    "# Estructuras secuenciales"
   ]
  },
  {
   "cell_type": "markdown",
   "metadata": {
    "colab_type": "text",
    "id": "S8o-99HuQeYW"
   },
   "source": [
    "En esta sección estudiaremos estructuras basadas en un **ordenamiento secuencial** de los elementos, según como son ingresados en la estructura. Todas las estructuras de este tipo se caracterizan porque soportan **indexación de los elementos** de la forma `secuencia[índice]`, donde el `índice` **empieza en 0** y llega hasta el **largo de la secuencia - 1**. \n",
    "\n",
    "En este tipo de estructuras encontramos: `tuple`, `list` y `str`. Si bien los *strings* son estructuras secuenciales que soportan indexación, en esta sección nos concentraremos en `tuple` y `list`."
   ]
  },
  {
   "cell_type": "markdown",
   "metadata": {
    "colab_type": "text",
    "id": "k5e2nkSHQeYX"
   },
   "source": [
    "## Tuplas"
   ]
  },
  {
   "cell_type": "markdown",
   "metadata": {
    "colab_type": "text",
    "id": "4YBLEUvbQeYX"
   },
   "source": [
    "Las **tuplas** (`tuple`) se utilizan para manejar datos de forma **ordenada** e **inmutable**, es decir, no se pueden cambiar los valores que contiene. Para acceder a algún elemento de una tupla, es necesario usar índices correlativos al orden en que los valores fueron agregados.\n",
    "\n",
    "![](img/indices_secuencia.png)\n",
    "\n",
    "Las tuplas pueden ser heterogéneas, y de hecho es su uso más común, lo que significa que pueden contener objetos pertenecientes a clases o tipos de datos distintos, incluyendo otras tuplas. Una tupla se puede crear de las siguientes maneras:"
   ]
  },
  {
   "cell_type": "code",
   "execution_count": 1,
   "metadata": {
    "colab": {
     "autoexec": {
      "startup": false,
      "wait_interval": 0
     },
     "base_uri": "https://localhost:8080/",
     "height": 85,
     "output_extras": [
      {
       "item_id": 1
      }
     ]
    },
    "colab_type": "code",
    "executionInfo": {
     "elapsed": 706,
     "status": "ok",
     "timestamp": 1520879324770,
     "user": {
      "displayName": "Cristian Ruz",
      "photoUrl": "//lh4.googleusercontent.com/-0WhxkzATSqY/AAAAAAAAAAI/AAAAAAAAIqQ/WE7Rcv4pnN8/s50-c-k-no/photo.jpg",
      "userId": "108117710965209443485"
     },
     "user_tz": 180
    },
    "id": "N-rV68cLQeYY",
    "outputId": "726687d1-e857-4f59-d7ca-bd3d2b0e0f42"
   },
   "outputs": [
    {
     "name": "stdout",
     "output_type": "stream",
     "text": [
      "<class 'tuple'> ()\n",
      "<class 'tuple'> (0, 1, 2) 0 1\n",
      "<class 'tuple'> (0,)\n",
      "<class 'tuple'> (0, 'uno') 0 uno\n"
     ]
    }
   ],
   "source": [
    "# Usando tuple() sin ingresar elementos, se crea una tupla vacía.\n",
    "a = tuple()\n",
    "\n",
    "# Declarando explícitamente los elementos de la tupla, ingresándolos entre paréntesis.\n",
    "b = (0, 1, 2)\n",
    "\n",
    "# Cuando creamos una tupla de tamaño 1, debemos incluir una coma al final\n",
    "c = (0, )\n",
    "\n",
    "# Pueden ser creadas con objetos de distinto tipo. Al momento de la creación se pueden omitir los paréntesis.\n",
    "d = 0, 'uno'\n",
    "\n",
    "print(type(a), a)\n",
    "print(type(b), b, b[0], b[1])\n",
    "print(type(c), c)\n",
    "print(type(d), d, d[0], d[1])"
   ]
  },
  {
   "cell_type": "markdown",
   "metadata": {
    "colab_type": "text",
    "id": "CSWPkYTVQeYc"
   },
   "source": [
    "Las tuplas son estructuras de datos **inmutables**. Esto significa que **no es posible agregar o eliminar elementos**, o bien cambiar el contenido de la tupla una vez que ésta fue creada.\n",
    "\n",
    "En el siguiente ejemplo, la posición 2 de la tupla `a` contiene originalmente un `float`. Si intentamos reemplazar el contenido de esta posición por un *string* (o cualquier otro valor), se genera un *error de tipo* (`TypeError`), debido a que los objetos de la clase `tuple` *no permiten asignación*."
   ]
  },
  {
   "cell_type": "code",
   "execution_count": 2,
   "metadata": {
    "cellView": "code",
    "colab": {
     "autoexec": {
      "startup": false,
      "wait_interval": 0
     },
     "base_uri": "https://localhost:8080/",
     "height": 198,
     "output_extras": [
      {
       "item_id": 1
      }
     ]
    },
    "colab_type": "code",
    "executionInfo": {
     "elapsed": 621,
     "status": "error",
     "timestamp": 1520879327058,
     "user": {
      "displayName": "Cristian Ruz",
      "photoUrl": "//lh4.googleusercontent.com/-0WhxkzATSqY/AAAAAAAAAAI/AAAAAAAAIqQ/WE7Rcv4pnN8/s50-c-k-no/photo.jpg",
      "userId": "108117710965209443485"
     },
     "user_tz": 180
    },
    "id": "DaAmguADQeYd",
    "outputId": "2e4b3fac-f617-4428-fe76-26d32015632f"
   },
   "outputs": [
    {
     "ename": "TypeError",
     "evalue": "'tuple' object does not support item assignment",
     "output_type": "error",
     "traceback": [
      "\u001b[0;31m---------------------------------------------------------------------------\u001b[0m",
      "\u001b[0;31mTypeError\u001b[0m                                 Traceback (most recent call last)",
      "Cell \u001b[0;32mIn[2], line 2\u001b[0m\n\u001b[1;32m      1\u001b[0m a \u001b[39m=\u001b[39m (\u001b[39m\"\u001b[39m\u001b[39mChile\u001b[39m\u001b[39m\"\u001b[39m, \u001b[39m2\u001b[39m, \u001b[39m4.15\u001b[39m, \u001b[39m'\u001b[39m\u001b[39mAgosto\u001b[39m\u001b[39m'\u001b[39m)\n\u001b[0;32m----> 2\u001b[0m a[\u001b[39m2\u001b[39;49m] \u001b[39m=\u001b[39m \u001b[39m'\u001b[39m\u001b[39msemestre\u001b[39m\u001b[39m'\u001b[39m \n",
      "\u001b[0;31mTypeError\u001b[0m: 'tuple' object does not support item assignment"
     ]
    }
   ],
   "source": [
    "a = (\"Chile\", 2, 4.15, 'Agosto')\n",
    "a[2] = 'semestre' "
   ]
  },
  {
   "cell_type": "markdown",
   "metadata": {
    "colab_type": "text",
    "id": "Y8r_x5yHdaGN"
   },
   "source": [
    "Sin embargo, sí es posible modificar algún valor contenido *dentro* de un elemento de la tupla, siempre que el tipo de datos lo permita. En el siguiente caso **no** estamos modificando el objeto `tuple`, sino un valor interno (la posición 0) de la lista que está en la posición 3 de la tupla `meses`."
   ]
  },
  {
   "cell_type": "code",
   "execution_count": 3,
   "metadata": {
    "colab": {
     "autoexec": {
      "startup": false,
      "wait_interval": 0
     },
     "base_uri": "https://localhost:8080/",
     "height": 34,
     "output_extras": [
      {
       "item_id": 1
      }
     ]
    },
    "colab_type": "code",
    "executionInfo": {
     "elapsed": 732,
     "status": "ok",
     "timestamp": 1520880114636,
     "user": {
      "displayName": "Cristian Ruz",
      "photoUrl": "//lh4.googleusercontent.com/-0WhxkzATSqY/AAAAAAAAAAI/AAAAAAAAIqQ/WE7Rcv4pnN8/s50-c-k-no/photo.jpg",
      "userId": "108117710965209443485"
     },
     "user_tz": 180
    },
    "id": "xgumMpoXd3If",
    "outputId": "815615ff-9bba-4878-fb9e-d575e2b6fe8d"
   },
   "outputs": [
    {
     "name": "stdout",
     "output_type": "stream",
     "text": [
      "(2023, 'semestre', 2, ['Ene', 'Sep', 'Oct', 'Nov', 'Dic'])\n"
     ]
    }
   ],
   "source": [
    "meses = (2023, \"semestre\", 2, ['Ago', 'Sep', 'Oct', 'Nov', 'Dic'])\n",
    "\n",
    "meses[3][0] = 'Ene'\n",
    "print(meses)"
   ]
  },
  {
   "attachments": {},
   "cell_type": "markdown",
   "metadata": {
    "colab_type": "text",
    "id": "QPtgAFHIQeYg"
   },
   "source": [
    "### Desempaquetamiento de elementos\n",
    "\n",
    "Las tuplas pueden ser **desempaquetadas** en variables individuales. En el siguiente ejemplo creamos una función llamada `calcular_geometria()`, que recibe como entrada los lados de un cuadrilátero y retorna algunas medidas geométricas. Cuando las funciones retornan más de un valor, lo hacen empaquetando todos los valores en una tupla. Esto es simplemente un [truco](https://en.wikipedia.org/wiki/Syntactic_sugar) de Python, replicable en otros lenguajes, para aparentar que se entregan múltiples valores de retorno."
   ]
  },
  {
   "cell_type": "code",
   "execution_count": 4,
   "metadata": {
    "colab": {
     "autoexec": {
      "startup": false,
      "wait_interval": 0
     },
     "base_uri": "https://localhost:8080/",
     "height": 85,
     "output_extras": [
      {
       "item_id": 1
      }
     ]
    },
    "colab_type": "code",
    "executionInfo": {
     "elapsed": 653,
     "status": "ok",
     "timestamp": 1520880118274,
     "user": {
      "displayName": "Cristian Ruz",
      "photoUrl": "//lh4.googleusercontent.com/-0WhxkzATSqY/AAAAAAAAAAI/AAAAAAAAIqQ/WE7Rcv4pnN8/s50-c-k-no/photo.jpg",
      "userId": "108117710965209443485"
     },
     "user_tz": 180
    },
    "id": "wB7LtfXeQeYh",
    "outputId": "d18ef0f7-e486-4543-c9b7-e4dc75b2ac71"
   },
   "outputs": [
    {
     "name": "stdout",
     "output_type": "stream",
     "text": [
      "1: (200.0, 60.0, 10.0, 5.0)\n",
      "<class 'tuple'>\n",
      "2: 60.0\n",
      "3: 200.0, 60.0, 10.0, 5.0\n",
      "4: 200.0, 60.0, 10.0, 5.0\n"
     ]
    }
   ],
   "source": [
    "def calcular_geometria(a, b):\n",
    "    area = a * b\n",
    "    perimetro = (2 * a) + (2 * b)\n",
    "    punto_medio_a = a / 2\n",
    "    punto_medio_b = b / 2\n",
    "    # Los paréntesis son opcionales, ya que estamos creando una tupla\n",
    "    return (area, perimetro, punto_medio_a, punto_medio_b)\n",
    "\n",
    "\n",
    "# Obtenemos una tupla con los datos provenientes de la función.\n",
    "data = calcular_geometria(20.0, 10.0)\n",
    "print(f\"1: {data}\")\n",
    "\n",
    "# El tipo de dato obtenido es 'tuple'\n",
    "print(type(data))\n",
    "\n",
    "# Obtenemos un valor desde la tupla directamente usando su índice\n",
    "p = data[1]\n",
    "print(f\"2: {p}\")\n",
    "\n",
    "# Desempaquetamos en variables independientes\n",
    "# los valores contenidos en una tupla\n",
    "a, p, mpa, mpb = data\n",
    "print(f\"3: {a}, {p}, {mpa}, {mpb}\")\n",
    "\n",
    "# Las funciones devuelven el conjunto de valores\n",
    "# como una tupla. Se puede desempaquetar directamente\n",
    "# en variables individuales como en el caso anterior.\n",
    "a, p, mpa, mpb = calcular_geometria(20.0, 10.0)\n",
    "print(f\"4: {a}, {p}, {mpa}, {mpb}\")"
   ]
  },
  {
   "attachments": {},
   "cell_type": "markdown",
   "metadata": {
    "colab_type": "text",
    "id": "lXrSWaH_QeYk"
   },
   "source": [
    "### *Slicing* de tuplas\n",
    "\n",
    "Es posible tomar secciones de la tupla usando la notación de ***slicing***. En esta notación, los índices indican *desde dónde* y *hasta dónde* deseamos recuperar datos de la tupla. La sintaxis de la notación de *slicing* es:\n",
    "\n",
    "`secuencia[inicio:término:pasos]`\n",
    "\n",
    "Por defecto, el número de pasos es 1. La siguiente figura muestra un ejemplo de cómo se deben considerar los índices al usar la notación de *slicing*. \n",
    "\n",
    "![](img/indices_slicing.png)"
   ]
  },
  {
   "attachments": {},
   "cell_type": "markdown",
   "metadata": {
    "colab_type": "text",
    "id": "Fim3_iG0QeYk"
   },
   "source": [
    "Forma general de hacer *slicing* en Python:\n",
    "\n",
    "- `a[start:end]`: retorna los elementos desde `start` hasta `end - 1`.\n",
    "\n",
    "- `a[start:]`: retorna los elementos desde `start` hasta el final del arreglo.\n",
    "\n",
    "- `a[:end]`: retorna los elementos desde el principio hasta `end - 1`.\n",
    "\n",
    "- `a[:]`: crea una copia (*shallow*) del arreglo completo. Es decir, el arreglo retornado está en una nueva dirección de memoria, pero los elementos que están en este nuevo arreglo, hacen referencia a la dirección de memoria de los elementos del arreglo inicial.\n",
    "\n",
    "- `a[start:end:step]`: retorna los elementos desde `start` hasta no pasar `end`, en pasos de a `step`.\n",
    "\n",
    "- `a[-1]`: retorna el último elemento en el arreglo.\n",
    "\n",
    "- `a[-n:]`: retorna los últimos `n` elementos en el arreglo.\n",
    "\n",
    "- `a[:-n]`: retorna todos los elementos del arreglo menos los últimos `n` elementos.\n",
    "\n",
    "Veamos algunos ejemplos de *slicing* aplicado a tuplas."
   ]
  },
  {
   "cell_type": "code",
   "execution_count": 5,
   "metadata": {},
   "outputs": [
    {
     "name": "stdout",
     "output_type": "stream",
     "text": [
      "data: (400, 20, 1, 4, 10, 11, 12, 500)\n",
      "1. data[1:3]: (20, 1)\n",
      "2. data[3:]: (4, 10, 11, 12, 500)\n",
      "3. data[:5]: (400, 20, 1, 4, 10)\n",
      "4. data[2::2]: (1, 10, 12)\n",
      "5. data[1:6:2]: (20, 4, 11)\n",
      "6. data[::-1]: (500, 12, 11, 10, 4, 1, 20, 400)\n"
     ]
    }
   ],
   "source": [
    "# Usando los valores asignados en a, podemos obtener los valores de una sección de la tupla.\n",
    "data = (400, 20, 1, 4, 10, 11, 12, 500)\n",
    "print(f'data: {data}')\n",
    "\n",
    "# 1. Recuperamos los elementos que están entre los índices 1 y 3\n",
    "a = data[1:3]\n",
    "print(f'1. data[1:3]: {a}')\n",
    "\n",
    "# 2. Recuperamos desde el índice 3 en adelante\n",
    "a = data[3:]\n",
    "print(f'2. data[3:]: {a}')\n",
    "\n",
    "# 3. Recuperamos los valores hasta el índice 5\n",
    "a = data[:5]\n",
    "print(f'3. data[:5]: {a}')\n",
    "\n",
    "# 4. Recuperamos desde el índice 2 en adelante respecto del slice en pasos de a dos\n",
    "a = data[2::2]\n",
    "print(f'4. data[2::2]: {a}')\n",
    "\n",
    "# 5. Recuperamos entre los índices 1 y 4, en pasos de a dos\n",
    "a = data[1:6:2]\n",
    "print(f'5. data[1:6:2]: {a}')\n",
    "\n",
    "# 6. Una secuencia puede ser fácilmente invertida\n",
    "a = data[::-1]\n",
    "print(f'6. data[::-1]: {a}')"
   ]
  },
  {
   "cell_type": "markdown",
   "metadata": {
    "colab_type": "text",
    "id": "iT_HXzQ7QeYq"
   },
   "source": [
    "## *Named tuples*"
   ]
  },
  {
   "attachments": {},
   "cell_type": "markdown",
   "metadata": {
    "colab_type": "text",
    "id": "QHUD7LyIQeYr"
   },
   "source": [
    "Los [*named tuples*](https://docs.python.org/3/library/collections.html#collections.namedtuple) son estructuras que permiten definir campos para cada una de las posiciones en que han sido ingresados los datos. Son útiles como una forma de agrupar datos. Generalmente, se utilizan como alternativa a las clases cuando los datos no tienen un comportamiento asociado. \n",
    "\n",
    "Este tipo de tupla requiere definir un objeto con los nombres de los atributos que tendrá la tupla. Para poder hacer uso de esta estructura se requiere importar el módulo `namedtuple` desde la librería `collections`. La inicialización básica de una `namedtuple` requiere un *string* con el nombre para el tipo de tupla y el nombre de los campos que tendrá, los que se entregan en una lista de *strings* como en el siguiente ejemplo:"
   ]
  },
  {
   "cell_type": "code",
   "execution_count": 6,
   "metadata": {
    "colab": {
     "autoexec": {
      "startup": false,
      "wait_interval": 0
     },
     "base_uri": "https://localhost:8080/",
     "height": 68,
     "output_extras": [
      {
       "item_id": 1
      }
     ]
    },
    "colab_type": "code",
    "executionInfo": {
     "elapsed": 641,
     "status": "ok",
     "timestamp": 1520880687215,
     "user": {
      "displayName": "Cristian Ruz",
      "photoUrl": "//lh4.googleusercontent.com/-0WhxkzATSqY/AAAAAAAAAAI/AAAAAAAAIqQ/WE7Rcv4pnN8/s50-c-k-no/photo.jpg",
      "userId": "108117710965209443485"
     },
     "user_tz": 180
    },
    "id": "EPktwjyAQeYt",
    "outputId": "d1ed7fd8-3518-4394-a49f-c4b8d2aac52a"
   },
   "outputs": [
    {
     "name": "stdout",
     "output_type": "stream",
     "text": [
      "13427974-5\n",
      "5\n",
      "<class '__main__.Register_type'>\n"
     ]
    }
   ],
   "source": [
    "from collections import namedtuple\n",
    "\n",
    "\n",
    "# Asignamos un nombre a la tupla (Register_type), y los nombres de los atributos que tendrá\n",
    "Register = namedtuple('Register_type', ['RUT', 'name', 'age'])\n",
    "\n",
    "# Instanciación e inicialización de la tupla\n",
    "c1 = Register('13427974-5', 'Christian', 20)\n",
    "c2 = Register('23066987-2', 'Dante', 5)\n",
    "\n",
    "print(c1.RUT)\n",
    "print(c2.age)\n",
    "print(type(c2))"
   ]
  },
  {
   "cell_type": "markdown",
   "metadata": {},
   "source": [
    "Al igual que las tuplas, las *named tuples* son inmutables."
   ]
  },
  {
   "cell_type": "code",
   "execution_count": 7,
   "metadata": {},
   "outputs": [
    {
     "ename": "AttributeError",
     "evalue": "can't set attribute",
     "output_type": "error",
     "traceback": [
      "\u001b[0;31m---------------------------------------------------------------------------\u001b[0m",
      "\u001b[0;31mAttributeError\u001b[0m                            Traceback (most recent call last)",
      "Cell \u001b[0;32mIn[7], line 1\u001b[0m\n\u001b[0;32m----> 1\u001b[0m c1\u001b[39m.\u001b[39;49mname \u001b[39m=\u001b[39m \u001b[39m'\u001b[39m\u001b[39mCristian\u001b[39m\u001b[39m'\u001b[39m\n",
      "\u001b[0;31mAttributeError\u001b[0m: can't set attribute"
     ]
    }
   ],
   "source": [
    "c1.name = 'Cristian'"
   ]
  },
  {
   "cell_type": "markdown",
   "metadata": {
    "colab_type": "text",
    "id": "LcRymyaiQeY1"
   },
   "source": [
    "## Listas"
   ]
  },
  {
   "attachments": {},
   "cell_type": "markdown",
   "metadata": {
    "colab_type": "text",
    "id": "AfxQPd60QeY2"
   },
   "source": [
    "Las **listas** (`list`) se utilizan para manejar datos de forma **ordenada** y **mutable**. Los contenidos pueden ser accedidos utilizando el índice correspondiente al orden en que se encuentran en la lista. A diferencia de las tuplas, el *orden* de los elementos de una lista, y *los elementos mismos* pueden cambiar mediante métodos que manipulan la lista.\n",
    "\n",
    "Las listas también pueden ser heterogéneas, lo que significa que pueden contener objetos pertenecientes a clases o tipos de datos distintos, incluyendo otras listas. Si bien no existe ninguna restricción de Python sobre los tipos de datos de las listas, estas tienen una relación estrecha con los **arreglos** disponibles en otros lenguajes de programación, por lo que, dado que los arreglos suelen tener estas restricciones, es más común ver listas con tipos de datos homogéneos que heterogéneos.\n",
    "\n",
    "En una lista, los elementos que se agregan usando `append` se ponen al final de la lista.\n",
    "\n",
    "Podemos crear listas de las siguientes maneras:"
   ]
  },
  {
   "cell_type": "code",
   "execution_count": 8,
   "metadata": {
    "colab": {
     "autoexec": {
      "startup": false,
      "wait_interval": 0
     },
     "base_uri": "https://localhost:8080/",
     "height": 68,
     "output_extras": [
      {
       "item_id": 1
      }
     ]
    },
    "colab_type": "code",
    "executionInfo": {
     "elapsed": 655,
     "status": "ok",
     "timestamp": 1520882213515,
     "user": {
      "displayName": "Cristian Ruz",
      "photoUrl": "//lh4.googleusercontent.com/-0WhxkzATSqY/AAAAAAAAAAI/AAAAAAAAIqQ/WE7Rcv4pnN8/s50-c-k-no/photo.jpg",
      "userId": "108117710965209443485"
     },
     "user_tz": 180
    },
    "id": "UtPo_dwcQeY4",
    "outputId": "e90a7990-8fa4-4529-efea-67b0486b078e"
   },
   "outputs": [
    {
     "name": "stdout",
     "output_type": "stream",
     "text": [
      "[(2015, 3, 14), (2015, 4, 18)]\n",
      "2\n",
      "[1, 'string', 20.5, (23, 45), 'último']\n",
      "string\n",
      "5\n"
     ]
    }
   ],
   "source": [
    "# Creamos una lista vacía y agregamos elementos incrementalmente.\n",
    "# En este caso agregamos dos tuplas al final de la lista.\n",
    "lista = list()                # También puede ser con lista=[]\n",
    "lista.append((2015, 3, 14))   # Aquí estamos agregando UN elemento, que es una tupla de 3 enteros\n",
    "lista.append((2015, 4, 18))   # Luego de esto, la lista contiene 2 elementos que son tuplas\n",
    "print(lista)\n",
    "print(len(lista))\n",
    "\n",
    "# También es posible agregar los objetos explícitamente al definirla por primera vez\n",
    "lista = [1, 'string', 20.5, (23, 45)]\n",
    "lista.append('último')\n",
    "print(lista)\n",
    "\n",
    "# Extraemos un el elemento usando el índice respectivo\n",
    "print(lista[1])\n",
    "print(len(lista))"
   ]
  },
  {
   "cell_type": "markdown",
   "metadata": {
    "colab_type": "text",
    "id": "Yus8I5QhQeY7"
   },
   "source": [
    "A veces es necesario agregar nuevos elementos contenidos en otras listas. En estos casos resulta muy útil agregar la lista completa y no cada elemento de forma individual con `append()`. Para eso podemos utilizar el método `extend()`."
   ]
  },
  {
   "cell_type": "code",
   "execution_count": 9,
   "metadata": {
    "colab": {
     "autoexec": {
      "startup": false,
      "wait_interval": 0
     },
     "base_uri": "https://localhost:8080/",
     "height": 51,
     "output_extras": [
      {
       "item_id": 1
      }
     ]
    },
    "colab_type": "code",
    "executionInfo": {
     "elapsed": 749,
     "status": "ok",
     "timestamp": 1520882441332,
     "user": {
      "displayName": "Cristian Ruz",
      "photoUrl": "//lh4.googleusercontent.com/-0WhxkzATSqY/AAAAAAAAAAI/AAAAAAAAIqQ/WE7Rcv4pnN8/s50-c-k-no/photo.jpg",
      "userId": "108117710965209443485"
     },
     "user_tz": 180
    },
    "id": "V9TLr6LIQeY9",
    "outputId": "0d152db9-3657-462a-a233-b090e2ef9f04"
   },
   "outputs": [
    {
     "name": "stdout",
     "output_type": "stream",
     "text": [
      "['Radiohead', 'City and Colour', 'toe']\n",
      "['Radiohead', 'City and Colour', 'toe', 'Young the Giant', 'Portugal. The Man', 'Twenty One Pilots']\n"
     ]
    }
   ],
   "source": [
    "bandas = ['Radiohead', 'City and Colour', 'toe']\n",
    "print(bandas)\n",
    "\n",
    "nuevas_bandas = ['Young the Giant', 'Portugal. The Man', 'Twenty One Pilots']\n",
    "bandas.extend(nuevas_bandas)\n",
    "print(bandas)"
   ]
  },
  {
   "cell_type": "markdown",
   "metadata": {
    "colab_type": "text",
    "id": "uHQWM4IYQeY_"
   },
   "source": [
    "También es posible insertar elementos en posiciones específicas mediante el método `insert(posición, elemento)`."
   ]
  },
  {
   "cell_type": "code",
   "execution_count": 10,
   "metadata": {
    "colab": {
     "autoexec": {
      "startup": false,
      "wait_interval": 0
     },
     "base_uri": "https://localhost:8080/",
     "height": 51,
     "output_extras": [
      {
       "item_id": 1
      }
     ]
    },
    "colab_type": "code",
    "executionInfo": {
     "elapsed": 628,
     "status": "ok",
     "timestamp": 1520882442995,
     "user": {
      "displayName": "Cristian Ruz",
      "photoUrl": "//lh4.googleusercontent.com/-0WhxkzATSqY/AAAAAAAAAAI/AAAAAAAAIqQ/WE7Rcv4pnN8/s50-c-k-no/photo.jpg",
      "userId": "108117710965209443485"
     },
     "user_tz": 180
    },
    "id": "gU00_vIgQeZA",
    "outputId": "1dae43fe-a2fa-4af5-a7f3-ef69900de7bf"
   },
   "outputs": [
    {
     "name": "stdout",
     "output_type": "stream",
     "text": [
      "['Radiohead', 'City and Colour', 'toe', 'Young the Giant', 'Portugal. The Man', 'Twenty One Pilots']\n",
      "['Radiohead', 'City and Colour', 'Of Monsters and Men', 'toe', 'Young the Giant', 'Portugal. The Man', 'Twenty One Pilots']\n"
     ]
    }
   ],
   "source": [
    "print(bandas)\n",
    "bandas.insert(2, 'Of Monsters and Men')\n",
    "print(bandas)"
   ]
  },
  {
   "cell_type": "markdown",
   "metadata": {},
   "source": [
    "### Listas por comprensión"
   ]
  },
  {
   "cell_type": "markdown",
   "metadata": {},
   "source": [
    "Desde el punto de vista de la lógica, la definición de comprensión es:  \"Conjunto de caracteres que forman un concepto\". Así mismo, las listas por comprensión se pueden ver como listas formadas por un conjunto de objetos que cumplen con un concepto o condición en particular. En Python, podemos crear **listas por comprensión**. Esta es una forma más práctica para crear listas en pocas líneas de código.\n",
    "\n",
    "Por ejemplo, ya tenemos la lista `bandas`, pero ahora queremos construir una lista con el largo de cada uno de los elementos. Una forma de hacerlo sería la siguiente:"
   ]
  },
  {
   "cell_type": "code",
   "execution_count": 11,
   "metadata": {},
   "outputs": [
    {
     "name": "stdout",
     "output_type": "stream",
     "text": [
      "[9, 15, 19, 3, 15, 17, 17]\n"
     ]
    }
   ],
   "source": [
    "largo_de_bandas = []\n",
    "\n",
    "for nombre in bandas:\n",
    "    largo_de_bandas.append(len(nombre))\n",
    "\n",
    "print(largo_de_bandas)"
   ]
  },
  {
   "cell_type": "markdown",
   "metadata": {},
   "source": [
    "Usando **listas por comprensión**, podemos definir lo mismo de forma más clara y concisa siguiendo la siguiente sintaxis:\n",
    "\n",
    "`nueva_lista = [expresión for elemento in lista]`"
   ]
  },
  {
   "cell_type": "code",
   "execution_count": 12,
   "metadata": {},
   "outputs": [
    {
     "name": "stdout",
     "output_type": "stream",
     "text": [
      "[9, 15, 19, 3, 15, 17, 17]\n"
     ]
    }
   ],
   "source": [
    "largo_de_bandas = [len(nombre) for nombre in bandas]\n",
    "\n",
    "print(largo_de_bandas)"
   ]
  },
  {
   "attachments": {},
   "cell_type": "markdown",
   "metadata": {},
   "source": [
    "La sentencia `if` se puede usar dentro de una lista por comprensión para construir la lista incluyendo solamente los elementos que cumplan una cierta condición. En el siguiente ejemplo guardaremos **los nombres de las bandas** que tengan un **largo menor a 10 caracteres**. La sintaxis al usar un `if` en **listas por comprensión** es la siguiente:\n",
    "\n",
    "`nueva_lista = [expresión for elemento in lista if condición]`"
   ]
  },
  {
   "cell_type": "code",
   "execution_count": 13,
   "metadata": {},
   "outputs": [
    {
     "name": "stdout",
     "output_type": "stream",
     "text": [
      "['Radiohead', 'toe']\n"
     ]
    }
   ],
   "source": [
    "bandas_con_nombre_corto = [nombre for nombre in bandas if len(nombre) < 10]\n",
    "\n",
    "print(bandas_con_nombre_corto)"
   ]
  },
  {
   "attachments": {},
   "cell_type": "markdown",
   "metadata": {},
   "source": [
    "El código anterior es equivalente a hacer lo siguiente:"
   ]
  },
  {
   "cell_type": "code",
   "execution_count": 14,
   "metadata": {},
   "outputs": [
    {
     "name": "stdout",
     "output_type": "stream",
     "text": [
      "['Radiohead', 'toe']\n"
     ]
    }
   ],
   "source": [
    "bandas_con_nombre_corto = []\n",
    "for nombre in bandas:\n",
    "    if len(nombre) < 10:\n",
    "        bandas_con_nombre_corto.append(nombre)\n",
    "\n",
    "print(bandas_con_nombre_corto)"
   ]
  },
  {
   "attachments": {},
   "cell_type": "markdown",
   "metadata": {},
   "source": [
    "### *Slicing* de listas"
   ]
  },
  {
   "cell_type": "markdown",
   "metadata": {
    "colab_type": "text",
    "id": "PigJzLMgQeZF"
   },
   "source": [
    "Podemos extraer un elemento específico desde una lista mediante indexación. Al igual que las tuplas, también es posible recuperar una porción completa de la lista utilizando la notación de *slicing*."
   ]
  },
  {
   "cell_type": "code",
   "execution_count": 15,
   "metadata": {
    "colab": {
     "autoexec": {
      "startup": false,
      "wait_interval": 0
     },
     "base_uri": "https://localhost:8080/",
     "height": 102,
     "output_extras": [
      {
       "item_id": 1
      }
     ]
    },
    "colab_type": "code",
    "executionInfo": {
     "elapsed": 837,
     "status": "ok",
     "timestamp": 1520882477154,
     "user": {
      "displayName": "Cristian Ruz",
      "photoUrl": "//lh4.googleusercontent.com/-0WhxkzATSqY/AAAAAAAAAAI/AAAAAAAAIqQ/WE7Rcv4pnN8/s50-c-k-no/photo.jpg",
      "userId": "108117710965209443485"
     },
     "user_tz": 180
    },
    "id": "PFk2lDsEQeZF",
    "outputId": "4bd9bd1a-522b-4a02-c1ac-9c57248a13fe"
   },
   "outputs": [
    {
     "name": "stdout",
     "output_type": "stream",
     "text": [
      "[2, 4, 10, 20]\n",
      "[2, 4, 10, 20, 25]\n",
      "[6, 7, 2, 4, 10]\n",
      "[6, 2, 10]\n",
      "[25, 20, 10, 4, 2, 7, 6]\n"
     ]
    }
   ],
   "source": [
    "# Tomando una tajada particular, en este caso desde la posición 2 hasta la anterior a 6\n",
    "numeros = [6, 7, 2, 4, 10, 20, 25]\n",
    "print(numeros[2:6])\n",
    "\n",
    "# tomando una sección desde la posición 2 hasta el final de la lista\n",
    "print(numeros[2:])\n",
    "\n",
    "# tomando una sección desde el principio hasta la posición anterior a 5\n",
    "print(numeros[:5:])\n",
    "\n",
    "# lo mismo anterior, pero saltando 2 posiciones a la vez\n",
    "print(numeros[:5:2])\n",
    "\n",
    "# invirtiendo una lista\n",
    "print(numeros[::-1])"
   ]
  },
  {
   "cell_type": "markdown",
   "metadata": {
    "colab_type": "text",
    "id": "UiYd79gOQeZI"
   },
   "source": [
    "Las listas pueden ser ordenadas utilizando el método `sort()`. Esto ordena las listas en sí mismas (*in-place*) y no devuelve nada, es decir, el resultado no es asignable a una nueva lista."
   ]
  },
  {
   "cell_type": "code",
   "execution_count": 16,
   "metadata": {
    "colab": {
     "autoexec": {
      "startup": false,
      "wait_interval": 0
     },
     "base_uri": "https://localhost:8080/",
     "height": 85,
     "output_extras": [
      {
       "item_id": 1
      }
     ]
    },
    "colab_type": "code",
    "executionInfo": {
     "elapsed": 636,
     "status": "ok",
     "timestamp": 1520882562759,
     "user": {
      "displayName": "Cristian Ruz",
      "photoUrl": "//lh4.googleusercontent.com/-0WhxkzATSqY/AAAAAAAAAAI/AAAAAAAAIqQ/WE7Rcv4pnN8/s50-c-k-no/photo.jpg",
      "userId": "108117710965209443485"
     },
     "user_tz": 180
    },
    "id": "MlvMpZaJQeZJ",
    "outputId": "5367f854-d4b0-4ac3-bc89-c96f5ed5f9bc"
   },
   "outputs": [
    {
     "name": "stdout",
     "output_type": "stream",
     "text": [
      "[6, 7, 2, 4, 10, 20, 25]\n",
      "None\n",
      "[2, 4, 6, 7, 10, 20, 25]\n",
      "[25, 20, 10, 7, 6, 4, 2]\n"
     ]
    }
   ],
   "source": [
    "numeros = [6, 7, 2, 4, 10, 20, 25]\n",
    "print(numeros)\n",
    "\n",
    "# Ordenamos en sentido ascendente.\n",
    "# Observar como a no recibe ninguna asignación después de que la lista numeros es ordenada\n",
    "a = numeros.sort() \n",
    "print(a)\n",
    "print(numeros)\n",
    "\n",
    "# Ordenamos en sentido descendente\n",
    "numeros.sort(reverse=True)\n",
    "print(numeros)"
   ]
  },
  {
   "cell_type": "markdown",
   "metadata": {
    "colab_type": "text",
    "id": "H1uP2UtqQeZN"
   },
   "source": [
    "Las listas han sido optimizadas para ser una estructura flexible y fácil de manejar. También se pueden recorrer con la notación de `for`"
   ]
  },
  {
   "cell_type": "code",
   "execution_count": 17,
   "metadata": {
    "colab": {
     "autoexec": {
      "startup": false,
      "wait_interval": 0
     },
     "base_uri": "https://localhost:8080/",
     "height": 85,
     "output_extras": [
      {
       "item_id": 1
      }
     ]
    },
    "colab_type": "code",
    "executionInfo": {
     "elapsed": 679,
     "status": "ok",
     "timestamp": 1520882774481,
     "user": {
      "displayName": "Cristian Ruz",
      "photoUrl": "//lh4.googleusercontent.com/-0WhxkzATSqY/AAAAAAAAAAI/AAAAAAAAIqQ/WE7Rcv4pnN8/s50-c-k-no/photo.jpg",
      "userId": "108117710965209443485"
     },
     "user_tz": 180
    },
    "id": "bhdy3jWrQeZO",
    "outputId": "4ce9d608-f448-4baf-dc4f-38c4a69d7a77"
   },
   "outputs": [
    {
     "name": "stdout",
     "output_type": "stream",
     "text": [
      "tipo de pieza: Alfil    - cantidad: 2\n",
      "tipo de pieza: Peón     - cantidad: 8\n",
      "tipo de pieza: Rey      - cantidad: 1\n",
      "tipo de pieza: Reina    - cantidad: 1\n",
      "tipo de pieza: Caballo  - cantidad: 2\n",
      "tipo de pieza: Torre    - cantidad: 2\n"
     ]
    }
   ],
   "source": [
    "piezas = [(\"Alfil\", 2), (\"Peón\", 8), (\"Rey\", 1), (\"Reina\", 1), (\"Caballo\", 2), (\"Torre\", 2)]\n",
    "\n",
    "# Por cada iteración en el ciclo, la variable pieza recibe un elemento de la lista,\n",
    "# de acuerdo al orden de la lista\n",
    "for pieza in piezas:\n",
    "    # El modificador \":8\" permite que el texto ocupe al menos 8 espacios en la línea\n",
    "    print(f'tipo de pieza: {pieza[0]:8} - cantidad: {pieza[1]}')"
   ]
  },
  {
   "cell_type": "markdown",
   "metadata": {
    "colab_type": "text",
    "id": "d2sXz4t6rX9W"
   },
   "source": [
    "En este ejemplo, cada elemento de la lista `piezas` es una tupla que contiene 2 elementos: primero el tipo de pieza, y luego la cantidad de ellas."
   ]
  },
  {
   "cell_type": "markdown",
   "metadata": {},
   "source": [
    "**Puedes revisar el Ejercicio Propuesto 2.1 para practicar el uso de listas y tuplas.**"
   ]
  }
 ],
 "metadata": {
  "colab": {
   "collapsed_sections": [],
   "default_view": {},
   "name": "01-introduccion.ipynb",
   "provenance": [],
   "version": "0.3.2",
   "views": {}
  },
  "kernelspec": {
   "display_name": "Python 3 (ipykernel)",
   "language": "python",
   "name": "python3"
  },
  "language_info": {
   "codemirror_mode": {
    "name": "ipython",
    "version": 3
   },
   "file_extension": ".py",
   "mimetype": "text/x-python",
   "name": "python",
   "nbconvert_exporter": "python",
   "pygments_lexer": "ipython3",
   "version": "3.10.4"
  }
 },
 "nbformat": 4,
 "nbformat_minor": 4
}
