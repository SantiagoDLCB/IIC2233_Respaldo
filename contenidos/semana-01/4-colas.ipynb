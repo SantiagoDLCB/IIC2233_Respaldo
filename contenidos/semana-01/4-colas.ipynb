{
 "cells": [
  {
   "cell_type": "markdown",
   "metadata": {
    "colab_type": "text",
    "id": "Q5qNNXkuP6oH"
   },
   "source": [
    "<p>\n",
    "<font size='5' face='Georgia, Arial'>IIC2233 Apunte Programación Avanzada</font><br>\n",
    "<font size='1'>&copy; 2015 Karim Pichara - Christian Pieringer. Todos los derechos reservados. Modificado el 2018-1, 2018-2, 2019-1, 2019-2, 2020-1, 2020-2, 2021-1, 2021-2 por Equipo docente IIC2233</font>\n",
    "</p>"
   ]
  },
  {
   "attachments": {},
   "cell_type": "markdown",
   "metadata": {},
   "source": [
    "## Colas (*queues*)\n",
    "\n",
    "Una cola es una estructura de datos secuencial que mantiene objetos ordenados de acuerdo a su orden de llegada. Funciona igual a una cola para pagar las cuentas en el mundo real, pues cada vez que llega una persona ésta se coloca al final, y la persona que está al principio es atendida y sale de la fila. Es por esto que una cola es una estructura de tipo ***First-in, First-out*** (FIFO).\n",
    "\n",
    "![](img/queues.png)\n",
    "\n",
    "Una cola tiene dos operaciones principales:\n",
    "- ***Enqueue***: Agrega un elemento al final de la cola.\n",
    "- ***Dequeue***: Saca el elemento que está al inicio de la cola. Esto siempre sacará el elemento que lleva más tiempo en la cola.\n",
    "\n",
    "Además, tiene una operación ***peek*** que permite ver el primer elemento de la cola sin sacarlo, y es posible revisar la cantidad de elementos en la cola o si ésta se encuentra vacía.\n",
    "\n",
    "Si intentamos implementar una cola usando una lista de Python, encontraremos que implementar el ***enqueue*** es directo pues basta con realizar un `append` a la lista. Sin embargo, implementar ***dequeue*** mediante `pop(0)` **no es eficiente**. En una lista con $N$ elementos, al eliminar el elemento de la posición $0$, la lista queda de largo $N-1$, y el espacio que ocupaba ese elemento queda ahora vacío en la memoria del computador. La lista desplaza todos los otros elementos una posición a la izquierda: el de la posición $1$ pasa a la posición $0$, el de la posición $2$ pasa a la posición $1$, $\\dots,$ hasta que el de la posición $N$ pasa a la posición $N-1$. Por lo tanto, al ejecutar `pop(0)` se realizan $N$ operaciones: eliminar el elemento, y mover $N-1$ elementos a la izquierda. Decimos que esto es mucho más *costoso* que agregar un elemento a la cola (con `append`), donde solo se realiza una operación.\n"
   ]
  },
  {
   "attachments": {},
   "cell_type": "markdown",
   "metadata": {
    "colab_type": "text",
    "id": "Q-SENzwJP6oJ"
   },
   "source": [
    "## Implementación en Python\n",
    "\n",
    "El módulo `collections` no provee exactamente la estructura *queue*, sino que una versión con más operaciones llamada *deque* (por *double ended queue*). Por ahora, nos limitaremos a indicar cómo implementar las operaciones de las colas con la clase `deque`, y en la siguiente sección profundizaremos en esta estructura.\n",
    "\n",
    "| Operación                 | Código Python           | Descripción                                           |\n",
    "|---------------------------|-------------------------|-------------------------------------------------------|\n",
    "| Crear cola                | `cola = deque()`        | Crea una cola vacía                                   |\n",
    "| Crear cola                | `cola = deque(lista)`   | Crea una cola a partir de los elementos de una lista  |\n",
    "| *Enqueue*                 | `cola.append(elemento)` | Agrega un elemento al final de la cola                |\n",
    "| *Dequeue*                 | `cola.popleft()`        | Retorna y extrae el elemento del principio de la cola |\n",
    "| *Peek*                    | `cola[0]`               | Retorna el primer elemento de la cola sin extraerlo   |\n",
    "| *length*                  | `len(cola)`             | Retorna la cantidad de elementos en la cola           |\n",
    "|*is_empty*                 | `len(cola) == 0`        | Retorna true si la cola está vacía                    |\n"
   ]
  },
  {
   "cell_type": "markdown",
   "metadata": {},
   "source": [
    "### Operaciones"
   ]
  },
  {
   "cell_type": "code",
   "execution_count": 1,
   "metadata": {
    "colab": {
     "autoexec": {
      "startup": false,
      "wait_interval": 0
     },
     "base_uri": "https://localhost:8080/",
     "height": 34,
     "output_extras": [
      {
       "item_id": 1
      }
     ]
    },
    "colab_type": "code",
    "executionInfo": {
     "elapsed": 758,
     "status": "ok",
     "timestamp": 1520887738362,
     "user": {
      "displayName": "Jaime Castro Retamal",
      "photoUrl": "//lh5.googleusercontent.com/-d7ImDI1yYBM/AAAAAAAAAAI/AAAAAAAADF4/eQh4r_ES9eE/s50-c-k-no/photo.jpg",
      "userId": "114351437388776670979"
     },
     "user_tz": 180
    },
    "id": "tFBZ0Fwd86-5",
    "outputId": "c48ab125-f7eb-466d-8682-024e025928a4"
   },
   "outputs": [
    {
     "name": "stdout",
     "output_type": "stream",
     "text": [
      "deque([1, 2, 3])\n"
     ]
    }
   ],
   "source": [
    "# Importamos deque\n",
    "from collections import deque\n",
    "\n",
    "\n",
    "# Cola vacía\n",
    "cola = deque()\n",
    "\n",
    "# Agregamos elementos a la cola (enqueue)\n",
    "cola.append(1)\n",
    "cola.append(2)\n",
    "cola.append(3)\n",
    "\n",
    "print(cola)"
   ]
  },
  {
   "cell_type": "markdown",
   "metadata": {
    "colab_type": "text",
    "id": "liSWcd_U98MR"
   },
   "source": [
    "Ahora, mostramos como hacer *dequeue* con `popleft`."
   ]
  },
  {
   "cell_type": "code",
   "execution_count": 2,
   "metadata": {
    "colab": {
     "autoexec": {
      "startup": false,
      "wait_interval": 0
     },
     "base_uri": "https://localhost:8080/",
     "height": 51,
     "output_extras": [
      {
       "item_id": 1
      }
     ]
    },
    "colab_type": "code",
    "executionInfo": {
     "elapsed": 693,
     "status": "ok",
     "timestamp": 1520887740780,
     "user": {
      "displayName": "Jaime Castro Retamal",
      "photoUrl": "//lh5.googleusercontent.com/-d7ImDI1yYBM/AAAAAAAAAAI/AAAAAAAADF4/eQh4r_ES9eE/s50-c-k-no/photo.jpg",
      "userId": "114351437388776670979"
     },
     "user_tz": 180
    },
    "id": "SLsy_EuF-FbJ",
    "outputId": "f9fdc629-99e2-4293-b6ed-14a52bc0a229"
   },
   "outputs": [
    {
     "name": "stdout",
     "output_type": "stream",
     "text": [
      "Hicimos dequeue de 1.\n",
      "La cola quedó: deque([2, 3])\n"
     ]
    }
   ],
   "source": [
    "# Dequeue\n",
    "elemento = cola.popleft()\n",
    "\n",
    "print(f\"Hicimos dequeue de {elemento}.\")\n",
    "print(f\"La cola quedó: {cola}\")"
   ]
  },
  {
   "cell_type": "markdown",
   "metadata": {
    "colab_type": "text",
    "id": "LnaHYqxK-Zjp"
   },
   "source": [
    "Podemos ver el primer elemento de la cola sin extraerlo (*peek*)."
   ]
  },
  {
   "cell_type": "code",
   "execution_count": 3,
   "metadata": {
    "colab": {
     "autoexec": {
      "startup": false,
      "wait_interval": 0
     },
     "base_uri": "https://localhost:8080/",
     "height": 34,
     "output_extras": [
      {
       "item_id": 1
      }
     ]
    },
    "colab_type": "code",
    "executionInfo": {
     "elapsed": 655,
     "status": "ok",
     "timestamp": 1520887827358,
     "user": {
      "displayName": "Jaime Castro Retamal",
      "photoUrl": "//lh5.googleusercontent.com/-d7ImDI1yYBM/AAAAAAAAAAI/AAAAAAAADF4/eQh4r_ES9eE/s50-c-k-no/photo.jpg",
      "userId": "114351437388776670979"
     },
     "user_tz": 180
    },
    "id": "K--hdohN-huo",
    "outputId": "2202763e-efbe-4ec9-9c01-25ceefece1cf"
   },
   "outputs": [
    {
     "name": "stdout",
     "output_type": "stream",
     "text": [
      "Primer elemento de la cola: 2\n"
     ]
    }
   ],
   "source": [
    "# Peek\n",
    "print(f\"Primer elemento de la cola: {cola[0]}\")"
   ]
  },
  {
   "cell_type": "markdown",
   "metadata": {
    "colab_type": "text",
    "id": "Gi5Evy7L-tYh"
   },
   "source": [
    "Por último, podemos ver cuántos elementos hay y si la cola está vacía."
   ]
  },
  {
   "cell_type": "code",
   "execution_count": 4,
   "metadata": {
    "colab": {
     "autoexec": {
      "startup": false,
      "wait_interval": 0
     },
     "base_uri": "https://localhost:8080/",
     "height": 51,
     "output_extras": [
      {
       "item_id": 1
      }
     ]
    },
    "colab_type": "code",
    "executionInfo": {
     "elapsed": 791,
     "status": "ok",
     "timestamp": 1520887898194,
     "user": {
      "displayName": "Jaime Castro Retamal",
      "photoUrl": "//lh5.googleusercontent.com/-d7ImDI1yYBM/AAAAAAAAAAI/AAAAAAAADF4/eQh4r_ES9eE/s50-c-k-no/photo.jpg",
      "userId": "114351437388776670979"
     },
     "user_tz": 180
    },
    "id": "ib-4vO35-zJu",
    "outputId": "6bb871de-5b32-4d38-a469-f6fad2c45f14"
   },
   "outputs": [
    {
     "name": "stdout",
     "output_type": "stream",
     "text": [
      "La cola tiene 2 elementos.\n",
      "¿La cola está vacía? False\n"
     ]
    }
   ],
   "source": [
    "# Length\n",
    "print(f\"La cola tiene {len(cola)} elementos.\")\n",
    "\n",
    "# Función para revisar si la cola está vacía\n",
    "def is_empty(s):\n",
    "    return len(s) == 0\n",
    "\n",
    "print(f\"¿La cola está vacía? {is_empty(cola)}\")"
   ]
  },
  {
   "cell_type": "code",
   "execution_count": 5,
   "metadata": {
    "colab": {
     "autoexec": {
      "startup": false,
      "wait_interval": 0
     },
     "base_uri": "https://localhost:8080/",
     "height": 51,
     "output_extras": [
      {
       "item_id": 1
      }
     ]
    },
    "colab_type": "code",
    "executionInfo": {
     "elapsed": 656,
     "status": "ok",
     "timestamp": 1520887952487,
     "user": {
      "displayName": "Jaime Castro Retamal",
      "photoUrl": "//lh5.googleusercontent.com/-d7ImDI1yYBM/AAAAAAAAAAI/AAAAAAAADF4/eQh4r_ES9eE/s50-c-k-no/photo.jpg",
      "userId": "114351437388776670979"
     },
     "user_tz": 180
    },
    "id": "Ss3beS5S-9eJ",
    "outputId": "4370826b-b394-4dd6-c2f2-af5215fb46ad"
   },
   "outputs": [
    {
     "name": "stdout",
     "output_type": "stream",
     "text": [
      "Cola: deque([3])\n",
      "¿La cola está vacía? False\n"
     ]
    }
   ],
   "source": [
    "cola.popleft()\n",
    "print(f\"Cola: {cola}\")\n",
    "print(f\"¿La cola está vacía? {is_empty(cola)}\")"
   ]
  },
  {
   "cell_type": "code",
   "execution_count": 6,
   "metadata": {
    "colab": {
     "autoexec": {
      "startup": false,
      "wait_interval": 0
     },
     "base_uri": "https://localhost:8080/",
     "height": 51,
     "output_extras": [
      {
       "item_id": 1
      }
     ]
    },
    "colab_type": "code",
    "executionInfo": {
     "elapsed": 709,
     "status": "ok",
     "timestamp": 1520887960846,
     "user": {
      "displayName": "Jaime Castro Retamal",
      "photoUrl": "//lh5.googleusercontent.com/-d7ImDI1yYBM/AAAAAAAAAAI/AAAAAAAADF4/eQh4r_ES9eE/s50-c-k-no/photo.jpg",
      "userId": "114351437388776670979"
     },
     "user_tz": 180
    },
    "id": "OHvB3nmC_ICu",
    "outputId": "7f6b9d42-e8eb-4706-d9dd-d7410dca5543"
   },
   "outputs": [
    {
     "name": "stdout",
     "output_type": "stream",
     "text": [
      "Cola: deque([])\n",
      "¿La cola está vacía? True\n"
     ]
    }
   ],
   "source": [
    "cola.popleft()\n",
    "print(f\"Cola: {cola}\")\n",
    "print(f\"¿La cola está vacía? {is_empty(cola)}\")"
   ]
  },
  {
   "cell_type": "markdown",
   "metadata": {
    "colab_type": "text",
    "id": "PdOXDarUw53z"
   },
   "source": [
    "## Colas de doble extremo (*deque*)\n",
    "\n",
    "Un *deque* (*double-ended queue*, lo pronunciamos \"dec\") es una estructura secuencial en la que es posible **agregar y sacar elementos desde ambos extremos en forma eficiente**, con un *costo constante por operación*. Esto quiere decir que, independientemente del largo de un *deque*, si éste tiene $N$ elementos, para agregar y sacar elementos siempre ejecutará *la misma* cantidad de operaciones. Esto es mucho mejor que si utilizamos una *lista*, en que la cantidad de operaciones depende de la cantidad de elementos en la lista. En Python, esta estructura es provista por la clase `deque` del módulo `collections`. Las principales operaciones que soporta son:\n",
    "\n",
    "| Operación      | Código Python                | Descripción                                                      |\n",
    "|----------------|------------------------------|------------------------------------------------------------------|\n",
    "| Crear *deque*  | `deque()`                    | Crea un *deque* vacío                                            |\n",
    "| Crear *deque*  | `deque(lista)`               | Crea un *deque* a partir de los elementos de una lista           |\n",
    "| *Add first*    | `deque.appendleft(elemento)` | Agrega un elemento al inicio del *deque*                         |\n",
    "| *Add last*     | `deque.append(elemento)`     | Agrega un elemento al final del *deque*                          |\n",
    "| *Delete first* | `deque.popleft()`            | Retorna y extrae el primer elemento del *deque*                  |\n",
    "| *Delete last*  | `deque.pop()`                | Retorna y extrae el último elemento del *deque*                  |\n",
    "| *First*        | `deque[0]`                   | Retorna sin extraer el primer elemento del *deque*               |\n",
    "| *Last*         | `deque[-1]`                  | Retorna sin extraer el último elemento del *deque*               |\n",
    "| *length*       | `len(deque)`                 | Retorna el número de elementos en el *deque*                     |\n",
    "| *Is empty*     | `len(deque) == 0`            | Retorna true si el *deque* está vacío                            |\n",
    "| *Clear*        | `deque.clear()`              | Limpia el *deque*                                                |\n",
    "| *Remove*       | `deque.remove(elemento)`     | Saca el primer elemento del *deque* que sea igual a `elemento`   |\n",
    "| *Count*        | `deque.count(elemento)`      | Cuenta el número de elementos iguales a `elemento` en el *deque* |\n",
    "\n",
    "El *deque* soporta acceso de lectura y escritura en el elemento de la posición `i`, con la sentencia `deque[i]`. Sin embargo, esta operación **no es eficiente** como en el caso de las listas. En un *deque*, para llegar a la posición `i` el computador inicia en la posición `0` y se va moviendo hasta encontrar la posición `i` para poder leerlo (es decir, requiere recorrer todos los elementos anteriores a `i` para llegar a `i`). "
   ]
  },
  {
   "cell_type": "markdown",
   "metadata": {},
   "source": [
    "### Comparando `list` y `deque`\n",
    "\n",
    "En el siguiente código vamos a comparar el tiempo que demoran algunas operaciones en un `deque` y en un `list`. Vamos a crear un `deque` y un `list` de 10 millones de enteros cada uno, y luego vamos a comparar (1) el tiempo que toma encontrar el elemento que está en la mitad de cada uno, y (2) el tiempo que toma sacar 1000 elementos del inicio."
   ]
  },
  {
   "cell_type": "code",
   "execution_count": 7,
   "metadata": {
    "colab": {
     "autoexec": {
      "startup": false,
      "wait_interval": 0
     },
     "base_uri": "https://localhost:8080/",
     "height": 51,
     "output_extras": [
      {
       "item_id": 1
      }
     ]
    },
    "colab_type": "code",
    "executionInfo": {
     "elapsed": 2116,
     "status": "ok",
     "timestamp": 1520896161287,
     "user": {
      "displayName": "Jaime Castro Retamal",
      "photoUrl": "//lh5.googleusercontent.com/-d7ImDI1yYBM/AAAAAAAAAAI/AAAAAAAADF4/eQh4r_ES9eE/s50-c-k-no/photo.jpg",
      "userId": "114351437388776670979"
     },
     "user_tz": 180
    },
    "id": "PXm1mt3YZavn",
    "outputId": "98af06d3-f90c-418d-ff40-240e6374def5"
   },
   "outputs": [
    {
     "name": "stdout",
     "output_type": "stream",
     "text": [
      "Buscar el elemento 5000000 en el deque se demoró 0.192705 segundos.\n",
      "Buscar el elemento 5000000 en la lista se demoró 0.000370 segundos.\n",
      "La búsqueda en deque fue 520.45 veces el tiempo de list.\n",
      "\n",
      "Sacar los primeros 1000 elementos del deque se demoró   0.000399 segundos.\n",
      "Sacar los primeros 1000 elementos de la lista se demoró 10.603456 segundos.\n",
      "La extracción en list fue 26599.35 veces el tiempo de deque.\n",
      "\n"
     ]
    }
   ],
   "source": [
    "from collections import deque\n",
    "from time import time\n",
    "\n",
    "\n",
    "ELEMENTS = 10_000_000\n",
    "\n",
    "# Creamos un deque y una lista con 10.000.000 de enteros\n",
    "number_deque = deque(range(ELEMENTS))\n",
    "number_list = list(range(ELEMENTS))\n",
    "\n",
    "# Vemos el time actual\n",
    "start_time = time()\n",
    "# Buscamos el elemento del medio\n",
    "number_deque[ELEMENTS // 2]\n",
    "finish_time = time()\n",
    "deque_time = finish_time - start_time\n",
    "# Imprimimos el tiempo transcurrido\n",
    "print(f\"\"\"Buscar el elemento {ELEMENTS // 2} en el deque se demoró \"\"\"\n",
    "      f\"\"\"{deque_time:.6f} segundos.\"\"\")\n",
    "\n",
    "\n",
    "# Vemos el time actual\n",
    "start_time = time()\n",
    "# Buscamos el elemento del medio\n",
    "number_list[ELEMENTS // 2]\n",
    "finish_time = time()\n",
    "list_time = finish_time - start_time\n",
    "# Imprimimos el tiempo transcurrido\n",
    "print(f\"\"\"Buscar el elemento {ELEMENTS // 2} en la lista se demoró \"\"\"\n",
    "      f\"\"\"{list_time:.6f} segundos.\"\"\")\n",
    "if list_time > 0.0:\n",
    "    print(f\"La búsqueda en deque fue {deque_time/list_time:.2f} veces el tiempo de list.\")\n",
    "else:\n",
    "    print(\"Ups, tu computador es demasiado rápido.\")\n",
    "print()\n",
    "\n",
    "# Vamos a hacer pop de los primeros 1000 elementos del deque\n",
    "start_time = time()\n",
    "N = 1000\n",
    "for i in range(0, N):\n",
    "    number_deque.popleft()\n",
    "finish_time = time()\n",
    "deque_time = finish_time - start_time\n",
    "print(f\"Sacar los primeros {N} elementos del deque se demoró   {deque_time:.6f} segundos.\")\n",
    "\n",
    "# Vamos a hacer pop de los primeros 1000 elementos de la lista\n",
    "start_time = time()\n",
    "N = 1000\n",
    "for i in range(0, N):\n",
    "    number_list.pop(0)\n",
    "finish_time = time()\n",
    "list_time = finish_time - start_time\n",
    "print(f\"Sacar los primeros {N} elementos de la lista se demoró {list_time:.6f} segundos.\")\n",
    "if deque_time > 0.0:\n",
    "    print(f\"La extracción en list fue {list_time/deque_time:.2f} veces el tiempo de deque.\")\n",
    "else:\n",
    "    print(\"Ups, tu computador es demasiado rápido.\")\n",
    "print()"
   ]
  },
  {
   "cell_type": "markdown",
   "metadata": {},
   "source": [
    "Nuestro experimento nos permite apreciar que (1) **acceder a un elemento de la mitad** de una cola implementada con `list` es mucho más rápido que con `deque`, y (2) **extraer un elemento del inicio** de una cola implementada con `deque` es mucho más rápido que con `list`. Es importante conocer estas diferencias al momento de elegir una estructura de datos adecuada para nuestros programas."
   ]
  },
  {
   "cell_type": "markdown",
   "metadata": {
    "colab_type": "text",
    "id": "jS8OwLGScvyp"
   },
   "source": [
    "Se puede ver que con un *deque* es posible simular un *stack* o una cola como las que ya hemos visto. Esto pues un *deque* puede hacer todas las operaciones que requieren ambas estructuras con la misma eficiencia. Es por eso que se dice que esta estructura es una **generalización de los *stacks* y colas**."
   ]
  },
  {
   "cell_type": "markdown",
   "metadata": {
    "colab_type": "text",
    "id": "KIbF_OHcP6oc"
   },
   "source": [
    "### Ejemplo de uso con palíndromos\n",
    "\n",
    "A continuación un ejemplo simple de chequeo de palabras palíndromas usando un *deque*. La palabra es almacenada en un *deque* y las letras de los extremos son extraídas simultáneamente comparadas hasta que quede una sola letra. El recorrido se hace de manera **recursiva**."
   ]
  },
  {
   "cell_type": "code",
   "execution_count": 8,
   "metadata": {
    "colab": {
     "autoexec": {
      "startup": false,
      "wait_interval": 0
     },
     "base_uri": "https://localhost:8080/",
     "height": 68,
     "output_extras": [
      {
       "item_id": 1
      }
     ]
    },
    "colab_type": "code",
    "executionInfo": {
     "elapsed": 1426,
     "status": "ok",
     "timestamp": 1520895878616,
     "user": {
      "displayName": "Jaime Castro Retamal",
      "photoUrl": "//lh5.googleusercontent.com/-d7ImDI1yYBM/AAAAAAAAAAI/AAAAAAAADF4/eQh4r_ES9eE/s50-c-k-no/photo.jpg",
      "userId": "114351437388776670979"
     },
     "user_tz": 180
    },
    "id": "JSicQvZlP6oc",
    "outputId": "c8fe1ca3-0f98-448f-a6f9-ee142d58c1d3"
   },
   "outputs": [
    {
     "name": "stdout",
     "output_type": "stream",
     "text": [
      "True\n",
      "False\n",
      "True\n",
      "False\n",
      "True\n"
     ]
    }
   ],
   "source": [
    "from collections import deque\n",
    "\n",
    "\n",
    "def es_palindrome(palabra):\n",
    "    cola = deque(palabra)\n",
    "    return es_palindrome_rec(cola)\n",
    "\n",
    "\n",
    "def es_palindrome_rec(palabra):\n",
    "    if len(palabra) <= 1:\n",
    "        return True\n",
    "    else:\n",
    "        return palabra.popleft() == palabra.pop() \\\n",
    "                and es_palindrome_rec(palabra)\n",
    "\n",
    "\n",
    "print(es_palindrome(\"reconocer\"))\n",
    "print(es_palindrome(\"espectaculo\"))\n",
    "print(es_palindrome(\"ana\"))\n",
    "print(es_palindrome(\"OssA\"))\n",
    "print(es_palindrome(\"OssO\"))"
   ]
  },
  {
   "cell_type": "markdown",
   "metadata": {
    "colab_type": "text",
    "id": "IEkGfLLtP6og"
   },
   "source": [
    "**Nota**: En Python lo más directo para chequear si un *string* es palíndromo es simplemente comparar `palabra == palabra[::-1]`"
   ]
  },
  {
   "cell_type": "markdown",
   "metadata": {},
   "source": [
    "**Puedes revisar el Ejercicio Propuesto 4.1 para practicar la implementación de una estructura que se comporta de forma similar a una cola.**"
   ]
  }
 ],
 "metadata": {
  "colab": {
   "collapsed_sections": [],
   "default_view": {},
   "name": "03-colas.ipynb",
   "provenance": [],
   "version": "0.3.2",
   "views": {}
  },
  "kernelspec": {
   "display_name": "Python 3 (ipykernel)",
   "language": "python",
   "name": "python3"
  },
  "language_info": {
   "codemirror_mode": {
    "name": "ipython",
    "version": 3
   },
   "file_extension": ".py",
   "mimetype": "text/x-python",
   "name": "python",
   "nbconvert_exporter": "python",
   "pygments_lexer": "ipython3",
   "version": "3.10.4"
  },
  "varInspector": {
   "cols": {
    "lenName": 16,
    "lenType": 16,
    "lenVar": 40
   },
   "kernels_config": {
    "python": {
     "delete_cmd_postfix": "",
     "delete_cmd_prefix": "del ",
     "library": "var_list.py",
     "varRefreshCmd": "print(var_dic_list())"
    },
    "r": {
     "delete_cmd_postfix": ") ",
     "delete_cmd_prefix": "rm(",
     "library": "var_list.r",
     "varRefreshCmd": "cat(var_dic_list()) "
    }
   },
   "types_to_exclude": [
    "module",
    "function",
    "builtin_function_or_method",
    "instance",
    "_Feature"
   ],
   "window_display": false
  }
 },
 "nbformat": 4,
 "nbformat_minor": 4
}
