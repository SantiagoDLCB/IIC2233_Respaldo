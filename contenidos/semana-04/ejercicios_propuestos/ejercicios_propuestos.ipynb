{
 "cells": [
  {
   "cell_type": "markdown",
   "metadata": {
    "colab_type": "text",
    "id": "cX64GGVNtdx2"
   },
   "source": [
    "<p>\n",
    "<font size='5' face='Georgia, Arial'>IIC-2233 Apunte Programación Avanzada</font><br>\n",
    "<font size='1'> Ejercicios creados a partir de 2019-2 por Equipo Docente IIC2233. </font>\n",
    "<font size='1'> Actualizados en 2020-1.</font>\n",
    "</p>\n",
    "\n",
    "\n",
    "# Ejercicios propuestos: Excepciones"
   ]
  },
  {
   "cell_type": "markdown",
   "metadata": {
    "colab_type": "text",
    "id": "urwU7L6Ftdx3"
   },
   "source": [
    "Los siguientes problemas se proveen como oportunidad de ejercitar los conceptos revisados en el material de **Excepciones**. Si tienes dudas sobre algún problema o alguna solución, no dudes en dejar una *issue* en el [foro del curso](https://github.com/IIC2233/syllabus/issues).\n",
    "\n",
    "Los ejercicios se subdividen según la numeración de los cuadernos de la semana. Algunos de ellos se referencian desde los cuadernos de material mismo, mientras que pueden haber otros adicionales para mayor ejercitación."
   ]
  },
  {
   "cell_type": "markdown",
   "metadata": {
    "colab_type": "text",
    "id": "jxqosRrbtdx4"
   },
   "source": [
    "## Excepciones"
   ]
  },
  {
   "cell_type": "markdown",
   "metadata": {
    "colab_type": "text",
    "id": "AXPY7WLttdx5"
   },
   "source": [
    "### Ejercicio 1.1: Levantando errores simples"
   ]
  },
  {
   "cell_type": "markdown",
   "metadata": {},
   "source": [
    "En las siguientes líneas, levanta un tipo de excepción distinta en cada una. Además, agrégale un mensaje distinto para que se muestre al ejecutarse. Fueron ocho los tipos de excepciones revisados en el primer cuadernos de esta materia. Te dejamos un ejemplo del primer tipo de excepción:"
   ]
  },
  {
   "cell_type": "code",
   "execution_count": null,
   "metadata": {},
   "outputs": [],
   "source": [
    "raise SyntaxError(\"Error con mensaje personalizado\")"
   ]
  },
  {
   "cell_type": "code",
   "execution_count": null,
   "metadata": {},
   "outputs": [],
   "source": []
  },
  {
   "cell_type": "code",
   "execution_count": null,
   "metadata": {},
   "outputs": [],
   "source": []
  },
  {
   "cell_type": "code",
   "execution_count": null,
   "metadata": {},
   "outputs": [],
   "source": []
  },
  {
   "cell_type": "code",
   "execution_count": null,
   "metadata": {},
   "outputs": [],
   "source": []
  },
  {
   "cell_type": "code",
   "execution_count": null,
   "metadata": {},
   "outputs": [],
   "source": []
  },
  {
   "cell_type": "code",
   "execution_count": null,
   "metadata": {},
   "outputs": [],
   "source": []
  },
  {
   "cell_type": "code",
   "execution_count": null,
   "metadata": {},
   "outputs": [],
   "source": []
  },
  {
   "cell_type": "markdown",
   "metadata": {
    "colab_type": "text",
    "id": "AXPY7WLttdx5"
   },
   "source": [
    "### Ejercicio 1.2: Menú simple sin manejo de excepciones"
   ]
  },
  {
   "cell_type": "markdown",
   "metadata": {
    "colab_type": "text",
    "id": "muSkak9mtdx5"
   },
   "source": [
    "¿A quién no le ha pasado que cuando le pedimos un número al usuario, nos entrega un *string*? ¿O que el número ingresado no estaba dentro del rango pedido? Siempre que solicitamos información a un usuario, debemos encargarnos de validarla antes de poder hacer algo útil con ella.\n",
    "\n",
    "A continuación se muestra un menú que a primera vista puede parecer correcto, pero no valida ningún *input* del usuario, por lo que es propenso a fallar si este no es lo suficientemente cuidadoso. Intenta analizar el código y reconocer los lugares en donde este puede lanzar excepciones. Te invitamos a probar el código y darle *inputs* inesperados para hacerlo fallar de todas las maneras posibles :)"
   ]
  },
  {
   "cell_type": "code",
   "execution_count": null,
   "metadata": {},
   "outputs": [],
   "source": [
    "import random\n",
    "\n",
    "\n",
    "diccionario_pokemon = {\n",
    "    \"Charmander\": random.randint(1, 16),\n",
    "    \"Wartortle\": random.randint(17, 35),\n",
    "    \"Venusaur\": random.randint(33, 50),\n",
    "}\n",
    "\n",
    "opciones_menu = [\n",
    "    \"Salir\",\n",
    "    \"Elegir Pokémon inicial\",\n",
    "    \"Subir nivel a Pokémon\",\n",
    "]\n",
    "\n",
    "salir = False\n",
    "pokemon_inicial = None\n",
    "nivel_pokemon = None\n",
    "\n",
    "while not salir:\n",
    "    print()\n",
    "    # Aquí se imprimen las opciones del menú y se pide una selección.\n",
    "    for i in range(len(opciones_menu)):\n",
    "        print(f\"[{i+1}] {opciones_menu[i]}\")\n",
    "    numero_opcion = int(input(\"Ingresa una opción: \"))\n",
    "    opcion = opciones_menu[numero_opcion - 1]\n",
    "    print()\n",
    "\n",
    "    if opcion == \"Salir\":\n",
    "        # Si el usuario quiere salir, terminamos el loop.\n",
    "        print(\"¡Saliendo del menú!\")\n",
    "        salir = True\n",
    "\n",
    "    elif opcion == \"Elegir Pokémon inicial\":\n",
    "        # Si quiere elegir Pokémon, le damos las opciones.\n",
    "        print(f\"Elige entre: {' / '.join(diccionario_pokemon.keys())}\")\n",
    "        pokemon_inicial = input(\"Nombre de tu Pokémon inicial: \")\n",
    "        print((f\"Tu Pokémon inicial es {pokemon_inicial}, \"\n",
    "               f\"con nivel inicial {diccionario_pokemon[pokemon_inicial]}\"))\n",
    "        nivel_pokemon = diccionario_pokemon[pokemon_inicial]\n",
    "\n",
    "    elif opcion == \"Subir nivel a Pokémon\":\n",
    "        # Si quiere subir de nivel a su Pokémon, preguntemos cuántos.\n",
    "        print(f\"Agrega un numero entero de niveles a tu Pokémon\")\n",
    "        niveles = input(\"Niveles a agregar: \")\n",
    "        if niveles.isdigit():\n",
    "            niveles = int(niveles)\n",
    "        print((f\"Tu {pokemon_inicial} subirá desde el nivel \"\n",
    "               f\"{nivel_pokemon} a {nivel_pokemon + niveles}\"))\n",
    "        nivel_pokemon += niveles\n",
    "\n",
    "# Rellena las excepciones que deberías poder encontrar según la situación:\n",
    "# * ?: al entregar un valor no numérico en la selección de menú\n",
    "# * ?: al entregar un número de opción que no está en el menú\n",
    "# * ?: al subir de nivel antes de tener un Pokémon\n",
    "# * ?: al seleccionar un Pokémon que no está en la lista\n",
    "# * ?: al entregar un número no entero de niveles a subir"
   ]
  },
  {
   "cell_type": "markdown",
   "metadata": {
    "colab_type": "text",
    "id": "722NnbA9tdyF"
   },
   "source": [
    "## Levantamiento y manejo de excepciones"
   ]
  },
  {
   "cell_type": "markdown",
   "metadata": {},
   "source": [
    "### Ejercicio 2.1: Manejando errores simples"
   ]
  },
  {
   "attachments": {},
   "cell_type": "markdown",
   "metadata": {},
   "source": [
    "En el siguiente código, se muestra una sucesión de instrucciones que se aplican sobre el diccionario `data`. Las instrucciones intentan acceder a distintos valores del diccionario e intentan realizar operaciones. Si ejecutas el código, cada instrucción arrojará un error de distinto tipo. Tu deber es capturar los distintos tipos de error que esta porción de código arroja e imprimir un mensaje correspondiente al error. Ojo, no debes alterar las líneas existentes para que estas no arrojen error, debes envolver cada línea con el ambiente `try/except` y capturar el error correspondiente. \n",
    "\n",
    "Por ejemplo, si una instrucción fuese la siguiente, dónde ocurre un `NameError`:\n",
    "```python\n",
    "variable_que_no_existe + 1\n",
    "```\n",
    "\n",
    "Debes capturarla de la siguiente forma, envolviéndola en un `try/except`:\n",
    "\n",
    "```python\n",
    "try:\n",
    "    variable_que_no_existe + 1\n",
    "except NameError as err:\n",
    "    print(\"¡Error de nombre arrojado!\")\n",
    "```\n",
    "\n",
    "Así, el resultado de esta porción de código no lanzará ningún error, solo imprimirá información de ellos."
   ]
  },
  {
   "cell_type": "code",
   "execution_count": null,
   "metadata": {},
   "outputs": [],
   "source": [
    "# No alteres este diccionario\n",
    "data = {\n",
    "    \"nombre\": \"Juan\",\n",
    "    \"edad\": 23,\n",
    "    \"numeros\": [1, 2, 3, 4, 5]\n",
    "}\n",
    "\n",
    "\n",
    "\n",
    "data[\"apellido\"]  # No alteres esta línea, debes envolverla en try/except\n",
    "\n",
    "\n",
    "\n",
    "data[\"numeros\"][10]  # No alteres esta línea, debes envolverla en try/except\n",
    "\n",
    "\n",
    "\n",
    "data[[1, 2]] = 4  # No alteres esta línea, debes envolverla en try/except\n",
    "\n",
    "\n",
    "\n",
    "data.length  # No alteres esta línea, debes envolverla en try/except\n",
    "\n",
    "\n",
    "\n",
    "int(data[\"nombre\"])  # No alteres esta línea, debes envolverla en try/except"
   ]
  },
  {
   "cell_type": "markdown",
   "metadata": {
    "colab_type": "text",
    "id": "XlSPMQvetdyI"
   },
   "source": [
    "### Ejercicio 2.2: `Levantamiento de exepciones`"
   ]
  },
  {
   "cell_type": "markdown",
   "metadata": {},
   "source": [
    "Para empezar a entrar en confianza con el levantamiento y manejo de excepciones, en este ejercicio te invitamos a hacer dos cosas. En la primera parte, solo deberás usar `raise` para lanzar las excepciones que correspondan y que el código falle con los mensajes solicitados. En la segunda parte, deberás agregar `try` y `except` para capturar las excepciones que hiciste en la primera parte, de forma que el código muestre los mensajes solicitados sin fallar."
   ]
  },
  {
   "cell_type": "markdown",
   "metadata": {
    "colab_type": "text",
    "id": "eisPk4lK7GNh"
   },
   "source": [
    "**a)** Se te entrega la función `producir_eco`, la cual tiene dos parámetros: `palabra` y `repeticiones`, imprimiendo la palabra `palabra` `repeticiones` veces (puedes ver un ejemplo abajo). Debes revisar que `palabra` sea un `str` y que `repeticiones` sea un `int`. Además, `repeticiones` no puede ser menor o igual a 0. Ambos tipos de errores debes levantarlos con el tipo correspondiente, usando el comando `raise`. De esta forma, tu código debería ejecutar los `raise` necesarios y funcionar en caso de que el *input* sea correcto.\n",
    "\n",
    "```python\n",
    ">> producir_eco(\"hola\", 3)\n",
    "\"hola hola hola\"\n",
    ">> producir_eco(\"alguien?\", 2)\n",
    "\"alguien? alguien?\"\n",
    "```"
   ]
  },
  {
   "cell_type": "code",
   "execution_count": null,
   "metadata": {
    "colab": {},
    "colab_type": "code",
    "id": "wltJzEUI7GNi"
   },
   "outputs": [],
   "source": [
    "def producir_eco(palabra, repeticiones):\n",
    "    # Recuerda utilizar 'raise'.\n",
    "    return \" \".join([palabra] * repeticiones)"
   ]
  },
  {
   "cell_type": "markdown",
   "metadata": {},
   "source": [
    "**b)** Con la función anterior, debes manejar las excepciones que levantaste, es decir, cada vez que se levante un error, tu programa debe reconocerlo e imprimir un mensaje explicativo **sin \"caerse\"**. Te damos una lista de argumentos de prueba y llamamos a la función por ti. Debes completar utilizando `try`/`except` en el lugar correcto y capturar las excepciones que correspondan, además de imprimir un mensaje explicativo."
   ]
  },
  {
   "cell_type": "code",
   "execution_count": null,
   "metadata": {},
   "outputs": [],
   "source": [
    "argumentos_de_prueba = [\n",
    "    (\"casi\", \"7\"),     # \"7\" no es int, falla.\n",
    "    (\"funciona?\", 3),  # Debería funcionar bien.\n",
    "    (\"sii\", -1),       # -1 no es positivo, falla.\n",
    "    (7, \"bye\"),        # Tipos incorrectos, falla.\n",
    "]\n",
    "\n",
    "for argumentos in [(\"casi\", \"7\"), (\"funciona?\", 3), (\"sii\", -1), (7, \"bye\")]:\n",
    "    # Este código PODRÍA causar un error.\n",
    "    print(f\"Llamada a producir_eco{argumentos}\")\n",
    "    print(producir_eco(*argumentos))"
   ]
  },
  {
   "cell_type": "markdown",
   "metadata": {
    "colab_type": "text",
    "id": "eZZTmyg47GNr"
   },
   "source": [
    "### Ejercicio 2.3: Emulando `defaultdicts`"
   ]
  },
  {
   "cell_type": "markdown",
   "metadata": {
    "colab_type": "text",
    "id": "qR74RqOB7GNs"
   },
   "source": [
    "¿Recuerdas los `defaultdicts`? Son estructuras de datos muy similares a los diccionarios, pero tienen una característica muy útil: cuando se intenta acceder a un valor con una *key* que no existe dentro del diccionario, este es capaz de crear un nuevo par para dicha llave donde el valor asociado se crea con la función que le entregamos al crearlo. Un diccionario común y corriente lanzaría una excepción en este caso. Pero ahora que sabemos manejar excepciones, podemos intentar crear nuestro propio `defaultdict` a partir de un `dict` común y corriente.\n",
    "\n",
    "A continuación, te presentamos la clase `MiDefaultDict`, la cual hereda de `dict`. Su constructor recibe como parámetros una función (`funcion_default`), seguida por los argumentos de esa función (`args`). Tu tarea es modificar el método `__getitem__` (que se ejecuta cada vez que se intenta acceder a una llave) de modo que si se llega a levantar una excepción porque la `llave` ingresada no existe, se pueda crear un elemento nuevo desde el mismo método utilizando la función y sus argumentos (`funcion_default(args)`).\n",
    "\n",
    "Para que puedas probar tu creación, abajo se crea una instancia de `MiDefaultDict` llamada `rating_frutas`, y luego una lista con más frutas, algunas de las cuales no están en el diccionario. Se irá accediendo a ellas con `rating_frutas[fruta]`. Si alguna no está en el diccionario, se deberá agregar automáticamente, y se le debe un valor aleatorio entre 0 y 10 al azar usando `randint`."
   ]
  },
  {
   "cell_type": "code",
   "execution_count": null,
   "metadata": {
    "colab": {},
    "colab_type": "code",
    "id": "QM4LtRdH7GNs"
   },
   "outputs": [],
   "source": [
    "from random import randint\n",
    "\n",
    "\n",
    "class MiDefaultDict(dict):\n",
    "\n",
    "    def __init__(self, funcion_default=None, *args):\n",
    "        super().__init__()\n",
    "        self.funcion_default = funcion_default\n",
    "        self.args = args\n",
    "\n",
    "    def __getitem__(self, llave):\n",
    "        # Este método se llama implicitamente al usar objeto[llave].\n",
    "        # Pista: Para guardar un par llave-valor dentro del diccionario,\n",
    "        # utiliza: self[llave] = valor\n",
    "\n",
    "        # Utiliza aquí un bloque try/except, y maneja la excepción correspondiente.\n",
    "        # Recuerda usar funcion_default y args para determinar el nuevo valor!\n",
    "        return super().__getitem__(llave)\n",
    "\n",
    "\n",
    "# Crea la instancia del diccionario\n",
    "rating_frutas = MiDefaultDict(randint, 0, 10)\n",
    "\n",
    "# Agrega valores al diccionario\n",
    "rating_frutas.update({\n",
    "    \"Manzana\": 3,\n",
    "    \"Plátano\": 7,\n",
    "    \"Arándanos\": 6,\n",
    "    \"Pera\": 3,\n",
    "    \"Sandía\": 4,\n",
    "    \"Durazno\": 5,\n",
    "})\n",
    "\n",
    "lista_de_frutas = [\"Tomate\", \"Arándanos\", \"Melón\", \"Piña\", \"Sandía\", \"Frutilla\", \"Higo\", \"Pera\", \"Damasco\"]\n",
    "\n",
    "for fruta in lista_de_frutas:\n",
    "    print(f\"{fruta} tiene un rating de {rating_frutas[fruta]}/10!\")"
   ]
  },
  {
   "cell_type": "markdown",
   "metadata": {
    "colab_type": "text",
    "id": "ThKoNJ9I7GNy"
   },
   "source": [
    "### Ejercicio 2.4: Manejo de múltiples excepciones"
   ]
  },
  {
   "attachments": {},
   "cell_type": "markdown",
   "metadata": {
    "colab_type": "text",
    "id": "gO0NR09vtdyN"
   },
   "source": [
    "En medio de la planeación de su atraco a la Fábrica de Moneda y Timbre de España, El Profesor te ha enviado 7 posibles destinos hacia donde huirá el equipo. Dada la cantidad de cosas que tiene que hacer, te ha enviado un código que debe imprimir estos destinos solo si contiene la información correcta, es decir, el `id`, el nombre del País y la capital de este. El problema de este código es que hay datos que no tienen toda la información, por lo que en ese caso debes avisar que existe un problema.\n",
    "\n",
    "Los datos están organizados en una lista de países y un diccionario con sus capitales. Para conectar cada país con su capital, se utiliza un `id` en común, donde este corresponde al índice en que se encuentra el país en la lista, que a la vez es la llave del diccionario con las capitales. Un ejemplo se muestra a continuación:\n",
    "\n",
    "```python\n",
    "pais = lista[identificador]\n",
    "capital = diccionario[identificador]\n",
    "```\n",
    "\n",
    "El problema a trabajar es que las estructuras de datos están muy incompletas, por lo que deberás manejar múltiples excepciones para que el programa avise cuando **falta el país**, **falta la capital** o **faltan ambos**.\n",
    "\n",
    "* Si se encuentra la capital y el país debe imprimir : `\"La capital de {pais} es {capital}\"`.\n",
    "* Si no se encuentra capital, imprimir: `\"Error, no hay registro de la capital de {pais}\"`.\n",
    "* Si no se encuentra al país, imprimir: `\"Error, no hay registro del país con capital {capital}\"`.\n",
    "* Si no se encuentran el país ni su capital, imprimir: `\"No hay registro ni del país ni de su capital\"`."
   ]
  },
  {
   "cell_type": "code",
   "execution_count": null,
   "metadata": {
    "colab": {},
    "colab_type": "code",
    "id": "6eJ9YaRBtdyN"
   },
   "outputs": [],
   "source": [
    "diccionario = {0 : \"Santiago\", 2 : \"Lima\", 3 : \"Montevideo\", 4 : \"La Paz\"}\n",
    "lista = [\"Chile\", \"Argentina\", \"Peru\", \"Uruguay\"]\n",
    "\n",
    "for i in range (0, 7):\n",
    "    try:\n",
    "        pass\n",
    "    except:\n",
    "        pass\n",
    "    except:\n",
    "        pass"
   ]
  },
  {
   "cell_type": "markdown",
   "metadata": {
    "colab_type": "text",
    "id": "ThKoNJ9I7GNy"
   },
   "source": [
    "### Ejercicio 2.5: Lista Mágica"
   ]
  },
  {
   "attachments": {},
   "cell_type": "markdown",
   "metadata": {},
   "source": [
    "Se te entrega la clase `ListaMagica` casi completada, cuya intención es que funcione como un envoltorio sobre una lista, de tal forma que un usuario sea capaz de pedir acceder a un índice de la lista, pero si el índice se escapa del largo de la lista interna, entonces esta no arroja un error sino que simplemente informa al usuario que la lista no es tan larga. Si el índice pedido si es accesible, entonces imprime el elemento correspondiente a la posición. Debes completar el método `verificar_error` para lograrlo.\n",
    "\n",
    "Por ejemplo, para el siguiente código:\n",
    "```python\n",
    "lista_magica = ListaMagica([3, 12, 'Juan'])\n",
    "lista_magica.pedir_usuario()\n",
    "```\n",
    "Si el usuario ingresa `0`, entonces se imprime `'El elemento en el índice 0 es 3'`. Si ingresara `2`, imprime `'El elemento en el índice 2 es Juan'`.\n",
    "\n",
    "Pero si se ingresa `100`, imprime `'La lista no es tan larga :('`."
   ]
  },
  {
   "cell_type": "code",
   "execution_count": null,
   "metadata": {},
   "outputs": [],
   "source": [
    "class ListaMagica:\n",
    "\n",
    "    def __init__(self, lista):\n",
    "        self.lista = lista\n",
    "\n",
    "    def pedir_usuario(self):\n",
    "        indice_input = int(input('Ingresa un índice: '))\n",
    "        self.verificar_error(indice_input)\n",
    "\n",
    "    def verificar_error(self, i):\n",
    "        try:  # Intentar acceder al elemento de la lista e imprimirlo si se logra.\n",
    "            pass\n",
    "        except :  # Debes rellenar que error es y decir que la lista no es lo suficientemente larga.\n",
    "            pass\n",
    "\n",
    "\n",
    "if __name__ == \"__main__\":\n",
    "    lista = [0, 'perro', 20, 6, 37, 'casa', -1, 'zapato', 7, 85, 22, 'gato', 65, -100, 'camino']\n",
    "    lista_magica = ListaMagica(lista)\n",
    "\n",
    "    lista_magica.pedir_usuario()\n",
    "    lista_magica.pedir_usuario()\n",
    "    lista_magica.pedir_usuario()"
   ]
  },
  {
   "cell_type": "markdown",
   "metadata": {
    "colab_type": "text",
    "id": "ThKoNJ9I7GNy"
   },
   "source": [
    "### Ejercicio 2.6: Netflix"
   ]
  },
  {
   "attachments": {},
   "cell_type": "markdown",
   "metadata": {},
   "source": [
    "Como te encanta tanto Netflix y quieres planificar que series ver, decides buscar en una página las mejores películas. Encuentras la información en formato de una carpeta llamada `'series'` con muchos archivos de extensión `.txt`. El nombre de cada archivo es el nombre de una serie y dentro del archivo se encuentra el número de _ranking_ de la serie. \n",
    "\n",
    "Se te entrega una clase armada capaz de preguntarle al usuario por una serie, este abrirá el archivo correspondiente a la serie según el nombre e imprimirá el _ranking_ encontrado. Lo que ocurre, es que si no existe el archivo buscado, entonces se cae el programa. Tu misión es arreglar el código de forma que no se caiga cuando preguntes por una película que no esté en la base de datos, e imprima simplemente `'No existe en la base de datos'`. Te recomendamos probar el código para ver qué ocurre sin el manejo de excepciones y así capturar el error correcto.\n",
    "\n",
    "**Ojo:** No debes arreglar el código para que el error no se arroje nunca, lo que debes hacer es capturar el error donde ocurra y manejarlo."
   ]
  },
  {
   "cell_type": "code",
   "execution_count": null,
   "metadata": {},
   "outputs": [],
   "source": [
    "import os\n",
    "\n",
    "\n",
    "class Netflix:\n",
    "\n",
    "    def preguntar_serie(self):\n",
    "        serie = input('Ingresa serie: ')\n",
    "        self.verificar_error(serie)\n",
    "\n",
    "    def verificar_error(self, serie):\n",
    "        with open(os.path.join('series', f'{serie}.txt')) as archivo:\n",
    "            n = archivo.readline()\n",
    "        print(n)\n",
    "\n",
    "\n",
    "if __name__ == \"__main__\":\n",
    "    netflix = Netflix()\n",
    "\n",
    "    netflix.preguntar_serie()\n",
    "    netflix.preguntar_serie()\n",
    "    netflix.preguntar_serie()"
   ]
  },
  {
   "cell_type": "markdown",
   "metadata": {
    "colab_type": "text",
    "id": "ThKoNJ9I7GNy"
   },
   "source": [
    "### Ejercicio 2.7: Creador de novelas originales"
   ]
  },
  {
   "attachments": {},
   "cell_type": "markdown",
   "metadata": {},
   "source": [
    "Mientras estudiabas programación recordaste que para cierto ramo de comunicación debías hacer una historia completamente original. No entraste en pánico, ya que sabes que con tus habilidades de programación puedes crear un programa que saque oraciones de otras novelas famosas y las una para obtener un resultado totalmente original.\n",
    "\n",
    "Se te entrega la clase `NovelasMaker` para lograr el objetivo descrito. El programa se organiza de tal forma que mediante el método `guardar_lineas(path)` se intenta cargar una cantidad de líneas de un texto ubicado en `path`. Este método debe: abrir el archivo correspondiente, pedir al usuario la cantidad de líneas que desea extraer de ese archivo (mediante `input`), y desde una línea aleatoria del archivo, extrae la cantidad de líneas especificada y las guarda en el atributo `self.lineas_textos`. El método `crear_novela` se encarga de unir todas las líneas extraídas.\n",
    "\n",
    "Ahora, el código está organizado de tal forma que si detectas un error en el flujo de `guardar_lineas(path)`, entonces levantes una excepción para luego ser capturada, en cuyo caso, el archivo correspondiente es ignorado. \n",
    "\n",
    "Los posibles errores que debes detectar y lanzar son que: \n",
    "- La ruta de archivo (`path`) no exista (puedes usar el método `exists` de `path` para comprobar eso).\n",
    "- El usuario entregue un *input* que no es numérico (puedes usar el método `isdigit` de `str` para comprobar eso).\n",
    "- El número de línea aleatorio en conjunto con la cantidad de líneas a extraer se salga de las dimensiones del archivo.\n",
    "\n",
    "**Ojo 1**: No debes manejar estos errores dentro de `guardar_lineas`, solo debes levantar errores (`raise`) si el caso lo amerita, y luego capturar dichos errores en el `main` del programa. \n",
    "\n",
    "**Ojo 2**: Los errores a detectar son de distintos tipos, asegúrate identificar de qué tipo es el error que se detecta para levantarlo correspondientemente. Por ejemplo, si detecto que se quiere acceder a una llave que no existe en un diccionario, eso corresponde a un `KeyError`, no a un `AtributeError`, o `ValueError`, etc...:\n",
    "\n",
    "```python\n",
    "if llave not in diccionario:\n",
    "    raise KeyError(f'Llave {llave} not in diccionario')\n",
    "```"
   ]
  },
  {
   "cell_type": "code",
   "execution_count": null,
   "metadata": {},
   "outputs": [],
   "source": [
    "from random import randint, shuffle\n",
    "from os.path import exists, join\n",
    "\n",
    "\n",
    "class NovelasMaker:\n",
    "\n",
    "    def __init__(self):\n",
    "        # Aquí se guardarán las líneas obtenidas de los respectivos textos.\n",
    "        self.lineas_textos = {}\n",
    "\n",
    "    # Completar función para guardar un número aleatorio de líneas,\n",
    "    # manejando posibles errores.\n",
    "    def guardar_lineas(self, path):\n",
    "        # Si el archivo no existe, se levanta la excepción.\n",
    "\n",
    "        # Se pide al usuario la cantidad de líneas a guardar,\n",
    "        # levantando una excepción si no entrega un dígito.\n",
    "\n",
    "        # Si la suma de lo anterior es mayor a las líneas del archivo,\n",
    "        # se levanta una excepción.\n",
    "\n",
    "        pass\n",
    "\n",
    "    def crear_novela(self):\n",
    "        lineas_nuevo_texto = []\n",
    "\n",
    "        for lineas in self.lineas_textos.values():\n",
    "            lineas_nuevo_texto.extend(lineas)\n",
    "\n",
    "        shuffle(lineas_nuevo_texto)\n",
    "\n",
    "        with open(join(\"textos\", \"resultado.txt\"), \"w+\") as archivo:\n",
    "            for linea in lineas_nuevo_texto:\n",
    "                archivo.write(linea)\n",
    "        print(\"La obra maestra ha sido creada. ¡Ve a leerla!\")\n",
    "\n",
    "\n",
    "if __name__ == \"__main__\":\n",
    "\n",
    "    creador = NovelasMaker()\n",
    "\n",
    "    for texto in [\n",
    "        \"example1.txt\", \"mi_libro.txt\", \"example2.txt\",\n",
    "        \"example3.txt\", \"example4.txt\"\n",
    "    ]:\n",
    "        try:\n",
    "            creador.guardar_lineas(join(\"textos\", texto))\n",
    "\n",
    "        # Debes completar con el nombre correcto de las excepciones\n",
    "        # que aparezcan.\n",
    "        except Exception as error:\n",
    "            pass\n",
    "\n",
    "    creador.crear_novela()"
   ]
  },
  {
   "cell_type": "markdown",
   "metadata": {},
   "source": [
    "### Ejercicio 2.8: Calculadora"
   ]
  },
  {
   "attachments": {},
   "cell_type": "markdown",
   "metadata": {},
   "source": [
    "Completa la clase `Calculadora` que pueda realizar las operaciones simples (sumar, restar, multiplicar y dividir) para *n* números. Ésta recibirá la instrucción a realizar, seguida de los números involucrados, todo separado por comas (`','`). Solo es necesario que la calculadora reciba números enteros, y con la instrucción \"terminar\" se deben dejar de recibir instrucciones.\n",
    "\n",
    "De forma similar al ejemplo anterior, múltiples errores se deben detectar y lanzar en el método `recibir_instruccion` dependiendo del caso:\n",
    "- La instrucción ingresada no es soportada por la calculadora.\n",
    "- No se entregan al menos dos números para instrucciones matemáticas.\n",
    "- Algún argumento entregado no es numérico.\n",
    "- Se intenta dividir por 0."
   ]
  },
  {
   "cell_type": "code",
   "execution_count": null,
   "metadata": {},
   "outputs": [],
   "source": [
    "from functools import reduce\n",
    "\n",
    "\n",
    "class Calculadora:\n",
    "\n",
    "    # Se define el inicializador, con un diccionario que contiene\n",
    "    # funciones para facilitar la escritura de código.\n",
    "    def __init__(self):\n",
    "        self.instrucciones = {\n",
    "            \"sumar\": self.sumar,\n",
    "            \"restar\": self.restar,\n",
    "            \"multiplicar\": self.multiplicar,\n",
    "            \"dividir\": self.dividir,\n",
    "            \"terminar\": None\n",
    "        }\n",
    "        self.funcionando = True\n",
    "\n",
    "    # Se definen las operaciones mínimas\n",
    "    def sumar(self, *args):\n",
    "        return reduce(lambda x, y: x + y, args)\n",
    "\n",
    "    def restar(self, *args):\n",
    "        return reduce(lambda x, y: x - y, args)\n",
    "\n",
    "    def multiplicar(self, *args):\n",
    "        return reduce(lambda x, y: x * y, args)\n",
    "\n",
    "    def dividir(self, *args):\n",
    "        return reduce(lambda x, y: x / y, args)\n",
    "\n",
    "    # Completar método para recibir instrucciones,\n",
    "    # la cual levanta distintos errores según el caso.\n",
    "    def recibir_instruccion(self, instruccion, *args):\n",
    "        pass\n",
    "\n",
    "\n",
    "if __name__ == \"__main__\":\n",
    "\n",
    "    calc = Calculadora()\n",
    "\n",
    "    while calc.funcionando:\n",
    "        try:\n",
    "            instruccion, *args = input(\n",
    "                \"Ingrese la instrucción y los números involucrados \"\n",
    "                \"(escriba 'terminar' para terminar): \"\n",
    "            ).split(\",\")\n",
    "            calc.recibir_instruccion(instruccion, *args)\n",
    "\n",
    "        # Debes completar con el nombre correcto de las excepciones\n",
    "        # que aparezcan.\n",
    "        except Exception as err:\n",
    "            pass"
   ]
  },
  {
   "cell_type": "markdown",
   "metadata": {
    "colab_type": "text",
    "id": "eAgMNwsYtdyM"
   },
   "source": [
    "## Excepciones personalizadas"
   ]
  },
  {
   "cell_type": "markdown",
   "metadata": {
    "colab_type": "text",
    "id": "NBRFODVT7GN7"
   },
   "source": [
    "### Ejercicio 3.1: DCCopiones"
   ]
  },
  {
   "attachments": {},
   "cell_type": "markdown",
   "metadata": {
    "colab_type": "text",
    "id": "8j_XYcXq7GN7"
   },
   "source": [
    "Los estudiantes del curso Avanzación Programada acaban de entregar sus tareas. Sin embargo, existen sospechas de que algunos se copiaron entre ellos. Como en el DDC nos tomamos en serio el tema de la copia (espero que hayan leído el [código de honor](https://www.ing.puc.cl/wp-content/uploads/2015/08/cdigo-de-honor.pdf)), debemos penalizar a los estudiantes que incurran en esas prácticas. Es por eso que el profesor Ristián Cruz y el cuerpo de ayudantes de Avanzación Programada ¡te han delegado la tarea de completar el sistema para detectar casos de copia! Para que se haga más simple tu tarea, los códigos de los alumnos fueron pasados por una función de _hashing_ [SHA-256](https://en.wikipedia.org/wiki/SHA-2), es decir, todo el código fue transformado a un solo _string_ alfanumérico llamado _hash_, y están guardados dentro de la carpeta `estudiantes`. Tu misión se resume en revisar si existen estudiantes que tengan el mismo _hash_.\n",
    "\n",
    "La clase `Corrector` es la que se encarga de revisar cada estudiantes, y levanta una excepción `ErrorCopia` cada vez que identifica un caso de copia. Debes crear la clase `ErrorCopia` (que hereda de `Exception` y modela una excepción). Cada instancia de `ErrorCopia` debe contener: el estudiante que fue pillado copiando (`estudiante`), el estudiante al que le copió (`copion`), el _hash_ que ambos comparten (`hash_copiado`). Además, debe llevar cuenta de cuantos casos de copia han ocurrido hasta el momento (`casos_de_copia`), y debe tener una estructura de datos que contenga a los estudiantes involucrados (`estudiantes_copiones`), en la cual no se repitan los estudiantes, si es que más de dos se copiaron entre sí.\n"
   ]
  },
  {
   "cell_type": "code",
   "execution_count": null,
   "metadata": {
    "colab": {},
    "colab_type": "code",
    "id": "s9-IEbwd7GN8"
   },
   "outputs": [],
   "source": [
    "import os\n",
    "\n",
    "\n",
    "# Retorna una lista con los estudiantes del curso.\n",
    "def get_estudiantes(path):\n",
    "    estudiantes = []\n",
    "    with open(path, \"r\", encoding=\"utf-8\") as archivo:\n",
    "        for line in archivo.readlines():\n",
    "            estudiantes.append(line.strip().split(\",\")[0])\n",
    "    return estudiantes\n",
    "\n",
    "\n",
    "class ErrorCopia(Exception):\n",
    "\n",
    "    # Definir atributos de clase podría ser util...\n",
    "\n",
    "    def __init__(self, estudiante, copion, hash_copiado):\n",
    "        # COMPLETAR\n",
    "        pass\n",
    "\n",
    "\n",
    "class Corrector:\n",
    "\n",
    "    def __init__(self):\n",
    "        self.codigos_comprimidos = self.extract_codigos()\n",
    "        self.estudiantes_revisados = dict()\n",
    "\n",
    "    # Extrae los pares alumnos, código desde codigos_comprimidos.txt.\n",
    "    def extract_codigos(self):\n",
    "        codigos_comprimidos = dict()\n",
    "        path_archivo = os.path.join(\"estudiantes\", \"codigos_comprimidos.txt\")\n",
    "        with open(path_archivo, \"r\", encoding=\"utf-8\") as archivo:\n",
    "            for linea in archivo.readlines():\n",
    "                estudiante, hash_estudiante = linea.strip().split(\",\")\n",
    "                codigos_comprimidos[estudiante] = hash_estudiante\n",
    "        return codigos_comprimidos\n",
    "\n",
    "    # Revisa si estudiante copió.\n",
    "    def revisar(self, estudiante):\n",
    "        hash_estudiante = self.codigos_comprimidos[estudiante]\n",
    "        for estudiante_revisado in self.estudiantes_revisados:\n",
    "            # Se detecta copia.\n",
    "            if self.estudiantes_revisados[estudiante_revisado] == hash_estudiante:\n",
    "                self.estudiantes_revisados[estudiante] = hash_estudiante\n",
    "                # Aquí se levanta la excepción\n",
    "                raise ErrorCopia(estudiante_revisado, estudiante, hash_estudiante)\n",
    "        self.estudiantes_revisados[estudiante] = hash_estudiante\n",
    "\n",
    "\n",
    "if __name__ == \"__main__\":\n",
    "    lista_estudiantes = get_estudiantes(os.path.join(\"estudiantes\", \"codigos_comprimidos.txt\"))\n",
    "\n",
    "    corrector = Corrector()\n",
    "\n",
    "    for nombre in lista_estudiantes:\n",
    "        try:\n",
    "            corrector.revisar(nombre)\n",
    "        except ErrorCopia as error:\n",
    "            print(f\"Caso de copia encontrado entre {error.estudiante} y {error.copion}!\")\n",
    "            print(f\"Ambos tienen el hash {error.hash_copiado}\")\n",
    "            print(f\"Ya van {error.casos_de_copia} casos de copia :(\")\n",
    "            print()\n",
    "\n",
    "    if ErrorCopia.estudiantes_copiones:\n",
    "        print(\"Estudiantes que fueron pillados copiando:\")\n",
    "        for estudiante in ErrorCopia.estudiantes_copiones:\n",
    "            print(\"\\t - \" + estudiante)\n",
    "        print(\"Que pena :'(\")\n",
    "    else:\n",
    "        print(\"No hubo casos de copia! Felicitaciones por la honestidad :)\")"
   ]
  },
  {
   "cell_type": "markdown",
   "metadata": {},
   "source": [
    "### Ejercicio 3.2: DCCompletos"
   ]
  },
  {
   "attachments": {},
   "cell_type": "markdown",
   "metadata": {},
   "source": [
    "El DDC ha decidido hacer una completada, porque nos gusta mucho comer. Pero se dieron cuenta de que es necesario tener un sistema para evitar que alguien le robe completos a otros y alguien se quede sin comer. Por eso inventaron un sistema de *tickets* y es necesario hacer la excepción personalizada `ErrorTratanDeRobar`, para levantarla cuando se encuentran duplicados y llevar un registro de cuantos duplicados se han encontrado. \n",
    "\n",
    "Se te entrega el esqueleto de la excepción `ErrorTratanDeRobar`. Esta es levantada por la clase `Tienda` cuando encuentra clientes con *tickets* duplicados. Cada instancia del error debe contener la siguiente información del error para que funcione el código descrito: el nombre del cliente como un atributo, el número del ticket como un atributo, y una *property* que entrega la cantidad de *tickets* duplicados que se han encontrado hasta ahora para ese *ticket*. Debes completar la excepción `ErrorTratanDeRobar` para que se logre el comportamiento esperado."
   ]
  },
  {
   "cell_type": "code",
   "execution_count": null,
   "metadata": {},
   "outputs": [],
   "source": [
    "from collections import namedtuple, defaultdict\n",
    "\n",
    "# Modelamos los clientes.\n",
    "Cliente = namedtuple('Cliente', ['ticket', 'nombre', 'apellido'])\n",
    "\n",
    "\n",
    "class ErrorTratanDeRobar(Exception):\n",
    "\n",
    "    # ¿Será buena idea un atributo de clase?\n",
    "\n",
    "    def __init__(self, cliente):\n",
    "        pass\n",
    "\n",
    "    @property\n",
    "    def cantidad_repeticiones(self):\n",
    "        pass\n",
    "\n",
    "\n",
    "# Modelamos la tienda con una estructura simple para almacenar sus clientes.\n",
    "class Tienda:\n",
    "\n",
    "    def __init__(self, nombre):\n",
    "        self.nombre = nombre\n",
    "        self.clientes = dict()\n",
    "\n",
    "    # Método encargado de entregar un completo,\n",
    "    # en caso de encontrar duplicado, lanza error\n",
    "    def recibir(self, cliente):\n",
    "        if cliente.ticket in self.clientes:\n",
    "            raise ErrorTratanDeRobar(cliente)\n",
    "        else:\n",
    "            self.clientes[cliente.ticket] = cliente\n",
    "            print(f'✅ Cliente {cliente.nombre} de ticket {cliente.ticket} '\n",
    "                  'ha recibido su completo exitosamente.\\n')\n",
    "\n",
    "\n",
    "if __name__ == \"__main__\":\n",
    "\n",
    "    clientes_que_no_han_comido = [\n",
    "        Cliente('1', 'Daniela', 'Poblete'),\n",
    "        Cliente('2', 'Tomás', 'González'),\n",
    "        Cliente('3', 'Enzo', 'Tamburirni'),\n",
    "        Cliente('4', 'Daniela', 'Concha'),\n",
    "        Cliente('2', 'Dante', 'Pinto'),\n",
    "        Cliente('5', 'Juan', 'Aguillon'),\n",
    "        Cliente('1', 'Caua', 'Paz'),\n",
    "        Cliente('6', 'Máx', 'Narea'),\n",
    "        Cliente('1', 'Javiera', 'Ochoa')\n",
    "    ]\n",
    "\n",
    "    DCCompletos = Tienda('DDCompletos')\n",
    "\n",
    "    for cliente in clientes_que_no_han_comido:\n",
    "        try:\n",
    "            DCCompletos.recibir(cliente)\n",
    "        except ErrorTratanDeRobar as error:\n",
    "            print(f'❌ Cliente {error.nombre} tratando de robar un completo '\n",
    "                  f'con el ticket {error.ticket} encontrado')\n",
    "            print(f'Ya van {error.cantidad_repeticiones} repetidos para el '\n",
    "                  f'ticket {error.ticket}')\n",
    "            print()"
   ]
  }
 ],
 "metadata": {
  "colab": {
   "collapsed_sections": [],
   "name": "ejercicios_propuestos.ipynb",
   "provenance": []
  },
  "kernelspec": {
   "display_name": "Python 3 (ipykernel)",
   "language": "python",
   "name": "python3"
  },
  "language_info": {
   "codemirror_mode": {
    "name": "ipython",
    "version": 3
   },
   "file_extension": ".py",
   "mimetype": "text/x-python",
   "name": "python",
   "nbconvert_exporter": "python",
   "pygments_lexer": "ipython3",
   "version": "3.10.6"
  }
 },
 "nbformat": 4,
 "nbformat_minor": 4
}
