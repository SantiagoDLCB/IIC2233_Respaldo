{
 "cells": [
  {
   "attachments": {},
   "cell_type": "markdown",
   "metadata": {},
   "source": [
    "<p>\n",
    "<font size='5' face='Georgia, Arial'>IIC-2233 Apunte Programación Avanzada</font><br>\n",
    "<font size='1'>&copy; 2015 Karim Pichara - Christian Pieringer. Todos los derechos reservados.</font>\n",
    "<br>\n",
    "<font size='1'> Modificado en 2017-2, 2018-1, 2018-2, 2019-1, 2019-2, 2020-1, 2020-2 y 2023-1 por Equipo Docente IIC2233</font>\n",
    "</p>"
   ]
  },
  {
   "cell_type": "markdown",
   "metadata": {},
   "source": [
    "# Tabla de contenidos\n",
    "\n",
    "1. [Clases de Excepciones](#Clases-de-Excepciones)\n",
    "2. [Excepciones personalizadas](#Excepciones-personalizadas)"
   ]
  },
  {
   "cell_type": "markdown",
   "metadata": {},
   "source": [
    "# Clases de Excepciones"
   ]
  },
  {
   "cell_type": "markdown",
   "metadata": {},
   "source": [
    "En Python, todas las excepciones heredan de `BaseException`. A partir de ella existen tres tipos de excepciones: **`SystemExit`**, **`KeyboardInterrupt`**, y **`Exception`**. Todas las excepciones generadas por errores durante la ejecución de un programa son subclases de `Exception`, tal como se muestra en el siguiente diagrama:"
   ]
  },
  {
   "cell_type": "markdown",
   "metadata": {},
   "source": [
    "![](img/jerarquia-excepciones.png)"
   ]
  },
  {
   "attachments": {},
   "cell_type": "markdown",
   "metadata": {},
   "source": [
    "Esto quiere decir, que si se usa `Exception` para manejar errores (`except Exception`), esto capturará cualquier error que sea instancia de una subclase de `Exception`. De esta forma, el tratamiento es general y no específico a un tipo de error en especial. En general, es recomendable actuar de forma **selectiva** sobre un tipo determinado de excepciones (`IOError`, `AtributeError`, `ValueError`, etc.). Si bien es posible manejar cualquier tipo de excepción capturando `Exception`, esto se considera una **mala práctica**, pues capturar una excepción sin saber su naturaleza, puede causar comportamientos inesperados en el programa."
   ]
  },
  {
   "cell_type": "code",
   "execution_count": 1,
   "metadata": {},
   "outputs": [],
   "source": [
    "def dividir(num, den):\n",
    "    if not (isinstance(num, int) and isinstance(den, int)):\n",
    "        raise TypeError(\"Error de tipo en numerador o denominador. :'(\")\n",
    "\n",
    "    if num < 0 or den < 0:\n",
    "        raise ValueError(\"Hay un valor negativo entre numerador y denominador >:(\")\n",
    "\n",
    "    return float(num) / float(den)"
   ]
  },
  {
   "cell_type": "code",
   "execution_count": 2,
   "metadata": {},
   "outputs": [
    {
     "name": "stdout",
     "output_type": "stream",
     "text": [
      "Error: Error de tipo en numerador o denominador. :'(\n",
      "Revise los datos de entrada. Algo pasó ahí, pero no sé qué tipo específico de Exception ... \n"
     ]
    }
   ],
   "source": [
    "try:\n",
    "    print(dividir(1, \"1\"))\n",
    "except Exception as err:\n",
    "    # Este bloque opera para todos los tipos de excepciones que hereden de Exception.\n",
    "    print(f\"Error: {err}\")\n",
    "    print(\"Revise los datos de entrada. Algo pasó ahí, pero no sé qué tipo específico de Exception ... \")"
   ]
  },
  {
   "cell_type": "code",
   "execution_count": 3,
   "metadata": {},
   "outputs": [
    {
     "name": "stdout",
     "output_type": "stream",
     "text": [
      "Error: Hay un valor negativo entre numerador y denominador >:(\n",
      "Revise los datos de entrada. Algo pasó ahí, pero no sé qué tipo específico de Exception ... \n"
     ]
    }
   ],
   "source": [
    "try:\n",
    "    print(dividir(1, -2))\n",
    "except Exception as err:\n",
    "    # Este bloque opera para todos los tipos de excepciones que hereden de Exception.\n",
    "    print(f\"Error: {err}\")\n",
    "    print(\"Revise los datos de entrada. Algo pasó ahí, pero no sé qué tipo específico de Exception ... \")"
   ]
  },
  {
   "cell_type": "code",
   "execution_count": 4,
   "metadata": {},
   "outputs": [
    {
     "name": "stdout",
     "output_type": "stream",
     "text": [
      "Error: float division by zero\n",
      "Revise los datos de entrada. Algo pasó ahí, pero no sé qué tipo específico de Exception ... \n"
     ]
    }
   ],
   "source": [
    "try:\n",
    "    print(dividir(4, 0))\n",
    "except Exception as err:\n",
    "    # Este bloque opera para todos los tipos de excepciones que hereden de Exception.\n",
    "    print(f\"Error: {err}\")\n",
    "    print(\"Revise los datos de entrada. Algo pasó ahí, pero no sé qué tipo específico de Exception ... \")"
   ]
  },
  {
   "attachments": {},
   "cell_type": "markdown",
   "metadata": {},
   "source": [
    "# Excepciones personalizadas\n",
    "\n",
    "Podemos crear nuestros propios tipos de excepciones. Para ello debemos heredar desde la clase `Exception`. Podemos modificar el comportamiento heredado sobrescribiendo los métodos que tiene implementada esta clase."
   ]
  },
  {
   "cell_type": "code",
   "execution_count": 5,
   "metadata": {},
   "outputs": [],
   "source": [
    "class Excepcion1(Exception):\n",
    "\n",
    "    # Al no sobrescribir nada, hereda todo sin modificaciones.\n",
    "    pass\n",
    "\n",
    "\n",
    "class Excepcion2(Exception):\n",
    "\n",
    "    def __init__(self, a, b):\n",
    "        # Sobrescribimos el __init__ para cambiar el ingreso de los parámetros.\n",
    "        super().__init__(f\"Alguno de los valores {a} o {b} no es entero\")\n",
    "\n",
    "\n",
    "def dividir(num, den):\n",
    "    # Por ejemplo, redefiniremos las excepciones que\n",
    "    # utilizamos en los ejemplos anteriores.\n",
    "    if not (isinstance(num, int) and isinstance(den, int)):\n",
    "        raise Excepcion2(num, den)\n",
    "\n",
    "    if num < 0 or den < 0:\n",
    "        raise Excepcion1(\"Los valores son negativos\")\n",
    "\n",
    "    return float(num) / float(den)"
   ]
  },
  {
   "cell_type": "code",
   "execution_count": 6,
   "metadata": {},
   "outputs": [
    {
     "name": "stdout",
     "output_type": "stream",
     "text": [
      "Error: Los valores son negativos\n"
     ]
    }
   ],
   "source": [
    "# Este ejempo lanza una Excepcion1.\n",
    "try:\n",
    "    print(dividir(4, -3))\n",
    "\n",
    "except Excepcion1 as err:\n",
    "    # Este bloque opera para la Excepcion1.\n",
    "    print(f\"Error: {err}\")\n",
    "\n",
    "except Excepcion2 as err:\n",
    "    # Este bloque opera para Excepcion2 cuando los datos no son enteros.\n",
    "    print(f\"Error: {err}\")"
   ]
  },
  {
   "cell_type": "code",
   "execution_count": 7,
   "metadata": {},
   "outputs": [
    {
     "name": "stdout",
     "output_type": "stream",
     "text": [
      "Error: Alguno de los valores 4.4 o -3 no es entero\n"
     ]
    }
   ],
   "source": [
    "# Este ejemplo lanza una Excepcion2.\n",
    "try:\n",
    "    print(dividir(4.4, -3))\n",
    "\n",
    "except Excepcion1 as err:\n",
    "    # Este bloque opera para la Excepcion1.\n",
    "    print(f\"Error: {err}\")\n",
    "\n",
    "except Excepcion2 as err:\n",
    "    # Este bloque opera para Excepcion2 cuando los datos no son enteros.\n",
    "    print(f\"Error: {err}\")"
   ]
  },
  {
   "attachments": {},
   "cell_type": "markdown",
   "metadata": {},
   "source": [
    "Podemos definir comportamientos personalizados para las excepciones que creamos, por ejemplo, agregar métodos que nos permitan recuperar información de la excepción."
   ]
  },
  {
   "cell_type": "code",
   "execution_count": 8,
   "metadata": {},
   "outputs": [
    {
     "name": "stdout",
     "output_type": "stream",
     "text": [
      "Error: El dinero en la billetera no alcanza para pagar $1500. Hay un exceso de gastos de $500.\n"
     ]
    }
   ],
   "source": [
    "class ErrorTransaccion(Exception):\n",
    "\n",
    "    def __init__(self, fondos, gasto):\n",
    "        super().__init__(f\"El dinero en la billetera no alcanza para pagar ${gasto}\")\n",
    "        self.fondos = fondos\n",
    "        self.gasto = gasto\n",
    "\n",
    "    def exceso(self):\n",
    "        return self.gasto - self.fondos\n",
    "\n",
    "\n",
    "class Billetera:\n",
    "\n",
    "    def __init__(self, dinero):\n",
    "        self.fondos = dinero\n",
    "\n",
    "    def pagar(self, gasto):\n",
    "        if self.fondos - gasto < 0:\n",
    "            raise ErrorTransaccion(self.fondos, gasto)\n",
    "        self.fondos -= gasto\n",
    "\n",
    "\n",
    "b = Billetera(1000)\n",
    "\n",
    "try:\n",
    "    b.pagar(1500)\n",
    "\n",
    "except ErrorTransaccion as err:\n",
    "    print(f\"Error: {err}. Hay un exceso de gastos de ${err.exceso()}.\")"
   ]
  },
  {
   "attachments": {},
   "cell_type": "markdown",
   "metadata": {},
   "source": [
    "## Un ejemplo: La lista del curso\n",
    "\n",
    "Este ejemplo desea modelar la siguiente situación: se desean inscribir estudiantes en distintos cursos universitarios, para lo cual se cuentan con listas de las peticiones de varios estudiantes por curso. El problema es que estas listas fueron afectadas por *hackers* que poblaron de información falsa, específicamente, hay estudiantes con número de identificación duplicados. Ya que no hay forma de identificar los falsos de los verdaderos, se inscribirán solamente quienes tengan un identificador nuevo, y los duplicados se almacenarán de alguna forma, para futura referencia.\n",
    "\n",
    "La siguiente solución utiliza una excepción personalizada para llevar el registro de los duplicados encontrados en la lista. Aprovecha el uso de atributos de clase para mantener un registro general de todos los duplicados, y atributos de instancia para obtener información."
   ]
  },
  {
   "attachments": {},
   "cell_type": "markdown",
   "metadata": {},
   "source": [
    "**(Abre paréntesis...**\n",
    "\n",
    "Al usar clases, normalmente definimos atributos para las instancias mediante el uso de `self.atributo = valor`. Esto genera la creación de un **atributo de instancia**, cuyo valor es accesible desde cualquier punto de la instancia mediante `self`. Si definimos un atributo al nivel de los métodos, se le conoce como **atributo de clase** y es accesible por todas las instancias mediante el nombre de la clase: `Clase.atributo`. También, es posible acceder mediante `self` en una instancia, siempre y cuando no tenga un atributo de instancia del mismo nombre definido. Cuando se busca un valor de atributo mediante `self.atributo`, el orden de búsqueda es:\n",
    "1. Buscar en la instancia. (atributo de instancia)\n",
    "2. Si no existe, buscar en la clase. (atributo de clase)\n",
    "3. Si no existe, levantar un error (`AttributeError`).\n",
    "\n",
    "**...cierra paréntesis.)**"
   ]
  },
  {
   "cell_type": "code",
   "execution_count": 9,
   "metadata": {},
   "outputs": [],
   "source": [
    "from collections import namedtuple, defaultdict\n",
    "\n",
    "\n",
    "# Modelamos les estudiantes como entidades simples.\n",
    "Estudiante = namedtuple(\"Estudiante\", [\"numero\", \"nombre\", \"apellido\"])\n",
    "\n",
    "\n",
    "class ErrorRepeticionEstudiante(Exception):\n",
    "\n",
    "    # Se mantiene un diccionario como atributo de clase para almacenar todos los duplicados.\n",
    "    estudiantes_repetidos = defaultdict(list)\n",
    "\n",
    "    def __init__(self, estudiante):\n",
    "        # Se almacena le alumne que lanzó la excepción.\n",
    "        self.estudiante = estudiante\n",
    "        numero = estudiante.numero\n",
    "        # Se almacena el duplicado.\n",
    "        self.estudiantes_repetidos[numero].append(estudiante)\n",
    "        super().__init__(f\"¡Error de estudiante repetido de número: {estudiante}\")\n",
    "\n",
    "    # Creamos property de instancia que accede a todos los duplicados del mismo número.\n",
    "    @property\n",
    "    def repetidos(self):\n",
    "        return self.estudiantes_repetidos[self.estudiante.numero]\n",
    "\n",
    "    # Creamos property de instancia que calcula la cantidad de duplicados del mismo número.\n",
    "    @property\n",
    "    def cantidad(self):\n",
    "        return len(self.estudiantes_repetidos[self.estudiante.numero])\n",
    "\n",
    "\n",
    "# Modelamos el curso con una estructura simple para almacenar sus estudiantes\n",
    "class Curso:\n",
    "\n",
    "    def __init__(self, nombre):\n",
    "        self.nombre = nombre\n",
    "        self.estudiantes = dict()\n",
    "\n",
    "    # Método encargado de inscribir nuevo estudiante, en caso de encontrar duplicado, levanta un error.\n",
    "    def inscribir(self, estudiante):\n",
    "        if estudiante.numero in self.estudiantes:\n",
    "            raise ErrorRepeticionEstudiante(estudiante)\n",
    "        else:\n",
    "            self.estudiantes[estudiante.numero] = estudiante\n",
    "            print(f\"✅ Estudiante de número {estudiante.numero} inscrito exitosamente.\")"
   ]
  },
  {
   "cell_type": "code",
   "execution_count": 10,
   "metadata": {},
   "outputs": [
    {
     "name": "stdout",
     "output_type": "stream",
     "text": [
      "✅ Estudiante de número 15633459 inscrito exitosamente.\n",
      "✅ Estudiante de número 1663525J inscrito exitosamente.\n",
      "✅ Estudiante de número 17632451 inscrito exitosamente.\n",
      "❌ Estudiante repetido de número 15633459 encontrado.\n",
      "Ya van 1 estudiantes repetidos con el número 15633459:\n",
      "\tFernanda Errazuriz\n",
      "✅ Estudiante de número 1563001J inscrito exitosamente.\n",
      "❌ Estudiante repetido de número 1663525J encontrado.\n",
      "Ya van 1 estudiantes repetidos con el número 1663525J:\n",
      "\tBenjamín Valdivieso\n",
      "❌ Estudiante repetido de número 15633459 encontrado.\n",
      "Ya van 2 estudiantes repetidos con el número 15633459:\n",
      "\tFernanda Errazuriz, Cristian Soto\n"
     ]
    }
   ],
   "source": [
    "estudiantes_no_inscritos = [\n",
    "    Estudiante('15633459', 'Juan', 'Hernández'),\n",
    "    Estudiante('1663525J', 'Belén', 'Pinto'),\n",
    "    Estudiante('17632451', 'Ariel', 'Gonzalez'),\n",
    "    Estudiante('15633459', 'Fernanda', 'Errazuriz'),\n",
    "    Estudiante('1563001J', 'Javiera', 'Martínez'),\n",
    "    Estudiante('1663525J', 'Benjamín', 'Valdivieso'),\n",
    "    Estudiante('15633459', 'Cristian', 'Soto'),\n",
    "]\n",
    "\n",
    "iic2233 = Curso('IIC2233')\n",
    "\n",
    "for estudiante in estudiantes_no_inscritos:\n",
    "    try:\n",
    "        iic2233.inscribir(estudiante)\n",
    "    except ErrorRepeticionEstudiante as error:\n",
    "        print(f\"❌ Estudiante repetido de número {estudiante.numero} encontrado.\")\n",
    "        print(f\"Ya van {error.cantidad} estudiantes repetidos con el número {estudiante.numero}:\")\n",
    "        print(\"\\t\" + \", \".join([f\"{estudiante.nombre} {estudiante.apellido}\" for estudiante in error.repetidos]))"
   ]
  },
  {
   "cell_type": "markdown",
   "metadata": {},
   "source": [
    "**Revisa los ejercicios propuestos de la sección 3 para poner en práctica la creación de excepciones personalizadas.**"
   ]
  }
 ],
 "metadata": {
  "kernelspec": {
   "display_name": "Python 3 (ipykernel)",
   "language": "python",
   "name": "python3"
  },
  "language_info": {
   "codemirror_mode": {
    "name": "ipython",
    "version": 3
   },
   "file_extension": ".py",
   "mimetype": "text/x-python",
   "name": "python",
   "nbconvert_exporter": "python",
   "pygments_lexer": "ipython3",
   "version": "3.10.4"
  }
 },
 "nbformat": 4,
 "nbformat_minor": 4
}
