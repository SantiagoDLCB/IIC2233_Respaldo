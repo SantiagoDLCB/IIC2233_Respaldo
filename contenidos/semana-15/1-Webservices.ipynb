{
 "cells": [
  {
   "attachments": {},
   "cell_type": "markdown",
   "id": "350fb575",
   "metadata": {},
   "source": [
    "<p>\n",
    "<font size='5' face='Georgia, Arial'>IIC-2233 Apunte Programación Avanzada</font><br>\n",
    "<font size='1'> Material creado por Equipo Docente IIC2233. Modificado en 2021-1 al 2023-1 por Equipo Docente IIC2233</font>\n",
    "</p>"
   ]
  },
  {
   "attachments": {},
   "cell_type": "markdown",
   "id": "0f1aa21e",
   "metadata": {},
   "source": [
    "# Tabla de contenidos\n",
    "\n",
    "1. [API (*Application Programming Interface*)](#API-(Application-Programming-Interface))\n",
    "2. [HTTP (***Hypertext Transfer Protocol***)](#HTTP-(Hypertext-Transfer-Protocol))\n",
    "3. [*Client-side script*](#Client-side-script)\n",
    "    1. [Ejemplo consumiendo una API (método get)](#Ejemplo-consumiendo-una-API-(método-get))\n",
    "    2. [Retorno de una API](#Retorno-de-una-API)\n",
    "    3. [Uso de `post`](#Uso-de-post)\n",
    "    4. [Autenticación en _headers_](#Autenticación-en-headers)\n",
    "    5. [Caso aplicado: API de GITHUB](#Caso-aplicado:-API-de-GITHUB)\n",
    "4. [*Server-side App*](#Server-side-App)"
   ]
  },
  {
   "attachments": {},
   "cell_type": "markdown",
   "id": "4ece352b",
   "metadata": {},
   "source": [
    "Durante el capítulo de *networking* aprendimos el uso de *sockets* y algunos protocolos para establecer la comunicación a través de una arquitectura cliente-servidor. En este capítulo, revisaremos la comunicación entre dos dispositivos mediante la **web**.\n",
    "\n",
    "***Web services*** es el conjunto de aplicaciones cliente-servidor que se comunican a través de la web mediante un protocolo diseñado para ello. Podemos ver este tipo de servicios como aplicaciones que pueden ser accedidas por otras aplicaciones a través de una red de computadores (internet).\n",
    "\n",
    "Por ejemplo, cuando nuestro navegador (cliente) consume un sitio web (servidor), por cada **llamada al servidor**, una aplicación escrita en algún lenguaje de programación **envía una respuesta** en [HTML](https://es.wikipedia.org/wiki/HTML) (el lenguaje que se utiliza para definir la estructura de un sitio web) para que nuestro navegador la despliegue. Los _web services_ funcionan de forma similar, donde la salida está dirigida a una **aplicación que consume** esta información. Para que la comunicación sea posible, el formato de los mensajes debe ser conocido por ambas partes, para que la información pueda ser interpretada correctamente.\n"
   ]
  },
  {
   "attachments": {},
   "cell_type": "markdown",
   "id": "6912f199",
   "metadata": {},
   "source": [
    "## API (*Application Programming Interface*)\n",
    "\n",
    "En general se conoce como **API** al conjunto de funciones que son expuestas por un servicio para ser utilizadas por otros programas. Podemos ver al servicio como una clase, y a la API como el conjunto de métodos de esa clase. El servicio puede ser un *web service* o cualquier paquete que exponga una interfaz, por ejemplo una librería de Python. Sin embargo, en este capítulo cuando hablemos de API nos estaremos refiriendo a los métodos expuestos por un servicio web (un *web service*).\n",
    "\n",
    "Una gran parte de los servicios actuales exponen una API, y permiten que otras aplicaciones se conectan a ellas. De esta manera podemos construir aplicaciones que utilizan servicios que se encuentren en computadores remotos, e interactuar con ellos.\n",
    "\n",
    "En una red de computadores, cada página web de internet es almacenada en un computador remoto que ejecuta un proceso servidor. Un servidor remoto es simplemente un programa que escuchas *requests* (solicitudes) y envía *responses* (respuestas) de acuerdo a un protocolo.\n",
    "\n",
    "Tú puedes utilizar tu propio computador para servir un sitio web. De hecho, los desarrolladores de *software* usan sus propios computadores como servidores locales al crear sitios web antes de publicarlos al mundo.\n",
    "\n",
    "Cuando escribes https://www.facebook.com en tu navegador, este envía una *request* a un servidor remoto de Facebook. Una vez que tu navegador recibe la respuesta del servidor, este la interpreta y despliega una página para ti.\n",
    "\n",
    "Para el navegador (cliente), el servidor de Facebook es una API. Esto significa que cada vez que tú visitas una página en la web, tú interactúas con alguna API en un servidor remoto. Una API no es lo mismo que un servidor remoto, pero es la parte de este que recibe las *requests* y envía *responses* (respuestas).\n",
    "\n",
    "Si cada objeto tecnológico de tu casa expusiera una API, podrías controlarla completamente desde tu celular o desde cualquier programa en Python u otro lenguaje (ver más en [internet de las cosas](https://es.wikipedia.org/wiki/Internet_de_las_cosas)).\n"
   ]
  },
  {
   "attachments": {},
   "cell_type": "markdown",
   "id": "911e5d8b",
   "metadata": {},
   "source": [
    "## HTTP (***Hypertext Transfer Protocol***)\n",
    "\n",
    "Gran parte de las arquitecturas de *web services* se basan en el uso del protocolo **HTTP**. Este protocolo de aplicación está encargado de proporcionar una capa para realización de transacciones y así permitir la comunicación entre clientes y servidores. HTTP trabaja como un protocolo ***request-response*** en donde el cliente hace una solicitud (*request*) y el servidor responde con la información solicitada (*response*).\n",
    "\n",
    "HTTP es un protocolo en el que el servidor no guarda ninguna información de las conexiones. Por ejemplo, al acceder a métodos de un servicio web que requiere identificación del cliente, este deberá en cada consulta enviar **algo** que acredite su identidad.\n",
    "\n",
    "El funcionamiento de este protocolo se basa en la definición de métodos o verbos que indican la acción a desarrollar por un determinado recurso. Los recursos pueden ser datos existentes en el servidor (por ejemplo, archivos) o bien una salida generada dinámicamente. La versión HTTP/1.1 incluye **cinco** métodos:\n",
    "\n",
    "- `GET`: recupera una representación de un recurso sin cambiar nada en el servidor.\n",
    "- `POST`: crea un recurso.\n",
    "- `PATCH`: aplica modificaciones parciales a un recurso.\n",
    "- `PUT`: reemplaza completamente un recurso existente.\n",
    "- `DELETE`: elimina un recurso.\n",
    "\n",
    "HTTP incluye también un conjunto de códigos de estado mediante los cuales se entrega información al cliente sobre el resultado de su petición. Algunos códigos comunes de respuesta son:\n",
    "\n",
    "- `200` : OK. Solicitud exitosa.\n",
    "- `403` : Prohibido. La petición es aceptada, pero el servidor rechaza responderla.\n",
    "- `404` : No encontrado. El recurso solicitado no ha sido encontrado.\n",
    "- `500` : Error interno del servidor.\n",
    "\n",
    "Para más detalle de los códigos pueden revisar el siguiente [enlace]( http://www.w3schools.com/tags/ref_httpmessages.asp).\n",
    "\n",
    "La siguiente figura muestra un ejemplo con la estructura de los mensaje HTTP para la *request* del cliente y para la *response* desde el servidor.\n",
    "\n",
    "![](imgs/http_message.png)\n"
   ]
  },
  {
   "attachments": {},
   "cell_type": "markdown",
   "id": "37a9b257",
   "metadata": {},
   "source": [
    "## *Client-side script*\n",
    "\n",
    "En esta sección veremos, desde el punto de vista del cliente, cómo efectuar *requests* a un servidor que mantiene un servicio web. En Python, la librería `requests` nos permite interactuar con servicios disponibles en algún *web service*. La librería, además, integra los métodos para serialización en JSON.\n",
    "\n",
    "Para instalar la librería `requests`, en cualquier terminal debes correr el comando `pip3 install requests`. Otra opción, es ejecutar la siguiente celda, que instalará la librería en el mismo entorno en que estés corriendo este jupyter (de todas maneras recomendamos instalarlo desde la consola):\n"
   ]
  },
  {
   "cell_type": "code",
   "execution_count": null,
   "id": "f2bb4de0",
   "metadata": {
    "tags": []
   },
   "outputs": [],
   "source": [
    "!pip3 install requests"
   ]
  },
  {
   "attachments": {},
   "cell_type": "markdown",
   "id": "740b7b18",
   "metadata": {},
   "source": [
    "Para generar una petición mediante `GET` usamos el método `get(url)` que recibe por argumento el llamado al recurso.\n"
   ]
  },
  {
   "cell_type": "code",
   "execution_count": 2,
   "id": "493f3713",
   "metadata": {},
   "outputs": [],
   "source": [
    "import requests\n",
    "\n",
    "# Esta url contiene la dirección del web service \n",
    "# y los parámetros que se requieren para la consulta\n",
    "url = 'https://api.github.com/repos/IIC2233/Syllabus/issues/8'\n",
    "response = requests.get(url)"
   ]
  },
  {
   "attachments": {},
   "cell_type": "markdown",
   "id": "83963be7",
   "metadata": {},
   "source": [
    "Luego podemos usar `.status_code` para saber el código  de estado de la consulta."
   ]
  },
  {
   "cell_type": "code",
   "execution_count": 3,
   "id": "20617c7a",
   "metadata": {},
   "outputs": [
    {
     "name": "stdout",
     "output_type": "stream",
     "text": [
      "Status: 200\n"
     ]
    }
   ],
   "source": [
    "print(f'Status: {response.status_code}')"
   ]
  },
  {
   "cell_type": "code",
   "execution_count": 4,
   "id": "d4646969",
   "metadata": {},
   "outputs": [
    {
     "name": "stdout",
     "output_type": "stream",
     "text": [
      " # Issues\n",
      "\n",
      "Este foro está para que **compartan sus dudas** 🤔. También será usado para **publicar información relevante** en algunos casos. \n",
      "\n",
      "Este es un **medio oficial de comunicación** por lo que es tu deber **revisarlo periódicamente**, ojalá todos los días en que trabajes en el curso, para que no estés desinformado/a.\n",
      "\n",
      "\n",
      "### Reglas del foro 📏:\n",
      "\n",
      " 1. **Revisar si alguien más ya preguntó por tu duda.** Si se repite algo ya preguntado en otra issue, se cerrará la pregunta repetida y no se responderá. No olvides que también podría estar en alguna issue cerrada. Para revisar las issues puedes apoyarte en el buscador y los compilados de issues 📖.\n",
      "\n",
      "1. **Googlear antes de crear una issue.** Si tu duda no está en internet, o no te queda claro, crea una issue 🔍.\n",
      "\n",
      "1. **No puedes postear código** de tus tareas ni una solución directa a algún problema de tus compañeros, relacionado a la tarea 🙅‍♂️. Si tienes una duda puedes crear un código de ejemplo, que no entregue suficiente información, con tal de que no puedan copiarte.\n",
      "\n",
      "1. **Las issues con el label \"IMPORTANTE\"** deben ser revisados con **obligación** y no se podrá apelar a recorrección si es que no sale en el enunciado pero sí en este tipo de issue. Todas estas issues tienen información oficial sobre el enunciado de las tareas ⚠️.\n",
      "\n",
      "1. **No comentar las marcadas como “resueltas”.** Si no te satisface la respuesta de una issue resuelta, puedes abrir una nueva issue, haciendo referencia a la issue original y explicando las partes que no te quedaron claras de la respuesta.\n",
      "\n",
      "1. **Procura que los nombres de las issues sean descriptivos** y se entienda de qué se tratan. Por ejemplo \"dudas\" o \"dudas tarea\" es un mal nombre, pero \"Duda sobre cuánto se obtiene de cada divisa al comenzar\" es un mejor nombre.\n",
      "\n",
      "1. **Evita el hacer issues en que en se traten varias dudas de temas desligados**, ya que esto crea conflictos al querer buscar un tema en específico 😬. Mejor crea dos issues distintas si los temas no están relacionados 👍.\n",
      "\n",
      "1. **Cuando tu duda sea respondida házselo saber a tu ayudante y deja la issue abierta**, ya que esto podría servirle a alguien más que tenga la misma duda o una muy similar. Nosotros nos encargaremos de cerrarla cuando sea el momento 😉.\n",
      "\n",
      "1. **El foro no es un medio de reclamos.** Cualquier mensaje de este tipo debe ser enviado mediante el mail de ayudantes (iic2233@ing.puc.cl) encontrado en la página principal. Procura ser respetuoso/a. Tampoco debes enviar mails a los ayudantes en caso de necesitar ayuda, a menos de que te lo hayan dicho ellos mismos.\n",
      "\n",
      "1. **Domingos de descanso**: Desde los sábados a las 10 PM y hasta los lunes a las 8 AM tenemos la política de no responder issues como una medida de descanso tanto para los ayudantes como para los alumnos y que así puedan dedicarse a otras cosas. Las issues creadas dentro de este periodo recibirán respuesta posterior al horario de descanso.\n",
      "\n",
      "-----\n",
      "\n",
      "### Pro tip!\n",
      "\n",
      "Los comentarios e issues de GitHub :octocat: soportan el [formato markdown](https://es.wikipedia.org/wiki/Markdown). Pueden encontrar una guía de cómo utilizarlo [aquí](https://guides.github.com/features/mastering-markdown/) para hacer más claras y entendibles sus issues (en especial cuando se pregunta por código) ✨. \n",
      "\n"
     ]
    }
   ],
   "source": [
    "# El output de esta respuesta particular\n",
    "# puede ser transformado desde JSON a dict\n",
    "print(response.json()['body'])"
   ]
  },
  {
   "attachments": {},
   "cell_type": "markdown",
   "id": "94f689e4",
   "metadata": {},
   "source": [
    "## Ejemplo consumiendo una API (método `get`)\n",
    "\n",
    "A continuación vamos a experimentar con la API de [_fakerapi_](https://fakerapi.it/api/v1/). Esta nos genera diferentes tipo clase de información inventada. Por ejemplo, nombre de personas, libros, etc.\n",
    "\n",
    "En primer lugar, todas las APIs tendrán una **URL BASE**, que consiste en un _link_ de prefijo que toda consulta debe tener. Para el caso de _fakerapi_, esta URL BASE es `\"https://fakerapi.it/api/v1/\"`. Por lo tanto, cualquier solicitud que hagamos, debe partir con ese prefijo.\n",
    "\n",
    "Luego, tenemos los **_endpoint_**. Para efectos del curso, podemos considerar estos **_endpoints_** como las diferentes rutas que dispone la API para hacer consultas. Para el caso de _fakerapi_, algunos **_endpoints_** son\n",
    "\n",
    "* `books/`: nos retornará información de libros inventados.\n",
    "* `texts/`: nos retornará textos inventados.\n",
    "* `person/`: nos retornará información personas inventadas.\n",
    "* `addresses/` nos retornará direcciones inventadas.\n",
    "\n",
    "Por lo tanto, para consultar esta api, deberemos combinar la **URL BASE** con un **_endpoint_**. De este modo, a URL final sería `\"https://fakerapi.it/api/v1/books\"`, `\"https://fakerapi.it/api/v1/addresses\"`, entre otros. Siempre que visitemos una API, esta nos detallará los diferentes _endpoints_ que tiene.\n",
    "\n",
    "Vamos a probar los primeros 2 **_endpoints_** de _fakerapi_."
   ]
  },
  {
   "cell_type": "code",
   "execution_count": 5,
   "id": "be4a710d",
   "metadata": {},
   "outputs": [
    {
     "name": "stdout",
     "output_type": "stream",
     "text": [
      "200\n"
     ]
    }
   ],
   "source": [
    "import requests\n",
    "\n",
    "BASE = \"https://fakerapi.it/api/v1/\"\n",
    "endpoint_1 = \"books/\"\n",
    "\n",
    "solicitud = requests.get(BASE + endpoint_1)\n",
    "\n",
    "# imprimir el status_code\n",
    "print(solicitud.status_code)"
   ]
  },
  {
   "attachments": {},
   "cell_type": "markdown",
   "id": "a29ed463",
   "metadata": {},
   "source": [
    "Ahora vamos a ver el contenido de la consulta"
   ]
  },
  {
   "cell_type": "code",
   "execution_count": 6,
   "id": "54f4a9b2",
   "metadata": {},
   "outputs": [
    {
     "name": "stdout",
     "output_type": "stream",
     "text": [
      "Llaves:  dict_keys(['status', 'code', 'total', 'data'])\n"
     ]
    }
   ],
   "source": [
    "data = solicitud.json()\n",
    "print(\"Llaves: \", data.keys())"
   ]
  },
  {
   "cell_type": "code",
   "execution_count": 7,
   "id": "b14dfcf2",
   "metadata": {},
   "outputs": [
    {
     "data": {
      "text/plain": [
       "10"
      ]
     },
     "execution_count": 7,
     "metadata": {},
     "output_type": "execute_result"
    }
   ],
   "source": [
    "data[\"total\"]"
   ]
  },
  {
   "cell_type": "code",
   "execution_count": 8,
   "id": "27713f73",
   "metadata": {},
   "outputs": [
    {
     "data": {
      "text/plain": [
       "{'id': 1,\n",
       " 'title': 'HAD THIS FIT--\".',\n",
       " 'author': 'Cindy Weber',\n",
       " 'genre': 'Ut',\n",
       " 'description': \"SAID was, 'Why is a raven like a telescope! I think I can find it.' And she began fancying the sort of present!' thought Alice. 'I've read that in about half no time! Take your choice!' The Duchess.\",\n",
       " 'isbn': '9795515783807',\n",
       " 'image': 'http://placeimg.com/480/640/any',\n",
       " 'published': '2017-09-16',\n",
       " 'publisher': 'Aut Repudiandae'}"
      ]
     },
     "execution_count": 8,
     "metadata": {},
     "output_type": "execute_result"
    }
   ],
   "source": [
    "data['data'][0]"
   ]
  },
  {
   "attachments": {},
   "cell_type": "markdown",
   "id": "478cbfab",
   "metadata": {},
   "source": [
    "Cómo podemos notar, nos inventó el nombre, género y descripción de un libro. Ahora vamos a hacer una consulta al endpoint de `\"texts/\"`."
   ]
  },
  {
   "cell_type": "code",
   "execution_count": 9,
   "id": "ecf9dc1a",
   "metadata": {},
   "outputs": [
    {
     "data": {
      "text/plain": [
       "[{'title': \"Alice. 'I've read.\",\n",
       "  'author': 'Emilio Bosco',\n",
       "  'genre': 'Voluptatem',\n",
       "  'content': \"Bill, the Lizard) could not help thinking there MUST be more to do that,' said the King, 'that saves a world of trouble, you know, upon the other paw, 'lives a March Hare. 'Exactly so,' said Alice.\"},\n",
       " {'title': 'The Antipathies, I.',\n",
       "  'author': 'Zakary Rogahn',\n",
       "  'genre': 'Soluta',\n",
       "  'content': \"Tortoise--' 'Why did they draw the treacle from?' 'You can draw water out of a good deal: this fireplace is narrow, to be no doubt that it led into the garden, where Alice could only see her. She is.\"}]"
      ]
     },
     "execution_count": 9,
     "metadata": {},
     "output_type": "execute_result"
    }
   ],
   "source": [
    "endpoint_2 = \"texts/\"\n",
    "\n",
    "solicitud = requests.get(BASE + endpoint_2)\n",
    "\n",
    "data = solicitud.json()\n",
    "data['data'][:2]"
   ]
  },
  {
   "attachments": {},
   "cell_type": "markdown",
   "id": "f9742cd7",
   "metadata": {},
   "source": [
    "### Parámetros de una consulta\n",
    "\n",
    "Cada **_endpoint_** puede tener sus parámetros para personalizar la consulta. \n",
    "\n",
    "Por un lado, _fakerapi_ tiene algunos parámetros que sirve para cualquier **_endpoint_**. Uno de estos es `\"_quantity\"`, y nos permite indicar la cantidad de elementos a inventar. Por defecto es 10, pero ahora vamos a cambiarlo a 3. \n",
    "\n",
    "Por otro lado, el **_endpoint_** de `texts/` tiene un parámetro específico llamado `\"_characters\"`. Este permite indicar la cantidad de caracteres a utilizar en el texto que inventará. Por defecto es 200, pero ahora vamos a cambiarlo a 20."
   ]
  },
  {
   "cell_type": "code",
   "execution_count": 10,
   "id": "5d1f645b",
   "metadata": {},
   "outputs": [
    {
     "data": {
      "text/plain": [
       "[{'title': 'Alice, and tried.',\n",
       "  'author': 'Felicita Heaney',\n",
       "  'genre': 'Possimus',\n",
       "  'content': 'It did so indeed.'},\n",
       " {'title': 'I must sugar my.',\n",
       "  'author': 'Berta Hamill',\n",
       "  'genre': 'Corrupti',\n",
       "  'content': \"Cheshire Cat,'.\"},\n",
       " {'title': 'MORE than.',\n",
       "  'author': 'Frederique Waelchi',\n",
       "  'genre': 'Doloremque',\n",
       "  'content': 'March Hare and the.'}]"
      ]
     },
     "execution_count": 10,
     "metadata": {},
     "output_type": "execute_result"
    }
   ],
   "source": [
    "endpoint_2 = \"texts/\"\n",
    "\n",
    "parametros = {\"_quantity\": 3, \"_characters\": 20}\n",
    "solicitud = requests.get(BASE + endpoint_2, params=parametros)\n",
    "\n",
    "data = solicitud.json()\n",
    "data['data']"
   ]
  },
  {
   "attachments": {},
   "cell_type": "markdown",
   "id": "05f9a39a",
   "metadata": {},
   "source": [
    "### Retorno de una API"
   ]
  },
  {
   "attachments": {},
   "cell_type": "markdown",
   "id": "6ee6bf11",
   "metadata": {},
   "source": [
    "Así como esta API, existen muchas otras. No todas responden en formato JSON.\n"
   ]
  },
  {
   "cell_type": "code",
   "execution_count": 11,
   "id": "5691655e",
   "metadata": {},
   "outputs": [
    {
     "name": "stdout",
     "output_type": "stream",
     "text": [
      "200 190.161.94.143\n"
     ]
    }
   ],
   "source": [
    "# Podemos usar una API para obtener nuestra IP pública\n",
    "# Notar que no estamos transformando a JSON\n",
    "response = requests.get('https://api.ipify.org')\n",
    "ip = response.text\n",
    "print(response.status_code, ip)"
   ]
  },
  {
   "cell_type": "code",
   "execution_count": 12,
   "id": "a9a50aab",
   "metadata": {},
   "outputs": [
    {
     "name": "stdout",
     "output_type": "stream",
     "text": [
      "200 -33.452100,-70.653600\n"
     ]
    }
   ],
   "source": [
    "# Podemos ahora usar una API para obtener la latitud y \n",
    "# longitud en la que nos encontramos al momento de correr este código\n",
    "response = requests.get(f'https://ipapi.co/{ip}/latlong/')\n",
    "print(response.status_code, response.text)"
   ]
  },
  {
   "attachments": {},
   "cell_type": "markdown",
   "id": "ccb9ee73",
   "metadata": {},
   "source": [
    "Por temas de seguridad, muchas de las APIs públicas necesitan una llave/clave para poder utilizarlas. Para conseguir estas *keys* en general debes crearte una cuenta. De esta forma se mantiene control de la aplicación expuesta, quiénes están accediendo a ella, con qué frecuencia, etc.\n"
   ]
  },
  {
   "cell_type": "code",
   "execution_count": 13,
   "id": "73961af4",
   "metadata": {},
   "outputs": [],
   "source": [
    "# Además, podemos usar otra API para ver más descripciones de la IP utilizada\n",
    "url = 'http://api.ipstack.com/'\n",
    "# En este caso puedes usar esta `API_KEY` para probar\n",
    "API_KEY = 'c657ed216cf3e05d129bd6b2ccb8589e'\n",
    "# Recibe la API_KEY como parámetro\n",
    "\n",
    "# Esto puede ser enviado de dos formas:\n",
    "\n",
    "# 1. Agregando los parámetros en la URL:\n",
    "pais = requests.get('{}/{}?access_key={}'.format(url, ip, API_KEY))\n",
    "\n",
    "# 2. Pasando los parámetros en el método:\n",
    "pais = requests.get(f'{url}/{ip}', params={'access_key': API_KEY})"
   ]
  },
  {
   "cell_type": "code",
   "execution_count": 14,
   "id": "faed4744",
   "metadata": {},
   "outputs": [
    {
     "data": {
      "text/plain": [
       "200"
      ]
     },
     "execution_count": 14,
     "metadata": {},
     "output_type": "execute_result"
    }
   ],
   "source": [
    "pais.status_code"
   ]
  },
  {
   "cell_type": "code",
   "execution_count": 15,
   "id": "6bb970c3",
   "metadata": {},
   "outputs": [
    {
     "data": {
      "text/plain": [
       "{'content-type': 'application/json', 'transfer-encoding': 'chunked', 'date': 'Fri, 09 Jun 2023 20:13:37 GMT', 'x-apilayer-transaction-id': '5088d27d-48ac-4a3c-865e-e5d9fd399aa3', 'access-control-allow-origin': '*', 'access-control-allow-methods': 'GET, POST, HEAD, OPTIONS', 'access-control-allow-headers': '*', 'x-quota-limit': '100', 'x-quota-remaining': '93', 'x-increment-usage': '1', 'x-request-time': '0.029'}"
      ]
     },
     "execution_count": 15,
     "metadata": {},
     "output_type": "execute_result"
    }
   ],
   "source": [
    "pais.headers"
   ]
  },
  {
   "cell_type": "code",
   "execution_count": 16,
   "id": "93ae1c6f",
   "metadata": {},
   "outputs": [
    {
     "data": {
      "text/plain": [
       "{'ip': '190.161.94.143',\n",
       " 'type': 'ipv4',\n",
       " 'continent_code': 'SA',\n",
       " 'continent_name': 'South America',\n",
       " 'country_code': 'CL',\n",
       " 'country_name': 'Chile',\n",
       " 'region_code': 'RM',\n",
       " 'region_name': 'Santiago Metropolitan',\n",
       " 'city': 'Santiago',\n",
       " 'zip': None,\n",
       " 'latitude': -33.46500015258789,\n",
       " 'longitude': -70.65599822998047,\n",
       " 'location': {'geoname_id': 3871336,\n",
       "  'capital': 'Santiago',\n",
       "  'languages': [{'code': 'es', 'name': 'Spanish', 'native': 'Español'}],\n",
       "  'country_flag': 'https://assets.ipstack.com/flags/cl.svg',\n",
       "  'country_flag_emoji': '🇨🇱',\n",
       "  'country_flag_emoji_unicode': 'U+1F1E8 U+1F1F1',\n",
       "  'calling_code': '56',\n",
       "  'is_eu': False}}"
      ]
     },
     "execution_count": 16,
     "metadata": {},
     "output_type": "execute_result"
    }
   ],
   "source": [
    "# En este caso la API sí retorna un JSON\n",
    "pais.json()"
   ]
  },
  {
   "attachments": {},
   "cell_type": "markdown",
   "id": "39e7c05e",
   "metadata": {},
   "source": [
    "### Uso de `post`"
   ]
  },
  {
   "attachments": {},
   "cell_type": "markdown",
   "id": "5f89f460",
   "metadata": {},
   "source": [
    "En el caso de la API con la que hemos estado haciendo estas pruebas, solo se ofrecen servicios para realizar consultas, lo que se puede llevar a cabo utilizando el método `GET` del protocolo HTTP. Sin embargo, muchas veces queremos crear recursos en nuestro servidor, como por ejemplo crear un nuevo artículo para un *blog*, y para esto debemos utilizar el método `POST` del protocolo.\n",
    "\n",
    "La API de `JSONPlaceholder` nos permite simular el uso de una API real, sin que verdaderamente exista un servicio detrás de esta. En este caso la utilizaremos para simular la creación de un artículo para un *blog*. En la práctica no estará ocurriendo nada en el servidor, puesto que es solo una simulación, pero en la vida real uno esperaría que como respuesta a nuestra *request* se cree una entrada en la base de datos del servicio que estamos utilizando. Pueden ver más información de como usar esta API [aquí](https://jsonplaceholder.typicode.com/).\n",
    "\n",
    "A diferencia del método `GET`, cuando utilizamos el método `POST` podemos enviar información a la API utilizando el parámetro `data`, al cual podemos pasarle un diccionario de Python con la información que queremos enviar. Para este ejemplo debemos enviar la información de un artículo noticioso que queremos crear.\n"
   ]
  },
  {
   "cell_type": "code",
   "execution_count": 17,
   "id": "598af741",
   "metadata": {},
   "outputs": [],
   "source": [
    "# Extracto de un artículo proveniente del blog\n",
    "# https://venezolanoenchile.com/2016/01/20/como-es-el-clima-en-santiago-de-chile/\n",
    "cuerpo = '''\n",
    "El clima de Santiago es muy extraño para los que venimos de un país tropical\n",
    "como Venezuela y, más aún, para los que vivíamos en Maracaibo, como yo.\n",
    "\n",
    "Un día de verano, mientras caminaba a eso de las 2pm hacia mi trabajo, me puse\n",
    "a pensar en los temas que no he tocado aún en el blog. En ese momento, con 32°C\n",
    "de temperatura y bajo el sol, decidí escribir sobre este tema.\n",
    "\n",
    "Chile es un país que tiene muchos tipos de clima, desde el desértico hasta el\n",
    "frío antártico. Pero como yo no conozco ninguna otra ciudad de Chile que no sea\n",
    "Santiago, todo lo que diré a continuación será de la capital.'\n",
    "'''\n",
    "\n",
    "data = {\n",
    "    'title': '¿Cómo es el clima en Santiago de Chile?',\n",
    "    'body': cuerpo,\n",
    "    'userId': 1,\n",
    "}\n",
    "\n",
    "noticia = requests.post('https://jsonplaceholder.typicode.com/posts', data=data)"
   ]
  },
  {
   "cell_type": "code",
   "execution_count": 18,
   "id": "3ddf0a4d",
   "metadata": {},
   "outputs": [
    {
     "name": "stdout",
     "output_type": "stream",
     "text": [
      "201\n",
      "Created\n",
      "dict_keys(['title', 'body', 'userId', 'id'])\n"
     ]
    }
   ],
   "source": [
    "# Vemos que obtenemos un código de que nuestro artículo fue creado\n",
    "print(noticia.status_code)\n",
    "print(noticia.reason)\n",
    "\n",
    "# Esta API nos retorna un JSON con el mismo recurso creado,\n",
    "# nótese que se le asignó un id al artículo\n",
    "data = noticia.json() \n",
    "print(data.keys())"
   ]
  },
  {
   "cell_type": "code",
   "execution_count": 19,
   "id": "63b42ef4",
   "metadata": {},
   "outputs": [
    {
     "name": "stdout",
     "output_type": "stream",
     "text": [
      "101\n",
      "\n",
      "¿Cómo es el clima en Santiago de Chile?\n",
      "\n",
      "\n",
      "El clima de Santiago es muy extraño para los que venimos de un país tropical\n",
      "como Venezuela y, más aún, para los que vivíamos en Maracaibo, como yo.\n",
      "\n",
      "Un día de verano, mientras caminaba a eso de las 2pm hacia mi trabajo, me puse\n",
      "a pensar en los temas que no he tocado aún en el blog. En ese momento, con 32°C\n",
      "de temperatura y bajo el sol, decidí escribir sobre este tema.\n",
      "\n",
      "Chile es un país que tiene muchos tipos de clima, desde el desértico hasta el\n",
      "frío antártico. Pero como yo no conozco ninguna otra ciudad de Chile que no sea\n",
      "Santiago, todo lo que diré a continuación será de la capital.'\n",
      "\n"
     ]
    }
   ],
   "source": [
    "print(str(data['id']) + \"\\n\")\n",
    "print(data['title'] + \"\\n\")\n",
    "print(data['body'])"
   ]
  },
  {
   "attachments": {},
   "cell_type": "markdown",
   "id": "eb0363a2",
   "metadata": {},
   "source": [
    "### Autenticación en _headers_"
   ]
  },
  {
   "attachments": {},
   "cell_type": "markdown",
   "id": "54f74b18",
   "metadata": {},
   "source": [
    "Aparte del método `post`, también tenemos `.put()`, `.patch()` o `.delete()`. Generalmente, este tipo de requests repercuten en la modificación de una base de datos, y para lograr esto, muchas veces es necesario tener una autorización previa. \n",
    "\n",
    "Es aquí que surge la necesidad de ocupar el parámetro `headers` que permite incluir información en la cabecera de la solicitud incluyendo, por ejemplo, un _token_ especial de acceso que a la API le sirve para identificarte y verificar si tienes los permisos. \n",
    "\n",
    "Utilizar este parámetro es análogo a `data`. Solo es necesario crear un diccionario e incluirlo en la _requests_. Las llaves del diccionario puede cambiar según la API que queramos acceder."
   ]
  },
  {
   "cell_type": "code",
   "execution_count": 20,
   "id": "e2251309",
   "metadata": {},
   "outputs": [
    {
     "data": {
      "text/plain": [
       "<Response [201]>"
      ]
     },
     "execution_count": 20,
     "metadata": {},
     "output_type": "execute_result"
    }
   ],
   "source": [
    "my_headers = {\n",
    "    \"Authorization\": \"MI-TOKEN\"\n",
    "}\n",
    "\n",
    "data = {\n",
    "    'title': 'Probando',\n",
    "    'body': 'Probando',\n",
    "    'userId': 11,\n",
    "}\n",
    "\n",
    "requests.post('https://jsonplaceholder.typicode.com/posts', headers=my_headers, data=data)"
   ]
  },
  {
   "attachments": {},
   "cell_type": "markdown",
   "id": "de52867c",
   "metadata": {},
   "source": [
    "### Caso aplicado: API de GITHUB"
   ]
  },
  {
   "attachments": {},
   "cell_type": "markdown",
   "id": "8dd21bb7",
   "metadata": {},
   "source": [
    "A continuación, te presentamos un caso aplicado para crear una _issue_ en un repositorio de Github mediante su API.  En este caso, la API de Github pide que el `data` a enviar sea un diccionario en su forma de _string_, es decir, `json.dumps(data)`.\n",
    "\n",
    "Además, para que este caso aplicado funcione correctamante, se requiere:\n",
    "\n",
    "1. Completar `github_repo` con el nombre de tu repositorio de github dado en el curso. Por ejemplo: `\"juanito-iic2233-20XX-1\"`\n",
    "2. Completar `token` con un _access token_ generado en Github. Puedes generar uno en [esta página](https://github.com/settings/tokens/new). Este _token_ debe tener al menos el siguiente permiso para poder crear una _issue_: _Full control of private repositories_."
   ]
  },
  {
   "cell_type": "code",
   "execution_count": null,
   "id": "1d87640d",
   "metadata": {},
   "outputs": [],
   "source": [
    "import json\n",
    "\n",
    "github_repo = 'juanito-iic2233-20XX-1'\n",
    "token = \"COMPLETAR\"\n",
    "\n",
    "body = {\n",
    "    'title': \"Creando una issue con la API\",\n",
    "    'body': \"Ahora tengo el poder para hacer issues desde Python! 🎉\"\n",
    "}\n",
    "\n",
    "my_headers = {\n",
    "    'Authorization': 'token ' + token,\n",
    "    'Accept': 'application/vnd.github.v3+json'\n",
    "}\n",
    "\n",
    "url = f\"https://api.github.com/repos/IIC2233/{github_repo}/issues\"\n",
    "\n",
    "response = requests.post(url, data=json.dumps(body), headers=my_headers)\n",
    "response.status_code"
   ]
  },
  {
   "attachments": {},
   "cell_type": "markdown",
   "id": "3ff56a5f",
   "metadata": {},
   "source": [
    "Si la celda anterior arrojó un `201`. Significa que el _token_ utilizado y el `github_repo` estaban correctos, así que se creó la _issue_. Ejecuta la siguiente celda para ver el _link_ a dicha issue."
   ]
  },
  {
   "cell_type": "code",
   "execution_count": null,
   "id": "db7b91ef",
   "metadata": {},
   "outputs": [],
   "source": [
    "response.json()[\"html_url\"]"
   ]
  },
  {
   "attachments": {},
   "cell_type": "markdown",
   "id": "54daefb3",
   "metadata": {},
   "source": [
    "## *Server-side App*\n",
    "\n",
    "La misión principal del servidor es disponer el contenido para que pueda ser consultado mediante un *web service*. La aplicación que corre en el servidor es la encargada de la lógica e interacción entre cliente-servidor. La información que viaja entre un cliente y un servidor permite generar comunicación entre aplicaciones.\n",
    "\n",
    "Una aplicación puede estar desarrollada en cualquier lenguaje de programación que permita exponer una API para ser consumida por otras aplicaciones a través de la web. Por ejemplo, podemos tener una aplicación corriendo en Java, y desde nuestro código en Python acceder a esa API.\n",
    "\n",
    "En Python existe [WSGI](https://docs.python.org/es/3/library/wsgiref.html) para exponer APIs. Tambien existen varios *frameworks* de programación que facilitan esta misma tarea, como **Flask** y **Django**. Además, puedes montar tus aplicaciones en servicios o servidores ya disponibles en la web, provistos como Platform-as-a-Service (PaaS) o Infrastructure-as-a-Service (IaaS). Por ejemplo, puedes usar **Heroku** (PaaS), **Digital Ocean** (IaaS), o **Microsoft Azure** (PaaS) para disponer tus APIs en una red pública con alta disponibilidad.\n"
   ]
  },
  {
   "attachments": {},
   "cell_type": "markdown",
   "id": "93fb1318",
   "metadata": {},
   "source": [
    "A modo de ejemplo, tenemos una pequeña API utilizando WSGI para levantar una aplicación que responde algunos mensajes.\n",
    "\n",
    "Antes de empezar, debes ejecutar el archivo `servidor.py` en la terminal o en VSCode para levantar esta API. Luego, puedes ejecutar las siguientes celdas donde utilizaremos `requests` para realizar solicitudes a esta API."
   ]
  },
  {
   "cell_type": "code",
   "execution_count": null,
   "id": "46ff88a5",
   "metadata": {},
   "outputs": [
    {
     "data": {
      "text/plain": [
       "200"
      ]
     },
     "execution_count": 20,
     "metadata": {},
     "output_type": "execute_result"
    }
   ],
   "source": [
    "# La URL base de la API creada\n",
    "BASE_URL = \"http://localhost:4444/\"\n",
    "\n",
    "# Podemos consultar a esta ruta\n",
    "solicitud = requests.get(BASE_URL)\n",
    "solicitud.status_code"
   ]
  },
  {
   "cell_type": "code",
   "execution_count": null,
   "id": "de319089",
   "metadata": {},
   "outputs": [
    {
     "data": {
      "text/plain": [
       "{'message': 'Hello World'}"
      ]
     },
     "execution_count": 21,
     "metadata": {},
     "output_type": "execute_result"
    }
   ],
   "source": [
    "solicitud.json()"
   ]
  },
  {
   "cell_type": "code",
   "execution_count": null,
   "id": "8a41a148",
   "metadata": {},
   "outputs": [
    {
     "name": "stdout",
     "output_type": "stream",
     "text": [
      "200 {'message': 'Que la fuerza esté contigo'}\n"
     ]
    }
   ],
   "source": [
    "# ¡Vamos a despedirnos haciendo una consulta a otro endpoint de nuestra API!\n",
    "respuesta = requests.get(BASE_URL + \"goodbye/\")\n",
    "print(respuesta.status_code, respuesta.json())"
   ]
  },
  {
   "attachments": {},
   "cell_type": "markdown",
   "id": "ec21d858",
   "metadata": {},
   "source": [
    "**Te invitamos a consumir diferentes APIs desde Python para poner a prueba este contenidos**. Algunas ideas de estudio pueden ser:\n",
    "- Revisar los diferentes _endpoint_ que tenía [_fakerapi_](https://fakerapi.it/en) para inventar más información.\n",
    "- Revisar la documentación de [OMDb API](http://www.omdbapi.com/#usage) para buscar películas.\n",
    "- Usar la APi de [pokémon](https://pokeapi.co/docs/v2#pokemon) para buscar información de tu pokémon favorito.\n"
   ]
  },
  {
   "attachments": {},
   "cell_type": "markdown",
   "id": "3ddf588c",
   "metadata": {},
   "source": []
  }
 ],
 "metadata": {
  "kernelspec": {
   "display_name": "Python 3 (ipykernel)",
   "language": "python",
   "name": "python3"
  },
  "language_info": {
   "codemirror_mode": {
    "name": "ipython",
    "version": 3
   },
   "file_extension": ".py",
   "mimetype": "text/x-python",
   "name": "python",
   "nbconvert_exporter": "python",
   "pygments_lexer": "ipython3",
   "version": "3.10.4"
  }
 },
 "nbformat": 4,
 "nbformat_minor": 5
}
