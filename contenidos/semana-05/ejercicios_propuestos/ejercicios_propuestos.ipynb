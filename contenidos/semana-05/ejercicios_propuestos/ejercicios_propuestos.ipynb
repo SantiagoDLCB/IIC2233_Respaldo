{
 "cells": [
  {
   "cell_type": "markdown",
   "metadata": {},
   "source": [
    "<p>\n",
    "<font size='5' face='Georgia, Arial'>IIC-2233 Apunte Programación Avanzada</font><br>\n",
    "<font size='1'> Ejercicios creados a partir de 2019-2 por Equipo Docente IIC2233. </font>\n",
    "<font size='1'> Actualizados en 2020-1.</font>\n",
    "</p>\n",
    "\n",
    "\n",
    "# Ejercicios propuestos: Interfaces gráficas I"
   ]
  },
  {
   "cell_type": "markdown",
   "metadata": {},
   "source": [
    "Los siguientes problemas se proveen como oportunidad de ejercitar los conceptos revisados en el material de interfaces gráficas I. Si tienes dudas sobre algún problema o alguna solución, no dudes en dejar una *issue* en el [foro del curso](https://github.com/IIC2233/syllabus/issues).\n",
    "\n",
    "Los ejercicios se subdividen según la numeración de los cuadernos de la semana. Algunos de ellos se referencian desde los cuadernos de material mismo, mientras que pueden haber otros adicionales para mayor ejercitación."
   ]
  },
  {
   "cell_type": "markdown",
   "metadata": {},
   "source": [
    "## 1. Interfaces gráficas"
   ]
  },
  {
   "cell_type": "markdown",
   "metadata": {},
   "source": [
    "### Ejercicio 1.1: Probar y entender el código básico"
   ]
  },
  {
   "cell_type": "markdown",
   "metadata": {},
   "source": [
    "A continuación vuelve a compartir el código base de ventana revisado en el material. La idea de este ejercicio es que completes lo sugerido en el material, y ejecutes este código desde tu computador. El primer paso es copiar y pegar este código en un archivo de extensión `.py`, y ejecutarlo."
   ]
  },
  {
   "cell_type": "code",
   "execution_count": null,
   "metadata": {},
   "outputs": [],
   "source": [
    "import sys\n",
    "from PyQt5.QtWidgets import QWidget, QApplication\n",
    "\n",
    "\n",
    "class MiVentana(QWidget):\n",
    "    def __init__(self):\n",
    "        super().__init__()\n",
    "\n",
    "        # Definimos la geometría de la ventana.\n",
    "        # Parámetros: (x_superior_izq, y_superior_izq, ancho, alto)\n",
    "        self.setGeometry(200, 100, 300, 300)\n",
    "\n",
    "        # Podemos dar nombre a la ventana (Opcional)\n",
    "        self.setWindowTitle('Mi Primera Ventana')\n",
    "\n",
    "\n",
    "if __name__ == '__main__':\n",
    "    app = QApplication([])\n",
    "    ventana = MiVentana()\n",
    "    ventana.show()\n",
    "    sys.exit(app.exec())"
   ]
  },
  {
   "cell_type": "markdown",
   "metadata": {},
   "source": [
    "También, prueba haciendo los siguientes cambios, para entender como instanciar un programa con interfaz gráfica.\n",
    "\n",
    "1. Comenta la línea `app = QApplication([])` (es decir, agregar `#` al comienzo), y ejecuta el programa. Lanzará error porque no existe aplicación gráfica antes de crear un *widget*.\n",
    "2. Des-comenta `app = QApplication([])`, y ahora duplícala. Deberían haber dos líneas `app = QApplication([])` seguidas. Si ejecutas, el programa se cae por intentar crear otra aplicación.\n",
    "3. Elimina la línea duplicada, volviendo al estado inicial. Ahora intenta comentando la línea `ventana.show()` y ejecutnado. En este caso, el programa no se caee y sigue andando, pero nada aparece. Es porque la ventana fue creada, pero nada la hace mostrarse aún.\n",
    "4. Des-comenta `ventana.show()`, y ahora bajo esa línea agrega: `ventana2 = MiVentana()` y luego `ventana2.show()`. Al ejecutar, esto produce dos ventanas (fíjate bien, ya que una está sobre la otra). Una aplicación puede tener múltiples ventanas mostrandose, ¡no solo una!\n",
    "5. Finalmente, comenta la línea `sys.exit(app.exec())`. Si ejecutas en ese estado, el programa comienza pero termina rápidamente. Esto porque es esta última línea la que previene que el programa se termine, y lo deja en un estado de espera a que eventos ocurran. En este ejemplo aún no vinculamos eventos."
   ]
  },
  {
   "cell_type": "markdown",
   "metadata": {},
   "source": [
    "## 2. Elementos gráficos básicos"
   ]
  },
  {
   "cell_type": "markdown",
   "metadata": {},
   "source": [
    "### Ejercicio 2.1: Posición y tamaño de ventanas"
   ]
  },
  {
   "cell_type": "markdown",
   "metadata": {},
   "source": [
    "A continuación, se presenta el primer código de ejemplo para crear un programa con una ventana. Las dimensiones y título de la ventana están \"*hardcodeados*\", es decir, sus valores están fijos dentro de su definición. \n",
    "\n",
    "Toma el siguiente código, y alteralo para que al instanciar `MiVentana` reciba la posición `(x, y)`, las dimensiones `(ancho, alto)` y el título `(titulo)` para fijar la ventana creada. Luego, instancia **cinco** ventanas simultaneas con distintos valores para los argumentos anteriores. "
   ]
  },
  {
   "cell_type": "code",
   "execution_count": null,
   "metadata": {},
   "outputs": [],
   "source": [
    "import sys\n",
    "from PyQt5.QtWidgets import QWidget, QApplication\n",
    "\n",
    "\n",
    "class MiVentana(QWidget):\n",
    "    def __init__(self):\n",
    "        super().__init__()\n",
    "        self.setGeometry(200, 100, 300, 300)\n",
    "        self.setWindowTitle('Mi Primera Ventana')\n",
    "\n",
    "\n",
    "if __name__ == '__main__':\n",
    "    app = QApplication([])\n",
    "    ventana = MiVentana()\n",
    "    ventana.show()\n",
    "    sys.exit(app.exec())"
   ]
  },
  {
   "cell_type": "markdown",
   "metadata": {},
   "source": [
    "La siguiente imagen muestra un ejemplo, no es necesario que siga las mismas dimensiones y nombres que este:\n",
    "\n",
    "![](img/prob-2-1.png)"
   ]
  },
  {
   "cell_type": "markdown",
   "metadata": {},
   "source": [
    "### Ejercicio 2.2: Elementos básico en inicio de sesión"
   ]
  },
  {
   "cell_type": "markdown",
   "metadata": {},
   "source": [
    "El objetivo de este problema es que crees una ventana de **inicio de sesión** de tu red social favorita. Esta no tendrá comportamiento de interacción, solo será estática. Para crear esta ventana, debes indicarle al usuario dónde especificar su información personal para identificarlo. Específicamente, debe contener:\n",
    "\n",
    "- Etiquetas que digan \"Usuario\", \"Correo\" y \"Contraseña\". Utiliza `QLabel`.\n",
    "- Para cada una de las etiquetas mencionadas, agrega un campo de texto diferente y posiciónalo contiguo a la etiqueta correspondiente. Utiliza `QLineEdit`.\n",
    "- Una imagen del logo de tu red social favorita. Puedes buscarla en la web, descargarla y cargarla para lograrlo. Utiliza `QPixMap` y `QLabel`.\n",
    "- Un botón que diga \"Ingresar\". Utiliza `QPushButton`.\n",
    "\n",
    "Como ubiques los elementos queda a criterio tuyo, puedes encontrar un ejemplo de un resultado posible a continuación:\n",
    "\n",
    "![](img/prob-2-2.png)"
   ]
  },
  {
   "cell_type": "markdown",
   "metadata": {},
   "source": [
    "### Ejercicio 2.3: ¡Más elementos básicos!"
   ]
  },
  {
   "cell_type": "markdown",
   "metadata": {},
   "source": [
    "Ahora, el objetivo de este problema es crear una ventana de **registro** de tu red social favorita. Para esto, es necesario crear campos distintos para ingresar datos del usuario. Esta ventana debe contener:\n",
    "\n",
    "- Etiquetas que digan \"Usuario\", \"Género\", \"Edad\" y \"Configuración\". Utiliza `QLabel`.\n",
    "- Para el campo de usuario, agrega un campo de texto. Utiliza `QLineEdit`.\n",
    "- Para el campo de género, agrega botones radiales con opciones: \"Femenino\", \"Masculino\", \"No Binario\", \"No mencionar\" (y otras opciones que desees agregar). Para lograrlo, busca en la web el *widget*: `QRadioButton`, y utilizalo.\n",
    "- Para el campo de edad, agrega un campo numérico con valor mínimo 18 y sin valor máximo. Para lograrlo, busca en la web el *widget*: `QSpinBox`, y utilizalo.\n",
    "- Para el campo configuración, agrega botones para marcar con opciones: \"Cuenta privada\", \"Recibir noticias\", \"Acepto términos y condiciones\". Para lograrlo, busca en la web el *widget*: `QCheckBox`, y utilizalo.\n",
    "- Finalmente, agrega un botón que diga \"Continuar\". Utiliza `QPushButton`.\n",
    "\n",
    "Como ubiques los elementos queda a criterio tuyo, puedes encontrar un ejemplo de un resultado posible a continuación:\n",
    "\n",
    "![](img/prob-2-3.png)"
   ]
  },
  {
   "cell_type": "markdown",
   "metadata": {},
   "source": [
    "### Ejercicio 2.4: Mejorar ventanas con *layouts*"
   ]
  },
  {
   "cell_type": "markdown",
   "metadata": {},
   "source": [
    "Una vez realizados algunos de los ejercicios anteriores (2.2 y/o 2.3), haz un duplicado del programa y arreglalo para que las posiciones de los elementos se mantengan centradas y ordenadas si cambias el tamaño de la ventana.\n",
    "\n",
    "Utiliza algún (o algunos) tipo(s) de *layouts* para lograrlo: `QHBoxLayout`, `QVBoxLayout` o `QGridLayout`."
   ]
  },
  {
   "cell_type": "markdown",
   "metadata": {},
   "source": [
    "## 3. Eventos y señales"
   ]
  },
  {
   "cell_type": "markdown",
   "metadata": {},
   "source": [
    "### Ejercicio 3.1: Cuenta clics"
   ]
  },
  {
   "cell_type": "markdown",
   "metadata": {},
   "source": [
    "Crea una ventana que contenga:\n",
    "\n",
    "- Una etiqueta de texto que diga \"0 clics\".\n",
    "- Un botón (`QPushButton`).\n",
    "\n",
    "Agrega el siguiente comportamiento: cada vez que se haga clic sobre el botón, se debe actualizar el contenido de la etiqueta con el número actual de clics que se han realizado.\n",
    "\n",
    "Se muestra un ejemplo a continuación:\n",
    "\n",
    "![](img/prob-3-1.png)"
   ]
  },
  {
   "cell_type": "markdown",
   "metadata": {},
   "source": [
    "### Ejercicio 3.2: Sigue el cuadrado"
   ]
  },
  {
   "cell_type": "markdown",
   "metadata": {},
   "source": [
    "Crea una ventana de tamaño 500 por 500, que contenga un rectangulo de color verde dentro. Su posición inicial debe ser aleatoria y de dimensiones: 50 por 50. Para crear el rectángulo, utiliza `QPixMap` y un `QLabel` dentro de la ventana.\n",
    "\n",
    "Agrega el siguiente comportamiento: si el usuario hace clic dentro de la región que abarca el rectangulo verde, entonces su posición se mueve a una nueva posición aleatoria. Si hace clic fuera de la región abarcada por el rectangulo, no hay efecto. El movimiento del rectangulo debe ser instantaneo, no gradual."
   ]
  },
  {
   "cell_type": "markdown",
   "metadata": {},
   "source": [
    "Se muestra un ejemplo a continuación:\n",
    "\n",
    "![](img/prob-3-2.png)"
   ]
  },
  {
   "cell_type": "markdown",
   "metadata": {},
   "source": [
    "### Ejercicio 3.3: Trabajar con `KeyPressEvent`"
   ]
  },
  {
   "cell_type": "markdown",
   "metadata": {},
   "source": [
    "Crea una ventana de tamaño 300 x 300 que contenga:\n",
    "\n",
    "- Una etiqueta de texto que diga \"Blanco\".\n",
    "- Un `QPixMap` de dimensiones 100 x 100 que contenga un rectangulo con el color blanco.\n",
    "\n",
    "Para agregarle un color a una instancia de `QPixmap` puedes utilizar su método `fill(Qt.color)`, donde se reemplaza `color` con el color deseado en inglés (`white` para blanco).\n",
    "\n",
    "Además, agrega el siguiente comportamiento: cada vez que se apriete la tecla `V` en el teclado se debe cambiar el color del rectangulo a verde y el texto a 'Verde'. De la misma forma al apretar la tecla `A` en el teclado se debe cambiar ambos parametros a azul, con `R` a rojo y con `B` a blanco.\n",
    "\n",
    "Para rellenar con esos colores, de forma similar al blanco, serían: `green` para verde, `red` para rojo y `blue` para azul.\n",
    "\n",
    "*Tip*: Cada tecla tiene un código único dado por `event.key()`, el cual puedes utilizar para comprobar que tecla se esta apretando.\n"
   ]
  },
  {
   "cell_type": "markdown",
   "metadata": {},
   "source": [
    "\n",
    "La ventana se debería ver de la siguiente forma:\n",
    "\n",
    "\n",
    "![](img/prob-3-3-ventana_blanco.png)\n",
    "![](img/prob-3-3-ventana_azul.png)"
   ]
  },
  {
   "cell_type": "code",
   "execution_count": null,
   "metadata": {},
   "outputs": [],
   "source": [
    "import sys\n",
    "from PyQt5.QtWidgets import (QApplication, QWidget, QLabel)\n",
    "from PyQt5.QtGui import (QPixmap, QColor)\n",
    "from PyQt5.QtCore import Qt\n",
    "\n",
    "\n",
    "class MiVentana(QWidget):\n",
    "    def __init__(self):\n",
    "        super().__init__()\n",
    "        self.inicializa_gui()\n",
    "\n",
    "    def inicializa_gui(self):\n",
    "        pass\n",
    "\n",
    "    def keyPressEvent(self, event):\n",
    "        \"\"\"\n",
    "        Este método maneja el evento que se produce al presionar las teclas.\n",
    "        \"\"\"\n",
    "        pass\n",
    "\n",
    "\n",
    "if __name__ == '__main__':\n",
    "    app = QApplication([])\n",
    "    ex = MiVentana()\n",
    "    sys.exit(app.exec())"
   ]
  },
  {
   "cell_type": "markdown",
   "metadata": {},
   "source": [
    "## 4. Diseño *front-end - back-end*"
   ]
  },
  {
   "cell_type": "markdown",
   "metadata": {},
   "source": [
    "### Ejercicio 4.1: Ventana para calculadora"
   ]
  },
  {
   "attachments": {},
   "cell_type": "markdown",
   "metadata": {},
   "source": [
    "A partir del siguiente código entregado, debes utilizarlo como el *back-end* de un programa, y debes crear su *front-end*. Este *back-end* modela una calculadora, capaz de operar dos valores según suma, resta, multiplicación y división, además de revisar el *input* previamente.\n",
    "\n",
    "Este *back-end* incluye una señal llamada `senal_mostrar_resultado` que se emitirá despues de procesar cualquier *input* que le llegue al método `validar_input`."
   ]
  },
  {
   "cell_type": "code",
   "execution_count": null,
   "metadata": {},
   "outputs": [],
   "source": [
    "# calculadora.py\n",
    "from PyQt5.QtCore import pyqtSignal, QObject\n",
    "\n",
    "\n",
    "class Calculadora(QObject):\n",
    "\n",
    "    senal_mostrar_resultado = pyqtSignal(str)\n",
    "\n",
    "    def suma(self, valor1, valor2):\n",
    "        string_resultado = str(int(valor1) + int(valor2))\n",
    "        self.senal_mostrar_resultado.emit(string_resultado)\n",
    "\n",
    "    def resta(self, valor1, valor2):\n",
    "        string_resultado = str(int(valor1) - int(valor2))\n",
    "        self.senal_mostrar_resultado.emit(string_resultado)\n",
    "\n",
    "    def cuociente(self, valor1, valor2):\n",
    "        string_resultado = str(float(valor1) / float(valor2))\n",
    "        self.senal_mostrar_resultado.emit(string_resultado)\n",
    "\n",
    "    def multiplicacion(self, valor1, valor2):\n",
    "        string_resultado = str(int(valor1) * int(valor2))\n",
    "        self.senal_mostrar_resultado.emit(string_resultado)\n",
    "\n",
    "    def validar_input(self, accion):\n",
    "        # método que recibe como señal un diccionario de la forma\n",
    "        # accion = {'operación': operacion, 'valor1': valor1, 'valor2: valor2'}\n",
    "        if accion['valor1'].isnumeric() and accion['valor2'].isnumeric():\n",
    "            if accion['operacion'] == \"sumar\":\n",
    "                self.suma(accion['valor1'], accion['valor2'])\n",
    "            elif accion['operacion'] == \"restar\":\n",
    "                self.resta(accion['valor1'], accion['valor2'])\n",
    "            elif accion['operacion'] == \"multiplicar\":\n",
    "                self.multiplicacion(accion['valor1'], accion['valor2'])\n",
    "            elif accion['operacion'] == \"dividir\":\n",
    "                if accion['valor2'] == 0:\n",
    "                    self.senal_mostrar_resultado.emit('Error: No dividir por cero')\n",
    "                else:\n",
    "                    self.cuociente(accion['valor1'], accion['valor2'])\n",
    "        else:\n",
    "            self.senal_mostrar_resultado.emit('Error: Input inválido')"
   ]
  },
  {
   "cell_type": "markdown",
   "metadata": {},
   "source": [
    "El código de *back-end* se espera lo coloques en un módulo `calculadora.py`, mientras que el *front-end* y código principal utilicen este módulo. \n",
    "\n",
    "Para el *front-end* y código principal se te provee una base a continuación. Completa la clase `Ventana` para crear una ventana capaz de recibir dos valores, con botones para realizar las operaciones sumar, restar, multiplicar y dividir, y capaz de mostrar el resultado de operación. Si algún valor ingresado no es un número, muestra el mensaje: `'Error: Input inválido'`.\n",
    "Recuerda conectar tu *front-end* y *back-end* a través de señales en el código principal (`if __name__ == '__main__'`)."
   ]
  },
  {
   "cell_type": "code",
   "execution_count": null,
   "metadata": {},
   "outputs": [],
   "source": [
    "# ventana.py\n",
    "import sys\n",
    "from PyQt5.QtCore import pyqtSignal, QObject\n",
    "from PyQt5.QtWidgets import (QApplication, QWidget, QLabel, QPushButton, QLineEdit)\n",
    "from calculadora import Calculadora\n",
    "\n",
    "\n",
    "class Ventana(QWidget):\n",
    "    senal_calcular = pyqtSignal(dict)\n",
    "    def __init__(self):\n",
    "        super().__init__()\n",
    "        # completar\n",
    "\n",
    "\n",
    "if __name__ == '__main__':\n",
    "    app = QApplication([])\n",
    "    calculadora = Calculadora()\n",
    "    ventana = Ventana()\n",
    "\n",
    "    # conectar señales a continuación\n",
    "    # Recuerda conectar cada señal con el método de la clase que corresponda\n",
    "\n",
    "    \n",
    "    sys.exit(app.exec())"
   ]
  },
  {
   "cell_type": "markdown",
   "metadata": {},
   "source": [
    "A modo de ejemplo, puedes seguir la siguiente idea para la ventana:\n",
    "\n",
    "![](img/prob-4-1.png)"
   ]
  },
  {
   "cell_type": "markdown",
   "metadata": {},
   "source": [
    "### Ejercicio 4.2: Separa el programa"
   ]
  },
  {
   "cell_type": "markdown",
   "metadata": {},
   "source": [
    "En este ejercicio, te entregamos un programa listo e implementado, pero lamentablemente, su desarrollador no siguió la idea de separación entre *back-end* y *front-end*. Debes tomar el programa y modificarlo de tal forma de generar una separación entre lógica de programa (*back-end*) y lógica de interfaz gráfica (*front-end*).\n",
    "\n",
    "El programa muestra en pantalla una imagen de una pitón, que comienza al centro de una grilla invisible de tamaño 3 por 3. Al usar las teclas `WASD`, se puede mover la pitón a través de la grilla según la dirección de la tecla. El programa se encarga de cargar las imágenes en pantalla, conectar la interacción de teclas, realizar el movimiento de la pitón, y actualizar la grilla luego de cambiar de posición. Crea un módulo separado a la ventana, que representará al *back-end*, de tal forma que este se encargue de la posición interna de la pitón, y de actualizar dicha posición cuando recibe una dirección de movimiento. En el código de la ventana solo puede quedar código relacionado al cargado y actualización de celdas, interacción mediante teclas, además de las conexiones con el *back-end*. Utiliza señales para conectar el nuevo módulo de *back-end* con la clase `Ventana` del *front-end*.\n",
    "\n",
    "***Idea:* La interacción mediante señales puede ser de la siguiente forma: una señal se dedica a enviar desde el *front-end* al *back-end* la dirección de movimiento después de apretar una tecla, y otra señal va en sentido contrario enviando la posición antigua y nueva de la pitón, para que se actualice en la ventana.**\n",
    "\n",
    "Hay muchas soluciones distintas para esto. Intenta realizar una al menos, y luego puedes cuestionarte como mejorarlo."
   ]
  },
  {
   "cell_type": "code",
   "execution_count": null,
   "metadata": {},
   "outputs": [],
   "source": [
    "import sys\n",
    "from os import path\n",
    "from PyQt5.QtCore import pyqtSignal, QObject, Qt\n",
    "from PyQt5.QtWidgets import (QApplication, QWidget, QLabel)\n",
    "from PyQt5.QtGui import QPixmap\n",
    "\n",
    "\n",
    "class Ventana(QWidget):\n",
    "    def __init__(self):\n",
    "        super().__init__()\n",
    "        self.posicion = (1, 1)\n",
    "        self.ruta_imagen = path.join('img', 'python_icon.png')\n",
    "        self.inicializa_gui()\n",
    "    \n",
    "    def inicializa_gui(self):\n",
    "        self.setGeometry(300, 300, 300, 300)\n",
    "        self.etiquetas = {}\n",
    "        for fila in range(3):\n",
    "            for columna in range(3):\n",
    "                nueva_etiqueta = QLabel(self)\n",
    "                nueva_etiqueta.setGeometry(fila * 100, columna * 100, 100, 100)\n",
    "                if (fila, columna) == self.posicion:\n",
    "                    pixmap = QPixmap(self.ruta_imagen)\n",
    "                else:\n",
    "                    pixmap = QPixmap(100, 100)\n",
    "                    pixmap.fill(Qt.white)\n",
    "                nueva_etiqueta.setPixmap(pixmap)\n",
    "                nueva_etiqueta.setScaledContents(True)\n",
    "                self.etiquetas[(fila, columna)] = nueva_etiqueta\n",
    "\n",
    "    def mover_python(self, direccion):\n",
    "        ex_posicion = self.posicion\n",
    "        if direccion == 'arriba':\n",
    "            self.posicion = (ex_posicion[0], (ex_posicion[1] - 1) % 3)\n",
    "        elif direccion == 'abajo':\n",
    "            self.posicion = (ex_posicion[0], (ex_posicion[1] + 1) % 3)\n",
    "        elif direccion == 'izquierda':\n",
    "            self.posicion = ((ex_posicion[0] - 1) % 3, ex_posicion[1])\n",
    "        elif direccion == 'derecha':\n",
    "            self.posicion = ((ex_posicion[0] + 1) % 3, ex_posicion[1])\n",
    "        if ex_posicion != self.posicion:\n",
    "            pixmap = QPixmap(100, 100)\n",
    "            pixmap.fill(Qt.white)\n",
    "            self.etiquetas[ex_posicion].setPixmap(pixmap)\n",
    "            pixmap = QPixmap(self.ruta_imagen)\n",
    "            self.etiquetas[self.posicion].setPixmap(pixmap)\n",
    "\n",
    "\n",
    "    def keyPressEvent(self, event):\n",
    "        if event.key() == 65: # A\n",
    "            self.mover_python('izquierda')\n",
    "        elif event.key() == 87: # W\n",
    "            self.mover_python('arriba')\n",
    "        elif event.key() == 83: # S\n",
    "            self.mover_python('abajo')\n",
    "        elif event.key() == 68: # D\n",
    "            self.mover_python('derecha')\n",
    "\n",
    "if __name__ == '__main__':\n",
    "    app = QApplication([])\n",
    "    ventana = Ventana()\n",
    "    ventana.show()\n",
    "    sys.exit(app.exec())"
   ]
  },
  {
   "cell_type": "markdown",
   "metadata": {},
   "source": [
    "## 5. Ejemplos de conexión entre ventanas"
   ]
  },
  {
   "cell_type": "markdown",
   "metadata": {},
   "source": [
    "### Ejercicio 5.1:  Ayuda a Homero a encontrar su *donut*"
   ]
  },
  {
   "cell_type": "markdown",
   "metadata": {},
   "source": [
    "Homero Simpson está desesperado por una *donut*. Esta *donut* se encuentra detrás de un botón. El siguiente código abre una ventana inicial que te mostrará dos botones, pero ninguno funciona al presionarse. Sigue las instrucciones que te entreguen las ventanas para ayudar a Homero a comer su *donut*."
   ]
  },
  {
   "cell_type": "code",
   "execution_count": null,
   "metadata": {},
   "outputs": [],
   "source": [
    "import sys\n",
    "import os\n",
    "from PyQt5.QtWidgets import QApplication, QWidget, QPushButton, QLabel, QVBoxLayout\n",
    "from PyQt5.QtCore import pyqtSignal\n",
    "from PyQt5.QtGui import QPixmap\n",
    "\n",
    "class VentanaDeHomero(QWidget):\n",
    "    \n",
    "    senal_abrir_ventana = pyqtSignal()\n",
    "    senal_abrir_ventana_donut = pyqtSignal()\n",
    "\n",
    "    rutas_por_titulo = {\n",
    "        'Primero': os.path.join('img', 'ejercicio_5', 'primero.jpg'),\n",
    "        'Segundo': os.path.join('img', 'ejercicio_5', 'segunda.jpg'),\n",
    "        'Tercera': os.path.join('img', 'ejercicio_5', 'tercera.jpg')\n",
    "    }\n",
    "\n",
    "    def __init__(self, titulo, x, y, otra_ventana=None):\n",
    "        super().__init__()\n",
    "\n",
    "        self.setWindowTitle(titulo)\n",
    "        self.setGeometry(x, y, 500, 600)\n",
    "        self.senal_abrir_ventana.connect(self.show)\n",
    "\n",
    "        self.ventana_donut = otra_ventana # Podría pasarla así la donut...\n",
    "\n",
    "        # Las ventanas tienen pistas :o\n",
    "        self.label_pista = QLabel(self)\n",
    "        self.label_pista.setGeometry(0, 0, 500, 500)\n",
    "        ruta_imagen = os.path.join(self.rutas_por_titulo.get(titulo, ''))\n",
    "        pixeles = QPixmap(ruta_imagen)\n",
    "        self.label_pista.setPixmap(pixeles)\n",
    "        self.label_pista.setScaledContents(True)\n",
    "\n",
    "        self.layout_principal = QVBoxLayout()\n",
    "        self.layout_principal.addWidget(self.label_pista)\n",
    "\n",
    "        if titulo == \"Primero\":\n",
    "            self.boton = QPushButton(\"Abrir Primer Botón\", self)\n",
    "            self.boton.clicked.connect(self.abrir_ventana_1)\n",
    "\n",
    "            self.boton2 = QPushButton(\"Abrir Segundo Botón\", self)\n",
    "            self.boton2.clicked.connect(self.abrir_ventana_2)\n",
    "\n",
    "            self.layout_principal.addWidget(self.boton)\n",
    "            self.layout_principal.addWidget(self.boton2)\n",
    "\n",
    "        elif titulo == \"Tercera\":\n",
    "\n",
    "            self.boton2 = QPushButton(\"Volver\", self)\n",
    "            self.boton2.clicked.connect(self.abrir_ventana_2)\n",
    "\n",
    "            self.layout_principal.addWidget(self.boton2)\n",
    "\n",
    "        self.setLayout(self.layout_principal)\n",
    "\n",
    "    def abrir_ventana_1(self):\n",
    "        # Parte 1\n",
    "        # Esta no es la mejor forma de abrir ventanas,\n",
    "        # arregla esta función para que Homero pueda encontrar\n",
    "        # su donut.\n",
    "        ventana_donut = VentanaDeHomero(\"Otra ventana\", 300, 100)\n",
    "        ventana_donut.show()\n",
    "        \n",
    "\n",
    "    def abrir_ventana_2(self):\n",
    "        self.hide()\n",
    "        self.senal_abrir_ventana_donut.emit()\n",
    "\n",
    "\n",
    "if __name__ == '__main__':\n",
    "    app = QApplication([])\n",
    "\n",
    "    ventana_donut_2 = VentanaDeHomero(\"Segundo\", 300, 100)\n",
    "    ventana_donut_3 = VentanaDeHomero(\"Tercera\", 500, 100)\n",
    "    \n",
    "    ventana_inicial = VentanaDeHomero(\"Primero\", 100, 100, ventana_donut_2)\n",
    "\n",
    "    # Parte 2 (primero haz la parte 1 de abrir_ventana_1)\n",
    "    # Acá podría conectar señales entre ventana_inicial y ventana_3... ¿Y mi donut?\n",
    "    \n",
    "    # 2.1 Conecta la senal_abrir_ventana_donut de ventana_inicial \n",
    "    # con show de ventana_donut_3\n",
    "\n",
    "\n",
    "    # 2.2 Conecta la senal_abrir_ventana_donut de ventana_donut_3 \n",
    "    # con show de ventana_inicial\n",
    "\n",
    "    ventana_inicial.show()\n",
    "    sys.exit(app.exec())\n"
   ]
  }
 ],
 "metadata": {
  "kernelspec": {
   "display_name": "Python 3",
   "language": "python",
   "name": "python3"
  },
  "language_info": {
   "codemirror_mode": {
    "name": "ipython",
    "version": 3
   },
   "file_extension": ".py",
   "mimetype": "text/x-python",
   "name": "python",
   "nbconvert_exporter": "python",
   "pygments_lexer": "ipython3",
   "version": "3.9.10 (main, Feb  5 2022, 13:32:48) \n[Clang 10.0.0 (clang-1000.10.44.4)]"
  },
  "vscode": {
   "interpreter": {
    "hash": "a3a63619a7d9caf1f944c17a21d0e2ba5f9b4e8cf352ed74fca5bac06f551692"
   }
  }
 },
 "nbformat": 4,
 "nbformat_minor": 4
}
