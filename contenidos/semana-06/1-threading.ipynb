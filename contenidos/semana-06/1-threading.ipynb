{
 "cells": [
  {
   "cell_type": "markdown",
   "metadata": {},
   "source": [
    "<p>\n",
    "<font size='5' face='Georgia, Arial'>IIC-2233 Apunte Programación Avanzada</font><br>\n",
    "<font size='1'>&copy; 2015 Karim Pichara - Christian Pieringer. Todos los derechos reservados. Editado el 2018-1, 2018-2, 2019-1, 2019-2, 2020-2, 2021-1, 2021-2, 2023-1. por Equipo Docente IIC2233.</font>\n",
    "</p>"
   ]
  },
  {
   "cell_type": "markdown",
   "metadata": {},
   "source": [
    "# Tabla de contenidos\n",
    "\n",
    "1. [Introducción](#Introducción)\n",
    "2. [Procesos y núcleos](#Procesos-y-núcleos)\n",
    "3. [*Threading*](#Threading)\n",
    "    1. [Usos de *threads*](#Usos-de-threads)\n",
    "    2. [Creación de *threads*](#Creación-de-threads)\n",
    "    3. [`join()`](#join())\n",
    "    4. [`is_alive()`](#is_alive())\n",
    "    5. [*Daemons*](#Daemons)\n",
    "    6. [Timers](#Timers)"
   ]
  },
  {
   "cell_type": "markdown",
   "metadata": {},
   "source": [
    "## Introducción"
   ]
  },
  {
   "cell_type": "markdown",
   "metadata": {},
   "source": [
    "Hasta el momento, los programas que hemos escrito solo ejecutan **una secuencia de instrucciones** a la vez. Siguen un único flujo que comienza, ejecuta instrucciones, y en algún momento termina. \n",
    "\n",
    "Cada vez que queremos que el usuario ingrese un valor (por ejemplo, una opción en un menú), tenemos que ejecutar `input()` y esperar que el usuario responda. Mientras eso ocurre, nuestro programa no hace nada. De la misma manera, si el usuario apreta una tecla y nuestro programa no está esperando que lo haga, no tiene cómo darse cuenta ni cómo recibir esa entrada. Esto es una consecuencia de que los programas que hemos escrito solo siguen un único flujo de instrucciones, y por lo tanto están atentos a sólo una cosa al mismo tiempo.\n",
    "\n",
    "Muchos programas o aplicaciones que utilizamos realizan múltiples acciones simultáneamente. Cuando escribimos en un procesador de texto, al mismo tiempo se está ejecutando un código que revisa la ortografía. Cuando escribimos código fuente en una IDE, al mismo tiempo también se está ejecutando un código que revisa la sintaxis, que cambia los colores del texto y a veces nos hace sugerencias para completar lo que escribimos. Cuando estamos dentro de un juego, estamos usando teclas para mover a un personaje, pero también están pasando otros eventos en el ambiente del juego al mismo tiempo que movemos el personaje. Si tuviéramos que programar este comportamiento con las herramientas que tenemos, tendríamos que tener un ciclo que, por cada `input()` del usuario, ejecute métodos que revisen ortografía, sintaxis, que hagan sugerencias, que simulen el ambiente del juego, etc. Este comportamiento sería complicado de programar dentro de un programa que pone atención solo a un flujo de instrucciones.\n",
    "\n",
    "La solución entonces, es que nuestro programa esté atento a múltiples instrucciones simultáneamente. Podemos conseguir esto teniendo \"subprogramas\": uno que ejecuta el método que revisa ortografía, uno que ejecuta el método que revisa sintaxis, uno que ejecuta el método que hace sugerencias, uno que simula el juego... pero todo dentro del mismo programa. ¿Cómo conseguir esto? El concepto de ***thread*** nos permite definir **múltiples flujos de instrucciones** dentro del mismo código en nuestro programa.\n"
   ]
  },
  {
   "cell_type": "markdown",
   "metadata": {},
   "source": [
    "## Procesos y núcleos\n",
    "\n",
    "En nuestros computadores, podemos ver que se ejecutan varios programas o aplicaciones simultáneamente. Esto lo consigue el computador (en verdad, el sistema operativo) a través de la abstracción de un **proceso**. Un proceso es un **programa en ejecución** que ocupa un espacio de la memoria (RAM) del computador, y ejecuta un flujo de instrucciones. Cuando lanzamos un reproductor de música, un navegador web, un editor de texto, nuestra IDE favorita, o nuestro programa de Python, el computador lo ejecuta mediante un **proceso** que sigue un flujo de instrucciones a partir de la primera línea de código. **¿Cómo se ejecutan las instrucciones?**, la unidad que ejecuta instrucciones en un computador es la CPU, la cual posee un núcleo (*core*) que lee una instrucción del programa, la ejecuta, y pasa a la siguiente, hasta que las instrucciones se acaban.\n",
    "\n",
    "Cuando nuestro programa Python está en ejecución (mediante un proceso), hay un núcleo de nuestro computador que está siguiendo ese flujo de instrucciones. Decimos que hay un proceso que ejecuta nuestro programa Python en la CPU.\n",
    "\n",
    "Los sistemas modernos poseen múltiples núcleos (*cores*). Es común que nuestros computadores, teléfonos celulares y hasta televisores tengan más de un núcleo, y sean ***dualcore***, ***quadcore***, ***octacore***. Eso significa que puede haber varios procesos, uno en cada núcleo y ejecutando de manera realmente simultánea, o paralela. Cada núcleo ejecuta el flujo de instrucciones de un proceso distinto. Cuando hay más procesos que núcleos para ejecutarlos, los procesos se ponen en una cola, esperando su turno para usar un núcleo. El sistema operativo del computador se encarga de que cada núcleo ejecute algunas instrucciones de un proceso, luego lo deje en pausa, y luego ejecute las instrucciones de otros procesos disponibles. Esto ocurre de manera tan rápida, que lo que observamos es que todos los procesos se ejecutan de manera simultánea dentro del mismo núcleo.\n",
    "\n",
    "Pero cuando tenemos múltiples flujos de instrucciones, podemos hacer que varios núcleos ejecuten distintos flujos de instrucciones **de un mismo proceso**. Eso es parte del poder que nos entregan los ***threads***.\n",
    "\n"
   ]
  },
  {
   "cell_type": "markdown",
   "metadata": {},
   "source": [
    "## *Threading*"
   ]
  },
  {
   "cell_type": "markdown",
   "metadata": {},
   "source": [
    "Un ***thread*** (o hilo) es una unidad de ejecución de código dentro de un proceso. Si un proceso es el programa cargado en la memoria del computador, con su código y variables, un ***thread*** lleva la cuenta de en qué parte del código estamos ejecutando. "
   ]
  },
  {
   "cell_type": "markdown",
   "metadata": {},
   "source": [
    "![thread](imgs/thread.png)"
   ]
  },
  {
   "cell_type": "markdown",
   "metadata": {},
   "source": [
    "Todo proceso al crearse posee al menos un ***thread***. A este *thread* le llamamos el *thread principal* del programa. Pero podemos crear más *threads*, y de esa manera hacer que nuestro programa esté ejecutando varias partes del código simultáneamente. Cada ***thread*** lleva su propio registro de variables locales y en qué parte del código del programa se encuentra. También puede crear otros *threads*.\n",
    "\n",
    "Gracias al sistema operativo, cada *thread* tiene un porción de tiempo para ejecutarse en el núcleo del computador, y podemos ver que varios *threads* se ejecutan de manera simultánea, o *paralela*. La decisión de qué *thread* ejecuta a continuación y por cuanto tiempo, se conoce como *thread scheduling* o *time slicing*, que funciona –en general– turnando los *threads* de la siguiente manera:\n",
    "\n",
    "1. Se escoge un *thread* entre los que están disponible para ejecutar.\n",
    "2. Se ejecuta un cierto número de instrucciones de ese *thread*, o durante un cierto tiempo.\n",
    "3. Se deja el *thread* actual en espera.\n",
    "4. Se vuelve al paso 1.\n",
    "\n",
    "Cuando hay un sólo núcleo en el computador, no existe realmente un paralelismo. Sin embargo, los turnos se pasan de manera tan rápida entre los *threads*, que se comporta como si todos estuvieran avanzando en paralelo. Es por esto que dentro de un sólo núcleo, usar *threads* hace que nuestro programa se ejecute de manera más lenta, pues ahora hay que gastar algo de tiempo en controlar los turnos de los *threads*. Sin embargo, la programación es mucho más clara y sencilla cuando usamos *threads* que se hacen cargo de distintos aspectos de nuestro programa.\n",
    "\n",
    "Cuando tenemos sistemas con múltiples núcleos, núcleos distintos podrían estar a cargo de ejecutar *threads* distintos dentro del mismo programa. Nuestro programa entonces podría ejecutar efectivamente de manera más rápida, aprovechando el paralelismo."
   ]
  },
  {
   "cell_type": "markdown",
   "metadata": {},
   "source": [
    "### Usos de *threads*\n",
    "\n",
    "Algunos ejemplos donde resulta útil implementar *threads* son:\n",
    "\n",
    "- **Separar funciones independientes que trabajan sobre un mismo conjunto de datos pero pueden ejecutarse simultáneamente**. Por ejemplo, un *thread* que se encargue de recibir *input* de texto de un usuario y colocarlo en una cola de texto por procesar, y otro *thread* que procese línea a línea y los saque de la cola. Este tipo de patrón, donde existen procesos que se ejecutan secuencialmente con acceso al mismo conjunto de datos pero que son independientes entre ellos, se conoce como modelo **productor-consumidor** y se ejemplifica en uno de los siguientes *notebooks*.\n",
    "- **Interfaces gráficas**, donde se necesita interactuar con el usuario mientras se ejecuta algún *thread* de cómputo pesado. Por ejemplo, las interfaces gráficas en un computador: reciben *input* de usuario mediante entradas de texto y botones, mientras otros *threads* actualizan la parte visual simultáneamente.\n",
    "- **Aplicaciones multiusuario**, en donde cada *thread* se encargaría de las peticiones de cada usuario independientemente. Por ejemplo, un servidor de páginas web debe atender a varios clientes a la vez: cada vez que se conecta un usuario, se debe responder a este de forma correcta, y múltiples usuarios pueden pedir al mismo tiempo una conexión."
   ]
  },
  {
   "cell_type": "markdown",
   "metadata": {},
   "source": [
    "### Creación de *threads*"
   ]
  },
  {
   "cell_type": "markdown",
   "metadata": {},
   "source": [
    "En Python 3, el manejo de *threads* se realiza mediante el módulo `threading`, en donde los *threads* son representados por objetos. "
   ]
  },
  {
   "cell_type": "code",
   "execution_count": 1,
   "metadata": {},
   "outputs": [],
   "source": [
    "import threading"
   ]
  },
  {
   "cell_type": "markdown",
   "metadata": {},
   "source": [
    "La clase `Thread` representa un hilo (o *thread*). La intención es que cada hilo ejecute una secuencia de instrucciones específica de manera simultánea al resto de nuestro programa. Para especificar qué instrucciones ejecutará, se le entrega una función, la que se recibe en el parámetro `target` al crear el *thread*. Es decir, cuando el *thread* comience a funcionar, ejecutará la función entregada en este parámetro."
   ]
  },
  {
   "cell_type": "code",
   "execution_count": 2,
   "metadata": {},
   "outputs": [],
   "source": [
    "def contar_diez_ovejas():\n",
    "    print(\"Tengo sueño...\")\n",
    "    for numero in range(1, 11):\n",
    "        print(f\"({numero} oveja{'s' if numero > 1 else ''})\")\n",
    "    print(\"A dormir...\")\n",
    "\n",
    "mi_hilo = threading.Thread(target=contar_diez_ovejas)"
   ]
  },
  {
   "cell_type": "markdown",
   "metadata": {},
   "source": [
    "Aquí, se creó una instancia de `Thread`, y se almacenó en la variable `mi_hilo`. Recibió como argumento para ejecutar, la función `contar_diez_ovejas`. Notamos que al crear una instancia de `Thread`, este **NO** se ejecuta automáticamente. Es por eso que no vemos *output* generado, ya que no se están ejecutando las instrucciones de `contar_diez_ovejas`.\n",
    "\n",
    "Para efectivamente ejecutar el *thread*, se debe llamar al método `start()`. **Es altamente recomendable que éste y todos los ejemplos los revises ejecutando código desde una consola, en lugar de los Jupyter Noteboks, para ver como se comporta.**"
   ]
  },
  {
   "cell_type": "code",
   "execution_count": 3,
   "metadata": {},
   "outputs": [
    {
     "name": "stdout",
     "output_type": "stream",
     "text": [
      "Tengo sueño...\n",
      "(1 oveja)\n",
      "(2 ovejas)\n",
      "(3 ovejas)\n",
      "(4 ovejas)\n",
      "(5 ovejas)\n",
      "(6 ovejas)\n",
      "(7 ovejas)\n",
      "(8 ovejas)\n",
      "(9 ovejas)\n",
      "(10 ovejas)\n",
      "A dormir...\n"
     ]
    }
   ],
   "source": [
    "mi_hilo.start()"
   ]
  },
  {
   "cell_type": "markdown",
   "metadata": {},
   "source": [
    "Es importante notar, que los `Thread` definidos de esta forma son, por defecto, de un solo uso. Es decir, una vez ejecutados, no es posible volver a ejecutarlos. Para eso, es necesario volver a instanciar el *thread*. El siguiente código lanzará un error, ya que el *thread* que intentamos comenzar ya lo hizo antes:"
   ]
  },
  {
   "cell_type": "code",
   "execution_count": 4,
   "metadata": {},
   "outputs": [
    {
     "ename": "RuntimeError",
     "evalue": "threads can only be started once",
     "output_type": "error",
     "traceback": [
      "\u001b[0;31m---------------------------------------------------------------------------\u001b[0m",
      "\u001b[0;31mRuntimeError\u001b[0m                              Traceback (most recent call last)",
      "Cell \u001b[0;32mIn[4], line 1\u001b[0m\n\u001b[0;32m----> 1\u001b[0m \u001b[43mmi_hilo\u001b[49m\u001b[38;5;241;43m.\u001b[39;49m\u001b[43mstart\u001b[49m\u001b[43m(\u001b[49m\u001b[43m)\u001b[49m\n",
      "File \u001b[0;32m/Library/Frameworks/Python.framework/Versions/3.10/lib/python3.10/threading.py:930\u001b[0m, in \u001b[0;36mThread.start\u001b[0;34m(self)\u001b[0m\n\u001b[1;32m    927\u001b[0m     \u001b[38;5;28;01mraise\u001b[39;00m \u001b[38;5;167;01mRuntimeError\u001b[39;00m(\u001b[38;5;124m\"\u001b[39m\u001b[38;5;124mthread.__init__() not called\u001b[39m\u001b[38;5;124m\"\u001b[39m)\n\u001b[1;32m    929\u001b[0m \u001b[38;5;28;01mif\u001b[39;00m \u001b[38;5;28mself\u001b[39m\u001b[38;5;241m.\u001b[39m_started\u001b[38;5;241m.\u001b[39mis_set():\n\u001b[0;32m--> 930\u001b[0m     \u001b[38;5;28;01mraise\u001b[39;00m \u001b[38;5;167;01mRuntimeError\u001b[39;00m(\u001b[38;5;124m\"\u001b[39m\u001b[38;5;124mthreads can only be started once\u001b[39m\u001b[38;5;124m\"\u001b[39m)\n\u001b[1;32m    932\u001b[0m \u001b[38;5;28;01mwith\u001b[39;00m _active_limbo_lock:\n\u001b[1;32m    933\u001b[0m     _limbo[\u001b[38;5;28mself\u001b[39m] \u001b[38;5;241m=\u001b[39m \u001b[38;5;28mself\u001b[39m\n",
      "\u001b[0;31mRuntimeError\u001b[0m: threads can only be started once"
     ]
    }
   ],
   "source": [
    "mi_hilo.start()"
   ]
  },
  {
   "cell_type": "markdown",
   "metadata": {},
   "source": [
    "Como se mencionó inicialmente, todo programa en ejecución tiene al menos un *thread*: el *thread* principal, que corresponde al hilo que ejecuta el flujo principal de nuestro programa. La clase `Thread` admite el argumento `name`, que es un nombre que le podemos dar al *thread* para poder identificarlo. El nombre que se le asigna por defecto al *thread* principal es `\"MainThread\"`. En el siguiente código, la función `saludar` imprime el nombre del *thread* que lo ejecuta."
   ]
  },
  {
   "cell_type": "code",
   "execution_count": 5,
   "metadata": {},
   "outputs": [],
   "source": [
    "def saludar():\n",
    "    thread_actual = threading.current_thread()\n",
    "    print(f\"Hola desde {thread_actual.name}\\n\")\n",
    "\n",
    "\n",
    "hilo_1 = threading.Thread(name=\"Mi thread 1\", target=saludar)\n",
    "hilo_2 = threading.Thread(name=\"Mi thread 2\", target=saludar)"
   ]
  },
  {
   "cell_type": "markdown",
   "metadata": {},
   "source": [
    "`threading.current_thread()` es una función que retorna **una referencia de la instancia del *thread* que está ejecutando este código** (el *thread* que está en la CPU). Gracias a eso, se puede acceder a atributos de la instancia de `Thread`, como el nombre (`name`). A continuación, veremos que cada *thread* imprime su nombre correspondiente, incluso el *thread* principal:"
   ]
  },
  {
   "cell_type": "code",
   "execution_count": 6,
   "metadata": {},
   "outputs": [
    {
     "name": "stdout",
     "output_type": "stream",
     "text": [
      "Hola desde Mi thread 1\n",
      "\n",
      "Hola desde Mi thread 2\n",
      "\n",
      "Hola desde MainThread\n",
      "\n"
     ]
    }
   ],
   "source": [
    "# Llamaremos a saludar() desde los threads nombrados\n",
    "hilo_1.start()\n",
    "hilo_2.start()\n",
    "# Ahora llamaremos a saludar() desde el thread principal\n",
    "saludar()"
   ]
  },
  {
   "cell_type": "markdown",
   "metadata": {},
   "source": [
    "En el siguiente ejemplo, crearemos tres *threads*: `hilo_lento`, `hilo_rapido_1` e `hilo_rapido_2`, que ejecutarán distintas instancias de las funciones `trabajador_rapido` y `trabajador_lento`."
   ]
  },
  {
   "cell_type": "code",
   "execution_count": 7,
   "metadata": {},
   "outputs": [
    {
     "name": "stdout",
     "output_type": "stream",
     "text": [
      "Thread principal: Fueron creados 3 threads\n"
     ]
    }
   ],
   "source": [
    "import threading\n",
    "import time\n",
    "\n",
    "\n",
    "def trabajador_rapido():\n",
    "    # Función rápida, que toma 2 segundos\n",
    "    thread_actual = threading.current_thread()\n",
    "    print(f\"{thread_actual.name} partiendo...\")\n",
    "    # Pondremos a dormir el thread por 2 segundos simulando\n",
    "    # que ocurre algun proceso dentro de la función\n",
    "    time.sleep(2)\n",
    "    print(f\"{thread_actual.name} terminando...\")\n",
    "\n",
    "\n",
    "def trabajador_lento():\n",
    "    # Función lenta, que toma 6 segundos\n",
    "    thread_actual = threading.current_thread()\n",
    "    print(f\"{thread_actual.name} partiendo...\")\n",
    "    # Ponemos a dormir el thread por 6 segundos simulando\n",
    "    # un proceso más largo que el anterior dentro de la función\n",
    "    time.sleep(6)\n",
    "    print(f\"{thread_actual.name} terminando...\")\n",
    "\n",
    "\n",
    "# Creamos los threads usando la clase Thread\n",
    "hilo_lento = threading.Thread(name=\"Hilo lento (6s)\", target=trabajador_lento)\n",
    "hilo_rapido_1 = threading.Thread(name=\"Hilo rápido (2s)\", target=trabajador_rapido)\n",
    "# Usa el nombre asignado por defecto\n",
    "hilo_rapido_2 = threading.Thread(target=trabajador_rapido)\n",
    "print(\"Thread principal: Fueron creados 3 threads\")"
   ]
  },
  {
   "cell_type": "code",
   "execution_count": 8,
   "metadata": {},
   "outputs": [
    {
     "name": "stdout",
     "output_type": "stream",
     "text": [
      "Thread principal: Empezaré a iniciar los 3 threads\n",
      "Hilo rápido (2s) partiendo...\n",
      "Thread-6 (trabajador_rapido) partiendo...\n",
      "Hilo lento (6s) partiendo...\n",
      "Thread principal: Fueron iniciados 3 threads\n",
      "\n",
      "Thread principal: Segundo actual: 0\n",
      "Thread principal: Segundo actual: 1\n",
      "Hilo rápido (2s) terminando...Thread-6 (trabajador_rapido) terminando...\n",
      "\n",
      "Thread principal: Segundo actual: 2\n",
      "Thread principal: Segundo actual: 3\n",
      "Thread principal: Segundo actual: 4\n",
      "Thread principal: Segundo actual: 5\n",
      "Hilo lento (6s) terminando...\n",
      "Thread principal: Segundo actual: 6\n",
      "Thread principal: Segundo actual: 7\n",
      "Thread principal: Segundo actual: 8\n",
      "Thread principal: Segundo actual: 9\n"
     ]
    }
   ],
   "source": [
    "# Se inicializan los threads creados\n",
    "print(\"Thread principal: Empezaré a iniciar los 3 threads\")\n",
    "hilo_rapido_1.start()  # Dormirá por 2 segundos\n",
    "hilo_rapido_2.start()  # Dormirá por 2 segundos\n",
    "hilo_lento.start()  # Dormirá por 6 segundos\n",
    "print(\"Thread principal: Fueron iniciados 3 threads\")\n",
    "# Todas estas líneas serán ejecutadas mientras los threads\n",
    "# se ejecutan independientemente del programa principal\n",
    "\n",
    "print()\n",
    "# El thread principal ejecutará lo que queda de código\n",
    "# mientras los otros 3 threads hacen lo suyo\n",
    "\n",
    "for i in range(10):\n",
    "    print(f\"Thread principal: Segundo actual: {i}\")\n",
    "    time.sleep(1)"
   ]
  },
  {
   "cell_type": "markdown",
   "metadata": {},
   "source": [
    "#### ¿Qué pasa con los `print`?\n",
    "\n",
    "A partir de este ejemplo en adelante, es probable que al ejecutar `print` falten o sobran saltos de línea. La pregunta es, ¿tienen que ver los *threads* con este extraño comportamiento? La respuesta es sí.\n",
    "\n",
    "De acuerdo a [este post en StackOverflow](https://stackoverflow.com/questions/31142566/print-skipping-newline) esto se produce porque – a nivel de máquina – escribir el texto del `print` y escribir el salto de línea son **dos instrucciones distintas**. Por lo tanto, es posible que un *thread* imprima el texto, se pause ese *thread*, luego otro *thread* imprima su texto y su respectivo salto de línea, y luego al volver al primer *thread* este imprima el salto de línea que faltaba.\n",
    "\n"
   ]
  },
  {
   "cell_type": "markdown",
   "metadata": {},
   "source": [
    "**Pon en práctica la creación de *threads* simples realizando el ejercicio propuesto 1.1.**"
   ]
  },
  {
   "cell_type": "markdown",
   "metadata": {},
   "source": [
    "En el ejemplo, vemos que una vez inicializados los *threads*, **el programa principal continúa con el resto de instrucciones mientras los *threads* se ejecutan**. Luego los tres *threads* terminan independientemente en distintos momentos. El programa principal esperará a que todos los *threads* hayan terminado correctamente.\n",
    "\n",
    "También es posible, mediante el atributo `args` o `kwargs`, pasar los argumentos a la función definida como `target` del *thread*."
   ]
  },
  {
   "cell_type": "code",
   "execution_count": 9,
   "metadata": {},
   "outputs": [
    {
     "name": "stdout",
     "output_type": "stream",
     "text": [
      "Thread 1 tiene sueño...\n",
      "Thread 2 tiene sueño...\n",
      "(Thread 2: 1 oveja)(Thread 1: 1 oveja)\n",
      "\n",
      "(Thread 2: 2 ovejas)(Thread 1: 2 ovejas)\n",
      "\n",
      "(Thread 1: 3 ovejas)(Thread 2: 3 ovejas)\n",
      "\n",
      "(Thread 1: 4 ovejas)(Thread 2: 4 ovejas)\n",
      "\n",
      "(Thread 2: 5 ovejas)(Thread 1: 5 ovejas)\n",
      "\n",
      "(Thread 2: 6 ovejas)(Thread 1: 6 ovejas)\n",
      "\n",
      "(Thread 1: 7 ovejas)(Thread 2: 7 ovejas)\n",
      "\n",
      "(Thread 2: 8 ovejas)\n",
      "(Thread 1: 8 ovejas)\n",
      "(Thread 2: 9 ovejas)\n",
      "(Thread 1: 9 ovejas)\n",
      "(Thread 2: 10 ovejas)\n",
      "(Thread 1: 10 ovejas)\n",
      "Thread 1 a dormir...\n",
      "(Thread 2: 11 ovejas)\n",
      "(Thread 2: 12 ovejas)\n",
      "(Thread 2: 13 ovejas)\n",
      "(Thread 2: 14 ovejas)\n",
      "(Thread 2: 15 ovejas)\n",
      "Thread 2 a dormir...\n"
     ]
    }
   ],
   "source": [
    "import threading\n",
    "import time\n",
    "\n",
    "\n",
    "def contar_ovejas_hasta(max_ovejas):\n",
    "    thread_actual = threading.current_thread()\n",
    "    print(f\"{thread_actual.name} tiene sueño...\")\n",
    "    for numero in range(1, max_ovejas + 1):\n",
    "        time.sleep(1)\n",
    "        print(f\"({thread_actual.name}: {numero} oveja{'s' if numero > 1 else ''})\")\n",
    "    print(f\"{thread_actual.name} a dormir...\")\n",
    "\n",
    "\n",
    "# Se crean los threads usando la clase Thread, asociada a la función objetivo para \n",
    "# ser ejecutada por el thread, y los atributos de la función son ingresados en \n",
    "# args o kwargs\n",
    "\n",
    "t1 = threading.Thread(name=\"Thread 1\", target=contar_ovejas_hasta, args=(10,))\n",
    "t2 = threading.Thread(name=\"Thread 2\", target=contar_ovejas_hasta, kwargs={\"max_ovejas\": 15})\n",
    "t1.start()\n",
    "t2.start()"
   ]
  },
  {
   "cell_type": "markdown",
   "metadata": {},
   "source": [
    "**Pon en práctica la creación de *threads* con argumentos realizando el ejercicio propuesto 1.2.**"
   ]
  },
  {
   "cell_type": "markdown",
   "metadata": {},
   "source": [
    "En concordancia con el modelamiento basado en OOP, podemos crear también *threads* como instancias de una clase que hereda desde la clase `Thread`. Es decir, podemos crear clases para *threads* con comportamiento común. Para definir las instrucciones que serán ejecutadas por la instancia de *thread*, se debe hacer *override* del método `run()` en la clase, el cual se ejecuta luego de llamar a `start`, al igual que antes. Con esto, ahora podremos personalizar este método para definir las instrucciones a ejecutar directamente para cada clase de *thread*."
   ]
  },
  {
   "cell_type": "code",
   "execution_count": 10,
   "metadata": {},
   "outputs": [
    {
     "name": "stdout",
     "output_type": "stream",
     "text": [
      "Thread principal: Fueron creados 2 threads\n"
     ]
    }
   ],
   "source": [
    "import threading\n",
    "import time\n",
    "\n",
    "\n",
    "class CuentaOvejas(threading.Thread): # Hereda de Thread\n",
    "    \"\"\"Este será nuestro nuevo Cuenta Ovejas basado en Thread\"\"\"\n",
    "    \n",
    "    def __init__(self, nombre, max_ovejas):\n",
    "        # En el caso de los threads, lo primero es invocar al init original. SIEMPRE.\n",
    "        super().__init__(name=nombre)\n",
    "        self.max_ovejas = max_ovejas # Se agrega un atributo de instancia extra\n",
    "    \n",
    "    def run(self):\n",
    "        # Este metodo define las instrucciones a ejecutar de este thread\n",
    "        # cuando ejecutamos el metodo start()\n",
    "        print(f\"{self.name} tiene sueño...\")\n",
    "        tiempo_partida = time.time()\n",
    "        for numero in range(1, self.max_ovejas + 1):\n",
    "            time.sleep(1)\n",
    "            print(f\"({self.name}: {numero} oveja{'s' if numero > 1 else ''})\")\n",
    "        print(f\"{self.name} a dormir...\")\n",
    "        print(f\"{self.name} se durmió después de {time.time() - tiempo_partida} seg.\")\n",
    "\n",
    "        \n",
    "class CuentaLiebres(threading.Thread): # Hereda de Thread\n",
    "    \"\"\"\n",
    "    Este será un nuevo Cuenta Liebres basado en Thread\n",
    "    Las liebres son más rápidas, así que cuenta dos por segundo\n",
    "    \"\"\"\n",
    "    \n",
    "    def __init__(self, nombre, max_liebres):\n",
    "        super().__init__(name=nombre)\n",
    "        self.max_liebres = max_liebres\n",
    "    \n",
    "    def run(self):\n",
    "        print(f\"{self.name} tiene sueño...\")\n",
    "        tiempo_partida = time.time()\n",
    "        for numero in range(1, self.max_liebres + 1):\n",
    "            if numero % 2 == 1:\n",
    "                time.sleep(1)\n",
    "            print(f\"({self.name}: {numero} liebre{'s' if numero > 1 else ''})\")\n",
    "        print(f\"{self.name} a dormir...\")\n",
    "        print(f\"{self.name} se durmió después de {time.time() - tiempo_partida} seg.\")\n",
    "        \n",
    "\n",
    "# Se crean los threads\n",
    "cuenta_ovejas = CuentaOvejas(\"Hernán\", 10)\n",
    "cuenta_liebres = CuentaLiebres(\"Daniela\", 10)\n",
    "print(\"Thread principal: Fueron creados 2 threads\")"
   ]
  },
  {
   "cell_type": "code",
   "execution_count": 11,
   "metadata": {},
   "outputs": [
    {
     "name": "stdout",
     "output_type": "stream",
     "text": [
      "Hernán tiene sueño...Daniela tiene sueño...\n",
      "\n",
      "Thread principal: Fueron iniciados 2 threads\n",
      "\n",
      "Thread principal: Segundo actual: 0\n",
      "(Hernán: 1 oveja)Thread principal: Segundo actual: 1\n",
      "(Daniela: 1 liebre)\n",
      "(Daniela: 2 liebres)\n",
      "\n",
      "(Daniela: 3 liebres)Thread principal: Segundo actual: 2\n",
      "(Hernán: 2 ovejas)\n",
      "\n",
      "(Daniela: 4 liebres)\n",
      "(Daniela: 5 liebres)(Hernán: 3 ovejas)\n",
      "Thread principal: Segundo actual: 3\n",
      "\n",
      "(Daniela: 6 liebres)\n",
      "Thread principal: Segundo actual: 4(Hernán: 4 ovejas)\n",
      "(Daniela: 7 liebres)\n",
      "(Daniela: 8 liebres)\n",
      "\n",
      "(Hernán: 5 ovejas)Thread principal: Segundo actual: 5\n",
      "(Daniela: 9 liebres)\n",
      "(Daniela: 10 liebres)\n",
      "Daniela a dormir...\n",
      "Daniela se durmió después de 5.020539999008179 seg.\n",
      "\n",
      "Thread principal: Segundo actual: 6(Hernán: 6 ovejas)\n",
      "\n",
      "Thread principal: Segundo actual: 7(Hernán: 7 ovejas)\n",
      "\n",
      "Thread principal: Segundo actual: 8(Hernán: 8 ovejas)\n",
      "\n",
      "Thread principal: Segundo actual: 9(Hernán: 9 ovejas)\n",
      "\n",
      "(Hernán: 10 ovejas)\n",
      "Hernán a dormir...\n",
      "Hernán se durmió después de 10.041131973266602 seg.\n"
     ]
    }
   ],
   "source": [
    "# Se inicializan los threads creados\n",
    "cuenta_ovejas.start()\n",
    "cuenta_liebres.start()\n",
    "print(\"Thread principal: Fueron iniciados 2 threads\")\n",
    "# Todas estas líneas serán ejecutadas mientras los threads se ejecutan\n",
    "# independientemente del programa principal\n",
    "    \n",
    "print()\n",
    "# El thread principal ejecutará lo que queda código\n",
    "# mientras los otros 2 threads hacen lo suyo\n",
    "for i in range(10):\n",
    "    print(f\"Thread principal: Segundo actual: {i}\")\n",
    "    time.sleep(1)"
   ]
  },
  {
   "cell_type": "markdown",
   "metadata": {},
   "source": [
    "### `join()`"
   ]
  },
  {
   "cell_type": "markdown",
   "metadata": {},
   "source": [
    "Hasta ahora hemos visto comportamiento de *threads* que se ejecutan \"en paralelo\" y de forma independiente al flujo del programa principal. Pero hay ocasiones donde el programa principal puede necesitar que otros *threads* terminen antes de ejecutar ciertas instrucciones.\n",
    "\n",
    "Por ejemplo, un programa que debe obtener el total de compras de una tienda, donde el detalle de las compras se encuentran en cinco archivos en distintos formatos. El programa delega a cinco *threads* distintos el leer y sumar el total de compras de cada archivo, **espera** a que cada *thread* termine de hacer sus cálculos y luego obtiene los cinco resultados y los suma.\n",
    "\n",
    "Si necesitamos que el programa principal espere a que termine la ejecución de algún *thread* (o grupo de *threads*), debemos usar el método `join(timeout=None)` después de que el *thread* ha sido iniciado mediante `start()`.\n",
    "\n",
    "Al usar `join()`, **el *thread* que llama al método** queda bloqueado hasta que los *threads* referenciados terminen correctamente. No obstante, si se especifica un `timeout` (en segundos) el programa esperará al *thread* referenciado solo por ese tiempo y luego continuará.\n",
    "\n",
    "La figura siguiente explica gráficamente la ejecución de un programa usando `join()`.\n",
    "\n",
    "![join](imgs/join.png)"
   ]
  },
  {
   "cell_type": "markdown",
   "metadata": {},
   "source": [
    "En el código esto se refleja como que *Main Thread* incluye las llamadas `T1.join()` y `T2.join()`.  Como es *Main Thread* quien llama a `join`, es ese el *thread* que se bloquea esperando a otro; primero espera a `T1` y luego a `T2`. Por otro lado, no sólo el *Main Thread* puede esperar: **cualquier *thread* puede esperar a cualquier otro** usando `join()`.\n",
    "\n",
    "Veamos ahora una extensión del ejemplo anterior pero con la incorporación de `join()`. Aquí, los ayudantes del curso esperan a que los profesores (o casi todos) se duerman para empezar a festejar. Notar que el comportamiento de los ayudantes está en el programa principal, y el festejo no comienza hasta después de que la mayoría de los *threads* ejecutados terminan."
   ]
  },
  {
   "cell_type": "code",
   "execution_count": 12,
   "metadata": {
    "scrolled": false
   },
   "outputs": [
    {
     "name": "stdout",
     "output_type": "stream",
     "text": [
      "Hernán tiene sueño...\n",
      "Daniela tiene sueño...\n",
      "Dante tiene sueño...\n",
      "Joaquín tiene sueño...\n",
      "Ayudantes: Los profes se fueron a dormir...\n",
      "(Hernán: 1 oveja)(Daniela: 1 oveja)\n",
      "(Dante: 1 liebre)\n",
      "(Dante: 2 liebres)\n",
      "(Joaquín: 1 liebre)\n",
      "(Joaquín: 2 liebres)\n",
      "\n",
      "(Daniela: 2 ovejas)\n",
      "(Dante: 3 liebres)\n",
      "(Dante: 4 liebres)\n",
      "(Joaquín: 3 liebres)\n",
      "(Joaquín: 4 liebres)\n",
      "(Hernán: 2 ovejas)\n",
      "(Daniela: 3 ovejas)\n",
      "(Joaquín: 5 liebres)\n",
      "(Joaquín: 6 liebres)\n",
      "(Hernán: 3 ovejas)\n",
      "(Dante: 5 liebres)\n",
      "Dante a dormir...\n",
      "Dante se durmió después de 3.0112557411193848 seg.\n",
      "(Joaquín: 7 liebres)(Daniela: 4 ovejas)\n",
      "(Hernán: 4 ovejas)\n",
      "\n",
      "(Joaquín: 8 liebres)\n",
      "(Daniela: 5 ovejas)(Joaquín: 9 liebres)\n",
      "(Joaquín: 10 liebres)\n",
      "(Hernán: 5 ovejas)\n",
      "Hernán a dormir...\n",
      "Hernán se durmió después de 5.019443988800049 seg.\n",
      "\n",
      "(Joaquín: 11 liebres)(Daniela: 6 ovejas)\n",
      "\n",
      "(Joaquín: 12 liebres)\n",
      "(Joaquín: 13 liebres)(Daniela: 7 ovejas)\n",
      "Daniela a dormir...\n",
      "Daniela se durmió después de 7.028952121734619 seg.\n",
      "Ayudantes: ¡DANIELA SE DURMIÓ!\n",
      "Ayudantes: ¡HERNÁN SE DURMIÓ!\n",
      "Ayudantes: ¡DANTE SE DURMIÓ!\n",
      "\n",
      "(Joaquín: 14 liebres)\n",
      "Ayudantes: ¡(casi todos) los profes se durmieron! ¡A festejar!(Joaquín: 15 liebres)\n",
      "(Joaquín: 16 liebres)\n",
      "\n",
      "Ayudantes: 🎵🎶🎵🎶🎵🎶🎵🎶🎵🎶🎵🎶🎵🎶🎵🎶\n",
      "Ayudantes: 🎵🎶🎵🎶🎵🎶🎵🎶🎵🎶🎵🎶🎵🎶🎵🎶(Joaquín: 17 liebres)\n",
      "(Joaquín: 18 liebres)\n",
      "\n",
      "Ayudantes: 🎵🎶🎵🎶🎵🎶🎵🎶🎵🎶🎵🎶🎵🎶🎵🎶(Joaquín: 19 liebres)\n",
      "(Joaquín: 20 liebres)\n",
      "Joaquín a dormir...\n",
      "Joaquín se durmió después de 10.039828062057495 seg.\n",
      "\n",
      "Ayudantes: 🎵🎶🎵🎶🎵🎶🎵🎶🎵🎶🎵🎶🎵🎶🎵🎶\n",
      "Ayudantes: 🎵🎶🎵🎶🎵🎶🎵🎶🎵🎶🎵🎶🎵🎶🎵🎶\n",
      "Ayudantes: 🎵🎶🎵🎶🎵🎶🎵🎶🎵🎶🎵🎶🎵🎶🎵🎶\n",
      "Ayudantes: Ojalá no nos hayan escuchado...\n"
     ]
    }
   ],
   "source": [
    "import threading\n",
    "import time\n",
    "\n",
    "\n",
    "# Usamos la definicion de los Thread declarados en el ejemplo anterior\n",
    "# Se crean los threads usando la clase Thread.\n",
    "hernan = CuentaOvejas(\"Hernán\", 5)\n",
    "daniela = CuentaOvejas(\"Daniela\", 7)\n",
    "dante = CuentaLiebres(\"Dante\", 5)\n",
    "joaquin = CuentaLiebres(\"Joaquín\", 20)\n",
    "\n",
    "# Se inicializan los threads creados\n",
    "hernan.start()\n",
    "daniela.start()\n",
    "dante.start()\n",
    "joaquin.start()\n",
    "print(\"Ayudantes: Los profes se fueron a dormir...\")\n",
    "\n",
    "# Aquí incorporamos el método join() para bloquear el programa principal\n",
    "daniela.join()  # Esperaremos lo que sea necesario.\n",
    "print(\"Ayudantes: ¡DANIELA SE DURMIÓ!\")\n",
    "hernan.join() # No especificamos timeout, esperará lo que sea necesario\n",
    "print(\"Ayudantes: ¡HERNÁN SE DURMIÓ!\")\n",
    "dante.join() # Esperaremos lo que sea necesario.\n",
    "print(\"Ayudantes: ¡DANTE SE DURMIÓ!\")\n",
    "joaquin.join(1)  # Esperaremos máximo 1 segundo después del último dormido, ya es muy tarde\n",
    "print(\"Ayudantes: ¡(casi todos) los profes se durmieron! ¡A festejar!\")\n",
    "\n",
    "# En este punto, el programa ha esperado por los cuatro threads que creamos\n",
    "# Estas líneas serán ejecutadas después de que los threads hayan terminado\n",
    "for _ in range(6):\n",
    "    print(\"Ayudantes: 🎵🎶🎵🎶🎵🎶🎵🎶🎵🎶🎵🎶🎵🎶🎵🎶\")\n",
    "    time.sleep(1)\n",
    "print(\"Ayudantes: Ojalá no nos hayan escuchado...\")"
   ]
  },
  {
   "cell_type": "markdown",
   "metadata": {},
   "source": [
    "🤔 **¿Qué ocurre si tenemos lo siguiente?**\n",
    "\n",
    "```python\n",
    "thread_1.start()\n",
    "thread_1.join()\n",
    "thread_2.start()\n",
    "thread_2.join()\n",
    "thread_3.start()\n",
    "thread_3.join()\n",
    "```\n",
    "\n",
    "¿Tendremos multiples *threads* ejecutandose? 🤔 🤔\n",
    "\n",
    "La respuesta es **no**. En este código, se está empezando un *thread* y se esta esperando que finalice (`.join()`) antes de continuar con la siguiente linea de código que se encarga de empezar el siguiente *thread*. Cuando trabajos con *threads* hay que tener mucho cuidado en la ubicación de los `.start()` y los `.join()`. El comportamiento estandar sería empezar todos los *threads* y luego comenzar con los `join()` para esperarlos."
   ]
  },
  {
   "cell_type": "markdown",
   "metadata": {},
   "source": [
    "**Ahora intenta realizar el ejercicio propuesto 1.3 para fijar un orden de ejecución de *threads*.**"
   ]
  },
  {
   "cell_type": "markdown",
   "metadata": {},
   "source": [
    "### `is_alive()`"
   ]
  },
  {
   "cell_type": "markdown",
   "metadata": {},
   "source": [
    "Es posible identificar si un *thread* todavía está en funcionamiento mediante el uso del método `is_alive()`. Por lo general este método se implementa para saber el estado del *thread* después del uso de `join()`, al cual se le ha definido su tiempo máximo de espera."
   ]
  },
  {
   "cell_type": "code",
   "execution_count": 13,
   "metadata": {
    "scrolled": false
   },
   "outputs": [
    {
     "name": "stdout",
     "output_type": "stream",
     "text": [
      "Hernán tiene sueño...Daniela tiene sueño...\n",
      "\n",
      "Dante tiene sueño...\n",
      "Joaquín tiene sueño...\n",
      "Ayudantes: Los profes se fueron a la cama...\n",
      "(Daniela: 1 oveja)(Hernán: 1 oveja)\n",
      "(Dante: 1 liebre)\n",
      "(Dante: 2 liebres)\n",
      "(Joaquín: 1 liebre)\n",
      "(Joaquín: 2 liebres)\n",
      "\n",
      "(Hernán: 2 ovejas)(Dante: 3 liebres)\n",
      "(Dante: 4 liebres)\n",
      "\n",
      "(Joaquín: 3 liebres)\n",
      "(Joaquín: 4 liebres)\n",
      "(Daniela: 2 ovejas)\n",
      "(Dante: 5 liebres)(Joaquín: 5 liebres)\n",
      "(Joaquín: 6 liebres)\n",
      "(Daniela: 3 ovejas)\n",
      "Daniela a dormir...\n",
      "Daniela se durmió después de 3.0122830867767334 seg.\n",
      "(Hernán: 3 ovejas)\n",
      "Ayudantes: ¡DANIELA SE DURMIÓ!\n",
      "\n",
      "(Dante: 6 liebres)\n",
      "Dante a dormir...\n",
      "Dante se durmió después de 3.012514114379883 seg.\n",
      "(Joaquín: 7 liebres)\n",
      "(Joaquín: 8 liebres)\n",
      "(Hernán: 4 ovejas)\n",
      "(Hernán: 5 ovejas)(Joaquín: 9 liebres)\n",
      "(Joaquín: 10 liebres)\n",
      "\n",
      "(Joaquín: 11 liebres)(Hernán: 6 ovejas)\n",
      "Hernán a dormir...\n",
      "Hernán se durmió después de 6.0199501514434814 seg.\n",
      "Ayudantes: ¡HERNÁN SE DURMIÓ!\n",
      "Ayudantes: ¡DANTE SE DURMIÓ!\n",
      "\n",
      "(Joaquín: 12 liebres)\n",
      "Ayudantes: Joaquín sigue despierto 😞. A la casa cabros.\n",
      "(Joaquín: 13 liebres)\n",
      "(Joaquín: 14 liebres)\n",
      "(Joaquín: 15 liebres)\n",
      "Joaquín a dormir...\n",
      "Joaquín se durmió después de 8.020756006240845 seg.\n"
     ]
    }
   ],
   "source": [
    "import threading\n",
    "import time\n",
    "\n",
    "\n",
    "# Usamos la definicion de los Thread declarados en el ejemplo anterior\n",
    "# Se crean los threads usando la clase Thread.\n",
    "hernan = CuentaOvejas(\"Hernán\", 6)\n",
    "daniela = CuentaOvejas(\"Daniela\", 3)\n",
    "dante = CuentaLiebres(\"Dante\", 6)\n",
    "joaquin = CuentaLiebres(\"Joaquín\", 15)\n",
    "\n",
    "# Se inicializan los threads creados\n",
    "hernan.start()\n",
    "daniela.start()\n",
    "dante.start()\n",
    "joaquin.start()\n",
    "print(\"Ayudantes: Los profes se fueron a la cama...\")\n",
    "\n",
    "daniela.join()  # Esperaremos lo que sea necesario.\n",
    "print(\"Ayudantes: ¡DANIELA SE DURMIÓ!\")\n",
    "hernan.join() # No especificamos timeout, esperará lo que sea necesario\n",
    "print(\"Ayudantes: ¡HERNÁN SE DURMIÓ!\")\n",
    "dante.join() # Esperaremos lo que sea necesario.\n",
    "print(\"Ayudantes: ¡DANTE SE DURMIÓ!\")\n",
    "joaquin.join(1)  # Esperaremos máximo 1 segundos después del último dormido, ya es muy tarde\n",
    "\n",
    "if joaquin.is_alive():\n",
    "    print(\"Ayudantes: Joaquín sigue despierto 😞. A la casa cabros.\")\n",
    "else:\n",
    "    print(\"Ayudantes: ¡Todos los profes se durmieron! ¡A festejar!\")\n",
    "    for i in range(6):\n",
    "        print(\"Ayudantes: 🎵🎶🎵🎶🎵🎶🎵🎶🎵🎶🎵🎶🎵🎶🎵🎶\")\n",
    "        time.sleep(1)"
   ]
  },
  {
   "cell_type": "code",
   "execution_count": 14,
   "metadata": {},
   "outputs": [
    {
     "name": "stdout",
     "output_type": "stream",
     "text": [
      "(Ayudantes vuelven)\n",
      "Ayudantes: Esperemos un poco más cabros...\n",
      "Ayudantes: ¡Hernán se quedó dormido!\n",
      "Ayudantes: ¡Daniela se quedó dormido!\n",
      "Ayudantes: ¡Dante se quedó dormido!\n",
      "Ayudantes: ¡Joaquín se quedó dormido!\n"
     ]
    }
   ],
   "source": [
    "print(\"(Ayudantes vuelven)\")\n",
    "print(\"Ayudantes: Esperemos un poco más cabros...\")\n",
    "time.sleep(2)\n",
    "for profe in [hernan, daniela, dante, joaquin]:\n",
    "    if profe.is_alive():\n",
    "        print(f\"Ayudantes: {profe.name} aún está despierto 😞\")\n",
    "    else:\n",
    "        print(f\"Ayudantes: ¡{profe.name} se quedó dormido!\")"
   ]
  },
  {
   "cell_type": "markdown",
   "metadata": {},
   "source": [
    "### *Daemons*\n",
    "\n",
    "En los ejemplos anteriores, el programa espera a que todos los *threads* terminen su trabajo antes de terminar su ejecución. Los ***daemon threads*** son aquellos que, **a pesar de que estén aún corriendo, no impiden que el programa principal termine**.\n",
    "\n",
    "Si no existieran los *daemon threads*, tendríamos que preocuparnos de tener en cuenta todos nuestros *threads* y preocuparnos de terminarlos a todos para que el programa principal pueda terminar. Con los *daemon threads*, podemos ponerlos a correr y olvidarnos de ellos, y cuando el programa termina, los *daemon threads* serán terminados inmediatamente. El programa principal terminará cuando todos los *threads no-daemon* hayan finalizado.\n",
    "\n",
    "Para especificar que un *thread* debe ser *daemon*, se especifica el parámetro `daemon=True` en el constructor del *thread*. Una forma alternativa es escribir el atributo `daemon` del *thread*, después de haberlo creado.\n",
    "\n",
    "#### *Warning*: este notebook no refleja el efecto de *daemon*.\n",
    "\n",
    "Debido al funcionamiento interno de los Jupyter Notebooks, no se puede notar el efecto de utilizar esta propiedad de los *threads* dentro en las celdas del *notebook*. Es por esto que el siguiente código se encuentra en el archivo adjunto `daemon_threads.py`, para ser ejecutado **fuera de este *notebook*, desde una consola**.\n"
   ]
  },
  {
   "cell_type": "markdown",
   "metadata": {},
   "source": [
    "```python\n",
    "import threading\n",
    "import time\n",
    "\n",
    "\n",
    "def dormilon():\n",
    "    print(f\"{threading.current_thread().name} tiene sueño...\")\n",
    "    time.sleep(2)\n",
    "    print(f\"{threading.current_thread().name} se durmió.\")\n",
    "\n",
    "    \n",
    "def con_insonmio():\n",
    "    print(f\"{threading.current_thread().name} tiene sueño...\")\n",
    "    time.sleep(10)\n",
    "    print(f\"{threading.current_thread().name} se durmió.\")\n",
    "\n",
    "\n",
    "# Forma 1 de hacer un thread daemon\n",
    "dormilon = threading.Thread(name=\"Dormilón\", target=dormilon, daemon=True)\n",
    "# Forma 2 de hacer un thread daemon\n",
    "con_insomnio = threading.Thread(name=\"Con insonmio\", target=con_insonmio)\n",
    "con_insomnio.daemon = True\n",
    "\n",
    "# Se inicializan los threads\n",
    "dormilon.start()\n",
    "con_insomnio.start()\n",
    "```"
   ]
  },
  {
   "cell_type": "markdown",
   "metadata": {},
   "source": [
    "La siguiente figura muestra la salida en la consola para el programa **con** los *threads* configurados como *daemon*. Los *threads* se interrumpen abruptamente, luego de que el programa principal termina su ejecución.\n",
    "\n",
    "![daemon](imgs/daemon.png)\n",
    "\n",
    "Comparemos el resultado anterior con la salida en la consola para el programa **sin** los *threads* configurados como *daemon* (`daemon=False`), como muestra la imagen siguiente. Podemos ver que la ejecución de los *threads* fue completada y que el programa no se cierra hasta que los *threads* terminan.\n",
    "\n",
    "![non_daemon](imgs/non-daemon.png)"
   ]
  },
  {
   "cell_type": "markdown",
   "metadata": {},
   "source": [
    "En la penúltima imagen, podemos apreciar que el programa principal termina antes que los *daemon threads*. Es posible hacer que el programa espere a un *daemon thread* mediante el uso de `join()`, lo que tendría sentido cuando debemos esperar algún resultado del *thread* para el resto del programa."
   ]
  },
  {
   "cell_type": "code",
   "execution_count": 15,
   "metadata": {},
   "outputs": [
    {
     "name": "stdout",
     "output_type": "stream",
     "text": [
      "Dormilón tiene sueño...\n",
      "Con insonmio tiene sueño...\n",
      "Dormilón se durmió.\n",
      "Con insonmio se durmió.\n"
     ]
    }
   ],
   "source": [
    "import threading\n",
    "import time\n",
    "\n",
    "\n",
    "def dormilon():\n",
    "    print(f\"{threading.current_thread().name} tiene sueño...\")\n",
    "    time.sleep(2)\n",
    "    print(f\"{threading.current_thread().name} se durmió.\")\n",
    "\n",
    "    \n",
    "def con_insonmio():\n",
    "    print(f\"{threading.current_thread().name} tiene sueño...\")\n",
    "    time.sleep(10)\n",
    "    print(f\"{threading.current_thread().name} se durmió.\")\n",
    "\n",
    "\n",
    "# Forma 1 de hacer un thread daemon\n",
    "dormilon = threading.Thread(name=\"Dormilón\", target=dormilon, daemon=True)\n",
    "# Forma 2 de hacer un thread daemon\n",
    "con_insomnio = threading.Thread(name=\"Con insonmio\", target=con_insonmio)\n",
    "con_insomnio.daemon = True\n",
    "\n",
    "# Se inicializan los threads\n",
    "dormilon.start()\n",
    "con_insomnio.start()\n",
    "\n",
    "# Esperamos los threads.\n",
    "# Lo esperamos por una cantidad indefinida de tiempo\n",
    "dormilon.join()\n",
    "# Esperamos sólo 5 segundos\n",
    "con_insomnio.join(5)"
   ]
  },
  {
   "cell_type": "markdown",
   "metadata": {},
   "source": [
    "Un aspecto importante a notar es que una vez que se ha llamado el método `start()` un *thread* no puede cambiar desde *daemon* a *no-daemon*, o vicecersa. Si tratamos de hacerlo, se lanza una excepción del tipo `RuntimeError`."
   ]
  },
  {
   "cell_type": "code",
   "execution_count": 16,
   "metadata": {},
   "outputs": [
    {
     "name": "stderr",
     "output_type": "stream",
     "text": [
      "Exception in thread Dormilón:\n",
      "Traceback (most recent call last):\n",
      "  File \"/Library/Frameworks/Python.framework/Versions/3.10/lib/python3.10/threading.py\", line 1016, in _bootstrap_inner\n",
      "    self.run()\n",
      "  File \"/Library/Frameworks/Python.framework/Versions/3.10/lib/python3.10/threading.py\", line 953, in run\n"
     ]
    },
    {
     "ename": "RuntimeError",
     "evalue": "cannot set daemon status of active thread",
     "output_type": "error",
     "traceback": [
      "\u001b[0;31m---------------------------------------------------------------------------\u001b[0m",
      "\u001b[0;31mRuntimeError\u001b[0m                              Traceback (most recent call last)",
      "Cell \u001b[0;32mIn[16], line 5\u001b[0m\n\u001b[1;32m      2\u001b[0m dormilon\u001b[38;5;241m.\u001b[39mstart()\n\u001b[1;32m      4\u001b[0m \u001b[38;5;66;03m# Noo!\u001b[39;00m\n\u001b[0;32m----> 5\u001b[0m \u001b[43mdormilon\u001b[49m\u001b[38;5;241;43m.\u001b[39;49m\u001b[43mdaemon\u001b[49m \u001b[38;5;241m=\u001b[39m \u001b[38;5;28;01mFalse\u001b[39;00m\n\u001b[1;32m      7\u001b[0m dormilon\u001b[38;5;241m.\u001b[39mjoin()\n",
      "File \u001b[0;32m/Library/Frameworks/Python.framework/Versions/3.10/lib/python3.10/threading.py:1203\u001b[0m, in \u001b[0;36mThread.daemon\u001b[0;34m(self, daemonic)\u001b[0m\n\u001b[1;32m   1201\u001b[0m     \u001b[38;5;28;01mraise\u001b[39;00m \u001b[38;5;167;01mRuntimeError\u001b[39;00m(\u001b[38;5;124m\"\u001b[39m\u001b[38;5;124mThread.__init__() not called\u001b[39m\u001b[38;5;124m\"\u001b[39m)\n\u001b[1;32m   1202\u001b[0m \u001b[38;5;28;01mif\u001b[39;00m \u001b[38;5;28mself\u001b[39m\u001b[38;5;241m.\u001b[39m_started\u001b[38;5;241m.\u001b[39mis_set():\n\u001b[0;32m-> 1203\u001b[0m     \u001b[38;5;28;01mraise\u001b[39;00m \u001b[38;5;167;01mRuntimeError\u001b[39;00m(\u001b[38;5;124m\"\u001b[39m\u001b[38;5;124mcannot set daemon status of active thread\u001b[39m\u001b[38;5;124m\"\u001b[39m)\n\u001b[1;32m   1204\u001b[0m \u001b[38;5;28mself\u001b[39m\u001b[38;5;241m.\u001b[39m_daemonic \u001b[38;5;241m=\u001b[39m daemonic\n",
      "\u001b[0;31mRuntimeError\u001b[0m: cannot set daemon status of active thread"
     ]
    },
    {
     "name": "stderr",
     "output_type": "stream",
     "text": [
      "    self._target(*self._args, **self._kwargs)\n",
      "TypeError: 'Thread' object is not callable\n"
     ]
    }
   ],
   "source": [
    "dormilon = threading.Thread(name=\"Dormilón\", target=dormilon, daemon=True)\n",
    "dormilon.start()\n",
    "\n",
    "# Noo!\n",
    "dormilon.daemon = False\n",
    "\n",
    "dormilon.join()"
   ]
  },
  {
   "cell_type": "markdown",
   "metadata": {},
   "source": [
    "Al hacer una subclase de `Thread`, que queremos que sea *daemon*, podemos indicar que el *thread* es *daemon* durante su inicialización, usando el atributo `daemon`."
   ]
  },
  {
   "cell_type": "code",
   "execution_count": 17,
   "metadata": {},
   "outputs": [
    {
     "name": "stdout",
     "output_type": "stream",
     "text": [
      "Daemon thread: Empezando...\n",
      "Daemon thread: Terminando...\n"
     ]
    }
   ],
   "source": [
    "class Daemon(threading.Thread):\n",
    "    \n",
    "    def __init__(self):\n",
    "        super().__init__()\n",
    "        # Cuando inicializamos el thread lo declaramos como daemon\n",
    "        self.daemon = True\n",
    "    \n",
    "    def run(self):\n",
    "        print(\"Daemon thread: Empezando...\")\n",
    "        time.sleep(2)\n",
    "        print(\"Daemon thread: Terminando...\")\n",
    "\n",
    "        \n",
    "daemon = Daemon()\n",
    "daemon.start()\n",
    "daemon.join()"
   ]
  },
  {
   "cell_type": "markdown",
   "metadata": {},
   "source": [
    "Ahora que ya entendemos que un thread daemon se puede interrumpir su ejecución si el programa principal se acaba. Vamos a revisar el siguiente código que está en `daemon_threads_print_error`.\n",
    "\n",
    "```python\n",
    "from threading import Thread\n",
    "import time\n",
    "\n",
    "def presentar(i): \n",
    "    print(\"Hola soy el thread {}\".format(i, i))\n",
    "\n",
    "def main():\n",
    "    # Crear threads\n",
    "    threads = []\n",
    "    for i in range(25):\n",
    "        threads.append(Thread(target=presentar, daemon=True, args=(i+1,)))\n",
    "\n",
    "    # Empezar los threads\n",
    "    for thread in threads:\n",
    "        thread.start()\n",
    "\n",
    "if __name__ == \"__main__\":\n",
    "    print(\"Empezar programa, crearé 25 threads\")\n",
    "    main()\n",
    "```\n",
    "\n",
    "En este código, se crean 25 *thread daemon* los cuales se van a presentar y se acaba todo. Si ejecutamos este archivo en consola, un posible resultado es:\n",
    "\n",
    "\n",
    "![daemon_error](imgs/daemon_error.png)\n",
    "\n",
    "La última parte da miedo... ¿que es eso de `Fatal Python error`? ¿por qué no vemos el `print` del **thread 23**?\n",
    "\n",
    "Este error se debe a que un *thread* estaba junto en proceso de imprimir el stirng en consola cuando fue interrumpido por el programa principal. Dado que imprimir en consola imprimca enviarle al sistema operativo una acción, se genera este error porque fue gatillo una interrumpición al sistema operativo. Este error es normal que ocurre si es que estamos dejando que algún *daemon thread* maneje `prints` y cortamos el programa principal de forma abrupta."
   ]
  },
  {
   "cell_type": "markdown",
   "metadata": {},
   "source": [
    "### *Timers*\n",
    "\n",
    "La clase `Timer` es una subclase de la clase `Thread` y permite ejecutar un proceso o acción después que ha pasado un determinado tiempo. Es decir, al ser ejecutado, espera el tiempo que se le especifica y luego ejecuta las instrucciones determinadas. `Timer` requiere, como parámetros básicos, el tiempo en segundos después del cual debe ejecutarse el *thread*, la función a ejecutar, y los argumentos de la función a ejecutar.\n",
    "\n",
    "El método `cancel()` permite, si se requiere, cancelar la ejecución del *timer* antes que este sea ejecutado.\n",
    "\n",
    "#### *Warning*: este notebook podría no refleja el efecto de un *Timer*\n",
    "\n",
    "Según la versión de jupyter notebook que dispontan, puede que no se muestre el efecto de utilizar esta propiedad de los *threads* en las celdas del notebook, es decir, que los *threads* no esperen el tiempo necesario antes de ejecutarse. En caso que ocurra eso, recomendamos probar el código de la siguiente celda en una consola y ejecutar desde ahí.\n"
   ]
  },
  {
   "cell_type": "code",
   "execution_count": 18,
   "metadata": {},
   "outputs": [
    {
     "name": "stdout",
     "output_type": "stream",
     "text": [
      "Activando timer 1 que comenzará luego de 4 segundos\n",
      "Activando timer 2 que comenzará luego de 1 segundos\n",
      "Hola :) acabas de ejecutar el timer 2\n",
      "¡Hola!, acabas de ejecutar el timer 1\n"
     ]
    }
   ],
   "source": [
    "def mi_timer(ruta_archivo):\n",
    "    with open(ruta_archivo) as archivo:\n",
    "        for linea in archivo:\n",
    "            print(linea.strip())\n",
    "\n",
    "t1 = threading.Timer(4.0, mi_timer, args=(\"files/mensaje_01.txt\",))\n",
    "t2 = threading.Timer(1.0, mi_timer, kwargs={\"ruta_archivo\": \"files/mensaje_02.txt\"})\n",
    "\n",
    "print(\"Activando timer 1 que comenzará luego de 4 segundos\")\n",
    "t1.start() # el thread t1 comenzará después de 4 seconds\n",
    "\n",
    "print(\"Activando timer 2 que comenzará luego de 1 segundos\")\n",
    "t2.start() # el thread t2 comenzará después de 1 seconds"
   ]
  }
 ],
 "metadata": {
  "kernelspec": {
   "display_name": "venv",
   "language": "python",
   "name": "venv"
  },
  "language_info": {
   "codemirror_mode": {
    "name": "ipython",
    "version": 3
   },
   "file_extension": ".py",
   "mimetype": "text/x-python",
   "name": "python",
   "nbconvert_exporter": "python",
   "pygments_lexer": "ipython3",
   "version": "3.10.7"
  },
  "varInspector": {
   "cols": {
    "lenName": 16,
    "lenType": 16,
    "lenVar": 40
   },
   "kernels_config": {
    "python": {
     "delete_cmd_postfix": "",
     "delete_cmd_prefix": "del ",
     "library": "var_list.py",
     "varRefreshCmd": "print(var_dic_list())"
    },
    "r": {
     "delete_cmd_postfix": ") ",
     "delete_cmd_prefix": "rm(",
     "library": "var_list.r",
     "varRefreshCmd": "cat(var_dic_list()) "
    }
   },
   "types_to_exclude": [
    "module",
    "function",
    "builtin_function_or_method",
    "instance",
    "_Feature"
   ],
   "window_display": false
  }
 },
 "nbformat": 4,
 "nbformat_minor": 4
}
